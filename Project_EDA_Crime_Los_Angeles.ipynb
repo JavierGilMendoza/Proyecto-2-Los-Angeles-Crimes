{
 "cells": [
  {
   "cell_type": "markdown",
   "metadata": {
    "id": "2lIipXf5GJyg"
   },
   "source": [
    "# Importar librerias"
   ]
  },
  {
   "cell_type": "markdown",
   "metadata": {
    "id": "nhcURRWFGdF9"
   },
   "source": [
    "## Instalacion librerias"
   ]
  },
  {
   "cell_type": "markdown",
   "metadata": {},
   "source": []
  },
  {
   "cell_type": "code",
   "execution_count": 8,
   "metadata": {
    "id": "Rrk1bqDPGO4_"
   },
   "outputs": [],
   "source": [
    "import pandas as pd\n",
    "import re #Sirve para string"
   ]
  },
  {
   "cell_type": "markdown",
   "metadata": {
    "id": "pfg5Ptv9FgAT"
   },
   "source": [
    "# Importación dataset"
   ]
  },
  {
   "cell_type": "code",
   "execution_count": 9,
   "metadata": {
    "colab": {
     "base_uri": "https://localhost:8080/",
     "height": 600
    },
    "id": "XxHTOKdoGF4Z",
    "outputId": "31d7b239-83c0-4193-f500-9248999a591f"
   },
   "outputs": [
    {
     "data": {
      "text/html": [
       "<div>\n",
       "<style scoped>\n",
       "    .dataframe tbody tr th:only-of-type {\n",
       "        vertical-align: middle;\n",
       "    }\n",
       "\n",
       "    .dataframe tbody tr th {\n",
       "        vertical-align: top;\n",
       "    }\n",
       "\n",
       "    .dataframe thead th {\n",
       "        text-align: right;\n",
       "    }\n",
       "</style>\n",
       "<table border=\"1\" class=\"dataframe\">\n",
       "  <thead>\n",
       "    <tr style=\"text-align: right;\">\n",
       "      <th></th>\n",
       "      <th>DR_NO</th>\n",
       "      <th>Date Rptd</th>\n",
       "      <th>DATE OCC</th>\n",
       "      <th>TIME OCC</th>\n",
       "      <th>AREA</th>\n",
       "      <th>AREA NAME</th>\n",
       "      <th>Rpt Dist No</th>\n",
       "      <th>Part 1-2</th>\n",
       "      <th>Crm Cd</th>\n",
       "      <th>Crm Cd Desc</th>\n",
       "      <th>...</th>\n",
       "      <th>Status</th>\n",
       "      <th>Status Desc</th>\n",
       "      <th>Crm Cd 1</th>\n",
       "      <th>Crm Cd 2</th>\n",
       "      <th>Crm Cd 3</th>\n",
       "      <th>Crm Cd 4</th>\n",
       "      <th>LOCATION</th>\n",
       "      <th>Cross Street</th>\n",
       "      <th>LAT</th>\n",
       "      <th>LON</th>\n",
       "    </tr>\n",
       "  </thead>\n",
       "  <tbody>\n",
       "    <tr>\n",
       "      <th>0</th>\n",
       "      <td>190326475</td>\n",
       "      <td>03/01/2020 12:00:00 AM</td>\n",
       "      <td>03/01/2020 12:00:00 AM</td>\n",
       "      <td>2130</td>\n",
       "      <td>7</td>\n",
       "      <td>Wilshire</td>\n",
       "      <td>784</td>\n",
       "      <td>1</td>\n",
       "      <td>510</td>\n",
       "      <td>VEHICLE - STOLEN</td>\n",
       "      <td>...</td>\n",
       "      <td>AA</td>\n",
       "      <td>Adult Arrest</td>\n",
       "      <td>510.0</td>\n",
       "      <td>998.0</td>\n",
       "      <td>NaN</td>\n",
       "      <td>NaN</td>\n",
       "      <td>1900 S  LONGWOOD                     AV</td>\n",
       "      <td>NaN</td>\n",
       "      <td>34.0375</td>\n",
       "      <td>-118.3506</td>\n",
       "    </tr>\n",
       "    <tr>\n",
       "      <th>1</th>\n",
       "      <td>200106753</td>\n",
       "      <td>02/09/2020 12:00:00 AM</td>\n",
       "      <td>02/08/2020 12:00:00 AM</td>\n",
       "      <td>1800</td>\n",
       "      <td>1</td>\n",
       "      <td>Central</td>\n",
       "      <td>182</td>\n",
       "      <td>1</td>\n",
       "      <td>330</td>\n",
       "      <td>BURGLARY FROM VEHICLE</td>\n",
       "      <td>...</td>\n",
       "      <td>IC</td>\n",
       "      <td>Invest Cont</td>\n",
       "      <td>330.0</td>\n",
       "      <td>998.0</td>\n",
       "      <td>NaN</td>\n",
       "      <td>NaN</td>\n",
       "      <td>1000 S  FLOWER                       ST</td>\n",
       "      <td>NaN</td>\n",
       "      <td>34.0444</td>\n",
       "      <td>-118.2628</td>\n",
       "    </tr>\n",
       "    <tr>\n",
       "      <th>2</th>\n",
       "      <td>200320258</td>\n",
       "      <td>11/11/2020 12:00:00 AM</td>\n",
       "      <td>11/04/2020 12:00:00 AM</td>\n",
       "      <td>1700</td>\n",
       "      <td>3</td>\n",
       "      <td>Southwest</td>\n",
       "      <td>356</td>\n",
       "      <td>1</td>\n",
       "      <td>480</td>\n",
       "      <td>BIKE - STOLEN</td>\n",
       "      <td>...</td>\n",
       "      <td>IC</td>\n",
       "      <td>Invest Cont</td>\n",
       "      <td>480.0</td>\n",
       "      <td>NaN</td>\n",
       "      <td>NaN</td>\n",
       "      <td>NaN</td>\n",
       "      <td>1400 W  37TH                         ST</td>\n",
       "      <td>NaN</td>\n",
       "      <td>34.0210</td>\n",
       "      <td>-118.3002</td>\n",
       "    </tr>\n",
       "    <tr>\n",
       "      <th>3</th>\n",
       "      <td>200907217</td>\n",
       "      <td>05/10/2023 12:00:00 AM</td>\n",
       "      <td>03/10/2020 12:00:00 AM</td>\n",
       "      <td>2037</td>\n",
       "      <td>9</td>\n",
       "      <td>Van Nuys</td>\n",
       "      <td>964</td>\n",
       "      <td>1</td>\n",
       "      <td>343</td>\n",
       "      <td>SHOPLIFTING-GRAND THEFT ($950.01 &amp; OVER)</td>\n",
       "      <td>...</td>\n",
       "      <td>IC</td>\n",
       "      <td>Invest Cont</td>\n",
       "      <td>343.0</td>\n",
       "      <td>NaN</td>\n",
       "      <td>NaN</td>\n",
       "      <td>NaN</td>\n",
       "      <td>14000    RIVERSIDE                    DR</td>\n",
       "      <td>NaN</td>\n",
       "      <td>34.1576</td>\n",
       "      <td>-118.4387</td>\n",
       "    </tr>\n",
       "    <tr>\n",
       "      <th>4</th>\n",
       "      <td>220614831</td>\n",
       "      <td>08/18/2022 12:00:00 AM</td>\n",
       "      <td>08/17/2020 12:00:00 AM</td>\n",
       "      <td>1200</td>\n",
       "      <td>6</td>\n",
       "      <td>Hollywood</td>\n",
       "      <td>666</td>\n",
       "      <td>2</td>\n",
       "      <td>354</td>\n",
       "      <td>THEFT OF IDENTITY</td>\n",
       "      <td>...</td>\n",
       "      <td>IC</td>\n",
       "      <td>Invest Cont</td>\n",
       "      <td>354.0</td>\n",
       "      <td>NaN</td>\n",
       "      <td>NaN</td>\n",
       "      <td>NaN</td>\n",
       "      <td>1900    TRANSIENT</td>\n",
       "      <td>NaN</td>\n",
       "      <td>34.0944</td>\n",
       "      <td>-118.3277</td>\n",
       "    </tr>\n",
       "    <tr>\n",
       "      <th>5</th>\n",
       "      <td>231808869</td>\n",
       "      <td>04/04/2023 12:00:00 AM</td>\n",
       "      <td>12/01/2020 12:00:00 AM</td>\n",
       "      <td>2300</td>\n",
       "      <td>18</td>\n",
       "      <td>Southeast</td>\n",
       "      <td>1826</td>\n",
       "      <td>2</td>\n",
       "      <td>354</td>\n",
       "      <td>THEFT OF IDENTITY</td>\n",
       "      <td>...</td>\n",
       "      <td>IC</td>\n",
       "      <td>Invest Cont</td>\n",
       "      <td>354.0</td>\n",
       "      <td>NaN</td>\n",
       "      <td>NaN</td>\n",
       "      <td>NaN</td>\n",
       "      <td>9900    COMPTON                      AV</td>\n",
       "      <td>NaN</td>\n",
       "      <td>33.9467</td>\n",
       "      <td>-118.2463</td>\n",
       "    </tr>\n",
       "    <tr>\n",
       "      <th>6</th>\n",
       "      <td>230110144</td>\n",
       "      <td>04/04/2023 12:00:00 AM</td>\n",
       "      <td>07/03/2020 12:00:00 AM</td>\n",
       "      <td>900</td>\n",
       "      <td>1</td>\n",
       "      <td>Central</td>\n",
       "      <td>182</td>\n",
       "      <td>2</td>\n",
       "      <td>354</td>\n",
       "      <td>THEFT OF IDENTITY</td>\n",
       "      <td>...</td>\n",
       "      <td>IC</td>\n",
       "      <td>Invest Cont</td>\n",
       "      <td>354.0</td>\n",
       "      <td>NaN</td>\n",
       "      <td>NaN</td>\n",
       "      <td>NaN</td>\n",
       "      <td>1100 S  GRAND                        AV</td>\n",
       "      <td>NaN</td>\n",
       "      <td>34.0415</td>\n",
       "      <td>-118.2620</td>\n",
       "    </tr>\n",
       "    <tr>\n",
       "      <th>7</th>\n",
       "      <td>220314085</td>\n",
       "      <td>07/22/2022 12:00:00 AM</td>\n",
       "      <td>05/12/2020 12:00:00 AM</td>\n",
       "      <td>1110</td>\n",
       "      <td>3</td>\n",
       "      <td>Southwest</td>\n",
       "      <td>303</td>\n",
       "      <td>2</td>\n",
       "      <td>354</td>\n",
       "      <td>THEFT OF IDENTITY</td>\n",
       "      <td>...</td>\n",
       "      <td>IC</td>\n",
       "      <td>Invest Cont</td>\n",
       "      <td>354.0</td>\n",
       "      <td>NaN</td>\n",
       "      <td>NaN</td>\n",
       "      <td>NaN</td>\n",
       "      <td>2500 S  SYCAMORE                     AV</td>\n",
       "      <td>NaN</td>\n",
       "      <td>34.0335</td>\n",
       "      <td>-118.3537</td>\n",
       "    </tr>\n",
       "    <tr>\n",
       "      <th>8</th>\n",
       "      <td>231309864</td>\n",
       "      <td>04/28/2023 12:00:00 AM</td>\n",
       "      <td>12/09/2020 12:00:00 AM</td>\n",
       "      <td>1400</td>\n",
       "      <td>13</td>\n",
       "      <td>Newton</td>\n",
       "      <td>1375</td>\n",
       "      <td>2</td>\n",
       "      <td>354</td>\n",
       "      <td>THEFT OF IDENTITY</td>\n",
       "      <td>...</td>\n",
       "      <td>IC</td>\n",
       "      <td>Invest Cont</td>\n",
       "      <td>354.0</td>\n",
       "      <td>NaN</td>\n",
       "      <td>NaN</td>\n",
       "      <td>NaN</td>\n",
       "      <td>1300 E  57TH                         ST</td>\n",
       "      <td>NaN</td>\n",
       "      <td>33.9911</td>\n",
       "      <td>-118.2521</td>\n",
       "    </tr>\n",
       "    <tr>\n",
       "      <th>9</th>\n",
       "      <td>211904005</td>\n",
       "      <td>12/31/2020 12:00:00 AM</td>\n",
       "      <td>12/31/2020 12:00:00 AM</td>\n",
       "      <td>1220</td>\n",
       "      <td>19</td>\n",
       "      <td>Mission</td>\n",
       "      <td>1974</td>\n",
       "      <td>2</td>\n",
       "      <td>624</td>\n",
       "      <td>BATTERY - SIMPLE ASSAULT</td>\n",
       "      <td>...</td>\n",
       "      <td>IC</td>\n",
       "      <td>Invest Cont</td>\n",
       "      <td>624.0</td>\n",
       "      <td>NaN</td>\n",
       "      <td>NaN</td>\n",
       "      <td>NaN</td>\n",
       "      <td>9000    CEDROS                       AV</td>\n",
       "      <td>NaN</td>\n",
       "      <td>34.2336</td>\n",
       "      <td>-118.4535</td>\n",
       "    </tr>\n",
       "  </tbody>\n",
       "</table>\n",
       "<p>10 rows × 28 columns</p>\n",
       "</div>"
      ],
      "text/plain": [
       "       DR_NO               Date Rptd                DATE OCC  TIME OCC  AREA  \\\n",
       "0  190326475  03/01/2020 12:00:00 AM  03/01/2020 12:00:00 AM      2130     7   \n",
       "1  200106753  02/09/2020 12:00:00 AM  02/08/2020 12:00:00 AM      1800     1   \n",
       "2  200320258  11/11/2020 12:00:00 AM  11/04/2020 12:00:00 AM      1700     3   \n",
       "3  200907217  05/10/2023 12:00:00 AM  03/10/2020 12:00:00 AM      2037     9   \n",
       "4  220614831  08/18/2022 12:00:00 AM  08/17/2020 12:00:00 AM      1200     6   \n",
       "5  231808869  04/04/2023 12:00:00 AM  12/01/2020 12:00:00 AM      2300    18   \n",
       "6  230110144  04/04/2023 12:00:00 AM  07/03/2020 12:00:00 AM       900     1   \n",
       "7  220314085  07/22/2022 12:00:00 AM  05/12/2020 12:00:00 AM      1110     3   \n",
       "8  231309864  04/28/2023 12:00:00 AM  12/09/2020 12:00:00 AM      1400    13   \n",
       "9  211904005  12/31/2020 12:00:00 AM  12/31/2020 12:00:00 AM      1220    19   \n",
       "\n",
       "   AREA NAME  Rpt Dist No  Part 1-2  Crm Cd  \\\n",
       "0   Wilshire          784         1     510   \n",
       "1    Central          182         1     330   \n",
       "2  Southwest          356         1     480   \n",
       "3   Van Nuys          964         1     343   \n",
       "4  Hollywood          666         2     354   \n",
       "5  Southeast         1826         2     354   \n",
       "6    Central          182         2     354   \n",
       "7  Southwest          303         2     354   \n",
       "8     Newton         1375         2     354   \n",
       "9    Mission         1974         2     624   \n",
       "\n",
       "                                Crm Cd Desc  ... Status   Status Desc  \\\n",
       "0                          VEHICLE - STOLEN  ...     AA  Adult Arrest   \n",
       "1                     BURGLARY FROM VEHICLE  ...     IC   Invest Cont   \n",
       "2                             BIKE - STOLEN  ...     IC   Invest Cont   \n",
       "3  SHOPLIFTING-GRAND THEFT ($950.01 & OVER)  ...     IC   Invest Cont   \n",
       "4                         THEFT OF IDENTITY  ...     IC   Invest Cont   \n",
       "5                         THEFT OF IDENTITY  ...     IC   Invest Cont   \n",
       "6                         THEFT OF IDENTITY  ...     IC   Invest Cont   \n",
       "7                         THEFT OF IDENTITY  ...     IC   Invest Cont   \n",
       "8                         THEFT OF IDENTITY  ...     IC   Invest Cont   \n",
       "9                  BATTERY - SIMPLE ASSAULT  ...     IC   Invest Cont   \n",
       "\n",
       "  Crm Cd 1 Crm Cd 2  Crm Cd 3 Crm Cd 4  \\\n",
       "0    510.0    998.0       NaN      NaN   \n",
       "1    330.0    998.0       NaN      NaN   \n",
       "2    480.0      NaN       NaN      NaN   \n",
       "3    343.0      NaN       NaN      NaN   \n",
       "4    354.0      NaN       NaN      NaN   \n",
       "5    354.0      NaN       NaN      NaN   \n",
       "6    354.0      NaN       NaN      NaN   \n",
       "7    354.0      NaN       NaN      NaN   \n",
       "8    354.0      NaN       NaN      NaN   \n",
       "9    624.0      NaN       NaN      NaN   \n",
       "\n",
       "                                   LOCATION Cross Street      LAT       LON  \n",
       "0   1900 S  LONGWOOD                     AV          NaN  34.0375 -118.3506  \n",
       "1   1000 S  FLOWER                       ST          NaN  34.0444 -118.2628  \n",
       "2   1400 W  37TH                         ST          NaN  34.0210 -118.3002  \n",
       "3  14000    RIVERSIDE                    DR          NaN  34.1576 -118.4387  \n",
       "4                         1900    TRANSIENT          NaN  34.0944 -118.3277  \n",
       "5   9900    COMPTON                      AV          NaN  33.9467 -118.2463  \n",
       "6   1100 S  GRAND                        AV          NaN  34.0415 -118.2620  \n",
       "7   2500 S  SYCAMORE                     AV          NaN  34.0335 -118.3537  \n",
       "8   1300 E  57TH                         ST          NaN  33.9911 -118.2521  \n",
       "9   9000    CEDROS                       AV          NaN  34.2336 -118.4535  \n",
       "\n",
       "[10 rows x 28 columns]"
      ]
     },
     "execution_count": 9,
     "metadata": {},
     "output_type": "execute_result"
    }
   ],
   "source": [
    "import pandas as pd\n",
    "df = pd.read_csv(\"Crime_Data_from_2020_to_Present.csv\")\n",
    "df.head(10)"
   ]
  },
  {
   "cell_type": "code",
   "execution_count": null,
   "metadata": {
    "colab": {
     "base_uri": "https://localhost:8080/"
    },
    "id": "7pD2V7VVlqVr",
    "outputId": "a95640d8-0d0e-4600-9a3a-3ae15ef908c4"
   },
   "outputs": [],
   "source": [
    "print(df.head(10))"
   ]
  },
  {
   "cell_type": "code",
   "execution_count": null,
   "metadata": {
    "colab": {
     "base_uri": "https://localhost:8080/",
     "height": 206
    },
    "id": "C1BznEvbmAR5",
    "outputId": "72a6d9e7-e03a-4a9b-b6fe-3004613e1026"
   },
   "outputs": [],
   "source": [
    "df.iloc[:,:14].head()\n"
   ]
  },
  {
   "cell_type": "code",
   "execution_count": null,
   "metadata": {
    "colab": {
     "base_uri": "https://localhost:8080/",
     "height": 206
    },
    "id": "IJ8zmuS4pC6E",
    "outputId": "547e8c43-d1cf-4a7a-a37f-7d9d282805fe"
   },
   "outputs": [],
   "source": [
    "df.iloc[:,14:].head()"
   ]
  },
  {
   "cell_type": "code",
   "execution_count": null,
   "metadata": {
    "colab": {
     "base_uri": "https://localhost:8080/",
     "height": 206
    },
    "id": "y_pZbWC1pvIK",
    "outputId": "b89b12af-5762-453b-ebed-59d784704949"
   },
   "outputs": [],
   "source": [
    "df.iloc[:,14:].tail()"
   ]
  },
  {
   "cell_type": "code",
   "execution_count": null,
   "metadata": {
    "colab": {
     "base_uri": "https://localhost:8080/"
    },
    "id": "IcC9BGnDYApw",
    "outputId": "b704eeb3-aa08-4dfc-9852-f8c254295166"
   },
   "outputs": [],
   "source": [
    "df.info()"
   ]
  },
  {
   "cell_type": "code",
   "execution_count": null,
   "metadata": {
    "colab": {
     "base_uri": "https://localhost:8080/",
     "height": 300
    },
    "id": "G7AP9mrsYA5I",
    "outputId": "f7a543ae-0415-402a-b73c-67e3d4f1d644"
   },
   "outputs": [],
   "source": [
    "df.describe()"
   ]
  },
  {
   "cell_type": "code",
   "execution_count": null,
   "metadata": {
    "colab": {
     "base_uri": "https://localhost:8080/"
    },
    "id": "slgh6vjHYkMt",
    "outputId": "7d2da338-0c9d-42bc-d638-c8d41bb47e3e"
   },
   "outputs": [],
   "source": [
    "# Exploración de primeros 50 valores únicos solo para variables categóricas\n",
    "for col in df.select_dtypes(include='object').columns:\n",
    "    print(f\"--- {col} ---\")\n",
    "    print(df[col].dropna().unique()[:50])  # Primeros 50 valores únicos\n",
    "    print(\"\\n\")\n",
    "\n"
   ]
  },
  {
   "cell_type": "code",
   "execution_count": 10,
   "metadata": {
    "colab": {
     "base_uri": "https://localhost:8080/",
     "height": 429
    },
    "id": "y8YHxNcauhEC",
    "outputId": "68bf858a-760c-48e4-9833-3a0bb06e68fa"
   },
   "outputs": [
    {
     "data": {
      "text/html": [
       "<div>\n",
       "<style scoped>\n",
       "    .dataframe tbody tr th:only-of-type {\n",
       "        vertical-align: middle;\n",
       "    }\n",
       "\n",
       "    .dataframe tbody tr th {\n",
       "        vertical-align: top;\n",
       "    }\n",
       "\n",
       "    .dataframe thead th {\n",
       "        text-align: right;\n",
       "    }\n",
       "</style>\n",
       "<table border=\"1\" class=\"dataframe\">\n",
       "  <thead>\n",
       "    <tr style=\"text-align: right;\">\n",
       "      <th></th>\n",
       "      <th>id_report</th>\n",
       "      <th>date_report</th>\n",
       "      <th>date_ocurrance</th>\n",
       "      <th>time_ocurrance</th>\n",
       "      <th>area_code</th>\n",
       "      <th>area_name</th>\n",
       "      <th>district</th>\n",
       "      <th>crime_severity</th>\n",
       "      <th>crime_code</th>\n",
       "      <th>crime_desc</th>\n",
       "      <th>...</th>\n",
       "      <th>case_status_code</th>\n",
       "      <th>case_status_desc</th>\n",
       "      <th>crime_code_1</th>\n",
       "      <th>crime_code_2</th>\n",
       "      <th>crime_code_3</th>\n",
       "      <th>crime_code_4</th>\n",
       "      <th>location</th>\n",
       "      <th>cross_street</th>\n",
       "      <th>latitude</th>\n",
       "      <th>longitude</th>\n",
       "    </tr>\n",
       "  </thead>\n",
       "  <tbody>\n",
       "    <tr>\n",
       "      <th>0</th>\n",
       "      <td>190326475</td>\n",
       "      <td>03/01/2020 12:00:00 AM</td>\n",
       "      <td>03/01/2020 12:00:00 AM</td>\n",
       "      <td>2130</td>\n",
       "      <td>7</td>\n",
       "      <td>Wilshire</td>\n",
       "      <td>784</td>\n",
       "      <td>1</td>\n",
       "      <td>510</td>\n",
       "      <td>VEHICLE - STOLEN</td>\n",
       "      <td>...</td>\n",
       "      <td>AA</td>\n",
       "      <td>Adult Arrest</td>\n",
       "      <td>510.0</td>\n",
       "      <td>998.0</td>\n",
       "      <td>NaN</td>\n",
       "      <td>NaN</td>\n",
       "      <td>1900 S  LONGWOOD                     AV</td>\n",
       "      <td>NaN</td>\n",
       "      <td>34.0375</td>\n",
       "      <td>-118.3506</td>\n",
       "    </tr>\n",
       "    <tr>\n",
       "      <th>1</th>\n",
       "      <td>200106753</td>\n",
       "      <td>02/09/2020 12:00:00 AM</td>\n",
       "      <td>02/08/2020 12:00:00 AM</td>\n",
       "      <td>1800</td>\n",
       "      <td>1</td>\n",
       "      <td>Central</td>\n",
       "      <td>182</td>\n",
       "      <td>1</td>\n",
       "      <td>330</td>\n",
       "      <td>BURGLARY FROM VEHICLE</td>\n",
       "      <td>...</td>\n",
       "      <td>IC</td>\n",
       "      <td>Invest Cont</td>\n",
       "      <td>330.0</td>\n",
       "      <td>998.0</td>\n",
       "      <td>NaN</td>\n",
       "      <td>NaN</td>\n",
       "      <td>1000 S  FLOWER                       ST</td>\n",
       "      <td>NaN</td>\n",
       "      <td>34.0444</td>\n",
       "      <td>-118.2628</td>\n",
       "    </tr>\n",
       "    <tr>\n",
       "      <th>2</th>\n",
       "      <td>200320258</td>\n",
       "      <td>11/11/2020 12:00:00 AM</td>\n",
       "      <td>11/04/2020 12:00:00 AM</td>\n",
       "      <td>1700</td>\n",
       "      <td>3</td>\n",
       "      <td>Southwest</td>\n",
       "      <td>356</td>\n",
       "      <td>1</td>\n",
       "      <td>480</td>\n",
       "      <td>BIKE - STOLEN</td>\n",
       "      <td>...</td>\n",
       "      <td>IC</td>\n",
       "      <td>Invest Cont</td>\n",
       "      <td>480.0</td>\n",
       "      <td>NaN</td>\n",
       "      <td>NaN</td>\n",
       "      <td>NaN</td>\n",
       "      <td>1400 W  37TH                         ST</td>\n",
       "      <td>NaN</td>\n",
       "      <td>34.0210</td>\n",
       "      <td>-118.3002</td>\n",
       "    </tr>\n",
       "    <tr>\n",
       "      <th>3</th>\n",
       "      <td>200907217</td>\n",
       "      <td>05/10/2023 12:00:00 AM</td>\n",
       "      <td>03/10/2020 12:00:00 AM</td>\n",
       "      <td>2037</td>\n",
       "      <td>9</td>\n",
       "      <td>Van Nuys</td>\n",
       "      <td>964</td>\n",
       "      <td>1</td>\n",
       "      <td>343</td>\n",
       "      <td>SHOPLIFTING-GRAND THEFT ($950.01 &amp; OVER)</td>\n",
       "      <td>...</td>\n",
       "      <td>IC</td>\n",
       "      <td>Invest Cont</td>\n",
       "      <td>343.0</td>\n",
       "      <td>NaN</td>\n",
       "      <td>NaN</td>\n",
       "      <td>NaN</td>\n",
       "      <td>14000    RIVERSIDE                    DR</td>\n",
       "      <td>NaN</td>\n",
       "      <td>34.1576</td>\n",
       "      <td>-118.4387</td>\n",
       "    </tr>\n",
       "    <tr>\n",
       "      <th>4</th>\n",
       "      <td>220614831</td>\n",
       "      <td>08/18/2022 12:00:00 AM</td>\n",
       "      <td>08/17/2020 12:00:00 AM</td>\n",
       "      <td>1200</td>\n",
       "      <td>6</td>\n",
       "      <td>Hollywood</td>\n",
       "      <td>666</td>\n",
       "      <td>2</td>\n",
       "      <td>354</td>\n",
       "      <td>THEFT OF IDENTITY</td>\n",
       "      <td>...</td>\n",
       "      <td>IC</td>\n",
       "      <td>Invest Cont</td>\n",
       "      <td>354.0</td>\n",
       "      <td>NaN</td>\n",
       "      <td>NaN</td>\n",
       "      <td>NaN</td>\n",
       "      <td>1900    TRANSIENT</td>\n",
       "      <td>NaN</td>\n",
       "      <td>34.0944</td>\n",
       "      <td>-118.3277</td>\n",
       "    </tr>\n",
       "  </tbody>\n",
       "</table>\n",
       "<p>5 rows × 28 columns</p>\n",
       "</div>"
      ],
      "text/plain": [
       "   id_report             date_report          date_ocurrance  time_ocurrance  \\\n",
       "0  190326475  03/01/2020 12:00:00 AM  03/01/2020 12:00:00 AM            2130   \n",
       "1  200106753  02/09/2020 12:00:00 AM  02/08/2020 12:00:00 AM            1800   \n",
       "2  200320258  11/11/2020 12:00:00 AM  11/04/2020 12:00:00 AM            1700   \n",
       "3  200907217  05/10/2023 12:00:00 AM  03/10/2020 12:00:00 AM            2037   \n",
       "4  220614831  08/18/2022 12:00:00 AM  08/17/2020 12:00:00 AM            1200   \n",
       "\n",
       "   area_code  area_name  district  crime_severity  crime_code  \\\n",
       "0          7   Wilshire       784               1         510   \n",
       "1          1    Central       182               1         330   \n",
       "2          3  Southwest       356               1         480   \n",
       "3          9   Van Nuys       964               1         343   \n",
       "4          6  Hollywood       666               2         354   \n",
       "\n",
       "                                 crime_desc  ... case_status_code  \\\n",
       "0                          VEHICLE - STOLEN  ...               AA   \n",
       "1                     BURGLARY FROM VEHICLE  ...               IC   \n",
       "2                             BIKE - STOLEN  ...               IC   \n",
       "3  SHOPLIFTING-GRAND THEFT ($950.01 & OVER)  ...               IC   \n",
       "4                         THEFT OF IDENTITY  ...               IC   \n",
       "\n",
       "   case_status_desc crime_code_1 crime_code_2  crime_code_3 crime_code_4  \\\n",
       "0      Adult Arrest        510.0        998.0           NaN          NaN   \n",
       "1       Invest Cont        330.0        998.0           NaN          NaN   \n",
       "2       Invest Cont        480.0          NaN           NaN          NaN   \n",
       "3       Invest Cont        343.0          NaN           NaN          NaN   \n",
       "4       Invest Cont        354.0          NaN           NaN          NaN   \n",
       "\n",
       "                                   location cross_street latitude longitude  \n",
       "0   1900 S  LONGWOOD                     AV          NaN  34.0375 -118.3506  \n",
       "1   1000 S  FLOWER                       ST          NaN  34.0444 -118.2628  \n",
       "2   1400 W  37TH                         ST          NaN  34.0210 -118.3002  \n",
       "3  14000    RIVERSIDE                    DR          NaN  34.1576 -118.4387  \n",
       "4                         1900    TRANSIENT          NaN  34.0944 -118.3277  \n",
       "\n",
       "[5 rows x 28 columns]"
      ]
     },
     "execution_count": 10,
     "metadata": {},
     "output_type": "execute_result"
    }
   ],
   "source": [
    "# Vamos a renombrar las columnas para hacerlas más comprensibles, se trata de un cambio en el Diccionario\n",
    "rename_columns = {\n",
    "    'DR_NO': 'id_report',\n",
    "    'Date Rptd': 'date_report',\n",
    "    'DATE OCC': 'date_ocurrance',\n",
    "    'TIME OCC': 'time_ocurrance',\n",
    "    'AREA': 'area_code',\n",
    "    'AREA NAME': 'area_name',\n",
    "    'Rpt Dist No': 'district',\n",
    "    'Part 1-2': 'crime_severity',\n",
    "    'Crm Cd': 'crime_code',\n",
    "    'Crm Cd Desc': 'crime_desc',\n",
    "    'Mocodes': 'crime_mo',\n",
    "    'Vict Age': 'age_victim',\n",
    "    'Vict Sex': 'sex_victim',\n",
    "    'Vict Descent': 'descent_victim',\n",
    "    'Premis Cd': 'loc_code',\n",
    "    'Premis Desc': 'loc_desc',\n",
    "    'Weapon Used Cd': 'weapon_code',\n",
    "    'Weapon Desc': 'weapon_desc',\n",
    "    'Status': 'case_status_code',\n",
    "    'Status Desc': 'case_status_desc',\n",
    "    'Crm Cd 1': 'crime_code_1',\n",
    "    'Crm Cd 2': 'crime_code_2',\n",
    "    'Crm Cd 3': 'crime_code_3',\n",
    "    'Crm Cd 4': 'crime_code_4',\n",
    "    'LOCATION': 'location',\n",
    "    'Cross Street': 'cross_street',\n",
    "    'LAT': 'latitude',\n",
    "    'LON': 'longitude'\n",
    "}\n",
    "\n",
    "# Renombrar las columnas\n",
    "df.rename(columns=rename_columns, inplace=True)\n",
    "\n",
    "# Confirmar el cambio\n",
    "df.head()\n"
   ]
  },
  {
   "cell_type": "code",
   "execution_count": null,
   "metadata": {
    "colab": {
     "base_uri": "https://localhost:8080/"
    },
    "id": "qFEBFuaTw3gK",
    "outputId": "91886f5b-c7ab-4d1c-f868-c5fd657c0271"
   },
   "outputs": [],
   "source": [
    "# Variables a explorar\n",
    "columns_to_explore = [\n",
    "    'area_code',\n",
    "    'area_name',\n",
    "    'district',\n",
    "    'crime_severity',\n",
    "    'crime_code',\n",
    "    'crime_desc',\n",
    "    'sex_victim',\n",
    "    'descent_victim',\n",
    "    'loc_code',\n",
    "    'loc_desc',\n",
    "    'weapon_code',\n",
    "    'weapon_desc',\n",
    "    'case_status_code',\n",
    "    'case_status_desc'\n",
    "]\n",
    "\n",
    "# Mostrar TODOS los valores únicos para esas columnas\n",
    "for col in columns_to_explore:\n",
    "    if col in df.columns:\n",
    "        print(f\"--- {col} ---\")\n",
    "        print(sorted(df[col].dropna().unique()))\n",
    "        print(\"\\n\")\n",
    "    else:\n",
    "        print(f\"Column {col} not found in the dataframe.\\n\")\n"
   ]
  },
  {
   "cell_type": "markdown",
   "metadata": {
    "id": "8g6z4FUPx8gU"
   },
   "source": []
  },
  {
   "cell_type": "markdown",
   "metadata": {
    "id": "x5tSXjRB0I6Q"
   },
   "source": [
    "## **Vamos a trabajar en investigar la relación de códigos varios en el dataset. **"
   ]
  },
  {
   "cell_type": "markdown",
   "metadata": {
    "id": "2fAp4-Dl0DL8"
   },
   "source": [
    "# 📄 Unique Values Summary\n",
    "\n",
    "## area_code\n",
    "`1, 2, 3, ..., 21`\n",
    "\n",
    "## area_name\n",
    "`'77th Street', 'Central', 'Devonshire', 'Foothill', 'Harbor', 'Hollenbeck', 'Hollywood', 'Mission', 'N Hollywood', 'Newton', 'Northeast', 'Olympic', 'Pacific', 'Rampart', 'Southeast', 'Southwest', 'Topanga', 'Van Nuys', 'West LA', 'West Valley', 'Wilshire'`\n",
    "\n",
    "## district\n",
    "`101, 105, 109, 111, ..., 2199`  \n",
    "(Muchos valores únicos de distrito, códigos de zonas específicas)\n",
    "\n",
    "## crime_severity\n",
    "`1, 2`\n",
    "\n",
    "## crime_code\n",
    "`110, 113, 121, 122, 210, 220, 230, 231, ..., 956`\n",
    "\n",
    "## crime_desc\n",
    "`'ARSON', 'ASSAULT WITH DEADLY WEAPON ON POLICE OFFICER', 'BATTERY - SIMPLE ASSAULT', 'BIKE - STOLEN', 'BURGLARY', 'BURGLARY FROM VEHICLE', ..., 'WEAPONS POSSESSION/BOMBING'`\n",
    "(Más de 100 tipos de crímenes diferentes)\n",
    "\n",
    "## crime_mo\n",
    "`Códigos tipo '0344 1822 1402', '0930', '0913 2024' etc.`  \n",
    "(Modus Operandi combinados por código)\n",
    "\n",
    "## sex_victim\n",
    "`'-', 'F', 'H', 'M', 'X'`\n",
    "(Indica sexo: Femenino, Masculino, Indeterminado, No reportado)\n",
    "\n",
    "## descent_victim\n",
    "`'-', 'A', 'B', 'C', 'D', 'F', 'G', 'H', 'I', 'J', 'K', 'L', 'O', 'P', 'S', 'U', 'V', 'W', 'X', 'Z'`\n",
    "(Origen étnico de la víctima)\n",
    "\n",
    "## loc_code\n",
    "`101.0, 102.0, 103.0, ..., 976.0`\n",
    "(Muchos códigos de localización)\n",
    "\n",
    "## loc_desc\n",
    "`'STREET', 'BUS STOP', 'PARKING LOT', 'SINGLE FAMILY DWELLING', 'SCHOOL', 'HOSPITAL', 'HOTEL', 'MARKET', ..., 'YARD (RESIDENTIAL/BUSINESS)'`\n",
    "(Lugares donde ocurrieron los crímenes)\n",
    "\n",
    "## weapon_code\n",
    "`101.0, 102.0, ..., 516.0`\n",
    "\n",
    "## weapon_desc\n",
    "`'HAND GUN', 'KNIFE WITH BLADE 6INCHES OR LESS', 'STRONG-ARM (HANDS, FIST, FEET OR BODILY FORCE)', 'UNKNOWN FIREARM', 'VERBAL THREAT', ...`\n",
    "(Descripción de armas usadas)\n",
    "\n",
    "## case_status_code\n",
    "`'AA', 'AO', 'CC', 'IC', 'JA', 'JO'`\n",
    "(Códigos de estatus del caso)\n",
    "\n",
    "## case_status_desc\n",
    "`'Adult Arrest', 'Adult Other', 'Invest Cont', 'Juv Arrest', 'Juv Other', 'UNK'`\n",
    "(Descripción del estatus del caso)\n"
   ]
  },
  {
   "cell_type": "markdown",
   "metadata": {
    "id": "834aqDfnJtgy"
   },
   "source": [
    "##1. Investigación de las áreas."
   ]
  },
  {
   "cell_type": "code",
   "execution_count": null,
   "metadata": {
    "colab": {
     "base_uri": "https://localhost:8080/"
    },
    "id": "9k-dFBJTJy3t",
    "outputId": "8e8afc8f-d468-40d8-f312-338db7f5fcdf"
   },
   "outputs": [],
   "source": [
    "# Primero aseguramos que district sea string para extraer area_code\n",
    "df['district'] = df['district'].astype(str)\n",
    "\n",
    "# Sacamos el primer dígito como área (puedes usar 1 o 2 dígitos según precisión)\n",
    "df['area_code'] = df['district'].str[0].astype(int)\n",
    "\n",
    "# Mapeo de area_code a area_name\n",
    "area_mapping = {\n",
    "    1: '77th Street',\n",
    "    2: 'Central',\n",
    "    3: 'Devonshire',\n",
    "    4: 'Foothill',\n",
    "    5: 'Harbor',\n",
    "    6: 'Hollenbeck',\n",
    "    7: 'Hollywood',\n",
    "    8: 'Mission',\n",
    "    9: 'N Hollywood',\n",
    "    10: 'Newton',\n",
    "    11: 'Northeast',\n",
    "    12: 'Olympic',\n",
    "    13: 'Pacific',\n",
    "    14: 'Rampart',\n",
    "    15: 'Southeast',\n",
    "    16: 'Southwest',\n",
    "    17: 'Topanga',\n",
    "    18: 'Van Nuys',\n",
    "    19: 'West LA',\n",
    "    20: 'West Valley',\n",
    "    21: 'Wilshire'\n",
    "}\n",
    "\n",
    "# Asignamos nombre al área\n",
    "df['area_name'] = df['area_code'].map(area_mapping)\n",
    "\n",
    "# Verificamos si el mapeo está correcto\n",
    "print(df[['district', 'area_code', 'area_name']].head())\n",
    "\n",
    "# Contar registros por area_name\n",
    "print(df['area_name'].value_counts())\n"
   ]
  },
  {
   "cell_type": "code",
   "execution_count": null,
   "metadata": {
    "colab": {
     "base_uri": "https://localhost:8080/"
    },
    "id": "63z1OeF8LHlS",
    "outputId": "e46755aa-7f3d-453c-9e51-dfd51645c9a7"
   },
   "outputs": [],
   "source": [
    "import pandas as pd\n",
    "\n",
    "# Definimos el listado completo de áreas (en el orden correcto)\n",
    "area_names = [\n",
    "    '77th Street', 'Central', 'Devonshire', 'Foothill', 'Harbor', 'Hollenbeck',\n",
    "    'Hollywood', 'Mission', 'N Hollywood', 'Newton', 'Northeast', 'Olympic',\n",
    "    'Pacific', 'Rampart', 'Southeast', 'Southwest', 'Topanga', 'Van Nuys',\n",
    "    'West LA', 'West Valley', 'Wilshire'\n",
    "]\n",
    "\n",
    "# Hacemos el conteo de registros por area_name\n",
    "area_counts = df['area_name'].value_counts()\n",
    "\n",
    "# Aseguramos que todos los nombres estén incluidos (incluso los que faltan)\n",
    "area_counts = area_counts.reindex(area_names, fill_value=0)\n",
    "\n",
    "# Ahora, buscamos las áreas con 0 crímenes\n",
    "areas_sin_crimen = area_counts[area_counts == 0]\n",
    "\n",
    "# Mostrar áreas sin crímenes\n",
    "print(\"Áreas donde no hubo crímenes registrados:\")\n",
    "print(areas_sin_crimen)"
   ]
  },
  {
   "cell_type": "code",
   "execution_count": null,
   "metadata": {
    "colab": {
     "base_uri": "https://localhost:8080/"
    },
    "id": "3pxP5SYhL_1C",
    "outputId": "a0a17462-9dd4-4a2c-8bac-cb1a29930c8a"
   },
   "outputs": [],
   "source": [
    "# Definimos las 21 áreas oficiales\n",
    "area_names = [\n",
    "    '77th Street', 'Central', 'Devonshire', 'Foothill', 'Harbor', 'Hollenbeck',\n",
    "    'Hollywood', 'Mission', 'N Hollywood', 'Newton', 'Northeast', 'Olympic',\n",
    "    'Pacific', 'Rampart', 'Southeast', 'Southwest', 'Topanga', 'Van Nuys',\n",
    "    'West LA', 'West Valley', 'Wilshire'\n",
    "]\n",
    "\n",
    "# 1. Conteo de crímenes por área\n",
    "area_counts = df['area_name'].value_counts()\n",
    "\n",
    "# 2. Asegurarnos que todas las áreas estén (rellenar con 0 si no existen)\n",
    "area_counts = area_counts.reindex(area_names, fill_value=0)\n",
    "\n",
    "# 3. Detectar áreas sin crímenes\n",
    "areas_sin_crimen = area_counts[area_counts == 0].index.tolist()\n",
    "\n",
    "print(\"Áreas donde no hubo crímenes:\")\n",
    "print(areas_sin_crimen)\n",
    "\n",
    "# 4. Filtrar el df para filas con esas áreas (debería estar vacío, o muy pequeño si algo raro pasó)\n",
    "df_sin_crimenes = df[df['area_name'].isin(areas_sin_crimen)]\n",
    "\n",
    "# 5. Mostrar las filas\n",
    "print(df_sin_crimenes)\n"
   ]
  },
  {
   "cell_type": "code",
   "execution_count": null,
   "metadata": {},
   "outputs": [],
   "source": []
  },
  {
   "cell_type": "code",
   "execution_count": null,
   "metadata": {},
   "outputs": [],
   "source": []
  },
  {
   "cell_type": "code",
   "execution_count": null,
   "metadata": {},
   "outputs": [],
   "source": []
  },
  {
   "cell_type": "code",
   "execution_count": null,
   "metadata": {},
   "outputs": [],
   "source": []
  },
  {
   "cell_type": "code",
   "execution_count": null,
   "metadata": {},
   "outputs": [],
   "source": []
  },
  {
   "cell_type": "markdown",
   "metadata": {
    "id": "Rmw3m-UYMa_o"
   },
   "source": [
    "Resumen:\n",
    "9 áreas sí tienen crímenes (las que viste antes: 77th Street, Central, Devonshire, etc.).\n",
    "\n",
    "12 áreas no tienen crímenes en tus datos actuales.\n",
    "\n",
    "No hay errores de mapeo en district, area_code ni area_name."
   ]
  },
  {
   "cell_type": "markdown",
   "metadata": {
    "id": "iTWDkPhi3Ipe"
   },
   "source": [
    "## 2. Investigación Distritos."
   ]
  },
  {
   "cell_type": "code",
   "execution_count": null,
   "metadata": {
    "colab": {
     "base_uri": "https://localhost:8080/"
    },
    "id": "2P4Erzvz3YAB",
    "outputId": "a08bb33a-11e2-44c8-83d5-9bcaf43a034e"
   },
   "outputs": [],
   "source": [
    "# Mostrar los valores únicos de la columna 'district'\n",
    "if 'district' in df.columns:\n",
    "    print(\"--- district ---\")\n",
    "    print(sorted(df['district'].dropna().unique()))\n",
    "    print(\"\\n\")\n",
    "else:\n",
    "    print(\"Column 'district' not found in the dataframe.\\n\")"
   ]
  },
  {
   "cell_type": "code",
   "execution_count": null,
   "metadata": {
    "colab": {
     "base_uri": "https://localhost:8080/"
    },
    "id": "HGl0BrjI4pSY",
    "outputId": "9440f87a-0bf4-46b4-bddb-96e592b7043f"
   },
   "outputs": [],
   "source": [
    "# Asegurar que 'district' es string para extraer prefijos fácilmente\n",
    "df['district'] = df['district'].astype(str)\n",
    "\n",
    "# Extraer primer dígito (o primeros dos dígitos si quieres más precisión)\n",
    "df['area_code'] = df['district'].str[0].astype(int)\n",
    "\n",
    "# Opcionalmente, si quieres extraer dos primeros dígitos:\n",
    "# df['area_code'] = df['district'].str[:2].astype(int)\n",
    "\n",
    "# Definir los áreas válidas (1 al 21)\n",
    "valid_areas = list(range(1, 22))\n",
    "\n",
    "# Marcar si es un área válida\n",
    "df['area_valid'] = df['area_code'].isin(valid_areas)\n",
    "\n",
    "# Verificar resultados\n",
    "print(df['area_valid'].value_counts())\n",
    "\n",
    "# Ver ejemplos\n",
    "print(df[['district', 'area_code', 'area_valid']].head())\n"
   ]
  },
  {
   "cell_type": "code",
   "execution_count": null,
   "metadata": {
    "colab": {
     "base_uri": "https://localhost:8080/"
    },
    "id": "6WF2NCieIwzm",
    "outputId": "a2963be1-1dc2-42d1-9a03-cb3374e44e7d"
   },
   "outputs": [],
   "source": [
    "# Contar cuántos registros NO son válidos\n",
    "invalid_count = (~df['area_valid']).sum()\n",
    "\n",
    "print(f\"Cantidad de registros con area_valid == False: {invalid_count}\")\n"
   ]
  },
  {
   "cell_type": "markdown",
   "metadata": {
    "id": "VZnzSy7u1ZUq"
   },
   "source": [
    "##3. Relación entre crime_code y crime_desc"
   ]
  },
  {
   "cell_type": "markdown",
   "metadata": {
    "id": "Sa23EPbn49M3"
   },
   "source": [
    "Los crime_code y crime_desc que tienes provienen directamente de los reportes oficiales del LAPD (Los Angeles Police Department).\n",
    "\n",
    "Cada \"crime_code\" es un tipo de crimen específico, basado en su severidad y en las leyes de California.\n",
    "\n",
    "No es una clasificación inventada, es estándar dentro del departamento, usado para categorizar las denuncias."
   ]
  },
  {
   "cell_type": "code",
   "execution_count": null,
   "metadata": {
    "colab": {
     "base_uri": "https://localhost:8080/",
     "height": 53
    },
    "id": "DUh72ovp1e8L",
    "outputId": "2e49ca91-967d-4770-b425-a4fd17b1c145"
   },
   "outputs": [],
   "source": [
    "# Comprobar si un mismo crime_code tiene varias descripciones\n",
    "crime_mapping = df[['crime_code', 'crime_desc']].drop_duplicates()\n",
    "\n",
    "# Verificar duplicados de crime_code\n",
    "duplicates = crime_mapping.duplicated(subset=['crime_code'], keep=False)\n",
    "crime_mapping[duplicates]"
   ]
  },
  {
   "cell_type": "markdown",
   "metadata": {
    "id": "8Sm2hDeT19D-"
   },
   "source": [
    "Si no salen filas, la relación es uno a uno ✅."
   ]
  },
  {
   "cell_type": "code",
   "execution_count": null,
   "metadata": {
    "colab": {
     "base_uri": "https://localhost:8080/",
     "height": 424
    },
    "id": "Q60d9Y2X1-Qs",
    "outputId": "3c139d2f-0865-4af7-e60a-c3091a47999c"
   },
   "outputs": [],
   "source": [
    "# Crear tabla resumen de códigos de crimen y su descripción\n",
    "crime_table = df[['crime_code', 'crime_desc']].drop_duplicates().sort_values('crime_code')\n",
    "\n",
    "# Mostrar la tabla\n",
    "crime_table.reset_index(drop=True, inplace=True)\n",
    "crime_table\n"
   ]
  },
  {
   "cell_type": "code",
   "execution_count": null,
   "metadata": {
    "id": "J_L6DP2U2lPh"
   },
   "outputs": [],
   "source": [
    "crime_table.to_csv('crime_code_description.csv', index=False)"
   ]
  },
  {
   "cell_type": "markdown",
   "metadata": {
    "id": "nVN2HAiX7W1A"
   },
   "source": [
    "Vamos a generar una agrupación de todos estos delitos en base al standard UCR (Uniform Crime Reporting)"
   ]
  },
  {
   "cell_type": "code",
   "execution_count": null,
   "metadata": {
    "colab": {
     "base_uri": "https://localhost:8080/"
    },
    "id": "tb3ChlAJ7bJd",
    "outputId": "b650be12-e490-4ad5-ac93-416fc51dbabf"
   },
   "outputs": [],
   "source": [
    "import pandas as pd\n",
    "\n",
    "# Suponemos que tienes un DataFrame llamado 'df' con las columnas 'crime_code' y 'crime_desc'\n",
    "\n",
    "# Mapeo de crime_codes a categorías UCR\n",
    "ucr_mapping = {\n",
    "    # Part I - Violent Crimes\n",
    "    110: 'HOMICIDE',\n",
    "    113: 'MANSLAUGHTER',\n",
    "    121: 'RAPE',\n",
    "    122: 'ATTEMPTED RAPE',\n",
    "    815: 'SEXUAL PENETRATION',\n",
    "    820: 'ORAL COPULATION',\n",
    "    821: 'SODOMY',\n",
    "    210: 'ROBBERY',\n",
    "    220: 'ROBBERY ATTEMPTED',\n",
    "    230: 'AGGRAVATED ASSAULT',\n",
    "    231: 'AGGRAVATED ASSAULT',\n",
    "    235: 'AGGRAVATED ASSAULT',\n",
    "    236: 'AGGRAVATED ASSAULT',\n",
    "    250: 'AGGRAVATED ASSAULT',\n",
    "    251: 'AGGRAVATED ASSAULT',\n",
    "    761: 'AGGRAVATED ASSAULT',\n",
    "    926: 'AGGRAVATED ASSAULT',\n",
    "    435: 'SIMPLE ASSAULT',\n",
    "    436: 'SIMPLE ASSAULT',\n",
    "    437: 'SIMPLE ASSAULT',\n",
    "    622: 'SIMPLE ASSAULT',\n",
    "    623: 'SIMPLE ASSAULT',\n",
    "    624: 'SIMPLE ASSAULT',\n",
    "    625: 'SIMPLE ASSAULT',\n",
    "    626: 'SIMPLE ASSAULT',\n",
    "    627: 'SIMPLE ASSAULT',\n",
    "    647: 'SIMPLE ASSAULT',\n",
    "    763: 'SIMPLE ASSAULT',\n",
    "    928: 'SIMPLE ASSAULT',\n",
    "    930: 'SIMPLE ASSAULT',\n",
    "\n",
    "    # Part I - Property Crimes\n",
    "    310: 'BURGLARY',\n",
    "    320: 'BURGLARY',\n",
    "    510: 'MOTOR VEHICLE THEFT',\n",
    "    520: 'MOTOR VEHICLE THEFT',\n",
    "    433: 'MOTOR VEHICLE THEFT',\n",
    "    330: 'THEFT FROM VEHICLE',\n",
    "    331: 'THEFT FROM VEHICLE',\n",
    "    410: 'THEFT FROM VEHICLE',\n",
    "    420: 'THEFT FROM VEHICLE',\n",
    "    421: 'THEFT FROM VEHICLE',\n",
    "    350: 'PERSONAL THEFT',\n",
    "    351: 'PERSONAL THEFT',\n",
    "    352: 'PERSONAL THEFT',\n",
    "    353: 'PERSONAL THEFT',\n",
    "    450: 'PERSONAL THEFT',\n",
    "    451: 'PERSONAL THEFT',\n",
    "    452: 'PERSONAL THEFT',\n",
    "    453: 'PERSONAL THEFT',\n",
    "    341: 'OTHER THEFT',\n",
    "    343: 'OTHER THEFT',\n",
    "    345: 'OTHER THEFT',\n",
    "    440: 'OTHER THEFT',\n",
    "    441: 'OTHER THEFT',\n",
    "    442: 'OTHER THEFT',\n",
    "    443: 'OTHER THEFT',\n",
    "    444: 'OTHER THEFT',\n",
    "    445: 'OTHER THEFT',\n",
    "    470: 'OTHER THEFT',\n",
    "    471: 'OTHER THEFT',\n",
    "    472: 'OTHER THEFT',\n",
    "    473: 'OTHER THEFT',\n",
    "    474: 'OTHER THEFT',\n",
    "    475: 'OTHER THEFT',\n",
    "    480: 'OTHER THEFT',\n",
    "    485: 'OTHER THEFT',\n",
    "    487: 'OTHER THEFT',\n",
    "    491: 'OTHER THEFT',\n",
    "\n",
    "    # Part II - Other Crimes\n",
    "    500: 'DRUG OFFENSES',\n",
    "    501: 'DRUG OFFENSES',\n",
    "    502: 'DRUG OFFENSES',\n",
    "    503: 'DRUG OFFENSES',\n",
    "    504: 'DRUG OFFENSES',\n",
    "    505: 'DRUG OFFENSES',\n",
    "    506: 'DRUG OFFENSES',\n",
    "    600: 'SIMPLE ASSAULT',\n",
    "    601: 'SIMPLE ASSAULT',\n",
    "    602: 'SIMPLE ASSAULT',\n",
    "    603: 'SIMPLE ASSAULT',\n",
    "    700: 'VANDALISM',\n",
    "    701: 'VANDALISM',\n",
    "    702: 'WEAPONS OFFENSE',\n",
    "    703: 'WEAPONS OFFENSE',\n",
    "    704: 'WEAPONS OFFENSE',\n",
    "    705: 'WEAPONS OFFENSE',\n",
    "    800: 'SEX OFFENSES (NON-RAPE)',\n",
    "    801: 'SEX OFFENSES (NON-RAPE)',\n",
    "    802: 'SEX OFFENSES (NON-RAPE)',\n",
    "    803: 'SEX OFFENSES (NON-RAPE)',\n",
    "    900: 'OTHER OFFENSES',\n",
    "    901: 'OTHER OFFENSES',\n",
    "    902: 'OTHER OFFENSES',\n",
    "    903: 'OTHER OFFENSES',\n",
    "    904: 'OTHER OFFENSES',\n",
    "    905: 'OTHER OFFENSES',\n",
    "    906: 'OTHER OFFENSES',\n",
    "    907: 'OTHER OFFENSES'\n",
    "}\n",
    "\n",
    "# Crear nueva columna 'crime_ucr' basada en el mapping\n",
    "df['crime_ucr'] = df['crime_code'].map(ucr_mapping).fillna('UNKNOWN')\n",
    "\n",
    "# Si quieres ver los resultados\n",
    "print(df[['crime_code', 'crime_desc', 'crime_ucr']].head())\n"
   ]
  },
  {
   "cell_type": "code",
   "execution_count": null,
   "metadata": {
    "colab": {
     "base_uri": "https://localhost:8080/"
    },
    "id": "HHsb1Mat7pzU",
    "outputId": "f3748c54-fba0-4de0-d144-f520d16f2e4a"
   },
   "outputs": [],
   "source": [
    "df.columns"
   ]
  },
  {
   "cell_type": "code",
   "execution_count": null,
   "metadata": {},
   "outputs": [],
   "source": []
  },
  {
   "cell_type": "code",
   "execution_count": null,
   "metadata": {},
   "outputs": [],
   "source": []
  },
  {
   "cell_type": "code",
   "execution_count": null,
   "metadata": {},
   "outputs": [],
   "source": []
  },
  {
   "cell_type": "code",
   "execution_count": null,
   "metadata": {},
   "outputs": [],
   "source": []
  },
  {
   "cell_type": "code",
   "execution_count": null,
   "metadata": {},
   "outputs": [],
   "source": []
  },
  {
   "cell_type": "code",
   "execution_count": null,
   "metadata": {},
   "outputs": [],
   "source": []
  },
  {
   "cell_type": "markdown",
   "metadata": {
    "id": "rXnGUWE0NhSQ"
   },
   "source": [
    "## 4. Investigación de Sexo."
   ]
  },
  {
   "cell_type": "code",
   "execution_count": null,
   "metadata": {
    "colab": {
     "base_uri": "https://localhost:8080/"
    },
    "id": "fs9fDmXSNpbK",
    "outputId": "ee11321b-83f9-4520-f442-8a7bf96e2ebe"
   },
   "outputs": [],
   "source": [
    "# 1. Primero, corregimos H -> M\n",
    "df['sex_victim'] = df['sex_victim'].replace('H', 'M')\n",
    "\n",
    "# 2. Definimos la lista válida final\n",
    "valores_validos_sexo = ['-', 'F', 'M', 'X']\n",
    "\n",
    "# 3. Comprobamos de nuevo si queda todo limpio\n",
    "print(\"Valores únicos en sex_victim después de la corrección:\")\n",
    "print(df['sex_victim'].unique())\n",
    "\n",
    "# 4. Opcional: identificar si queda algo inválido\n",
    "valores_invalidos = df[~df['sex_victim'].isin(valores_validos_sexo)]\n",
    "\n",
    "print(f\"\\nCantidad de registros con sex_victim inválido después de corregir: {len(valores_invalidos)}\")\n"
   ]
  },
  {
   "cell_type": "code",
   "execution_count": null,
   "metadata": {
    "colab": {
     "base_uri": "https://localhost:8080/"
    },
    "id": "Rl0fKtE0OVLv",
    "outputId": "7c1a8c4b-265a-4926-a0cf-ec2cdfc66fda"
   },
   "outputs": [],
   "source": [
    "# Reemplazar nulos por '-'\n",
    "df['sex_victim'] = df['sex_victim'].fillna('-')\n",
    "\n",
    "# Volver a verificar\n",
    "print(\"Valores únicos en sex_victim después de rellenar NaN:\")\n",
    "print(df['sex_victim'].unique())"
   ]
  },
  {
   "cell_type": "code",
   "execution_count": null,
   "metadata": {
    "colab": {
     "base_uri": "https://localhost:8080/"
    },
    "id": "Bvda2_VmPE29",
    "outputId": "8e6b6246-0304-400b-e325-ba7528b2a2a9"
   },
   "outputs": [],
   "source": [
    "# 1. Conteo de sex_victim\n",
    "conteo_sexo = df['sex_victim'].value_counts()\n",
    "\n",
    "# 2. Porcentaje de sex_victim\n",
    "porcentaje_sexo = df['sex_victim'].value_counts(normalize=True) * 100\n",
    "\n",
    "# 3. Mostrar resultados\n",
    "resultado = pd.DataFrame({\n",
    "    'Cantidad': conteo_sexo,\n",
    "    'Porcentaje (%)': porcentaje_sexo.round(2)\n",
    "})\n",
    "\n",
    "print(resultado)"
   ]
  },
  {
   "cell_type": "code",
   "execution_count": null,
   "metadata": {},
   "outputs": [],
   "source": []
  },
  {
   "cell_type": "code",
   "execution_count": null,
   "metadata": {},
   "outputs": [],
   "source": []
  },
  {
   "cell_type": "code",
   "execution_count": null,
   "metadata": {},
   "outputs": [],
   "source": []
  },
  {
   "cell_type": "code",
   "execution_count": null,
   "metadata": {},
   "outputs": [],
   "source": []
  },
  {
   "cell_type": "code",
   "execution_count": null,
   "metadata": {},
   "outputs": [],
   "source": []
  },
  {
   "cell_type": "code",
   "execution_count": null,
   "metadata": {},
   "outputs": [],
   "source": []
  },
  {
   "cell_type": "code",
   "execution_count": null,
   "metadata": {},
   "outputs": [],
   "source": []
  },
  {
   "cell_type": "markdown",
   "metadata": {},
   "source": [
    "## 5. Origen"
   ]
  },
  {
   "cell_type": "code",
   "execution_count": null,
   "metadata": {},
   "outputs": [],
   "source": [
    "# 1. Definimos los valores válidos\n",
    "valores_validos_descent = ['-', 'A', 'B', 'C', 'D', 'F', 'G', 'H', 'I', 'J', \n",
    "                           'K', 'L', 'O', 'P', 'S', 'U', 'V', 'W', 'X', 'Z']\n",
    "\n",
    "# 2. Verificamos los valores únicos en el dataset\n",
    "print(\"Valores únicos en descent_victim:\")\n",
    "print(df['descent_victim'].unique())\n",
    "\n",
    "# 3. Detectamos valores inválidos\n",
    "valores_invalidos = df[~df['descent_victim'].isin(valores_validos_descent)]\n",
    "\n",
    "# 4. Mostramos las filas con descent_victim inválido\n",
    "print(\"\\nFilas con valores inválidos en descent_victim:\")\n",
    "print(valores_invalidos[['id_report', 'descent_victim']])\n",
    "\n",
    "# 5. Cantidad de registros inválidos\n",
    "print(f\"\\nCantidad de registros con descent_victim inválido: {len(valores_invalidos)}\")"
   ]
  },
  {
   "cell_type": "code",
   "execution_count": null,
   "metadata": {},
   "outputs": [],
   "source": [
    "# Reemplazar NaN por '-'\n",
    "df['descent_victim'] = df['descent_victim'].fillna('-')"
   ]
  },
  {
   "cell_type": "code",
   "execution_count": null,
   "metadata": {},
   "outputs": [],
   "source": [
    "# 1. Definir los valores válidos de razas\n",
    "valores_validos_descent = ['-', 'A', 'B', 'C', 'D', 'F', 'G', 'H', 'I', 'J', \n",
    "                           'K', 'L', 'O', 'P', 'S', 'U', 'V', 'W', 'X', 'Z']\n",
    "\n",
    "# 2. Rellenar nulos si es necesario\n",
    "df['descent_victim'] = df['descent_victim'].fillna('-')\n",
    "\n",
    "# 3. Conteo de víctimas por raza\n",
    "conteo_raza = df['descent_victim'].value_counts()\n",
    "\n",
    "# 4. Porcentaje por raza\n",
    "porcentaje_raza = df['descent_victim'].value_counts(normalize=True) * 100\n",
    "\n",
    "# 5. Crear el DataFrame resultado\n",
    "resultado_raza = pd.DataFrame({\n",
    "    'Cantidad': conteo_raza,\n",
    "    'Porcentaje (%)': porcentaje_raza.round(2)\n",
    "})\n",
    "\n",
    "# 6. Mostrar resultados\n",
    "print(resultado_raza)"
   ]
  },
  {
   "cell_type": "code",
   "execution_count": null,
   "metadata": {},
   "outputs": [],
   "source": []
  },
  {
   "cell_type": "code",
   "execution_count": null,
   "metadata": {},
   "outputs": [],
   "source": []
  },
  {
   "cell_type": "code",
   "execution_count": null,
   "metadata": {},
   "outputs": [],
   "source": []
  },
  {
   "cell_type": "code",
   "execution_count": null,
   "metadata": {},
   "outputs": [],
   "source": []
  },
  {
   "cell_type": "code",
   "execution_count": null,
   "metadata": {},
   "outputs": [],
   "source": []
  },
  {
   "cell_type": "code",
   "execution_count": null,
   "metadata": {},
   "outputs": [],
   "source": []
  },
  {
   "cell_type": "markdown",
   "metadata": {},
   "source": [
    "## Investigación - Case Status Code/Description\n",
    "## 6. Localización del suceso"
   ]
  },
  {
   "cell_type": "code",
   "execution_count": 139,
   "metadata": {},
   "outputs": [],
   "source": [
    "mapping_loc_code_desc = {\n",
    "    101.0: 'STREET',\n",
    "    102.0: 'BUS STOP',\n",
    "    103.0: 'PARKING LOT',\n",
    "    104.0: 'DRIVEWAY',\n",
    "    105.0: 'SIDEWALK',\n",
    "    201.0: 'SINGLE FAMILY DWELLING',\n",
    "    202.0: 'MULTI-FAMILY DWELLING (APARTMENT)',\n",
    "    203.0: 'DUPLEX/TRIPLEX',\n",
    "    204.0: 'ROOMING HOUSE',\n",
    "    301.0: 'GOVERNMENT BUILDING',\n",
    "    302.0: 'POLICE FACILITY',\n",
    "    303.0: 'JAIL/PRISON',\n",
    "    401.0: 'RESTAURANT',\n",
    "    402.0: 'BAR/NIGHTCLUB',\n",
    "    501.0: 'HOSPITAL/MEDICAL FACILITY',\n",
    "    502.0: 'NURSING HOME',\n",
    "    601.0: 'HOTEL/MOTEL',\n",
    "    602.0: 'MOTOR HOTEL',\n",
    "    701.0: 'SCHOOL, PUBLIC',\n",
    "    702.0: 'SCHOOL, PRIVATE',\n",
    "    801.0: 'BANK',\n",
    "    802.0: 'ATM',\n",
    "    901.0: 'MARKET',\n",
    "    902.0: 'CONVENIENCE STORE',\n",
    "    903.0: 'DEPARTMENT STORE',\n",
    "    904.0: 'SHOPPING MALL',\n",
    "    905.0: 'GAS STATION',\n",
    "    906.0: 'AUTO DEALERSHIP',\n",
    "    907.0: 'PARK',\n",
    "    908.0: 'PLAYGROUND',\n",
    "    909.0: 'GYM/FITNESS CENTER',\n",
    "    910.0: 'THEATER',\n",
    "    911.0: 'MUSEUM',\n",
    "    912.0: 'LIBRARY',\n",
    "    913.0: 'CHURCH/SYNAGOGUE/TEMPLE',\n",
    "    914.0: 'WAREHOUSE',\n",
    "    915.0: 'FACTORY/PLANT',\n",
    "    916.0: 'CONSTRUCTION SITE',\n",
    "    917.0: 'VACANT LOT',\n",
    "    918.0: 'ABANDONED BUILDING',\n",
    "    919.0: 'BUSINESS OFFICE',\n",
    "    920.0: 'YARD (RESIDENTIAL/BUSINESS)',\n",
    "    976.0: 'OTHER LOCATION'\n",
    "}\n"
   ]
  },
  {
   "cell_type": "code",
   "execution_count": null,
   "metadata": {},
   "outputs": [],
   "source": [
    "# Mapear el loc_desc estándar según loc_code\n",
    "df['loc_desc'] = df['loc_code'].map(mapping_loc_code_desc).fillna('UNKNOWN')"
   ]
  },
  {
   "cell_type": "code",
   "execution_count": null,
   "metadata": {},
   "outputs": [],
   "source": [
    "# 1. Contar crímenes por localización (loc_desc)\n",
    "conteo_localizaciones = df['loc_desc'].value_counts()\n",
    "\n",
    "# 2. Sacar porcentaje\n",
    "porcentaje_localizaciones = (conteo_localizaciones / conteo_localizaciones.sum()) * 100\n",
    "\n",
    "# 3. Juntar en un solo DataFrame\n",
    "resultado_localizaciones = pd.DataFrame({\n",
    "    'Cantidad': conteo_localizaciones,\n",
    "    'Porcentaje (%)': porcentaje_localizaciones.round(2)\n",
    "})\n",
    "\n",
    "# 4. Tomar solo el TOP 10\n",
    "top_10_localizaciones = resultado_localizaciones.head(10)\n",
    "\n",
    "# 5. Mostrar\n",
    "print(top_10_localizaciones)\n",
    "\n"
   ]
  },
  {
   "cell_type": "code",
   "execution_count": null,
   "metadata": {},
   "outputs": [],
   "source": []
  },
  {
   "cell_type": "code",
   "execution_count": null,
   "metadata": {},
   "outputs": [],
   "source": []
  },
  {
   "cell_type": "code",
   "execution_count": null,
   "metadata": {},
   "outputs": [],
   "source": []
  },
  {
   "cell_type": "code",
   "execution_count": null,
   "metadata": {},
   "outputs": [],
   "source": []
  },
  {
   "cell_type": "code",
   "execution_count": null,
   "metadata": {},
   "outputs": [],
   "source": []
  },
  {
   "cell_type": "code",
   "execution_count": null,
   "metadata": {},
   "outputs": [],
   "source": []
  },
  {
   "cell_type": "markdown",
   "metadata": {},
   "source": [
    "# 7. Investigación sobre las armas"
   ]
  },
  {
   "cell_type": "code",
   "execution_count": 6,
   "metadata": {},
   "outputs": [],
   "source": [
    "mapping_weapon_code_desc = {\n",
    "    100.0: 'HAND GUN',\n",
    "    101.0: 'RIFLE',\n",
    "    102.0: 'SHOTGUN',\n",
    "    103.0: 'ASSAULT WEAPON (AK47, UZI, etc.)',\n",
    "    104.0: 'OTHER FIREARM',\n",
    "    105.0: 'SEMI-AUTOMATIC HANDGUN',\n",
    "    106.0: 'SEMI-AUTOMATIC RIFLE',\n",
    "    200.0: 'KNIFE/SHARP INSTRUMENT',\n",
    "    201.0: 'RAZOR',\n",
    "    202.0: 'SCISSORS',\n",
    "    203.0: 'ICE PICK',\n",
    "    204.0: 'SWITCH BLADE',\n",
    "    205.0: 'OTHER CUTTING INSTRUMENT',\n",
    "    206.0: 'SWORD/MACHETE',\n",
    "    300.0: 'BLUNT OBJECT (CLUB, BAT, etc.)',\n",
    "    301.0: 'ROCK/BRICK',\n",
    "    302.0: 'PIPE/METAL BAR',\n",
    "    303.0: 'STICK/POLE',\n",
    "    400.0: 'PERSONAL WEAPONS (HANDS, FISTS, FEET, ETC.)',\n",
    "    500.0: 'OTHER WEAPON',\n",
    "    501.0: 'BOTTLE',\n",
    "    502.0: 'CHAIN',\n",
    "    503.0: 'ROPE/STRING/SHOELACE',\n",
    "    504.0: 'CHEMICAL SPRAY (MACE/PEPPER SPRAY)',\n",
    "    505.0: 'FIRE (ARSON)',\n",
    "    506.0: 'EXPLOSIVES',\n",
    "    507.0: 'VEHICLE',\n",
    "    508.0: 'AXE',\n",
    "    509.0: 'SCREWDRIVER',\n",
    "    510.0: 'UNKNOWN WEAPON',\n",
    "    700.0: 'SIMULATED WEAPON (FAKE GUN, ETC.)',\n",
    "    800.0: 'VERBAL THREAT',\n",
    "    900.0: 'OTHER DANGEROUS WEAPON',\n",
    "}"
   ]
  },
  {
   "cell_type": "code",
   "execution_count": 7,
   "metadata": {},
   "outputs": [
    {
     "ename": "NameError",
     "evalue": "name 'df' is not defined",
     "output_type": "error",
     "traceback": [
      "\u001b[1;31m---------------------------------------------------------------------------\u001b[0m",
      "\u001b[1;31mNameError\u001b[0m                                 Traceback (most recent call last)",
      "Cell \u001b[1;32mIn[7], line 2\u001b[0m\n\u001b[0;32m      1\u001b[0m \u001b[38;5;66;03m# 1. Aseguramos que 'weapon_code' esté correctamente mapeado\u001b[39;00m\n\u001b[1;32m----> 2\u001b[0m df[\u001b[38;5;124m'\u001b[39m\u001b[38;5;124mweapon_desc\u001b[39m\u001b[38;5;124m'\u001b[39m] \u001b[38;5;241m=\u001b[39m \u001b[43mdf\u001b[49m[\u001b[38;5;124m'\u001b[39m\u001b[38;5;124mweapon_code\u001b[39m\u001b[38;5;124m'\u001b[39m]\u001b[38;5;241m.\u001b[39mmap(mapping_weapon_code_desc)\u001b[38;5;241m.\u001b[39mfillna(\u001b[38;5;124m'\u001b[39m\u001b[38;5;124mUNKNOWN\u001b[39m\u001b[38;5;124m'\u001b[39m)\n\u001b[0;32m      4\u001b[0m \u001b[38;5;66;03m# 2. Conteo de armas por descripción\u001b[39;00m\n\u001b[0;32m      5\u001b[0m conteo_armas \u001b[38;5;241m=\u001b[39m df[\u001b[38;5;124m'\u001b[39m\u001b[38;5;124mweapon_desc\u001b[39m\u001b[38;5;124m'\u001b[39m]\u001b[38;5;241m.\u001b[39mvalue_counts()\n",
      "\u001b[1;31mNameError\u001b[0m: name 'df' is not defined"
     ]
    }
   ],
   "source": [
    "# 1. Aseguramos que 'weapon_code' esté correctamente mapeado\n",
    "df['weapon_desc'] = df['weapon_code'].map(mapping_weapon_code_desc).fillna('UNKNOWN')\n",
    "\n",
    "# 2. Conteo de armas por descripción\n",
    "conteo_armas = df['weapon_desc'].value_counts()\n",
    "\n",
    "# 3. Porcentaje de armas\n",
    "porcentaje_armas = (conteo_armas / conteo_armas.sum()) * 100\n",
    "\n",
    "# 4. Crear el DataFrame final\n",
    "resultado_armas = pd.DataFrame({\n",
    "    'Cantidad': conteo_armas,\n",
    "    'Porcentaje (%)': porcentaje_armas.round(2)\n",
    "})\n",
    "\n",
    "# 5. Tomar el TOP 10\n",
    "top_10_armas = resultado_armas.head(10)\n",
    "\n",
    "# 6. Mostrar\n",
    "print(top_10_armas)\n",
    "\n"
   ]
  },
  {
   "cell_type": "code",
   "execution_count": null,
   "metadata": {},
   "outputs": [],
   "source": []
  },
  {
   "cell_type": "code",
   "execution_count": null,
   "metadata": {},
   "outputs": [],
   "source": []
  },
  {
   "cell_type": "code",
   "execution_count": null,
   "metadata": {},
   "outputs": [],
   "source": []
  },
  {
   "cell_type": "code",
   "execution_count": null,
   "metadata": {},
   "outputs": [],
   "source": []
  },
  {
   "cell_type": "code",
   "execution_count": null,
   "metadata": {},
   "outputs": [],
   "source": []
  },
  {
   "cell_type": "code",
   "execution_count": null,
   "metadata": {},
   "outputs": [],
   "source": []
  },
  {
   "cell_type": "markdown",
   "metadata": {},
   "source": [
    "\n",
    "8. Investigación sobre Modus Operandi"
   ]
  },
  {
   "cell_type": "code",
   "execution_count": null,
   "metadata": {},
   "outputs": [],
   "source": []
  },
  {
   "cell_type": "code",
   "execution_count": null,
   "metadata": {},
   "outputs": [],
   "source": []
  },
  {
   "cell_type": "code",
   "execution_count": null,
   "metadata": {},
   "outputs": [],
   "source": []
  },
  {
   "cell_type": "code",
   "execution_count": null,
   "metadata": {},
   "outputs": [],
   "source": []
  },
  {
   "cell_type": "code",
   "execution_count": null,
   "metadata": {},
   "outputs": [],
   "source": []
  },
  {
   "cell_type": "code",
   "execution_count": null,
   "metadata": {},
   "outputs": [],
   "source": []
  },
  {
   "cell_type": "code",
   "execution_count": null,
   "metadata": {},
   "outputs": [],
   "source": []
  },
  {
   "cell_type": "code",
   "execution_count": null,
   "metadata": {},
   "outputs": [],
   "source": []
  },
  {
   "cell_type": "code",
   "execution_count": null,
   "metadata": {},
   "outputs": [],
   "source": []
  },
  {
   "cell_type": "code",
   "execution_count": null,
   "metadata": {},
   "outputs": [],
   "source": []
  },
  {
   "cell_type": "markdown",
   "metadata": {},
   "source": [
    "\n",
    "Valores numericos (Aaron y Javi)\n"
   ]
  },
  {
   "cell_type": "markdown",
   "metadata": {
    "id": "69C2gRmk9zlm"
   },
   "source": [
    "### id_report"
   ]
  },
  {
   "cell_type": "code",
   "execution_count": 11,
   "metadata": {
    "colab": {
     "base_uri": "https://localhost:8080/"
    },
    "id": "yD8uubrL-Ee4",
    "outputId": "c16be6d7-1a7d-4df8-a42c-0ce38cd22bf8"
   },
   "outputs": [
    {
     "name": "stdout",
     "output_type": "stream",
     "text": [
      "<class 'pandas.core.series.Series'>\n",
      "RangeIndex: 986500 entries, 0 to 986499\n",
      "Series name: id_report\n",
      "Non-Null Count   Dtype\n",
      "--------------   -----\n",
      "986500 non-null  int64\n",
      "dtypes: int64(1)\n",
      "memory usage: 7.5 MB\n"
     ]
    }
   ],
   "source": [
    "df['id_report'].info()"
   ]
  },
  {
   "cell_type": "code",
   "execution_count": 12,
   "metadata": {
    "colab": {
     "base_uri": "https://localhost:8080/",
     "height": 363
    },
    "id": "Y00dI-B3-YiA",
    "outputId": "94875b07-690f-4912-c625-420124b7923b"
   },
   "outputs": [
    {
     "data": {
      "text/html": [
       "<div>\n",
       "<style scoped>\n",
       "    .dataframe tbody tr th:only-of-type {\n",
       "        vertical-align: middle;\n",
       "    }\n",
       "\n",
       "    .dataframe tbody tr th {\n",
       "        vertical-align: top;\n",
       "    }\n",
       "\n",
       "    .dataframe thead th {\n",
       "        text-align: right;\n",
       "    }\n",
       "</style>\n",
       "<table border=\"1\" class=\"dataframe\">\n",
       "  <thead>\n",
       "    <tr style=\"text-align: right;\">\n",
       "      <th></th>\n",
       "      <th>id_report</th>\n",
       "      <th>date_report</th>\n",
       "      <th>date_ocurrance</th>\n",
       "      <th>time_ocurrance</th>\n",
       "      <th>area_code</th>\n",
       "    </tr>\n",
       "  </thead>\n",
       "  <tbody>\n",
       "    <tr>\n",
       "      <th>0</th>\n",
       "      <td>190326475</td>\n",
       "      <td>03/01/2020 12:00:00 AM</td>\n",
       "      <td>03/01/2020 12:00:00 AM</td>\n",
       "      <td>2130</td>\n",
       "      <td>7</td>\n",
       "    </tr>\n",
       "    <tr>\n",
       "      <th>1</th>\n",
       "      <td>200106753</td>\n",
       "      <td>02/09/2020 12:00:00 AM</td>\n",
       "      <td>02/08/2020 12:00:00 AM</td>\n",
       "      <td>1800</td>\n",
       "      <td>1</td>\n",
       "    </tr>\n",
       "    <tr>\n",
       "      <th>2</th>\n",
       "      <td>200320258</td>\n",
       "      <td>11/11/2020 12:00:00 AM</td>\n",
       "      <td>11/04/2020 12:00:00 AM</td>\n",
       "      <td>1700</td>\n",
       "      <td>3</td>\n",
       "    </tr>\n",
       "    <tr>\n",
       "      <th>3</th>\n",
       "      <td>200907217</td>\n",
       "      <td>05/10/2023 12:00:00 AM</td>\n",
       "      <td>03/10/2020 12:00:00 AM</td>\n",
       "      <td>2037</td>\n",
       "      <td>9</td>\n",
       "    </tr>\n",
       "    <tr>\n",
       "      <th>4</th>\n",
       "      <td>220614831</td>\n",
       "      <td>08/18/2022 12:00:00 AM</td>\n",
       "      <td>08/17/2020 12:00:00 AM</td>\n",
       "      <td>1200</td>\n",
       "      <td>6</td>\n",
       "    </tr>\n",
       "    <tr>\n",
       "      <th>5</th>\n",
       "      <td>231808869</td>\n",
       "      <td>04/04/2023 12:00:00 AM</td>\n",
       "      <td>12/01/2020 12:00:00 AM</td>\n",
       "      <td>2300</td>\n",
       "      <td>18</td>\n",
       "    </tr>\n",
       "    <tr>\n",
       "      <th>6</th>\n",
       "      <td>230110144</td>\n",
       "      <td>04/04/2023 12:00:00 AM</td>\n",
       "      <td>07/03/2020 12:00:00 AM</td>\n",
       "      <td>900</td>\n",
       "      <td>1</td>\n",
       "    </tr>\n",
       "    <tr>\n",
       "      <th>7</th>\n",
       "      <td>220314085</td>\n",
       "      <td>07/22/2022 12:00:00 AM</td>\n",
       "      <td>05/12/2020 12:00:00 AM</td>\n",
       "      <td>1110</td>\n",
       "      <td>3</td>\n",
       "    </tr>\n",
       "    <tr>\n",
       "      <th>8</th>\n",
       "      <td>231309864</td>\n",
       "      <td>04/28/2023 12:00:00 AM</td>\n",
       "      <td>12/09/2020 12:00:00 AM</td>\n",
       "      <td>1400</td>\n",
       "      <td>13</td>\n",
       "    </tr>\n",
       "    <tr>\n",
       "      <th>9</th>\n",
       "      <td>211904005</td>\n",
       "      <td>12/31/2020 12:00:00 AM</td>\n",
       "      <td>12/31/2020 12:00:00 AM</td>\n",
       "      <td>1220</td>\n",
       "      <td>19</td>\n",
       "    </tr>\n",
       "  </tbody>\n",
       "</table>\n",
       "</div>"
      ],
      "text/plain": [
       "   id_report             date_report          date_ocurrance  time_ocurrance  \\\n",
       "0  190326475  03/01/2020 12:00:00 AM  03/01/2020 12:00:00 AM            2130   \n",
       "1  200106753  02/09/2020 12:00:00 AM  02/08/2020 12:00:00 AM            1800   \n",
       "2  200320258  11/11/2020 12:00:00 AM  11/04/2020 12:00:00 AM            1700   \n",
       "3  200907217  05/10/2023 12:00:00 AM  03/10/2020 12:00:00 AM            2037   \n",
       "4  220614831  08/18/2022 12:00:00 AM  08/17/2020 12:00:00 AM            1200   \n",
       "5  231808869  04/04/2023 12:00:00 AM  12/01/2020 12:00:00 AM            2300   \n",
       "6  230110144  04/04/2023 12:00:00 AM  07/03/2020 12:00:00 AM             900   \n",
       "7  220314085  07/22/2022 12:00:00 AM  05/12/2020 12:00:00 AM            1110   \n",
       "8  231309864  04/28/2023 12:00:00 AM  12/09/2020 12:00:00 AM            1400   \n",
       "9  211904005  12/31/2020 12:00:00 AM  12/31/2020 12:00:00 AM            1220   \n",
       "\n",
       "   area_code  \n",
       "0          7  \n",
       "1          1  \n",
       "2          3  \n",
       "3          9  \n",
       "4          6  \n",
       "5         18  \n",
       "6          1  \n",
       "7          3  \n",
       "8         13  \n",
       "9         19  "
      ]
     },
     "execution_count": 12,
     "metadata": {},
     "output_type": "execute_result"
    }
   ],
   "source": [
    "df.iloc[:, :5].head(10)"
   ]
  },
  {
   "cell_type": "code",
   "execution_count": 15,
   "metadata": {
    "id": "EiCc-u2C68eq"
   },
   "outputs": [
    {
     "data": {
      "text/html": [
       "<div>\n",
       "<style scoped>\n",
       "    .dataframe tbody tr th:only-of-type {\n",
       "        vertical-align: middle;\n",
       "    }\n",
       "\n",
       "    .dataframe tbody tr th {\n",
       "        vertical-align: top;\n",
       "    }\n",
       "\n",
       "    .dataframe thead th {\n",
       "        text-align: right;\n",
       "    }\n",
       "</style>\n",
       "<table border=\"1\" class=\"dataframe\">\n",
       "  <thead>\n",
       "    <tr style=\"text-align: right;\">\n",
       "      <th></th>\n",
       "      <th>id_report</th>\n",
       "      <th>date_report</th>\n",
       "      <th>date_ocurrance</th>\n",
       "      <th>time_ocurrance</th>\n",
       "      <th>area_code</th>\n",
       "      <th>area_name</th>\n",
       "      <th>district</th>\n",
       "      <th>crime_severity</th>\n",
       "      <th>crime_code</th>\n",
       "      <th>crime_desc</th>\n",
       "      <th>...</th>\n",
       "      <th>case_status_code</th>\n",
       "      <th>case_status_desc</th>\n",
       "      <th>crime_code_1</th>\n",
       "      <th>crime_code_2</th>\n",
       "      <th>crime_code_3</th>\n",
       "      <th>crime_code_4</th>\n",
       "      <th>location</th>\n",
       "      <th>cross_street</th>\n",
       "      <th>latitude</th>\n",
       "      <th>longitude</th>\n",
       "    </tr>\n",
       "  </thead>\n",
       "  <tbody>\n",
       "    <tr>\n",
       "      <th>39890</th>\n",
       "      <td>817</td>\n",
       "      <td>09/20/2020 12:00:00 AM</td>\n",
       "      <td>09/19/2020 12:00:00 AM</td>\n",
       "      <td>1700</td>\n",
       "      <td>17</td>\n",
       "      <td>Devonshire</td>\n",
       "      <td>1777</td>\n",
       "      <td>1</td>\n",
       "      <td>510</td>\n",
       "      <td>VEHICLE - STOLEN</td>\n",
       "      <td>...</td>\n",
       "      <td>IC</td>\n",
       "      <td>Invest Cont</td>\n",
       "      <td>510.0</td>\n",
       "      <td>NaN</td>\n",
       "      <td>NaN</td>\n",
       "      <td>NaN</td>\n",
       "      <td>9100    RUBIO                        AV</td>\n",
       "      <td>NaN</td>\n",
       "      <td>34.2367</td>\n",
       "      <td>-118.4955</td>\n",
       "    </tr>\n",
       "    <tr>\n",
       "      <th>268033</th>\n",
       "      <td>2113</td>\n",
       "      <td>06/21/2021 12:00:00 AM</td>\n",
       "      <td>04/05/2021 12:00:00 AM</td>\n",
       "      <td>1835</td>\n",
       "      <td>13</td>\n",
       "      <td>Newton</td>\n",
       "      <td>1385</td>\n",
       "      <td>1</td>\n",
       "      <td>510</td>\n",
       "      <td>VEHICLE - STOLEN</td>\n",
       "      <td>...</td>\n",
       "      <td>IC</td>\n",
       "      <td>Invest Cont</td>\n",
       "      <td>510.0</td>\n",
       "      <td>NaN</td>\n",
       "      <td>NaN</td>\n",
       "      <td>NaN</td>\n",
       "      <td>800 E  GAGE                         AV</td>\n",
       "      <td>NaN</td>\n",
       "      <td>33.9820</td>\n",
       "      <td>-118.2622</td>\n",
       "    </tr>\n",
       "    <tr>\n",
       "      <th>581052</th>\n",
       "      <td>2203</td>\n",
       "      <td>12/31/2022 12:00:00 AM</td>\n",
       "      <td>12/19/2022 12:00:00 AM</td>\n",
       "      <td>1930</td>\n",
       "      <td>3</td>\n",
       "      <td>Southwest</td>\n",
       "      <td>356</td>\n",
       "      <td>1</td>\n",
       "      <td>522</td>\n",
       "      <td>VEHICLE, STOLEN - OTHER (MOTORIZED SCOOTERS, B...</td>\n",
       "      <td>...</td>\n",
       "      <td>IC</td>\n",
       "      <td>Invest Cont</td>\n",
       "      <td>522.0</td>\n",
       "      <td>NaN</td>\n",
       "      <td>NaN</td>\n",
       "      <td>NaN</td>\n",
       "      <td>1400 W  37TH                         ST</td>\n",
       "      <td>NaN</td>\n",
       "      <td>34.0210</td>\n",
       "      <td>-118.3002</td>\n",
       "    </tr>\n",
       "    <tr>\n",
       "      <th>734486</th>\n",
       "      <td>2315</td>\n",
       "      <td>07/23/2023 12:00:00 AM</td>\n",
       "      <td>07/22/2023 12:00:00 AM</td>\n",
       "      <td>1800</td>\n",
       "      <td>15</td>\n",
       "      <td>N Hollywood</td>\n",
       "      <td>1566</td>\n",
       "      <td>1</td>\n",
       "      <td>420</td>\n",
       "      <td>THEFT FROM MOTOR VEHICLE - PETTY ($950 &amp; UNDER)</td>\n",
       "      <td>...</td>\n",
       "      <td>IC</td>\n",
       "      <td>Invest Cont</td>\n",
       "      <td>420.0</td>\n",
       "      <td>NaN</td>\n",
       "      <td>NaN</td>\n",
       "      <td>NaN</td>\n",
       "      <td>4400    ENSIGN                       AV</td>\n",
       "      <td>NaN</td>\n",
       "      <td>34.1504</td>\n",
       "      <td>-118.3712</td>\n",
       "    </tr>\n",
       "    <tr>\n",
       "      <th>876571</th>\n",
       "      <td>2401</td>\n",
       "      <td>01/10/2024 12:00:00 AM</td>\n",
       "      <td>12/21/2023 12:00:00 AM</td>\n",
       "      <td>1930</td>\n",
       "      <td>14</td>\n",
       "      <td>Pacific</td>\n",
       "      <td>1416</td>\n",
       "      <td>1</td>\n",
       "      <td>510</td>\n",
       "      <td>VEHICLE - STOLEN</td>\n",
       "      <td>...</td>\n",
       "      <td>IC</td>\n",
       "      <td>Invest Cont</td>\n",
       "      <td>510.0</td>\n",
       "      <td>NaN</td>\n",
       "      <td>NaN</td>\n",
       "      <td>NaN</td>\n",
       "      <td>3400    CABRILLO                     BL</td>\n",
       "      <td>NaN</td>\n",
       "      <td>34.0099</td>\n",
       "      <td>-118.4453</td>\n",
       "    </tr>\n",
       "  </tbody>\n",
       "</table>\n",
       "<p>5 rows × 28 columns</p>\n",
       "</div>"
      ],
      "text/plain": [
       "        id_report             date_report          date_ocurrance  \\\n",
       "39890         817  09/20/2020 12:00:00 AM  09/19/2020 12:00:00 AM   \n",
       "268033       2113  06/21/2021 12:00:00 AM  04/05/2021 12:00:00 AM   \n",
       "581052       2203  12/31/2022 12:00:00 AM  12/19/2022 12:00:00 AM   \n",
       "734486       2315  07/23/2023 12:00:00 AM  07/22/2023 12:00:00 AM   \n",
       "876571       2401  01/10/2024 12:00:00 AM  12/21/2023 12:00:00 AM   \n",
       "\n",
       "        time_ocurrance  area_code    area_name  district  crime_severity  \\\n",
       "39890             1700         17   Devonshire      1777               1   \n",
       "268033            1835         13       Newton      1385               1   \n",
       "581052            1930          3    Southwest       356               1   \n",
       "734486            1800         15  N Hollywood      1566               1   \n",
       "876571            1930         14      Pacific      1416               1   \n",
       "\n",
       "        crime_code                                         crime_desc  ...  \\\n",
       "39890          510                                   VEHICLE - STOLEN  ...   \n",
       "268033         510                                   VEHICLE - STOLEN  ...   \n",
       "581052         522  VEHICLE, STOLEN - OTHER (MOTORIZED SCOOTERS, B...  ...   \n",
       "734486         420    THEFT FROM MOTOR VEHICLE - PETTY ($950 & UNDER)  ...   \n",
       "876571         510                                   VEHICLE - STOLEN  ...   \n",
       "\n",
       "       case_status_code  case_status_desc crime_code_1 crime_code_2  \\\n",
       "39890                IC       Invest Cont        510.0          NaN   \n",
       "268033               IC       Invest Cont        510.0          NaN   \n",
       "581052               IC       Invest Cont        522.0          NaN   \n",
       "734486               IC       Invest Cont        420.0          NaN   \n",
       "876571               IC       Invest Cont        510.0          NaN   \n",
       "\n",
       "        crime_code_3 crime_code_4                                 location  \\\n",
       "39890            NaN          NaN  9100    RUBIO                        AV   \n",
       "268033           NaN          NaN   800 E  GAGE                         AV   \n",
       "581052           NaN          NaN  1400 W  37TH                         ST   \n",
       "734486           NaN          NaN  4400    ENSIGN                       AV   \n",
       "876571           NaN          NaN  3400    CABRILLO                     BL   \n",
       "\n",
       "       cross_street latitude longitude  \n",
       "39890           NaN  34.2367 -118.4955  \n",
       "268033          NaN  33.9820 -118.2622  \n",
       "581052          NaN  34.0210 -118.3002  \n",
       "734486          NaN  34.1504 -118.3712  \n",
       "876571          NaN  34.0099 -118.4453  \n",
       "\n",
       "[5 rows x 28 columns]"
      ]
     },
     "execution_count": 15,
     "metadata": {},
     "output_type": "execute_result"
    }
   ],
   "source": [
    "df.loc[df['id_report']<9999999]"
   ]
  },
  {
   "cell_type": "code",
   "execution_count": null,
   "metadata": {},
   "outputs": [],
   "source": []
  },
  {
   "cell_type": "code",
   "execution_count": null,
   "metadata": {},
   "outputs": [],
   "source": []
  },
  {
   "cell_type": "code",
   "execution_count": null,
   "metadata": {},
   "outputs": [],
   "source": []
  },
  {
   "cell_type": "code",
   "execution_count": null,
   "metadata": {},
   "outputs": [],
   "source": []
  },
  {
   "cell_type": "code",
   "execution_count": null,
   "metadata": {},
   "outputs": [],
   "source": []
  },
  {
   "cell_type": "code",
   "execution_count": null,
   "metadata": {},
   "outputs": [],
   "source": []
  },
  {
   "cell_type": "markdown",
   "metadata": {
    "id": "zv3Y6cG4CaW6"
   },
   "source": [
    "### date_report"
   ]
  },
  {
   "cell_type": "code",
   "execution_count": 16,
   "metadata": {
    "id": "zq5dH2qTCcOh"
   },
   "outputs": [
    {
     "name": "stderr",
     "output_type": "stream",
     "text": [
      "C:\\Users\\aaron\\AppData\\Local\\Temp\\ipykernel_27988\\240740369.py:1: UserWarning: Could not infer format, so each element will be parsed individually, falling back to `dateutil`. To ensure parsing is consistent and as-expected, please specify a format.\n",
      "  df['date_report']=pd.to_datetime(df['date_report'])\n"
     ]
    }
   ],
   "source": [
    "df['date_report']=pd.to_datetime(df['date_report'])"
   ]
  },
  {
   "cell_type": "code",
   "execution_count": 17,
   "metadata": {},
   "outputs": [
    {
     "data": {
      "text/plain": [
       "0   2020-03-01\n",
       "1   2020-02-09\n",
       "2   2020-11-11\n",
       "3   2023-05-10\n",
       "4   2022-08-18\n",
       "Name: date_report, dtype: datetime64[ns]"
      ]
     },
     "execution_count": 17,
     "metadata": {},
     "output_type": "execute_result"
    }
   ],
   "source": [
    "df['date_report'].head()"
   ]
  },
  {
   "cell_type": "code",
   "execution_count": 18,
   "metadata": {},
   "outputs": [
    {
     "name": "stdout",
     "output_type": "stream",
     "text": [
      "<class 'pandas.core.series.Series'>\n",
      "RangeIndex: 986500 entries, 0 to 986499\n",
      "Series name: date_report\n",
      "Non-Null Count   Dtype         \n",
      "--------------   -----         \n",
      "986500 non-null  datetime64[ns]\n",
      "dtypes: datetime64[ns](1)\n",
      "memory usage: 7.5 MB\n"
     ]
    }
   ],
   "source": [
    "df['date_report'].info()"
   ]
  },
  {
   "cell_type": "code",
   "execution_count": null,
   "metadata": {},
   "outputs": [],
   "source": []
  },
  {
   "cell_type": "code",
   "execution_count": null,
   "metadata": {},
   "outputs": [],
   "source": []
  },
  {
   "cell_type": "code",
   "execution_count": null,
   "metadata": {},
   "outputs": [],
   "source": []
  },
  {
   "cell_type": "code",
   "execution_count": null,
   "metadata": {},
   "outputs": [],
   "source": []
  },
  {
   "cell_type": "code",
   "execution_count": null,
   "metadata": {},
   "outputs": [],
   "source": []
  },
  {
   "cell_type": "code",
   "execution_count": null,
   "metadata": {},
   "outputs": [],
   "source": []
  },
  {
   "cell_type": "markdown",
   "metadata": {
    "id": "ZOPdgt0aCcqU"
   },
   "source": [
    "### date_ocurrance"
   ]
  },
  {
   "cell_type": "code",
   "execution_count": 19,
   "metadata": {
    "id": "i-r_DVgTCvLp"
   },
   "outputs": [
    {
     "name": "stderr",
     "output_type": "stream",
     "text": [
      "C:\\Users\\aaron\\AppData\\Local\\Temp\\ipykernel_27988\\779857604.py:1: UserWarning: Could not infer format, so each element will be parsed individually, falling back to `dateutil`. To ensure parsing is consistent and as-expected, please specify a format.\n",
      "  df['date_ocurrance']=pd.to_datetime(df['date_ocurrance'])\n"
     ]
    }
   ],
   "source": [
    "df['date_ocurrance']=pd.to_datetime(df['date_ocurrance'])"
   ]
  },
  {
   "cell_type": "code",
   "execution_count": 20,
   "metadata": {
    "id": "-KOKK0xLCvR2"
   },
   "outputs": [
    {
     "data": {
      "text/plain": [
       "0   2020-03-01\n",
       "1   2020-02-09\n",
       "2   2020-11-11\n",
       "3   2023-05-10\n",
       "4   2022-08-18\n",
       "Name: date_report, dtype: datetime64[ns]"
      ]
     },
     "execution_count": 20,
     "metadata": {},
     "output_type": "execute_result"
    }
   ],
   "source": [
    "df['date_report'].head()"
   ]
  },
  {
   "cell_type": "code",
   "execution_count": 21,
   "metadata": {},
   "outputs": [
    {
     "name": "stdout",
     "output_type": "stream",
     "text": [
      "<class 'pandas.core.series.Series'>\n",
      "RangeIndex: 986500 entries, 0 to 986499\n",
      "Series name: date_report\n",
      "Non-Null Count   Dtype         \n",
      "--------------   -----         \n",
      "986500 non-null  datetime64[ns]\n",
      "dtypes: datetime64[ns](1)\n",
      "memory usage: 7.5 MB\n"
     ]
    }
   ],
   "source": [
    "df['date_report'].info()"
   ]
  },
  {
   "cell_type": "code",
   "execution_count": null,
   "metadata": {},
   "outputs": [],
   "source": []
  },
  {
   "cell_type": "code",
   "execution_count": null,
   "metadata": {},
   "outputs": [],
   "source": []
  },
  {
   "cell_type": "code",
   "execution_count": null,
   "metadata": {},
   "outputs": [],
   "source": []
  },
  {
   "cell_type": "code",
   "execution_count": null,
   "metadata": {},
   "outputs": [],
   "source": []
  },
  {
   "cell_type": "code",
   "execution_count": null,
   "metadata": {},
   "outputs": [],
   "source": []
  },
  {
   "cell_type": "code",
   "execution_count": null,
   "metadata": {},
   "outputs": [],
   "source": []
  },
  {
   "cell_type": "code",
   "execution_count": null,
   "metadata": {},
   "outputs": [],
   "source": []
  },
  {
   "cell_type": "markdown",
   "metadata": {
    "id": "NvKbJTeFCvkx"
   },
   "source": [
    "### time_ocurrance"
   ]
  },
  {
   "cell_type": "code",
   "execution_count": 22,
   "metadata": {
    "id": "-9a8_I9jCycS"
   },
   "outputs": [],
   "source": [
    "df['time_ocurrance'] = df['time_ocurrance'].astype(str).str.zfill(4) #Asi pongo 4 cifras en la columna"
   ]
  },
  {
   "cell_type": "code",
   "execution_count": 23,
   "metadata": {},
   "outputs": [],
   "source": [
    "df['time_ocurrance'] = df['time_ocurrance'].str[:-2] + \":\" + df['time_ocurrance'].str[-2:] # Aqui converti a string y luego lo separe lo 2 primero numeros, luego : y luego los 2 ultimos"
   ]
  },
  {
   "cell_type": "code",
   "execution_count": 25,
   "metadata": {},
   "outputs": [],
   "source": [
    "df['time_ocurrance'] = pd.to_datetime(df['time_ocurrance'], format ='%H:%M').dt.time"
   ]
  },
  {
   "cell_type": "code",
   "execution_count": 26,
   "metadata": {
    "id": "nGVN0dldCyoH"
   },
   "outputs": [
    {
     "data": {
      "text/html": [
       "<div>\n",
       "<style scoped>\n",
       "    .dataframe tbody tr th:only-of-type {\n",
       "        vertical-align: middle;\n",
       "    }\n",
       "\n",
       "    .dataframe tbody tr th {\n",
       "        vertical-align: top;\n",
       "    }\n",
       "\n",
       "    .dataframe thead th {\n",
       "        text-align: right;\n",
       "    }\n",
       "</style>\n",
       "<table border=\"1\" class=\"dataframe\">\n",
       "  <thead>\n",
       "    <tr style=\"text-align: right;\">\n",
       "      <th></th>\n",
       "      <th>id_report</th>\n",
       "      <th>date_report</th>\n",
       "      <th>date_ocurrance</th>\n",
       "      <th>time_ocurrance</th>\n",
       "      <th>area_code</th>\n",
       "      <th>area_name</th>\n",
       "      <th>district</th>\n",
       "      <th>crime_severity</th>\n",
       "      <th>crime_code</th>\n",
       "      <th>crime_desc</th>\n",
       "      <th>...</th>\n",
       "      <th>case_status_code</th>\n",
       "      <th>case_status_desc</th>\n",
       "      <th>crime_code_1</th>\n",
       "      <th>crime_code_2</th>\n",
       "      <th>crime_code_3</th>\n",
       "      <th>crime_code_4</th>\n",
       "      <th>location</th>\n",
       "      <th>cross_street</th>\n",
       "      <th>latitude</th>\n",
       "      <th>longitude</th>\n",
       "    </tr>\n",
       "  </thead>\n",
       "  <tbody>\n",
       "    <tr>\n",
       "      <th>0</th>\n",
       "      <td>190326475</td>\n",
       "      <td>2020-03-01</td>\n",
       "      <td>2020-03-01</td>\n",
       "      <td>21:30:00</td>\n",
       "      <td>7</td>\n",
       "      <td>Wilshire</td>\n",
       "      <td>784</td>\n",
       "      <td>1</td>\n",
       "      <td>510</td>\n",
       "      <td>VEHICLE - STOLEN</td>\n",
       "      <td>...</td>\n",
       "      <td>AA</td>\n",
       "      <td>Adult Arrest</td>\n",
       "      <td>510.0</td>\n",
       "      <td>998.0</td>\n",
       "      <td>NaN</td>\n",
       "      <td>NaN</td>\n",
       "      <td>1900 S  LONGWOOD                     AV</td>\n",
       "      <td>NaN</td>\n",
       "      <td>34.0375</td>\n",
       "      <td>-118.3506</td>\n",
       "    </tr>\n",
       "    <tr>\n",
       "      <th>1</th>\n",
       "      <td>200106753</td>\n",
       "      <td>2020-02-09</td>\n",
       "      <td>2020-02-08</td>\n",
       "      <td>18:00:00</td>\n",
       "      <td>1</td>\n",
       "      <td>Central</td>\n",
       "      <td>182</td>\n",
       "      <td>1</td>\n",
       "      <td>330</td>\n",
       "      <td>BURGLARY FROM VEHICLE</td>\n",
       "      <td>...</td>\n",
       "      <td>IC</td>\n",
       "      <td>Invest Cont</td>\n",
       "      <td>330.0</td>\n",
       "      <td>998.0</td>\n",
       "      <td>NaN</td>\n",
       "      <td>NaN</td>\n",
       "      <td>1000 S  FLOWER                       ST</td>\n",
       "      <td>NaN</td>\n",
       "      <td>34.0444</td>\n",
       "      <td>-118.2628</td>\n",
       "    </tr>\n",
       "    <tr>\n",
       "      <th>2</th>\n",
       "      <td>200320258</td>\n",
       "      <td>2020-11-11</td>\n",
       "      <td>2020-11-04</td>\n",
       "      <td>17:00:00</td>\n",
       "      <td>3</td>\n",
       "      <td>Southwest</td>\n",
       "      <td>356</td>\n",
       "      <td>1</td>\n",
       "      <td>480</td>\n",
       "      <td>BIKE - STOLEN</td>\n",
       "      <td>...</td>\n",
       "      <td>IC</td>\n",
       "      <td>Invest Cont</td>\n",
       "      <td>480.0</td>\n",
       "      <td>NaN</td>\n",
       "      <td>NaN</td>\n",
       "      <td>NaN</td>\n",
       "      <td>1400 W  37TH                         ST</td>\n",
       "      <td>NaN</td>\n",
       "      <td>34.0210</td>\n",
       "      <td>-118.3002</td>\n",
       "    </tr>\n",
       "    <tr>\n",
       "      <th>3</th>\n",
       "      <td>200907217</td>\n",
       "      <td>2023-05-10</td>\n",
       "      <td>2020-03-10</td>\n",
       "      <td>20:37:00</td>\n",
       "      <td>9</td>\n",
       "      <td>Van Nuys</td>\n",
       "      <td>964</td>\n",
       "      <td>1</td>\n",
       "      <td>343</td>\n",
       "      <td>SHOPLIFTING-GRAND THEFT ($950.01 &amp; OVER)</td>\n",
       "      <td>...</td>\n",
       "      <td>IC</td>\n",
       "      <td>Invest Cont</td>\n",
       "      <td>343.0</td>\n",
       "      <td>NaN</td>\n",
       "      <td>NaN</td>\n",
       "      <td>NaN</td>\n",
       "      <td>14000    RIVERSIDE                    DR</td>\n",
       "      <td>NaN</td>\n",
       "      <td>34.1576</td>\n",
       "      <td>-118.4387</td>\n",
       "    </tr>\n",
       "    <tr>\n",
       "      <th>4</th>\n",
       "      <td>220614831</td>\n",
       "      <td>2022-08-18</td>\n",
       "      <td>2020-08-17</td>\n",
       "      <td>12:00:00</td>\n",
       "      <td>6</td>\n",
       "      <td>Hollywood</td>\n",
       "      <td>666</td>\n",
       "      <td>2</td>\n",
       "      <td>354</td>\n",
       "      <td>THEFT OF IDENTITY</td>\n",
       "      <td>...</td>\n",
       "      <td>IC</td>\n",
       "      <td>Invest Cont</td>\n",
       "      <td>354.0</td>\n",
       "      <td>NaN</td>\n",
       "      <td>NaN</td>\n",
       "      <td>NaN</td>\n",
       "      <td>1900    TRANSIENT</td>\n",
       "      <td>NaN</td>\n",
       "      <td>34.0944</td>\n",
       "      <td>-118.3277</td>\n",
       "    </tr>\n",
       "    <tr>\n",
       "      <th>5</th>\n",
       "      <td>231808869</td>\n",
       "      <td>2023-04-04</td>\n",
       "      <td>2020-12-01</td>\n",
       "      <td>23:00:00</td>\n",
       "      <td>18</td>\n",
       "      <td>Southeast</td>\n",
       "      <td>1826</td>\n",
       "      <td>2</td>\n",
       "      <td>354</td>\n",
       "      <td>THEFT OF IDENTITY</td>\n",
       "      <td>...</td>\n",
       "      <td>IC</td>\n",
       "      <td>Invest Cont</td>\n",
       "      <td>354.0</td>\n",
       "      <td>NaN</td>\n",
       "      <td>NaN</td>\n",
       "      <td>NaN</td>\n",
       "      <td>9900    COMPTON                      AV</td>\n",
       "      <td>NaN</td>\n",
       "      <td>33.9467</td>\n",
       "      <td>-118.2463</td>\n",
       "    </tr>\n",
       "    <tr>\n",
       "      <th>6</th>\n",
       "      <td>230110144</td>\n",
       "      <td>2023-04-04</td>\n",
       "      <td>2020-07-03</td>\n",
       "      <td>09:00:00</td>\n",
       "      <td>1</td>\n",
       "      <td>Central</td>\n",
       "      <td>182</td>\n",
       "      <td>2</td>\n",
       "      <td>354</td>\n",
       "      <td>THEFT OF IDENTITY</td>\n",
       "      <td>...</td>\n",
       "      <td>IC</td>\n",
       "      <td>Invest Cont</td>\n",
       "      <td>354.0</td>\n",
       "      <td>NaN</td>\n",
       "      <td>NaN</td>\n",
       "      <td>NaN</td>\n",
       "      <td>1100 S  GRAND                        AV</td>\n",
       "      <td>NaN</td>\n",
       "      <td>34.0415</td>\n",
       "      <td>-118.2620</td>\n",
       "    </tr>\n",
       "    <tr>\n",
       "      <th>7</th>\n",
       "      <td>220314085</td>\n",
       "      <td>2022-07-22</td>\n",
       "      <td>2020-05-12</td>\n",
       "      <td>11:10:00</td>\n",
       "      <td>3</td>\n",
       "      <td>Southwest</td>\n",
       "      <td>303</td>\n",
       "      <td>2</td>\n",
       "      <td>354</td>\n",
       "      <td>THEFT OF IDENTITY</td>\n",
       "      <td>...</td>\n",
       "      <td>IC</td>\n",
       "      <td>Invest Cont</td>\n",
       "      <td>354.0</td>\n",
       "      <td>NaN</td>\n",
       "      <td>NaN</td>\n",
       "      <td>NaN</td>\n",
       "      <td>2500 S  SYCAMORE                     AV</td>\n",
       "      <td>NaN</td>\n",
       "      <td>34.0335</td>\n",
       "      <td>-118.3537</td>\n",
       "    </tr>\n",
       "    <tr>\n",
       "      <th>8</th>\n",
       "      <td>231309864</td>\n",
       "      <td>2023-04-28</td>\n",
       "      <td>2020-12-09</td>\n",
       "      <td>14:00:00</td>\n",
       "      <td>13</td>\n",
       "      <td>Newton</td>\n",
       "      <td>1375</td>\n",
       "      <td>2</td>\n",
       "      <td>354</td>\n",
       "      <td>THEFT OF IDENTITY</td>\n",
       "      <td>...</td>\n",
       "      <td>IC</td>\n",
       "      <td>Invest Cont</td>\n",
       "      <td>354.0</td>\n",
       "      <td>NaN</td>\n",
       "      <td>NaN</td>\n",
       "      <td>NaN</td>\n",
       "      <td>1300 E  57TH                         ST</td>\n",
       "      <td>NaN</td>\n",
       "      <td>33.9911</td>\n",
       "      <td>-118.2521</td>\n",
       "    </tr>\n",
       "    <tr>\n",
       "      <th>9</th>\n",
       "      <td>211904005</td>\n",
       "      <td>2020-12-31</td>\n",
       "      <td>2020-12-31</td>\n",
       "      <td>12:20:00</td>\n",
       "      <td>19</td>\n",
       "      <td>Mission</td>\n",
       "      <td>1974</td>\n",
       "      <td>2</td>\n",
       "      <td>624</td>\n",
       "      <td>BATTERY - SIMPLE ASSAULT</td>\n",
       "      <td>...</td>\n",
       "      <td>IC</td>\n",
       "      <td>Invest Cont</td>\n",
       "      <td>624.0</td>\n",
       "      <td>NaN</td>\n",
       "      <td>NaN</td>\n",
       "      <td>NaN</td>\n",
       "      <td>9000    CEDROS                       AV</td>\n",
       "      <td>NaN</td>\n",
       "      <td>34.2336</td>\n",
       "      <td>-118.4535</td>\n",
       "    </tr>\n",
       "  </tbody>\n",
       "</table>\n",
       "<p>10 rows × 28 columns</p>\n",
       "</div>"
      ],
      "text/plain": [
       "   id_report date_report date_ocurrance time_ocurrance  area_code  area_name  \\\n",
       "0  190326475  2020-03-01     2020-03-01       21:30:00          7   Wilshire   \n",
       "1  200106753  2020-02-09     2020-02-08       18:00:00          1    Central   \n",
       "2  200320258  2020-11-11     2020-11-04       17:00:00          3  Southwest   \n",
       "3  200907217  2023-05-10     2020-03-10       20:37:00          9   Van Nuys   \n",
       "4  220614831  2022-08-18     2020-08-17       12:00:00          6  Hollywood   \n",
       "5  231808869  2023-04-04     2020-12-01       23:00:00         18  Southeast   \n",
       "6  230110144  2023-04-04     2020-07-03       09:00:00          1    Central   \n",
       "7  220314085  2022-07-22     2020-05-12       11:10:00          3  Southwest   \n",
       "8  231309864  2023-04-28     2020-12-09       14:00:00         13     Newton   \n",
       "9  211904005  2020-12-31     2020-12-31       12:20:00         19    Mission   \n",
       "\n",
       "   district  crime_severity  crime_code  \\\n",
       "0       784               1         510   \n",
       "1       182               1         330   \n",
       "2       356               1         480   \n",
       "3       964               1         343   \n",
       "4       666               2         354   \n",
       "5      1826               2         354   \n",
       "6       182               2         354   \n",
       "7       303               2         354   \n",
       "8      1375               2         354   \n",
       "9      1974               2         624   \n",
       "\n",
       "                                 crime_desc  ... case_status_code  \\\n",
       "0                          VEHICLE - STOLEN  ...               AA   \n",
       "1                     BURGLARY FROM VEHICLE  ...               IC   \n",
       "2                             BIKE - STOLEN  ...               IC   \n",
       "3  SHOPLIFTING-GRAND THEFT ($950.01 & OVER)  ...               IC   \n",
       "4                         THEFT OF IDENTITY  ...               IC   \n",
       "5                         THEFT OF IDENTITY  ...               IC   \n",
       "6                         THEFT OF IDENTITY  ...               IC   \n",
       "7                         THEFT OF IDENTITY  ...               IC   \n",
       "8                         THEFT OF IDENTITY  ...               IC   \n",
       "9                  BATTERY - SIMPLE ASSAULT  ...               IC   \n",
       "\n",
       "   case_status_desc crime_code_1 crime_code_2  crime_code_3 crime_code_4  \\\n",
       "0      Adult Arrest        510.0        998.0           NaN          NaN   \n",
       "1       Invest Cont        330.0        998.0           NaN          NaN   \n",
       "2       Invest Cont        480.0          NaN           NaN          NaN   \n",
       "3       Invest Cont        343.0          NaN           NaN          NaN   \n",
       "4       Invest Cont        354.0          NaN           NaN          NaN   \n",
       "5       Invest Cont        354.0          NaN           NaN          NaN   \n",
       "6       Invest Cont        354.0          NaN           NaN          NaN   \n",
       "7       Invest Cont        354.0          NaN           NaN          NaN   \n",
       "8       Invest Cont        354.0          NaN           NaN          NaN   \n",
       "9       Invest Cont        624.0          NaN           NaN          NaN   \n",
       "\n",
       "                                   location cross_street latitude longitude  \n",
       "0   1900 S  LONGWOOD                     AV          NaN  34.0375 -118.3506  \n",
       "1   1000 S  FLOWER                       ST          NaN  34.0444 -118.2628  \n",
       "2   1400 W  37TH                         ST          NaN  34.0210 -118.3002  \n",
       "3  14000    RIVERSIDE                    DR          NaN  34.1576 -118.4387  \n",
       "4                         1900    TRANSIENT          NaN  34.0944 -118.3277  \n",
       "5   9900    COMPTON                      AV          NaN  33.9467 -118.2463  \n",
       "6   1100 S  GRAND                        AV          NaN  34.0415 -118.2620  \n",
       "7   2500 S  SYCAMORE                     AV          NaN  34.0335 -118.3537  \n",
       "8   1300 E  57TH                         ST          NaN  33.9911 -118.2521  \n",
       "9   9000    CEDROS                       AV          NaN  34.2336 -118.4535  \n",
       "\n",
       "[10 rows x 28 columns]"
      ]
     },
     "execution_count": 26,
     "metadata": {},
     "output_type": "execute_result"
    }
   ],
   "source": [
    "df.head(10)"
   ]
  },
  {
   "cell_type": "code",
   "execution_count": 27,
   "metadata": {
    "id": "t2IJTxudCyr3"
   },
   "outputs": [
    {
     "name": "stdout",
     "output_type": "stream",
     "text": [
      "<class 'pandas.core.frame.DataFrame'>\n",
      "RangeIndex: 986500 entries, 0 to 986499\n",
      "Data columns (total 28 columns):\n",
      " #   Column            Non-Null Count   Dtype         \n",
      "---  ------            --------------   -----         \n",
      " 0   id_report         986500 non-null  int64         \n",
      " 1   date_report       986500 non-null  datetime64[ns]\n",
      " 2   date_ocurrance    986500 non-null  datetime64[ns]\n",
      " 3   time_ocurrance    986500 non-null  object        \n",
      " 4   area_code         986500 non-null  int64         \n",
      " 5   area_name         986500 non-null  object        \n",
      " 6   district          986500 non-null  int64         \n",
      " 7   crime_severity    986500 non-null  int64         \n",
      " 8   crime_code        986500 non-null  int64         \n",
      " 9   crime_desc        986500 non-null  object        \n",
      " 10  crime_mo          840065 non-null  object        \n",
      " 11  age_victim        986500 non-null  int64         \n",
      " 12  sex_victim        846925 non-null  object        \n",
      " 13  descent_victim    846914 non-null  object        \n",
      " 14  loc_code          986486 non-null  float64       \n",
      " 15  loc_desc          985915 non-null  object        \n",
      " 16  weapon_code       326368 non-null  float64       \n",
      " 17  weapon_desc       326368 non-null  object        \n",
      " 18  case_status_code  986499 non-null  object        \n",
      " 19  case_status_desc  986500 non-null  object        \n",
      " 20  crime_code_1      986489 non-null  float64       \n",
      " 21  crime_code_2      68912 non-null   float64       \n",
      " 22  crime_code_3      2310 non-null    float64       \n",
      " 23  crime_code_4      64 non-null      float64       \n",
      " 24  location          986500 non-null  object        \n",
      " 25  cross_street      152270 non-null  object        \n",
      " 26  latitude          986500 non-null  float64       \n",
      " 27  longitude         986500 non-null  float64       \n",
      "dtypes: datetime64[ns](2), float64(8), int64(6), object(12)\n",
      "memory usage: 210.7+ MB\n"
     ]
    }
   ],
   "source": [
    "df.info()"
   ]
  },
  {
   "cell_type": "code",
   "execution_count": null,
   "metadata": {},
   "outputs": [],
   "source": []
  },
  {
   "cell_type": "code",
   "execution_count": null,
   "metadata": {},
   "outputs": [],
   "source": []
  },
  {
   "cell_type": "code",
   "execution_count": null,
   "metadata": {},
   "outputs": [],
   "source": []
  },
  {
   "cell_type": "code",
   "execution_count": null,
   "metadata": {},
   "outputs": [],
   "source": []
  },
  {
   "cell_type": "code",
   "execution_count": null,
   "metadata": {},
   "outputs": [],
   "source": []
  },
  {
   "cell_type": "markdown",
   "metadata": {
    "id": "3UKiJa2OCzA5"
   },
   "source": [
    "### area_code"
   ]
  },
  {
   "cell_type": "code",
   "execution_count": null,
   "metadata": {
    "id": "yupabiRgC2Rw"
   },
   "outputs": [],
   "source": []
  },
  {
   "cell_type": "code",
   "execution_count": null,
   "metadata": {
    "id": "Qzb5F64oC2ZQ"
   },
   "outputs": [],
   "source": []
  },
  {
   "cell_type": "code",
   "execution_count": null,
   "metadata": {
    "id": "cbiGVv9CC2cR"
   },
   "outputs": [],
   "source": []
  },
  {
   "cell_type": "code",
   "execution_count": null,
   "metadata": {},
   "outputs": [],
   "source": []
  },
  {
   "cell_type": "code",
   "execution_count": null,
   "metadata": {},
   "outputs": [],
   "source": []
  },
  {
   "cell_type": "code",
   "execution_count": null,
   "metadata": {},
   "outputs": [],
   "source": []
  },
  {
   "cell_type": "code",
   "execution_count": null,
   "metadata": {},
   "outputs": [],
   "source": []
  },
  {
   "cell_type": "code",
   "execution_count": null,
   "metadata": {},
   "outputs": [],
   "source": []
  },
  {
   "cell_type": "code",
   "execution_count": null,
   "metadata": {},
   "outputs": [],
   "source": []
  },
  {
   "cell_type": "code",
   "execution_count": null,
   "metadata": {},
   "outputs": [],
   "source": []
  },
  {
   "cell_type": "markdown",
   "metadata": {
    "id": "7lpc2jOCC2uR"
   },
   "source": [
    "### area_name"
   ]
  },
  {
   "cell_type": "code",
   "execution_count": null,
   "metadata": {
    "id": "lZ2muKaoC5fI"
   },
   "outputs": [],
   "source": []
  },
  {
   "cell_type": "code",
   "execution_count": null,
   "metadata": {
    "id": "6GM_634_C5iK"
   },
   "outputs": [],
   "source": []
  },
  {
   "cell_type": "code",
   "execution_count": null,
   "metadata": {
    "id": "lgU5vb-4C5lJ"
   },
   "outputs": [],
   "source": []
  },
  {
   "cell_type": "code",
   "execution_count": null,
   "metadata": {},
   "outputs": [],
   "source": []
  },
  {
   "cell_type": "code",
   "execution_count": null,
   "metadata": {},
   "outputs": [],
   "source": []
  },
  {
   "cell_type": "code",
   "execution_count": null,
   "metadata": {},
   "outputs": [],
   "source": []
  },
  {
   "cell_type": "code",
   "execution_count": null,
   "metadata": {},
   "outputs": [],
   "source": []
  },
  {
   "cell_type": "code",
   "execution_count": null,
   "metadata": {},
   "outputs": [],
   "source": []
  },
  {
   "cell_type": "code",
   "execution_count": null,
   "metadata": {},
   "outputs": [],
   "source": []
  },
  {
   "cell_type": "code",
   "execution_count": null,
   "metadata": {},
   "outputs": [],
   "source": []
  },
  {
   "cell_type": "markdown",
   "metadata": {
    "id": "lUWI7mwDC6bS"
   },
   "source": [
    "### age_victim"
   ]
  },
  {
   "cell_type": "markdown",
   "metadata": {},
   "source": [
    "Mostrar la información de los no nulos de la columna age_victim"
   ]
  },
  {
   "cell_type": "code",
   "execution_count": 28,
   "metadata": {
    "id": "Ux_O39YpC9Wi"
   },
   "outputs": [
    {
     "name": "stdout",
     "output_type": "stream",
     "text": [
      "<class 'pandas.core.series.Series'>\n",
      "RangeIndex: 986500 entries, 0 to 986499\n",
      "Series name: age_victim\n",
      "Non-Null Count   Dtype\n",
      "--------------   -----\n",
      "986500 non-null  int64\n",
      "dtypes: int64(1)\n",
      "memory usage: 7.5 MB\n"
     ]
    }
   ],
   "source": [
    "df['age_victim'].info()"
   ]
  },
  {
   "cell_type": "markdown",
   "metadata": {},
   "source": [
    "Mostrar la información de los valores únicos de la columna"
   ]
  },
  {
   "cell_type": "code",
   "execution_count": 29,
   "metadata": {
    "id": "tDKCXLalC9Zq"
   },
   "outputs": [
    {
     "name": "stdout",
     "output_type": "stream",
     "text": [
      "[np.int64(-4), np.int64(-3), np.int64(-2), np.int64(-1), np.int64(0), np.int64(2), np.int64(3), np.int64(4), np.int64(5), np.int64(6), np.int64(7), np.int64(8), np.int64(9), np.int64(10), np.int64(11), np.int64(12), np.int64(13), np.int64(14), np.int64(15), np.int64(16), np.int64(17), np.int64(18), np.int64(19), np.int64(20), np.int64(21), np.int64(22), np.int64(23), np.int64(24), np.int64(25), np.int64(26), np.int64(27), np.int64(28), np.int64(29), np.int64(30), np.int64(31), np.int64(32), np.int64(33), np.int64(34), np.int64(35), np.int64(36), np.int64(37), np.int64(38), np.int64(39), np.int64(40), np.int64(41), np.int64(42), np.int64(43), np.int64(44), np.int64(45), np.int64(46), np.int64(47), np.int64(48), np.int64(49), np.int64(50), np.int64(51), np.int64(52), np.int64(53), np.int64(54), np.int64(55), np.int64(56), np.int64(57), np.int64(58), np.int64(59), np.int64(60), np.int64(61), np.int64(62), np.int64(63), np.int64(64), np.int64(65), np.int64(66), np.int64(67), np.int64(68), np.int64(69), np.int64(70), np.int64(71), np.int64(72), np.int64(73), np.int64(74), np.int64(75), np.int64(76), np.int64(77), np.int64(78), np.int64(79), np.int64(80), np.int64(81), np.int64(82), np.int64(83), np.int64(84), np.int64(85), np.int64(86), np.int64(87), np.int64(88), np.int64(89), np.int64(90), np.int64(91), np.int64(92), np.int64(93), np.int64(94), np.int64(95), np.int64(96), np.int64(97), np.int64(98), np.int64(99), np.int64(120)]\n",
      "\n",
      "\n"
     ]
    }
   ],
   "source": [
    "if 'age_victim' in df.columns:\n",
    "    print(sorted(df['age_victim'].dropna().unique()))\n",
    "    print(\"\\n\")\n",
    "else:\n",
    "    print(\"Column 'age_victim' not found in the dataframe.\\n\")"
   ]
  },
  {
   "cell_type": "markdown",
   "metadata": {},
   "source": [
    "Mostrar la información de los valores negativos"
   ]
  },
  {
   "cell_type": "code",
   "execution_count": 30,
   "metadata": {
    "id": "CdiMs6f5C9dS"
   },
   "outputs": [
    {
     "data": {
      "text/plain": [
       "143      -2\n",
       "375      -2\n",
       "581      -1\n",
       "595      -1\n",
       "618      -1\n",
       "         ..\n",
       "636182   -1\n",
       "654233   -1\n",
       "681376   -1\n",
       "728608   -1\n",
       "828481   -1\n",
       "Name: age_victim, Length: 132, dtype: int64"
      ]
     },
     "execution_count": 30,
     "metadata": {},
     "output_type": "execute_result"
    }
   ],
   "source": [
    "df['age_victim'].loc[df['age_victim']<0]"
   ]
  },
  {
   "cell_type": "markdown",
   "metadata": {},
   "source": [
    "Mostrar el porcentaje de valores negativos en la"
   ]
  },
  {
   "cell_type": "code",
   "execution_count": 31,
   "metadata": {},
   "outputs": [
    {
     "data": {
      "text/plain": [
       "np.float64(0.01338063862138875)"
      ]
     },
     "execution_count": 31,
     "metadata": {},
     "output_type": "execute_result"
    }
   ],
   "source": [
    "(df['age_victim'] < 0).sum() / df['age_victim'].notna().sum() * 100"
   ]
  },
  {
   "cell_type": "code",
   "execution_count": null,
   "metadata": {},
   "outputs": [],
   "source": []
  },
  {
   "cell_type": "code",
   "execution_count": null,
   "metadata": {},
   "outputs": [],
   "source": []
  },
  {
   "cell_type": "code",
   "execution_count": null,
   "metadata": {},
   "outputs": [],
   "source": []
  },
  {
   "cell_type": "code",
   "execution_count": null,
   "metadata": {},
   "outputs": [],
   "source": []
  },
  {
   "cell_type": "code",
   "execution_count": null,
   "metadata": {},
   "outputs": [],
   "source": []
  },
  {
   "cell_type": "code",
   "execution_count": null,
   "metadata": {},
   "outputs": [],
   "source": []
  },
  {
   "cell_type": "code",
   "execution_count": null,
   "metadata": {},
   "outputs": [],
   "source": []
  },
  {
   "cell_type": "markdown",
   "metadata": {
    "id": "Pyk0cHnKC9ut"
   },
   "source": [
    "### location"
   ]
  },
  {
   "cell_type": "code",
   "execution_count": 32,
   "metadata": {
    "id": "_49aWz0LDHna"
   },
   "outputs": [
    {
     "data": {
      "text/plain": [
       "array(['1900 S  LONGWOOD                     AV',\n",
       "       '1000 S  FLOWER                       ST',\n",
       "       '1400 W  37TH                         ST', ...,\n",
       "       '9500    LA CIENEGA                   BL',\n",
       "       '1800 E  MARTIN LUTHER KING JR        BL',\n",
       "       '12200    ART                          ST'],\n",
       "      shape=(66322,), dtype=object)"
      ]
     },
     "execution_count": 32,
     "metadata": {},
     "output_type": "execute_result"
    }
   ],
   "source": [
    "df['location'].unique()"
   ]
  },
  {
   "cell_type": "code",
   "execution_count": 33,
   "metadata": {
    "id": "Ocpaa4tCDHuF"
   },
   "outputs": [],
   "source": [
    "df['location'] = df['location'].apply(lambda x: re.sub(r'\\s+', ' ', str(x)))    #la funcion re.sub es para reemplazar (lo que quieres reemplazar, por lo que lo vas a reemplazar)"
   ]
  },
  {
   "cell_type": "code",
   "execution_count": 34,
   "metadata": {},
   "outputs": [],
   "source": [
    "df['location'] = df['location'].apply(str.strip).apply(str.lower)    # Para quitar espacios y ponerlo en minuscula"
   ]
  },
  {
   "cell_type": "code",
   "execution_count": 35,
   "metadata": {},
   "outputs": [
    {
     "data": {
      "text/html": [
       "<div>\n",
       "<style scoped>\n",
       "    .dataframe tbody tr th:only-of-type {\n",
       "        vertical-align: middle;\n",
       "    }\n",
       "\n",
       "    .dataframe tbody tr th {\n",
       "        vertical-align: top;\n",
       "    }\n",
       "\n",
       "    .dataframe thead th {\n",
       "        text-align: right;\n",
       "    }\n",
       "</style>\n",
       "<table border=\"1\" class=\"dataframe\">\n",
       "  <thead>\n",
       "    <tr style=\"text-align: right;\">\n",
       "      <th></th>\n",
       "      <th>id_report</th>\n",
       "      <th>date_report</th>\n",
       "      <th>date_ocurrance</th>\n",
       "      <th>time_ocurrance</th>\n",
       "      <th>area_code</th>\n",
       "      <th>area_name</th>\n",
       "      <th>district</th>\n",
       "      <th>crime_severity</th>\n",
       "      <th>crime_code</th>\n",
       "      <th>crime_desc</th>\n",
       "      <th>...</th>\n",
       "      <th>case_status_code</th>\n",
       "      <th>case_status_desc</th>\n",
       "      <th>crime_code_1</th>\n",
       "      <th>crime_code_2</th>\n",
       "      <th>crime_code_3</th>\n",
       "      <th>crime_code_4</th>\n",
       "      <th>location</th>\n",
       "      <th>cross_street</th>\n",
       "      <th>latitude</th>\n",
       "      <th>longitude</th>\n",
       "    </tr>\n",
       "  </thead>\n",
       "  <tbody>\n",
       "    <tr>\n",
       "      <th>0</th>\n",
       "      <td>190326475</td>\n",
       "      <td>2020-03-01</td>\n",
       "      <td>2020-03-01</td>\n",
       "      <td>21:30:00</td>\n",
       "      <td>7</td>\n",
       "      <td>Wilshire</td>\n",
       "      <td>784</td>\n",
       "      <td>1</td>\n",
       "      <td>510</td>\n",
       "      <td>VEHICLE - STOLEN</td>\n",
       "      <td>...</td>\n",
       "      <td>AA</td>\n",
       "      <td>Adult Arrest</td>\n",
       "      <td>510.0</td>\n",
       "      <td>998.0</td>\n",
       "      <td>NaN</td>\n",
       "      <td>NaN</td>\n",
       "      <td>1900 s longwood av</td>\n",
       "      <td>NaN</td>\n",
       "      <td>34.0375</td>\n",
       "      <td>-118.3506</td>\n",
       "    </tr>\n",
       "    <tr>\n",
       "      <th>1</th>\n",
       "      <td>200106753</td>\n",
       "      <td>2020-02-09</td>\n",
       "      <td>2020-02-08</td>\n",
       "      <td>18:00:00</td>\n",
       "      <td>1</td>\n",
       "      <td>Central</td>\n",
       "      <td>182</td>\n",
       "      <td>1</td>\n",
       "      <td>330</td>\n",
       "      <td>BURGLARY FROM VEHICLE</td>\n",
       "      <td>...</td>\n",
       "      <td>IC</td>\n",
       "      <td>Invest Cont</td>\n",
       "      <td>330.0</td>\n",
       "      <td>998.0</td>\n",
       "      <td>NaN</td>\n",
       "      <td>NaN</td>\n",
       "      <td>1000 s flower st</td>\n",
       "      <td>NaN</td>\n",
       "      <td>34.0444</td>\n",
       "      <td>-118.2628</td>\n",
       "    </tr>\n",
       "    <tr>\n",
       "      <th>2</th>\n",
       "      <td>200320258</td>\n",
       "      <td>2020-11-11</td>\n",
       "      <td>2020-11-04</td>\n",
       "      <td>17:00:00</td>\n",
       "      <td>3</td>\n",
       "      <td>Southwest</td>\n",
       "      <td>356</td>\n",
       "      <td>1</td>\n",
       "      <td>480</td>\n",
       "      <td>BIKE - STOLEN</td>\n",
       "      <td>...</td>\n",
       "      <td>IC</td>\n",
       "      <td>Invest Cont</td>\n",
       "      <td>480.0</td>\n",
       "      <td>NaN</td>\n",
       "      <td>NaN</td>\n",
       "      <td>NaN</td>\n",
       "      <td>1400 w 37th st</td>\n",
       "      <td>NaN</td>\n",
       "      <td>34.0210</td>\n",
       "      <td>-118.3002</td>\n",
       "    </tr>\n",
       "    <tr>\n",
       "      <th>3</th>\n",
       "      <td>200907217</td>\n",
       "      <td>2023-05-10</td>\n",
       "      <td>2020-03-10</td>\n",
       "      <td>20:37:00</td>\n",
       "      <td>9</td>\n",
       "      <td>Van Nuys</td>\n",
       "      <td>964</td>\n",
       "      <td>1</td>\n",
       "      <td>343</td>\n",
       "      <td>SHOPLIFTING-GRAND THEFT ($950.01 &amp; OVER)</td>\n",
       "      <td>...</td>\n",
       "      <td>IC</td>\n",
       "      <td>Invest Cont</td>\n",
       "      <td>343.0</td>\n",
       "      <td>NaN</td>\n",
       "      <td>NaN</td>\n",
       "      <td>NaN</td>\n",
       "      <td>14000 riverside dr</td>\n",
       "      <td>NaN</td>\n",
       "      <td>34.1576</td>\n",
       "      <td>-118.4387</td>\n",
       "    </tr>\n",
       "    <tr>\n",
       "      <th>4</th>\n",
       "      <td>220614831</td>\n",
       "      <td>2022-08-18</td>\n",
       "      <td>2020-08-17</td>\n",
       "      <td>12:00:00</td>\n",
       "      <td>6</td>\n",
       "      <td>Hollywood</td>\n",
       "      <td>666</td>\n",
       "      <td>2</td>\n",
       "      <td>354</td>\n",
       "      <td>THEFT OF IDENTITY</td>\n",
       "      <td>...</td>\n",
       "      <td>IC</td>\n",
       "      <td>Invest Cont</td>\n",
       "      <td>354.0</td>\n",
       "      <td>NaN</td>\n",
       "      <td>NaN</td>\n",
       "      <td>NaN</td>\n",
       "      <td>1900 transient</td>\n",
       "      <td>NaN</td>\n",
       "      <td>34.0944</td>\n",
       "      <td>-118.3277</td>\n",
       "    </tr>\n",
       "  </tbody>\n",
       "</table>\n",
       "<p>5 rows × 28 columns</p>\n",
       "</div>"
      ],
      "text/plain": [
       "   id_report date_report date_ocurrance time_ocurrance  area_code  area_name  \\\n",
       "0  190326475  2020-03-01     2020-03-01       21:30:00          7   Wilshire   \n",
       "1  200106753  2020-02-09     2020-02-08       18:00:00          1    Central   \n",
       "2  200320258  2020-11-11     2020-11-04       17:00:00          3  Southwest   \n",
       "3  200907217  2023-05-10     2020-03-10       20:37:00          9   Van Nuys   \n",
       "4  220614831  2022-08-18     2020-08-17       12:00:00          6  Hollywood   \n",
       "\n",
       "   district  crime_severity  crime_code  \\\n",
       "0       784               1         510   \n",
       "1       182               1         330   \n",
       "2       356               1         480   \n",
       "3       964               1         343   \n",
       "4       666               2         354   \n",
       "\n",
       "                                 crime_desc  ... case_status_code  \\\n",
       "0                          VEHICLE - STOLEN  ...               AA   \n",
       "1                     BURGLARY FROM VEHICLE  ...               IC   \n",
       "2                             BIKE - STOLEN  ...               IC   \n",
       "3  SHOPLIFTING-GRAND THEFT ($950.01 & OVER)  ...               IC   \n",
       "4                         THEFT OF IDENTITY  ...               IC   \n",
       "\n",
       "   case_status_desc crime_code_1 crime_code_2  crime_code_3 crime_code_4  \\\n",
       "0      Adult Arrest        510.0        998.0           NaN          NaN   \n",
       "1       Invest Cont        330.0        998.0           NaN          NaN   \n",
       "2       Invest Cont        480.0          NaN           NaN          NaN   \n",
       "3       Invest Cont        343.0          NaN           NaN          NaN   \n",
       "4       Invest Cont        354.0          NaN           NaN          NaN   \n",
       "\n",
       "             location cross_street latitude longitude  \n",
       "0  1900 s longwood av          NaN  34.0375 -118.3506  \n",
       "1    1000 s flower st          NaN  34.0444 -118.2628  \n",
       "2      1400 w 37th st          NaN  34.0210 -118.3002  \n",
       "3  14000 riverside dr          NaN  34.1576 -118.4387  \n",
       "4      1900 transient          NaN  34.0944 -118.3277  \n",
       "\n",
       "[5 rows x 28 columns]"
      ]
     },
     "execution_count": 35,
     "metadata": {},
     "output_type": "execute_result"
    }
   ],
   "source": [
    "df.head()"
   ]
  },
  {
   "cell_type": "code",
   "execution_count": 36,
   "metadata": {},
   "outputs": [
    {
     "name": "stdout",
     "output_type": "stream",
     "text": [
      "<class 'pandas.core.frame.DataFrame'>\n",
      "RangeIndex: 986500 entries, 0 to 986499\n",
      "Data columns (total 28 columns):\n",
      " #   Column            Non-Null Count   Dtype         \n",
      "---  ------            --------------   -----         \n",
      " 0   id_report         986500 non-null  int64         \n",
      " 1   date_report       986500 non-null  datetime64[ns]\n",
      " 2   date_ocurrance    986500 non-null  datetime64[ns]\n",
      " 3   time_ocurrance    986500 non-null  object        \n",
      " 4   area_code         986500 non-null  int64         \n",
      " 5   area_name         986500 non-null  object        \n",
      " 6   district          986500 non-null  int64         \n",
      " 7   crime_severity    986500 non-null  int64         \n",
      " 8   crime_code        986500 non-null  int64         \n",
      " 9   crime_desc        986500 non-null  object        \n",
      " 10  crime_mo          840065 non-null  object        \n",
      " 11  age_victim        986500 non-null  int64         \n",
      " 12  sex_victim        846925 non-null  object        \n",
      " 13  descent_victim    846914 non-null  object        \n",
      " 14  loc_code          986486 non-null  float64       \n",
      " 15  loc_desc          985915 non-null  object        \n",
      " 16  weapon_code       326368 non-null  float64       \n",
      " 17  weapon_desc       326368 non-null  object        \n",
      " 18  case_status_code  986499 non-null  object        \n",
      " 19  case_status_desc  986500 non-null  object        \n",
      " 20  crime_code_1      986489 non-null  float64       \n",
      " 21  crime_code_2      68912 non-null   float64       \n",
      " 22  crime_code_3      2310 non-null    float64       \n",
      " 23  crime_code_4      64 non-null      float64       \n",
      " 24  location          986500 non-null  object        \n",
      " 25  cross_street      152270 non-null  object        \n",
      " 26  latitude          986500 non-null  float64       \n",
      " 27  longitude         986500 non-null  float64       \n",
      "dtypes: datetime64[ns](2), float64(8), int64(6), object(12)\n",
      "memory usage: 210.7+ MB\n"
     ]
    }
   ],
   "source": [
    "df.info()"
   ]
  },
  {
   "cell_type": "code",
   "execution_count": null,
   "metadata": {},
   "outputs": [],
   "source": []
  },
  {
   "cell_type": "code",
   "execution_count": null,
   "metadata": {},
   "outputs": [],
   "source": []
  },
  {
   "cell_type": "code",
   "execution_count": null,
   "metadata": {},
   "outputs": [],
   "source": []
  },
  {
   "cell_type": "code",
   "execution_count": null,
   "metadata": {},
   "outputs": [],
   "source": []
  },
  {
   "cell_type": "code",
   "execution_count": null,
   "metadata": {},
   "outputs": [],
   "source": []
  },
  {
   "cell_type": "markdown",
   "metadata": {
    "id": "60Hh7hieDJQt"
   },
   "source": [
    "### cross_street"
   ]
  },
  {
   "cell_type": "code",
   "execution_count": 37,
   "metadata": {
    "id": "A6YhXOL6DKXQ"
   },
   "outputs": [
    {
     "data": {
      "text/plain": [
       "array([nan, 'VANOWEN                      AV', 'INGLEWOOD', ...,\n",
       "       'CHARLES E YOUNG              DR',\n",
       "       'LUCERNE                      ST', '222ND'],\n",
       "      shape=(10338,), dtype=object)"
      ]
     },
     "execution_count": 37,
     "metadata": {},
     "output_type": "execute_result"
    }
   ],
   "source": [
    "df['cross_street'].unique()"
   ]
  },
  {
   "cell_type": "code",
   "execution_count": 38,
   "metadata": {},
   "outputs": [],
   "source": [
    "df['cross_street'] = df['cross_street'].astype(str)"
   ]
  },
  {
   "cell_type": "code",
   "execution_count": 39,
   "metadata": {
    "id": "I49jpfdADKaK"
   },
   "outputs": [],
   "source": [
    "df['cross_street'] = df['cross_street'].apply(str.strip).apply(str.lower)    # Para quitar espacios y ponerlo en minuscula"
   ]
  },
  {
   "cell_type": "code",
   "execution_count": 40,
   "metadata": {
    "id": "nN4Jrr29DKc7"
   },
   "outputs": [
    {
     "data": {
      "text/html": [
       "<div>\n",
       "<style scoped>\n",
       "    .dataframe tbody tr th:only-of-type {\n",
       "        vertical-align: middle;\n",
       "    }\n",
       "\n",
       "    .dataframe tbody tr th {\n",
       "        vertical-align: top;\n",
       "    }\n",
       "\n",
       "    .dataframe thead th {\n",
       "        text-align: right;\n",
       "    }\n",
       "</style>\n",
       "<table border=\"1\" class=\"dataframe\">\n",
       "  <thead>\n",
       "    <tr style=\"text-align: right;\">\n",
       "      <th></th>\n",
       "      <th>id_report</th>\n",
       "      <th>date_report</th>\n",
       "      <th>date_ocurrance</th>\n",
       "      <th>time_ocurrance</th>\n",
       "      <th>area_code</th>\n",
       "      <th>area_name</th>\n",
       "      <th>district</th>\n",
       "      <th>crime_severity</th>\n",
       "      <th>crime_code</th>\n",
       "      <th>crime_desc</th>\n",
       "      <th>...</th>\n",
       "      <th>case_status_code</th>\n",
       "      <th>case_status_desc</th>\n",
       "      <th>crime_code_1</th>\n",
       "      <th>crime_code_2</th>\n",
       "      <th>crime_code_3</th>\n",
       "      <th>crime_code_4</th>\n",
       "      <th>location</th>\n",
       "      <th>cross_street</th>\n",
       "      <th>latitude</th>\n",
       "      <th>longitude</th>\n",
       "    </tr>\n",
       "  </thead>\n",
       "  <tbody>\n",
       "    <tr>\n",
       "      <th>986495</th>\n",
       "      <td>242011172</td>\n",
       "      <td>2024-08-20</td>\n",
       "      <td>2024-08-17</td>\n",
       "      <td>23:00:00</td>\n",
       "      <td>20</td>\n",
       "      <td>Olympic</td>\n",
       "      <td>2033</td>\n",
       "      <td>1</td>\n",
       "      <td>341</td>\n",
       "      <td>THEFT-GRAND ($950.01 &amp; OVER)EXCPT,GUNS,FOWL,LI...</td>\n",
       "      <td>...</td>\n",
       "      <td>IC</td>\n",
       "      <td>Invest Cont</td>\n",
       "      <td>341.0</td>\n",
       "      <td>NaN</td>\n",
       "      <td>NaN</td>\n",
       "      <td>NaN</td>\n",
       "      <td>3700 wilshire bl</td>\n",
       "      <td>nan</td>\n",
       "      <td>34.0617</td>\n",
       "      <td>-118.3066</td>\n",
       "    </tr>\n",
       "    <tr>\n",
       "      <th>986496</th>\n",
       "      <td>240710284</td>\n",
       "      <td>2024-07-24</td>\n",
       "      <td>2024-07-23</td>\n",
       "      <td>14:00:00</td>\n",
       "      <td>7</td>\n",
       "      <td>Wilshire</td>\n",
       "      <td>788</td>\n",
       "      <td>1</td>\n",
       "      <td>510</td>\n",
       "      <td>VEHICLE - STOLEN</td>\n",
       "      <td>...</td>\n",
       "      <td>IC</td>\n",
       "      <td>Invest Cont</td>\n",
       "      <td>510.0</td>\n",
       "      <td>NaN</td>\n",
       "      <td>NaN</td>\n",
       "      <td>NaN</td>\n",
       "      <td>4000 w 23rd st</td>\n",
       "      <td>nan</td>\n",
       "      <td>34.0362</td>\n",
       "      <td>-118.3284</td>\n",
       "    </tr>\n",
       "    <tr>\n",
       "      <th>986497</th>\n",
       "      <td>240104953</td>\n",
       "      <td>2024-01-15</td>\n",
       "      <td>2024-01-15</td>\n",
       "      <td>01:00:00</td>\n",
       "      <td>1</td>\n",
       "      <td>Central</td>\n",
       "      <td>101</td>\n",
       "      <td>2</td>\n",
       "      <td>745</td>\n",
       "      <td>VANDALISM - MISDEAMEANOR ($399 OR UNDER)</td>\n",
       "      <td>...</td>\n",
       "      <td>IC</td>\n",
       "      <td>Invest Cont</td>\n",
       "      <td>745.0</td>\n",
       "      <td>NaN</td>\n",
       "      <td>NaN</td>\n",
       "      <td>NaN</td>\n",
       "      <td>1300 w sunset bl</td>\n",
       "      <td>nan</td>\n",
       "      <td>34.0685</td>\n",
       "      <td>-118.2460</td>\n",
       "    </tr>\n",
       "    <tr>\n",
       "      <th>986498</th>\n",
       "      <td>240309674</td>\n",
       "      <td>2024-04-24</td>\n",
       "      <td>2024-04-24</td>\n",
       "      <td>15:00:00</td>\n",
       "      <td>3</td>\n",
       "      <td>Southwest</td>\n",
       "      <td>358</td>\n",
       "      <td>1</td>\n",
       "      <td>230</td>\n",
       "      <td>ASSAULT WITH DEADLY WEAPON, AGGRAVATED ASSAULT</td>\n",
       "      <td>...</td>\n",
       "      <td>IC</td>\n",
       "      <td>Invest Cont</td>\n",
       "      <td>230.0</td>\n",
       "      <td>NaN</td>\n",
       "      <td>NaN</td>\n",
       "      <td>NaN</td>\n",
       "      <td>flower st</td>\n",
       "      <td>jefferson                    bl</td>\n",
       "      <td>34.0215</td>\n",
       "      <td>-118.2868</td>\n",
       "    </tr>\n",
       "    <tr>\n",
       "      <th>986499</th>\n",
       "      <td>240910892</td>\n",
       "      <td>2024-08-13</td>\n",
       "      <td>2024-08-12</td>\n",
       "      <td>23:00:00</td>\n",
       "      <td>9</td>\n",
       "      <td>Van Nuys</td>\n",
       "      <td>914</td>\n",
       "      <td>1</td>\n",
       "      <td>510</td>\n",
       "      <td>VEHICLE - STOLEN</td>\n",
       "      <td>...</td>\n",
       "      <td>IC</td>\n",
       "      <td>Invest Cont</td>\n",
       "      <td>510.0</td>\n",
       "      <td>NaN</td>\n",
       "      <td>NaN</td>\n",
       "      <td>NaN</td>\n",
       "      <td>6900 vesper av</td>\n",
       "      <td>nan</td>\n",
       "      <td>34.1961</td>\n",
       "      <td>-118.4510</td>\n",
       "    </tr>\n",
       "  </tbody>\n",
       "</table>\n",
       "<p>5 rows × 28 columns</p>\n",
       "</div>"
      ],
      "text/plain": [
       "        id_report date_report date_ocurrance time_ocurrance  area_code  \\\n",
       "986495  242011172  2024-08-20     2024-08-17       23:00:00         20   \n",
       "986496  240710284  2024-07-24     2024-07-23       14:00:00          7   \n",
       "986497  240104953  2024-01-15     2024-01-15       01:00:00          1   \n",
       "986498  240309674  2024-04-24     2024-04-24       15:00:00          3   \n",
       "986499  240910892  2024-08-13     2024-08-12       23:00:00          9   \n",
       "\n",
       "        area_name  district  crime_severity  crime_code  \\\n",
       "986495    Olympic      2033               1         341   \n",
       "986496   Wilshire       788               1         510   \n",
       "986497    Central       101               2         745   \n",
       "986498  Southwest       358               1         230   \n",
       "986499   Van Nuys       914               1         510   \n",
       "\n",
       "                                               crime_desc  ...  \\\n",
       "986495  THEFT-GRAND ($950.01 & OVER)EXCPT,GUNS,FOWL,LI...  ...   \n",
       "986496                                   VEHICLE - STOLEN  ...   \n",
       "986497           VANDALISM - MISDEAMEANOR ($399 OR UNDER)  ...   \n",
       "986498     ASSAULT WITH DEADLY WEAPON, AGGRAVATED ASSAULT  ...   \n",
       "986499                                   VEHICLE - STOLEN  ...   \n",
       "\n",
       "       case_status_code  case_status_desc crime_code_1 crime_code_2  \\\n",
       "986495               IC       Invest Cont        341.0          NaN   \n",
       "986496               IC       Invest Cont        510.0          NaN   \n",
       "986497               IC       Invest Cont        745.0          NaN   \n",
       "986498               IC       Invest Cont        230.0          NaN   \n",
       "986499               IC       Invest Cont        510.0          NaN   \n",
       "\n",
       "        crime_code_3 crime_code_4          location  \\\n",
       "986495           NaN          NaN  3700 wilshire bl   \n",
       "986496           NaN          NaN    4000 w 23rd st   \n",
       "986497           NaN          NaN  1300 w sunset bl   \n",
       "986498           NaN          NaN         flower st   \n",
       "986499           NaN          NaN    6900 vesper av   \n",
       "\n",
       "                           cross_street latitude longitude  \n",
       "986495                              nan  34.0617 -118.3066  \n",
       "986496                              nan  34.0362 -118.3284  \n",
       "986497                              nan  34.0685 -118.2460  \n",
       "986498  jefferson                    bl  34.0215 -118.2868  \n",
       "986499                              nan  34.1961 -118.4510  \n",
       "\n",
       "[5 rows x 28 columns]"
      ]
     },
     "execution_count": 40,
     "metadata": {},
     "output_type": "execute_result"
    }
   ],
   "source": [
    "df.tail()"
   ]
  },
  {
   "cell_type": "code",
   "execution_count": null,
   "metadata": {},
   "outputs": [],
   "source": []
  },
  {
   "cell_type": "code",
   "execution_count": null,
   "metadata": {},
   "outputs": [],
   "source": []
  },
  {
   "cell_type": "code",
   "execution_count": null,
   "metadata": {},
   "outputs": [],
   "source": []
  },
  {
   "cell_type": "code",
   "execution_count": null,
   "metadata": {},
   "outputs": [],
   "source": []
  },
  {
   "cell_type": "code",
   "execution_count": null,
   "metadata": {},
   "outputs": [],
   "source": []
  },
  {
   "cell_type": "code",
   "execution_count": null,
   "metadata": {},
   "outputs": [],
   "source": []
  },
  {
   "cell_type": "markdown",
   "metadata": {
    "id": "m53krAU7DLx9"
   },
   "source": [
    "### latitude"
   ]
  },
  {
   "cell_type": "code",
   "execution_count": null,
   "metadata": {
    "id": "ALl0mYkMDNNq"
   },
   "outputs": [],
   "source": []
  },
  {
   "cell_type": "code",
   "execution_count": null,
   "metadata": {
    "id": "Ph5hgZ4FDNbx"
   },
   "outputs": [],
   "source": []
  },
  {
   "cell_type": "code",
   "execution_count": null,
   "metadata": {
    "id": "kvcveeTHDNfy"
   },
   "outputs": [],
   "source": []
  },
  {
   "cell_type": "code",
   "execution_count": null,
   "metadata": {},
   "outputs": [],
   "source": []
  },
  {
   "cell_type": "code",
   "execution_count": null,
   "metadata": {},
   "outputs": [],
   "source": []
  },
  {
   "cell_type": "code",
   "execution_count": null,
   "metadata": {},
   "outputs": [],
   "source": []
  },
  {
   "cell_type": "code",
   "execution_count": null,
   "metadata": {},
   "outputs": [],
   "source": []
  },
  {
   "cell_type": "code",
   "execution_count": null,
   "metadata": {},
   "outputs": [],
   "source": []
  },
  {
   "cell_type": "code",
   "execution_count": null,
   "metadata": {},
   "outputs": [],
   "source": []
  },
  {
   "cell_type": "code",
   "execution_count": null,
   "metadata": {},
   "outputs": [],
   "source": []
  },
  {
   "cell_type": "markdown",
   "metadata": {
    "id": "HIKFUpCcDNwE"
   },
   "source": [
    "### longitude"
   ]
  },
  {
   "cell_type": "code",
   "execution_count": null,
   "metadata": {
    "id": "JbTUtgHwDP8M"
   },
   "outputs": [],
   "source": []
  },
  {
   "cell_type": "code",
   "execution_count": null,
   "metadata": {
    "id": "lW4mPXXKDP-6"
   },
   "outputs": [],
   "source": []
  },
  {
   "cell_type": "code",
   "execution_count": null,
   "metadata": {
    "id": "tWqYq1hADQB9"
   },
   "outputs": [],
   "source": []
  },
  {
   "cell_type": "code",
   "execution_count": null,
   "metadata": {},
   "outputs": [],
   "source": []
  },
  {
   "cell_type": "code",
   "execution_count": null,
   "metadata": {},
   "outputs": [],
   "source": []
  },
  {
   "cell_type": "code",
   "execution_count": null,
   "metadata": {},
   "outputs": [],
   "source": []
  },
  {
   "cell_type": "code",
   "execution_count": null,
   "metadata": {},
   "outputs": [],
   "source": []
  },
  {
   "cell_type": "code",
   "execution_count": null,
   "metadata": {},
   "outputs": [],
   "source": []
  },
  {
   "cell_type": "code",
   "execution_count": null,
   "metadata": {},
   "outputs": [],
   "source": []
  },
  {
   "cell_type": "code",
   "execution_count": null,
   "metadata": {},
   "outputs": [],
   "source": []
  },
  {
   "cell_type": "markdown",
   "metadata": {},
   "source": [
    "## Investigación - Case Status Code/Description"
   ]
  },
  {
   "cell_type": "code",
   "execution_count": null,
   "metadata": {},
   "outputs": [],
   "source": [
    "df = pd.read_csv('Crime_Data_from_2020_to_Present.csv') \n",
    "unique_status = df['Status'].unique()\n",
    "print(\"Valores únicos en la columna 'Status':\")\n",
    "print(unique_status)\n",
    "\n",
    "non_standard_status = df[df['Status'].isin(['AO', 'JO'])]\n",
    "result = non_standard_status[['Status', 'Status Desc']].head(5)\n",
    "print(result)"
   ]
  },
  {
   "cell_type": "code",
   "execution_count": null,
   "metadata": {},
   "outputs": [],
   "source": [
    "status_not_null = df['Status'].notna()\n",
    "total_status = status_not_null.sum()\n",
    "\n",
    "non_standard_count = df['Status'].isin(['AO', 'JO']).sum()\n",
    "percentage = (non_standard_count / total_status) * 100\n",
    "\n",
    "print(f\"Cantidad total de valores no estándar ('AO' y 'JO'): {non_standard_count}\")\n",
    "print(f\"Porcentaje respecto al total de valores definidos en 'Status': {percentage:.2f}%\")"
   ]
  },
  {
   "cell_type": "code",
   "execution_count": null,
   "metadata": {},
   "outputs": [],
   "source": [
    "null_count = df['Status'].isna().sum()\n",
    "total_rows = len(df)\n",
    "null_percentage = (null_count / total_rows) * 100\n",
    "\n",
    "print(f\"Cantidad de valores nulos en 'Status': {null_count}\")\n",
    "print(f\"Porcentaje respecto al total de filas: {null_percentage:.2f}%\")"
   ]
  },
  {
   "cell_type": "code",
   "execution_count": null,
   "metadata": {},
   "outputs": [],
   "source": [
    "null_count_desc = df['Status Desc'].isna().sum()\n",
    "total_rows = len(df)\n",
    "null_percentage_desc = (null_count_desc / total_rows) * 100\n",
    "\n",
    "print(f\"Cantidad de valores nulos en 'Status Desc': {null_count_desc}\")\n",
    "print(f\"Porcentaje respecto al total de filas: {null_percentage_desc:.2f}%\")"
   ]
  },
  {
   "cell_type": "code",
   "execution_count": null,
   "metadata": {},
   "outputs": [],
   "source": [
    "\n",
    "status_null_rows = df[df['Status'].isna()]\n",
    "print(status_null_rows[['Status Desc']])"
   ]
  },
  {
   "cell_type": "markdown",
   "metadata": {
    "id": "_mDWe59kOL6r"
   },
   "source": []
  }
 ],
 "metadata": {
  "colab": {
   "provenance": []
  },
  "kernelspec": {
   "display_name": "Python [conda env:base] *",
   "language": "python",
   "name": "conda-base-py"
  },
  "language_info": {
   "codemirror_mode": {
    "name": "ipython",
    "version": 3
   },
   "file_extension": ".py",
   "mimetype": "text/x-python",
   "name": "python",
   "nbconvert_exporter": "python",
   "pygments_lexer": "ipython3",
   "version": "3.12.4"
  }
 },
 "nbformat": 4,
 "nbformat_minor": 4
}

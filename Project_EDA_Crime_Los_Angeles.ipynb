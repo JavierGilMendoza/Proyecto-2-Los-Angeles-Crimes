{
 "cells": [
  {
   "cell_type": "markdown",
   "metadata": {
    "id": "2lIipXf5GJyg"
   },
   "source": [
    "# Importar librerias"
   ]
  },
  {
   "cell_type": "markdown",
   "metadata": {
    "id": "nhcURRWFGdF9"
   },
   "source": [
    "## Instalacion librerias"
   ]
  },
  {
   "cell_type": "code",
   "execution_count": null,
   "metadata": {
    "id": "Rrk1bqDPGO4_"
   },
   "outputs": [],
   "source": [
    "import pandas as pd"
   ]
  },
  {
   "cell_type": "markdown",
   "metadata": {
    "id": "pfg5Ptv9FgAT"
   },
   "source": [
    "# Importación dataset"
   ]
  },
  {
   "cell_type": "markdown",
   "metadata": {
    "id": "o40OA5i-F7-U"
   },
   "source": [
    "## Instalacion de gdown\n"
   ]
  },
  {
   "cell_type": "code",
   "execution_count": null,
   "metadata": {
    "colab": {
     "base_uri": "https://localhost:8080/",
     "height": 600
    },
    "id": "XxHTOKdoGF4Z",
    "outputId": "31d7b239-83c0-4193-f500-9248999a591f"
   },
   "outputs": [],
   "source": [
    "import pandas as pd\n",
    "df = pd.read_csv(\"Crime_Data_from_2020_to_Present.csv\")\n",
    "df.head(10)"
   ]
  },
  {
   "cell_type": "code",
   "execution_count": null,
   "metadata": {
    "colab": {
     "base_uri": "https://localhost:8080/"
    },
    "id": "7pD2V7VVlqVr",
    "outputId": "a95640d8-0d0e-4600-9a3a-3ae15ef908c4"
   },
   "outputs": [],
   "source": [
    "print(df.head(10))"
   ]
  },
  {
   "cell_type": "code",
   "execution_count": null,
   "metadata": {
    "colab": {
     "base_uri": "https://localhost:8080/",
     "height": 206
    },
    "id": "C1BznEvbmAR5",
    "outputId": "72a6d9e7-e03a-4a9b-b6fe-3004613e1026"
   },
   "outputs": [],
   "source": [
    "df.iloc[:,:14].head()\n"
   ]
  },
  {
   "cell_type": "code",
   "execution_count": null,
   "metadata": {
    "colab": {
     "base_uri": "https://localhost:8080/",
     "height": 206
    },
    "id": "IJ8zmuS4pC6E",
    "outputId": "547e8c43-d1cf-4a7a-a37f-7d9d282805fe"
   },
   "outputs": [],
   "source": [
    "df.iloc[:,14:].head()"
   ]
  },
  {
   "cell_type": "code",
   "execution_count": null,
   "metadata": {
    "colab": {
     "base_uri": "https://localhost:8080/",
     "height": 206
    },
    "id": "y_pZbWC1pvIK",
    "outputId": "b89b12af-5762-453b-ebed-59d784704949"
   },
   "outputs": [],
   "source": [
    "df.iloc[:,14:].tail()"
   ]
  },
  {
   "cell_type": "code",
   "execution_count": null,
   "metadata": {
    "colab": {
     "base_uri": "https://localhost:8080/"
    },
    "id": "IcC9BGnDYApw",
    "outputId": "b704eeb3-aa08-4dfc-9852-f8c254295166"
   },
   "outputs": [],
   "source": [
    "df.info()"
   ]
  },
  {
   "cell_type": "code",
   "execution_count": null,
   "metadata": {
    "colab": {
     "base_uri": "https://localhost:8080/",
     "height": 300
    },
    "id": "G7AP9mrsYA5I",
    "outputId": "f7a543ae-0415-402a-b73c-67e3d4f1d644"
   },
   "outputs": [],
   "source": [
    "df.describe()"
   ]
  },
  {
   "cell_type": "code",
   "execution_count": null,
   "metadata": {
    "colab": {
     "base_uri": "https://localhost:8080/"
    },
    "id": "slgh6vjHYkMt",
    "outputId": "7d2da338-0c9d-42bc-d638-c8d41bb47e3e"
   },
   "outputs": [],
   "source": [
    "# Exploración de primeros 50 valores únicos solo para variables categóricas\n",
    "for col in df.select_dtypes(include='object').columns:\n",
    "    print(f\"--- {col} ---\")\n",
    "    print(df[col].dropna().unique()[:50])  # Primeros 50 valores únicos\n",
    "    print(\"\\n\")\n",
    "\n"
   ]
  },
  {
   "cell_type": "code",
   "execution_count": null,
   "metadata": {
    "colab": {
     "base_uri": "https://localhost:8080/",
     "height": 429
    },
    "id": "y8YHxNcauhEC",
    "outputId": "68bf858a-760c-48e4-9833-3a0bb06e68fa"
   },
   "outputs": [],
   "source": [
    "# Vamos a renombrar las columnas para hacerlas más comprensibles, se trata de un cambio en el Diccionario\n",
    "rename_columns = {\n",
    "    'DR_NO': 'id_report',\n",
    "    'Date Rptd': 'date_report',\n",
    "    'DATE OCC': 'date_ocurrance',\n",
    "    'TIME OCC': 'time_ocurrance',\n",
    "    'AREA': 'area_code',\n",
    "    'AREA NAME': 'area_name',\n",
    "    'Rpt Dist No': 'district',\n",
    "    'Part 1-2': 'crime_severity',\n",
    "    'Crm Cd': 'crime_code',\n",
    "    'Crm Cd Desc': 'crime_desc',\n",
    "    'Mocodes': 'crime_mo',\n",
    "    'Vict Age': 'age_victim',\n",
    "    'Vict Sex': 'sex_victim',\n",
    "    'Vict Descent': 'descent_victim',\n",
    "    'Premis Cd': 'loc_code',\n",
    "    'Premis Desc': 'loc_desc',\n",
    "    'Weapon Used Cd': 'weapon_code',\n",
    "    'Weapon Desc': 'weapon_desc',\n",
    "    'Status': 'case_status_code',\n",
    "    'Status Desc': 'case_status_desc',\n",
    "    'Crm Cd 1': 'crime_code_1',\n",
    "    'Crm Cd 2': 'crime_code_2',\n",
    "    'Crm Cd 3': 'crime_code_3',\n",
    "    'Crm Cd 4': 'crime_code_4',\n",
    "    'LOCATION': 'location',\n",
    "    'Cross Street': 'cross_street',\n",
    "    'LAT': 'latitude',\n",
    "    'LON': 'longitude'\n",
    "}\n",
    "\n",
    "# Renombrar las columnas\n",
    "df.rename(columns=rename_columns, inplace=True)\n",
    "\n",
    "# Confirmar el cambio\n",
    "df.head()\n"
   ]
  },
  {
   "cell_type": "code",
   "execution_count": null,
   "metadata": {
    "colab": {
     "base_uri": "https://localhost:8080/"
    },
    "id": "qFEBFuaTw3gK",
    "outputId": "91886f5b-c7ab-4d1c-f868-c5fd657c0271"
   },
   "outputs": [],
   "source": [
    "# Variables a explorar\n",
    "columns_to_explore = [\n",
    "    'area_code',\n",
    "    'area_name',\n",
    "    'district',\n",
    "    'crime_severity',\n",
    "    'crime_code',\n",
    "    'crime_desc',\n",
    "    'sex_victim',\n",
    "    'descent_victim',\n",
    "    'loc_code',\n",
    "    'loc_desc',\n",
    "    'weapon_code',\n",
    "    'weapon_desc',\n",
    "    'case_status_code',\n",
    "    'case_status_desc'\n",
    "]\n",
    "\n",
    "# Mostrar TODOS los valores únicos para esas columnas\n",
    "for col in columns_to_explore:\n",
    "    if col in df.columns:\n",
    "        print(f\"--- {col} ---\")\n",
    "        print(sorted(df[col].dropna().unique()))\n",
    "        print(\"\\n\")\n",
    "    else:\n",
    "        print(f\"Column {col} not found in the dataframe.\\n\")\n"
   ]
  },
  {
   "cell_type": "markdown",
   "metadata": {
    "id": "8g6z4FUPx8gU"
   },
   "source": []
  },
  {
   "cell_type": "markdown",
   "metadata": {
    "id": "x5tSXjRB0I6Q"
   },
   "source": [
    "## **Vamos a trabajar en investigar la relación de códigos varios en el dataset. **"
   ]
  },
  {
   "cell_type": "markdown",
   "metadata": {
    "id": "2fAp4-Dl0DL8"
   },
   "source": [
    "# 📄 Unique Values Summary\n",
    "\n",
    "## area_code\n",
    "`1, 2, 3, ..., 21`\n",
    "\n",
    "## area_name\n",
    "`'77th Street', 'Central', 'Devonshire', 'Foothill', 'Harbor', 'Hollenbeck', 'Hollywood', 'Mission', 'N Hollywood', 'Newton', 'Northeast', 'Olympic', 'Pacific', 'Rampart', 'Southeast', 'Southwest', 'Topanga', 'Van Nuys', 'West LA', 'West Valley', 'Wilshire'`\n",
    "\n",
    "## district\n",
    "`101, 105, 109, 111, ..., 2199`  \n",
    "(Muchos valores únicos de distrito, códigos de zonas específicas)\n",
    "\n",
    "## crime_severity\n",
    "`1, 2`\n",
    "\n",
    "## crime_code\n",
    "`110, 113, 121, 122, 210, 220, 230, 231, ..., 956`\n",
    "\n",
    "## crime_desc\n",
    "`'ARSON', 'ASSAULT WITH DEADLY WEAPON ON POLICE OFFICER', 'BATTERY - SIMPLE ASSAULT', 'BIKE - STOLEN', 'BURGLARY', 'BURGLARY FROM VEHICLE', ..., 'WEAPONS POSSESSION/BOMBING'`\n",
    "(Más de 100 tipos de crímenes diferentes)\n",
    "\n",
    "## crime_mo\n",
    "`Códigos tipo '0344 1822 1402', '0930', '0913 2024' etc.`  \n",
    "(Modus Operandi combinados por código)\n",
    "\n",
    "## sex_victim\n",
    "`'-', 'F', 'H', 'M', 'X'`\n",
    "(Indica sexo: Femenino, Masculino, Indeterminado, No reportado)\n",
    "\n",
    "## descent_victim\n",
    "`'-', 'A', 'B', 'C', 'D', 'F', 'G', 'H', 'I', 'J', 'K', 'L', 'O', 'P', 'S', 'U', 'V', 'W', 'X', 'Z'`\n",
    "(Origen étnico de la víctima)\n",
    "\n",
    "## loc_code\n",
    "`101.0, 102.0, 103.0, ..., 976.0`\n",
    "(Muchos códigos de localización)\n",
    "\n",
    "## loc_desc\n",
    "`'STREET', 'BUS STOP', 'PARKING LOT', 'SINGLE FAMILY DWELLING', 'SCHOOL', 'HOSPITAL', 'HOTEL', 'MARKET', ..., 'YARD (RESIDENTIAL/BUSINESS)'`\n",
    "(Lugares donde ocurrieron los crímenes)\n",
    "\n",
    "## weapon_code\n",
    "`101.0, 102.0, ..., 516.0`\n",
    "\n",
    "## weapon_desc\n",
    "`'HAND GUN', 'KNIFE WITH BLADE 6INCHES OR LESS', 'STRONG-ARM (HANDS, FIST, FEET OR BODILY FORCE)', 'UNKNOWN FIREARM', 'VERBAL THREAT', ...`\n",
    "(Descripción de armas usadas)\n",
    "\n",
    "## case_status_code\n",
    "`'AA', 'AO', 'CC', 'IC', 'JA', 'JO'`\n",
    "(Códigos de estatus del caso)\n",
    "\n",
    "## case_status_desc\n",
    "`'Adult Arrest', 'Adult Other', 'Invest Cont', 'Juv Arrest', 'Juv Other', 'UNK'`\n",
    "(Descripción del estatus del caso)\n"
   ]
  },
  {
   "cell_type": "markdown",
   "metadata": {
    "id": "834aqDfnJtgy"
   },
   "source": [
    "##1. Investigación de las áreas."
   ]
  },
  {
   "cell_type": "code",
   "execution_count": null,
   "metadata": {
    "colab": {
     "base_uri": "https://localhost:8080/"
    },
    "id": "9k-dFBJTJy3t",
    "outputId": "8e8afc8f-d468-40d8-f312-338db7f5fcdf"
   },
   "outputs": [],
   "source": [
    "# Primero aseguramos que district sea string para extraer area_code\n",
    "df['district'] = df['district'].astype(str)\n",
    "\n",
    "# Sacamos el primer dígito como área (puedes usar 1 o 2 dígitos según precisión)\n",
    "df['area_code'] = df['district'].str[0].astype(int)\n",
    "\n",
    "# Mapeo de area_code a area_name\n",
    "area_mapping = {\n",
    "    1: '77th Street',\n",
    "    2: 'Central',\n",
    "    3: 'Devonshire',\n",
    "    4: 'Foothill',\n",
    "    5: 'Harbor',\n",
    "    6: 'Hollenbeck',\n",
    "    7: 'Hollywood',\n",
    "    8: 'Mission',\n",
    "    9: 'N Hollywood',\n",
    "    10: 'Newton',\n",
    "    11: 'Northeast',\n",
    "    12: 'Olympic',\n",
    "    13: 'Pacific',\n",
    "    14: 'Rampart',\n",
    "    15: 'Southeast',\n",
    "    16: 'Southwest',\n",
    "    17: 'Topanga',\n",
    "    18: 'Van Nuys',\n",
    "    19: 'West LA',\n",
    "    20: 'West Valley',\n",
    "    21: 'Wilshire'\n",
    "}\n",
    "\n",
    "# Asignamos nombre al área\n",
    "df['area_name'] = df['area_code'].map(area_mapping)\n",
    "\n",
    "# Verificamos si el mapeo está correcto\n",
    "print(df[['district', 'area_code', 'area_name']].head())\n",
    "\n",
    "# Contar registros por area_name\n",
    "print(df['area_name'].value_counts())\n"
   ]
  },
  {
   "cell_type": "code",
   "execution_count": null,
   "metadata": {
    "colab": {
     "base_uri": "https://localhost:8080/"
    },
    "id": "63z1OeF8LHlS",
    "outputId": "e46755aa-7f3d-453c-9e51-dfd51645c9a7"
   },
   "outputs": [],
   "source": [
    "import pandas as pd\n",
    "\n",
    "# Definimos el listado completo de áreas (en el orden correcto)\n",
    "area_names = [\n",
    "    '77th Street', 'Central', 'Devonshire', 'Foothill', 'Harbor', 'Hollenbeck',\n",
    "    'Hollywood', 'Mission', 'N Hollywood', 'Newton', 'Northeast', 'Olympic',\n",
    "    'Pacific', 'Rampart', 'Southeast', 'Southwest', 'Topanga', 'Van Nuys',\n",
    "    'West LA', 'West Valley', 'Wilshire'\n",
    "]\n",
    "\n",
    "# Hacemos el conteo de registros por area_name\n",
    "area_counts = df['area_name'].value_counts()\n",
    "\n",
    "# Aseguramos que todos los nombres estén incluidos (incluso los que faltan)\n",
    "area_counts = area_counts.reindex(area_names, fill_value=0)\n",
    "\n",
    "# Ahora, buscamos las áreas con 0 crímenes\n",
    "areas_sin_crimen = area_counts[area_counts == 0]\n",
    "\n",
    "# Mostrar áreas sin crímenes\n",
    "print(\"Áreas donde no hubo crímenes registrados:\")\n",
    "print(areas_sin_crimen)"
   ]
  },
  {
   "cell_type": "code",
   "execution_count": null,
   "metadata": {
    "colab": {
     "base_uri": "https://localhost:8080/"
    },
    "id": "3pxP5SYhL_1C",
    "outputId": "a0a17462-9dd4-4a2c-8bac-cb1a29930c8a"
   },
   "outputs": [],
   "source": [
    "# Definimos las 21 áreas oficiales\n",
    "area_names = [\n",
    "    '77th Street', 'Central', 'Devonshire', 'Foothill', 'Harbor', 'Hollenbeck',\n",
    "    'Hollywood', 'Mission', 'N Hollywood', 'Newton', 'Northeast', 'Olympic',\n",
    "    'Pacific', 'Rampart', 'Southeast', 'Southwest', 'Topanga', 'Van Nuys',\n",
    "    'West LA', 'West Valley', 'Wilshire'\n",
    "]\n",
    "\n",
    "# 1. Conteo de crímenes por área\n",
    "area_counts = df['area_name'].value_counts()\n",
    "\n",
    "# 2. Asegurarnos que todas las áreas estén (rellenar con 0 si no existen)\n",
    "area_counts = area_counts.reindex(area_names, fill_value=0)\n",
    "\n",
    "# 3. Detectar áreas sin crímenes\n",
    "areas_sin_crimen = area_counts[area_counts == 0].index.tolist()\n",
    "\n",
    "print(\"Áreas donde no hubo crímenes:\")\n",
    "print(areas_sin_crimen)\n",
    "\n",
    "# 4. Filtrar el df para filas con esas áreas (debería estar vacío, o muy pequeño si algo raro pasó)\n",
    "df_sin_crimenes = df[df['area_name'].isin(areas_sin_crimen)]\n",
    "\n",
    "# 5. Mostrar las filas\n",
    "print(df_sin_crimenes)\n"
   ]
  },
  {
   "cell_type": "markdown",
   "metadata": {
    "id": "Rmw3m-UYMa_o"
   },
   "source": [
    "Resumen:\n",
    "9 áreas sí tienen crímenes (las que viste antes: 77th Street, Central, Devonshire, etc.).\n",
    "\n",
    "12 áreas no tienen crímenes en tus datos actuales.\n",
    "\n",
    "No hay errores de mapeo en district, area_code ni area_name."
   ]
  },
  {
   "cell_type": "markdown",
   "metadata": {
    "id": "iTWDkPhi3Ipe"
   },
   "source": [
    "## 2. Investigación Distritos."
   ]
  },
  {
   "cell_type": "code",
   "execution_count": null,
   "metadata": {
    "colab": {
     "base_uri": "https://localhost:8080/"
    },
    "id": "2P4Erzvz3YAB",
    "outputId": "a08bb33a-11e2-44c8-83d5-9bcaf43a034e"
   },
   "outputs": [],
   "source": [
    "# Mostrar los valores únicos de la columna 'district'\n",
    "if 'district' in df.columns:\n",
    "    print(\"--- district ---\")\n",
    "    print(sorted(df['district'].dropna().unique()))\n",
    "    print(\"\\n\")\n",
    "else:\n",
    "    print(\"Column 'district' not found in the dataframe.\\n\")"
   ]
  },
  {
   "cell_type": "code",
   "execution_count": null,
   "metadata": {
    "colab": {
     "base_uri": "https://localhost:8080/"
    },
    "id": "HGl0BrjI4pSY",
    "outputId": "9440f87a-0bf4-46b4-bddb-96e592b7043f"
   },
   "outputs": [],
   "source": [
    "# Asegurar que 'district' es string para extraer prefijos fácilmente\n",
    "df['district'] = df['district'].astype(str)\n",
    "\n",
    "# Extraer primer dígito (o primeros dos dígitos si quieres más precisión)\n",
    "df['area_code'] = df['district'].str[0].astype(int)\n",
    "\n",
    "# Opcionalmente, si quieres extraer dos primeros dígitos:\n",
    "# df['area_code'] = df['district'].str[:2].astype(int)\n",
    "\n",
    "# Definir los áreas válidas (1 al 21)\n",
    "valid_areas = list(range(1, 22))\n",
    "\n",
    "# Marcar si es un área válida\n",
    "df['area_valid'] = df['area_code'].isin(valid_areas)\n",
    "\n",
    "# Verificar resultados\n",
    "print(df['area_valid'].value_counts())\n",
    "\n",
    "# Ver ejemplos\n",
    "print(df[['district', 'area_code', 'area_valid']].head())\n"
   ]
  },
  {
   "cell_type": "code",
   "execution_count": null,
   "metadata": {
    "colab": {
     "base_uri": "https://localhost:8080/"
    },
    "id": "6WF2NCieIwzm",
    "outputId": "a2963be1-1dc2-42d1-9a03-cb3374e44e7d"
   },
   "outputs": [],
   "source": [
    "# Contar cuántos registros NO son válidos\n",
    "invalid_count = (~df['area_valid']).sum()\n",
    "\n",
    "print(f\"Cantidad de registros con area_valid == False: {invalid_count}\")\n"
   ]
  },
  {
   "cell_type": "markdown",
   "metadata": {
    "id": "VZnzSy7u1ZUq"
   },
   "source": [
    "##3. Relación entre crime_code y crime_desc"
   ]
  },
  {
   "cell_type": "markdown",
   "metadata": {
    "id": "Sa23EPbn49M3"
   },
   "source": [
    "Los crime_code y crime_desc que tienes provienen directamente de los reportes oficiales del LAPD (Los Angeles Police Department).\n",
    "\n",
    "Cada \"crime_code\" es un tipo de crimen específico, basado en su severidad y en las leyes de California.\n",
    "\n",
    "No es una clasificación inventada, es estándar dentro del departamento, usado para categorizar las denuncias."
   ]
  },
  {
   "cell_type": "code",
   "execution_count": null,
   "metadata": {
    "colab": {
     "base_uri": "https://localhost:8080/",
     "height": 53
    },
    "id": "DUh72ovp1e8L",
    "outputId": "2e49ca91-967d-4770-b425-a4fd17b1c145"
   },
   "outputs": [],
   "source": [
    "# Comprobar si un mismo crime_code tiene varias descripciones\n",
    "crime_mapping = df[['crime_code', 'crime_desc']].drop_duplicates()\n",
    "\n",
    "# Verificar duplicados de crime_code\n",
    "duplicates = crime_mapping.duplicated(subset=['crime_code'], keep=False)\n",
    "crime_mapping[duplicates]"
   ]
  },
  {
   "cell_type": "markdown",
   "metadata": {
    "id": "8Sm2hDeT19D-"
   },
   "source": [
    "Si no salen filas, la relación es uno a uno ✅."
   ]
  },
  {
   "cell_type": "code",
   "execution_count": null,
   "metadata": {
    "colab": {
     "base_uri": "https://localhost:8080/",
     "height": 424
    },
    "id": "Q60d9Y2X1-Qs",
    "outputId": "3c139d2f-0865-4af7-e60a-c3091a47999c"
   },
   "outputs": [],
   "source": [
    "# Crear tabla resumen de códigos de crimen y su descripción\n",
    "crime_table = df[['crime_code', 'crime_desc']].drop_duplicates().sort_values('crime_code')\n",
    "\n",
    "# Mostrar la tabla\n",
    "crime_table.reset_index(drop=True, inplace=True)\n",
    "crime_table\n"
   ]
  },
  {
   "cell_type": "code",
   "execution_count": null,
   "metadata": {
    "id": "J_L6DP2U2lPh"
   },
   "outputs": [],
   "source": [
    "crime_table.to_csv('crime_code_description.csv', index=False)"
   ]
  },
  {
   "cell_type": "markdown",
   "metadata": {
    "id": "nVN2HAiX7W1A"
   },
   "source": [
    "Vamos a generar una agrupación de todos estos delitos en base al standard UCR (Uniform Crime Reporting)"
   ]
  },
  {
   "cell_type": "code",
   "execution_count": null,
   "metadata": {
    "colab": {
     "base_uri": "https://localhost:8080/"
    },
    "id": "tb3ChlAJ7bJd",
    "outputId": "b650be12-e490-4ad5-ac93-416fc51dbabf"
   },
   "outputs": [],
   "source": [
    "import pandas as pd\n",
    "\n",
    "# Suponemos que tienes un DataFrame llamado 'df' con las columnas 'crime_code' y 'crime_desc'\n",
    "\n",
    "# Mapeo de crime_codes a categorías UCR\n",
    "ucr_mapping = {\n",
    "    # Part I - Violent Crimes\n",
    "    110: 'HOMICIDE',\n",
    "    113: 'MANSLAUGHTER',\n",
    "    121: 'RAPE',\n",
    "    122: 'ATTEMPTED RAPE',\n",
    "    815: 'SEXUAL PENETRATION',\n",
    "    820: 'ORAL COPULATION',\n",
    "    821: 'SODOMY',\n",
    "    210: 'ROBBERY',\n",
    "    220: 'ROBBERY ATTEMPTED',\n",
    "    230: 'AGGRAVATED ASSAULT',\n",
    "    231: 'AGGRAVATED ASSAULT',\n",
    "    235: 'AGGRAVATED ASSAULT',\n",
    "    236: 'AGGRAVATED ASSAULT',\n",
    "    250: 'AGGRAVATED ASSAULT',\n",
    "    251: 'AGGRAVATED ASSAULT',\n",
    "    761: 'AGGRAVATED ASSAULT',\n",
    "    926: 'AGGRAVATED ASSAULT',\n",
    "    435: 'SIMPLE ASSAULT',\n",
    "    436: 'SIMPLE ASSAULT',\n",
    "    437: 'SIMPLE ASSAULT',\n",
    "    622: 'SIMPLE ASSAULT',\n",
    "    623: 'SIMPLE ASSAULT',\n",
    "    624: 'SIMPLE ASSAULT',\n",
    "    625: 'SIMPLE ASSAULT',\n",
    "    626: 'SIMPLE ASSAULT',\n",
    "    627: 'SIMPLE ASSAULT',\n",
    "    647: 'SIMPLE ASSAULT',\n",
    "    763: 'SIMPLE ASSAULT',\n",
    "    928: 'SIMPLE ASSAULT',\n",
    "    930: 'SIMPLE ASSAULT',\n",
    "\n",
    "    # Part I - Property Crimes\n",
    "    310: 'BURGLARY',\n",
    "    320: 'BURGLARY',\n",
    "    510: 'MOTOR VEHICLE THEFT',\n",
    "    520: 'MOTOR VEHICLE THEFT',\n",
    "    433: 'MOTOR VEHICLE THEFT',\n",
    "    330: 'THEFT FROM VEHICLE',\n",
    "    331: 'THEFT FROM VEHICLE',\n",
    "    410: 'THEFT FROM VEHICLE',\n",
    "    420: 'THEFT FROM VEHICLE',\n",
    "    421: 'THEFT FROM VEHICLE',\n",
    "    350: 'PERSONAL THEFT',\n",
    "    351: 'PERSONAL THEFT',\n",
    "    352: 'PERSONAL THEFT',\n",
    "    353: 'PERSONAL THEFT',\n",
    "    450: 'PERSONAL THEFT',\n",
    "    451: 'PERSONAL THEFT',\n",
    "    452: 'PERSONAL THEFT',\n",
    "    453: 'PERSONAL THEFT',\n",
    "    341: 'OTHER THEFT',\n",
    "    343: 'OTHER THEFT',\n",
    "    345: 'OTHER THEFT',\n",
    "    440: 'OTHER THEFT',\n",
    "    441: 'OTHER THEFT',\n",
    "    442: 'OTHER THEFT',\n",
    "    443: 'OTHER THEFT',\n",
    "    444: 'OTHER THEFT',\n",
    "    445: 'OTHER THEFT',\n",
    "    470: 'OTHER THEFT',\n",
    "    471: 'OTHER THEFT',\n",
    "    472: 'OTHER THEFT',\n",
    "    473: 'OTHER THEFT',\n",
    "    474: 'OTHER THEFT',\n",
    "    475: 'OTHER THEFT',\n",
    "    480: 'OTHER THEFT',\n",
    "    485: 'OTHER THEFT',\n",
    "    487: 'OTHER THEFT',\n",
    "    491: 'OTHER THEFT',\n",
    "\n",
    "    # Part II - Other Crimes\n",
    "    500: 'DRUG OFFENSES',\n",
    "    501: 'DRUG OFFENSES',\n",
    "    502: 'DRUG OFFENSES',\n",
    "    503: 'DRUG OFFENSES',\n",
    "    504: 'DRUG OFFENSES',\n",
    "    505: 'DRUG OFFENSES',\n",
    "    506: 'DRUG OFFENSES',\n",
    "    600: 'SIMPLE ASSAULT',\n",
    "    601: 'SIMPLE ASSAULT',\n",
    "    602: 'SIMPLE ASSAULT',\n",
    "    603: 'SIMPLE ASSAULT',\n",
    "    700: 'VANDALISM',\n",
    "    701: 'VANDALISM',\n",
    "    702: 'WEAPONS OFFENSE',\n",
    "    703: 'WEAPONS OFFENSE',\n",
    "    704: 'WEAPONS OFFENSE',\n",
    "    705: 'WEAPONS OFFENSE',\n",
    "    800: 'SEX OFFENSES (NON-RAPE)',\n",
    "    801: 'SEX OFFENSES (NON-RAPE)',\n",
    "    802: 'SEX OFFENSES (NON-RAPE)',\n",
    "    803: 'SEX OFFENSES (NON-RAPE)',\n",
    "    900: 'OTHER OFFENSES',\n",
    "    901: 'OTHER OFFENSES',\n",
    "    902: 'OTHER OFFENSES',\n",
    "    903: 'OTHER OFFENSES',\n",
    "    904: 'OTHER OFFENSES',\n",
    "    905: 'OTHER OFFENSES',\n",
    "    906: 'OTHER OFFENSES',\n",
    "    907: 'OTHER OFFENSES'\n",
    "}\n",
    "\n",
    "# Crear nueva columna 'crime_ucr' basada en el mapping\n",
    "df['crime_ucr'] = df['crime_code'].map(ucr_mapping).fillna('UNKNOWN')\n",
    "\n",
    "# Si quieres ver los resultados\n",
    "print(df[['crime_code', 'crime_desc', 'crime_ucr']].head())\n"
   ]
  },
  {
   "cell_type": "code",
   "execution_count": null,
   "metadata": {
    "colab": {
     "base_uri": "https://localhost:8080/"
    },
    "id": "HHsb1Mat7pzU",
    "outputId": "f3748c54-fba0-4de0-d144-f520d16f2e4a"
   },
   "outputs": [],
   "source": [
    "df.columns"
   ]
  },
  {
   "cell_type": "markdown",
   "metadata": {
    "id": "rXnGUWE0NhSQ"
   },
   "source": [
    "## 4. Investigación de Sexo."
   ]
  },
  {
   "cell_type": "code",
   "execution_count": null,
   "metadata": {
    "colab": {
     "base_uri": "https://localhost:8080/"
    },
    "id": "fs9fDmXSNpbK",
    "outputId": "ee11321b-83f9-4520-f442-8a7bf96e2ebe"
   },
   "outputs": [],
   "source": [
    "# 1. Primero, corregimos H -> M\n",
    "df['sex_victim'] = df['sex_victim'].replace('H', 'M')\n",
    "\n",
    "# 2. Definimos la lista válida final\n",
    "valores_validos_sexo = ['-', 'F', 'M', 'X']\n",
    "\n",
    "# 3. Comprobamos de nuevo si queda todo limpio\n",
    "print(\"Valores únicos en sex_victim después de la corrección:\")\n",
    "print(df['sex_victim'].unique())\n",
    "\n",
    "# 4. Opcional: identificar si queda algo inválido\n",
    "valores_invalidos = df[~df['sex_victim'].isin(valores_validos_sexo)]\n",
    "\n",
    "print(f\"\\nCantidad de registros con sex_victim inválido después de corregir: {len(valores_invalidos)}\")\n"
   ]
  },
  {
   "cell_type": "code",
   "execution_count": null,
   "metadata": {
    "colab": {
     "base_uri": "https://localhost:8080/"
    },
    "id": "Rl0fKtE0OVLv",
    "outputId": "7c1a8c4b-265a-4926-a0cf-ec2cdfc66fda"
   },
   "outputs": [],
   "source": [
    "# Reemplazar nulos por '-'\n",
    "df['sex_victim'] = df['sex_victim'].fillna('-')\n",
    "\n",
    "# Volver a verificar\n",
    "print(\"Valores únicos en sex_victim después de rellenar NaN:\")\n",
    "print(df['sex_victim'].unique())"
   ]
  },
  {
   "cell_type": "code",
   "execution_count": null,
   "metadata": {
    "colab": {
     "base_uri": "https://localhost:8080/"
    },
    "id": "Bvda2_VmPE29",
    "outputId": "8e6b6246-0304-400b-e325-ba7528b2a2a9"
   },
   "outputs": [],
   "source": [
    "# 1. Conteo de sex_victim\n",
    "conteo_sexo = df['sex_victim'].value_counts()\n",
    "\n",
    "# 2. Porcentaje de sex_victim\n",
    "porcentaje_sexo = df['sex_victim'].value_counts(normalize=True) * 100\n",
    "\n",
    "# 3. Mostrar resultados\n",
    "resultado = pd.DataFrame({\n",
    "    'Cantidad': conteo_sexo,\n",
    "    'Porcentaje (%)': porcentaje_sexo.round(2)\n",
    "})\n",
    "\n",
    "print(resultado)"
   ]
  },
  {
   "cell_type": "markdown",
   "metadata": {},
   "source": [
    "## 5. Origen"
   ]
  },
  {
   "cell_type": "code",
   "execution_count": null,
   "metadata": {},
   "outputs": [],
   "source": [
    "# 1. Definimos los valores válidos\n",
    "valores_validos_descent = ['-', 'A', 'B', 'C', 'D', 'F', 'G', 'H', 'I', 'J', \n",
    "                           'K', 'L', 'O', 'P', 'S', 'U', 'V', 'W', 'X', 'Z']\n",
    "\n",
    "# 2. Verificamos los valores únicos en el dataset\n",
    "print(\"Valores únicos en descent_victim:\")\n",
    "print(df['descent_victim'].unique())\n",
    "\n",
    "# 3. Detectamos valores inválidos\n",
    "valores_invalidos = df[~df['descent_victim'].isin(valores_validos_descent)]\n",
    "\n",
    "# 4. Mostramos las filas con descent_victim inválido\n",
    "print(\"\\nFilas con valores inválidos en descent_victim:\")\n",
    "print(valores_invalidos[['id_report', 'descent_victim']])\n",
    "\n",
    "# 5. Cantidad de registros inválidos\n",
    "print(f\"\\nCantidad de registros con descent_victim inválido: {len(valores_invalidos)}\")"
   ]
  },
  {
   "cell_type": "code",
   "execution_count": null,
   "metadata": {},
   "outputs": [],
   "source": [
    "# Reemplazar NaN por '-'\n",
    "df['descent_victim'] = df['descent_victim'].fillna('-')"
   ]
  },
  {
   "cell_type": "code",
   "execution_count": null,
   "metadata": {},
   "outputs": [],
   "source": [
    "# 1. Definir los valores válidos de razas\n",
    "valores_validos_descent = ['-', 'A', 'B', 'C', 'D', 'F', 'G', 'H', 'I', 'J', \n",
    "                           'K', 'L', 'O', 'P', 'S', 'U', 'V', 'W', 'X', 'Z']\n",
    "\n",
    "# 2. Rellenar nulos si es necesario\n",
    "df['descent_victim'] = df['descent_victim'].fillna('-')\n",
    "\n",
    "# 3. Conteo de víctimas por raza\n",
    "conteo_raza = df['descent_victim'].value_counts()\n",
    "\n",
    "# 4. Porcentaje por raza\n",
    "porcentaje_raza = df['descent_victim'].value_counts(normalize=True) * 100\n",
    "\n",
    "# 5. Crear el DataFrame resultado\n",
    "resultado_raza = pd.DataFrame({\n",
    "    'Cantidad': conteo_raza,\n",
    "    'Porcentaje (%)': porcentaje_raza.round(2)\n",
    "})\n",
    "\n",
    "# 6. Mostrar resultados\n",
    "print(resultado_raza)"
   ]
  },
  {
   "cell_type": "markdown",
   "metadata": {
    "id": "69C2gRmk9zlm"
   },
   "source": [
    "### id_report"
   ]
  },
  {
   "cell_type": "code",
   "execution_count": null,
   "metadata": {
    "colab": {
     "base_uri": "https://localhost:8080/"
    },
    "id": "yD8uubrL-Ee4",
    "outputId": "c16be6d7-1a7d-4df8-a42c-0ce38cd22bf8"
   },
   "outputs": [],
   "source": [
    "df['id_report'].info()"
   ]
  },
  {
   "cell_type": "code",
   "execution_count": null,
   "metadata": {
    "colab": {
     "base_uri": "https://localhost:8080/",
     "height": 363
    },
    "id": "Y00dI-B3-YiA",
    "outputId": "94875b07-690f-4912-c625-420124b7923b"
   },
   "outputs": [],
   "source": [
    "df.iloc[:, :5].head(10)"
   ]
  },
  {
   "cell_type": "code",
   "execution_count": null,
   "metadata": {
    "id": "EiCc-u2C68eq"
   },
   "outputs": [],
   "source": [
    "df.info()"
   ]
  },
  {
   "cell_type": "markdown",
   "metadata": {
    "id": "zv3Y6cG4CaW6"
   },
   "source": [
    "### date_report"
   ]
  },
  {
   "cell_type": "code",
   "execution_count": null,
   "metadata": {
    "id": "zq5dH2qTCcOh"
   },
   "outputs": [],
   "source": [
    "df['date_report']=pd.to_datetime(df['date_report'])"
   ]
  },
  {
   "cell_type": "code",
   "execution_count": null,
   "metadata": {
    "id": "jTv5vSxfCcRD"
   },
   "outputs": [],
   "source": [
    "df['date_report'] = df['date_report'].dt.strftime('%d/%m/%Y')"
   ]
  },
  {
   "cell_type": "code",
   "execution_count": null,
   "metadata": {
    "id": "EYvBGnWACcVB"
   },
   "outputs": [],
   "source": [
    "df['date_report']=pd.to_datetime(df['date_report'], format = '%d/%m/%Y')"
   ]
  },
  {
   "cell_type": "code",
   "execution_count": null,
   "metadata": {},
   "outputs": [],
   "source": [
    "df['date_report'].head()"
   ]
  },
  {
   "cell_type": "code",
   "execution_count": null,
   "metadata": {},
   "outputs": [],
   "source": [
    "df['date_report'].info()"
   ]
  },
  {
   "cell_type": "markdown",
   "metadata": {
    "id": "ZOPdgt0aCcqU"
   },
   "source": [
    "### date_ocurrance"
   ]
  },
  {
   "cell_type": "code",
   "execution_count": null,
   "metadata": {
    "id": "i-r_DVgTCvLp"
   },
   "outputs": [],
   "source": []
  },
  {
   "cell_type": "code",
   "execution_count": null,
   "metadata": {
    "id": "CJtnf5ZuCvOr"
   },
   "outputs": [],
   "source": []
  },
  {
   "cell_type": "code",
   "execution_count": null,
   "metadata": {
    "id": "-KOKK0xLCvR2"
   },
   "outputs": [],
   "source": []
  },
  {
   "cell_type": "markdown",
   "metadata": {
    "id": "NvKbJTeFCvkx"
   },
   "source": [
    "### time_ocurrance"
   ]
  },
  {
   "cell_type": "code",
   "execution_count": null,
   "metadata": {
    "id": "-9a8_I9jCycS"
   },
   "outputs": [],
   "source": []
  },
  {
   "cell_type": "code",
   "execution_count": null,
   "metadata": {
    "id": "nGVN0dldCyoH"
   },
   "outputs": [],
   "source": []
  },
  {
   "cell_type": "code",
   "execution_count": null,
   "metadata": {
    "id": "t2IJTxudCyr3"
   },
   "outputs": [],
   "source": []
  },
  {
   "cell_type": "markdown",
   "metadata": {
    "id": "3UKiJa2OCzA5"
   },
   "source": [
    "### area_code"
   ]
  },
  {
   "cell_type": "code",
   "execution_count": null,
   "metadata": {
    "id": "yupabiRgC2Rw"
   },
   "outputs": [],
   "source": []
  },
  {
   "cell_type": "code",
   "execution_count": null,
   "metadata": {
    "id": "Qzb5F64oC2ZQ"
   },
   "outputs": [],
   "source": []
  },
  {
   "cell_type": "code",
   "execution_count": null,
   "metadata": {
    "id": "cbiGVv9CC2cR"
   },
   "outputs": [],
   "source": []
  },
  {
   "cell_type": "markdown",
   "metadata": {
    "id": "7lpc2jOCC2uR"
   },
   "source": [
    "### area_name"
   ]
  },
  {
   "cell_type": "code",
   "execution_count": null,
   "metadata": {
    "id": "lZ2muKaoC5fI"
   },
   "outputs": [],
   "source": []
  },
  {
   "cell_type": "code",
   "execution_count": null,
   "metadata": {
    "id": "6GM_634_C5iK"
   },
   "outputs": [],
   "source": []
  },
  {
   "cell_type": "code",
   "execution_count": null,
   "metadata": {
    "id": "lgU5vb-4C5lJ"
   },
   "outputs": [],
   "source": []
  },
  {
   "cell_type": "markdown",
   "metadata": {
    "id": "lUWI7mwDC6bS"
   },
   "source": [
    "### age_victim"
   ]
  },
  {
   "cell_type": "markdown",
   "metadata": {},
   "source": [
    "Mostrar la información de los no nulos de la columna age_victim"
   ]
  },
  {
   "cell_type": "code",
   "execution_count": null,
   "metadata": {
    "id": "Ux_O39YpC9Wi"
   },
   "outputs": [],
   "source": [
    "df['age_victim'].info()"
   ]
  },
  {
   "cell_type": "markdown",
   "metadata": {},
   "source": [
    "Mostrar la información de los valores únicos de la columna"
   ]
  },
  {
   "cell_type": "code",
   "execution_count": null,
   "metadata": {
    "id": "tDKCXLalC9Zq"
   },
   "outputs": [],
   "source": [
    "if 'age_victim' in df.columns:\n",
    "    print(sorted(df['age_victim'].dropna().unique()))\n",
    "    print(\"\\n\")\n",
    "else:\n",
    "    print(\"Column 'age_victim' not found in the dataframe.\\n\")"
   ]
  },
  {
   "cell_type": "markdown",
   "metadata": {},
   "source": [
    "Mostrar la información de los valores negativos"
   ]
  },
  {
   "cell_type": "code",
   "execution_count": null,
   "metadata": {
    "id": "CdiMs6f5C9dS"
   },
   "outputs": [],
   "source": [
    "df['age_victim'].loc[df['age_victim']<0]"
   ]
  },
  {
   "cell_type": "markdown",
   "metadata": {},
   "source": [
    "Mostrar el porcentaje de valores negativos en la"
   ]
  },
  {
   "cell_type": "code",
   "execution_count": null,
   "metadata": {},
   "outputs": [],
   "source": [
    "(df['age_victim'] < 0).sum() / df['age_victim'].notna().sum() * 100"
   ]
  },
  {
   "cell_type": "markdown",
   "metadata": {
    "id": "Pyk0cHnKC9ut"
   },
   "source": [
    "### location"
   ]
  },
  {
   "cell_type": "code",
   "execution_count": null,
   "metadata": {
    "id": "_49aWz0LDHna"
   },
   "outputs": [],
   "source": []
  },
  {
   "cell_type": "code",
   "execution_count": null,
   "metadata": {
    "id": "5OQC3OSaDHqk"
   },
   "outputs": [],
   "source": []
  },
  {
   "cell_type": "code",
   "execution_count": null,
   "metadata": {
    "id": "Ocpaa4tCDHuF"
   },
   "outputs": [],
   "source": []
  },
  {
   "cell_type": "markdown",
   "metadata": {
    "id": "60Hh7hieDJQt"
   },
   "source": [
    "### cross_street"
   ]
  },
  {
   "cell_type": "code",
   "execution_count": null,
   "metadata": {
    "id": "A6YhXOL6DKXQ"
   },
   "outputs": [],
   "source": []
  },
  {
   "cell_type": "code",
   "execution_count": null,
   "metadata": {
    "id": "I49jpfdADKaK"
   },
   "outputs": [],
   "source": []
  },
  {
   "cell_type": "code",
   "execution_count": null,
   "metadata": {
    "id": "nN4Jrr29DKc7"
   },
   "outputs": [],
   "source": []
  },
  {
   "cell_type": "markdown",
   "metadata": {
    "id": "m53krAU7DLx9"
   },
   "source": [
    "### latitude"
   ]
  },
  {
   "cell_type": "code",
   "execution_count": null,
   "metadata": {
    "id": "ALl0mYkMDNNq"
   },
   "outputs": [],
   "source": []
  },
  {
   "cell_type": "code",
   "execution_count": null,
   "metadata": {
    "id": "Ph5hgZ4FDNbx"
   },
   "outputs": [],
   "source": []
  },
  {
   "cell_type": "code",
   "execution_count": null,
   "metadata": {
    "id": "kvcveeTHDNfy"
   },
   "outputs": [],
   "source": []
  },
  {
   "cell_type": "markdown",
   "metadata": {
    "id": "HIKFUpCcDNwE"
   },
   "source": [
    "### longitude"
   ]
  },
  {
   "cell_type": "code",
   "execution_count": null,
   "metadata": {
    "id": "JbTUtgHwDP8M"
   },
   "outputs": [],
   "source": []
  },
  {
   "cell_type": "code",
   "execution_count": null,
   "metadata": {
    "id": "lW4mPXXKDP-6"
   },
   "outputs": [],
   "source": []
  },
  {
   "cell_type": "code",
   "execution_count": null,
   "metadata": {
    "id": "tWqYq1hADQB9"
   },
   "outputs": [],
   "source": []
  },
  {
   "cell_type": "markdown",
   "metadata": {
    "id": "RxI9A-UmDs2S"
   },
   "source": [
    "### Todo"
   ]
  },
  {
   "cell_type": "code",
   "execution_count": null,
   "metadata": {
    "id": "K-6YPINxDui5"
   },
   "outputs": [],
   "source": [
    "features_explore_JA = ['id_report','date_report','date_ocurrance','time_ocurrance','area_code','area_name','age_victim','location','cross_street','latitude','longitude']"
   ]
  },
  {
   "cell_type": "code",
   "execution_count": null,
   "metadata": {
    "colab": {
     "base_uri": "https://localhost:8080/"
    },
    "id": "ljT13KjLEpZt",
    "outputId": "41b35de8-a32d-457b-de2b-dd079e348f22"
   },
   "outputs": [],
   "source": [
    "df[features_explore_JA].info()"
   ]
  },
  {
   "cell_type": "code",
   "execution_count": null,
   "metadata": {
    "colab": {
     "base_uri": "https://localhost:8080/",
     "height": 300
    },
    "id": "Kw78EF-oEw0-",
    "outputId": "5d49e392-2d09-49f2-91ac-222e90ecb978"
   },
   "outputs": [],
   "source": [
    "df[features_explore_JA].describe()"
   ]
  },
  {
   "cell_type": "code",
   "execution_count": null,
   "metadata": {
    "colab": {
     "base_uri": "https://localhost:8080/",
     "height": 175
    },
    "id": "_pQMgK4uGCtE",
    "outputId": "92eefe4d-230a-48d4-eaaf-20d046525bd5"
   },
   "outputs": [],
   "source": [
    "df_categorical = df[features_explore_JA].select_dtypes(include='object')\n",
    "df_categorical.describe()"
   ]
  },
  {
   "cell_type": "code",
   "execution_count": null,
   "metadata": {
    "colab": {
     "base_uri": "https://localhost:8080/",
     "height": 498
    },
    "id": "zCEHfpdtE-PR",
    "outputId": "2c4c4439-ecb8-4923-b99d-b35504231c67"
   },
   "outputs": [],
   "source": [
    "df.loc[df['id_report']<9999999]"
   ]
  },
  {
   "cell_type": "code",
   "execution_count": null,
   "metadata": {
    "id": "7-pXpwJmGxBM"
   },
   "outputs": [],
   "source": [
    "df[features_explore_JA]."
   ]
  },
  {
   "cell_type": "markdown",
   "metadata": {
    "id": "_mDWe59kOL6r"
   },
   "source": []
  }
 ],
 "metadata": {
  "colab": {
   "provenance": []
  },
  "kernelspec": {
   "display_name": "Python [conda env:base] *",
   "language": "python",
   "name": "conda-base-py"
  },
  "language_info": {
   "codemirror_mode": {
    "name": "ipython",
    "version": 3
   },
   "file_extension": ".py",
   "mimetype": "text/x-python",
   "name": "python",
   "nbconvert_exporter": "python",
   "pygments_lexer": "ipython3",
   "version": "3.12.4"
  }
 },
 "nbformat": 4,
 "nbformat_minor": 4
}

{
 "cells": [
  {
   "cell_type": "markdown",
   "metadata": {
    "id": "2lIipXf5GJyg"
   },
   "source": [
    "# Importar librerias"
   ]
  },
  {
   "cell_type": "markdown",
   "metadata": {
    "id": "nhcURRWFGdF9"
   },
   "source": [
    "## Instalacion librerias"
   ]
  },
  {
   "cell_type": "code",
   "execution_count": 1,
   "metadata": {
    "id": "Rrk1bqDPGO4_"
   },
   "outputs": [],
   "source": [
    "import pandas as pd"
   ]
  },
  {
   "cell_type": "markdown",
   "metadata": {
    "id": "pfg5Ptv9FgAT"
   },
   "source": [
    "# Importación dataset"
   ]
  },
  {
   "cell_type": "markdown",
   "metadata": {
    "id": "o40OA5i-F7-U"
   },
   "source": [
    "## Instalacion de gdown\n"
   ]
  },
  {
   "cell_type": "code",
   "execution_count": 3,
   "metadata": {
    "colab": {
     "base_uri": "https://localhost:8080/",
     "height": 600
    },
    "id": "XxHTOKdoGF4Z",
    "outputId": "31d7b239-83c0-4193-f500-9248999a591f"
   },
   "outputs": [
    {
     "data": {
      "text/html": [
       "<div>\n",
       "<style scoped>\n",
       "    .dataframe tbody tr th:only-of-type {\n",
       "        vertical-align: middle;\n",
       "    }\n",
       "\n",
       "    .dataframe tbody tr th {\n",
       "        vertical-align: top;\n",
       "    }\n",
       "\n",
       "    .dataframe thead th {\n",
       "        text-align: right;\n",
       "    }\n",
       "</style>\n",
       "<table border=\"1\" class=\"dataframe\">\n",
       "  <thead>\n",
       "    <tr style=\"text-align: right;\">\n",
       "      <th></th>\n",
       "      <th>DR_NO</th>\n",
       "      <th>Date Rptd</th>\n",
       "      <th>DATE OCC</th>\n",
       "      <th>TIME OCC</th>\n",
       "      <th>AREA</th>\n",
       "      <th>AREA NAME</th>\n",
       "      <th>Rpt Dist No</th>\n",
       "      <th>Part 1-2</th>\n",
       "      <th>Crm Cd</th>\n",
       "      <th>Crm Cd Desc</th>\n",
       "      <th>...</th>\n",
       "      <th>Status</th>\n",
       "      <th>Status Desc</th>\n",
       "      <th>Crm Cd 1</th>\n",
       "      <th>Crm Cd 2</th>\n",
       "      <th>Crm Cd 3</th>\n",
       "      <th>Crm Cd 4</th>\n",
       "      <th>LOCATION</th>\n",
       "      <th>Cross Street</th>\n",
       "      <th>LAT</th>\n",
       "      <th>LON</th>\n",
       "    </tr>\n",
       "  </thead>\n",
       "  <tbody>\n",
       "    <tr>\n",
       "      <th>0</th>\n",
       "      <td>190326475</td>\n",
       "      <td>03/01/2020 12:00:00 AM</td>\n",
       "      <td>03/01/2020 12:00:00 AM</td>\n",
       "      <td>2130</td>\n",
       "      <td>7</td>\n",
       "      <td>Wilshire</td>\n",
       "      <td>784</td>\n",
       "      <td>1</td>\n",
       "      <td>510</td>\n",
       "      <td>VEHICLE - STOLEN</td>\n",
       "      <td>...</td>\n",
       "      <td>AA</td>\n",
       "      <td>Adult Arrest</td>\n",
       "      <td>510.0</td>\n",
       "      <td>998.0</td>\n",
       "      <td>NaN</td>\n",
       "      <td>NaN</td>\n",
       "      <td>1900 S  LONGWOOD                     AV</td>\n",
       "      <td>NaN</td>\n",
       "      <td>34.0375</td>\n",
       "      <td>-118.3506</td>\n",
       "    </tr>\n",
       "    <tr>\n",
       "      <th>1</th>\n",
       "      <td>200106753</td>\n",
       "      <td>02/09/2020 12:00:00 AM</td>\n",
       "      <td>02/08/2020 12:00:00 AM</td>\n",
       "      <td>1800</td>\n",
       "      <td>1</td>\n",
       "      <td>Central</td>\n",
       "      <td>182</td>\n",
       "      <td>1</td>\n",
       "      <td>330</td>\n",
       "      <td>BURGLARY FROM VEHICLE</td>\n",
       "      <td>...</td>\n",
       "      <td>IC</td>\n",
       "      <td>Invest Cont</td>\n",
       "      <td>330.0</td>\n",
       "      <td>998.0</td>\n",
       "      <td>NaN</td>\n",
       "      <td>NaN</td>\n",
       "      <td>1000 S  FLOWER                       ST</td>\n",
       "      <td>NaN</td>\n",
       "      <td>34.0444</td>\n",
       "      <td>-118.2628</td>\n",
       "    </tr>\n",
       "    <tr>\n",
       "      <th>2</th>\n",
       "      <td>200320258</td>\n",
       "      <td>11/11/2020 12:00:00 AM</td>\n",
       "      <td>11/04/2020 12:00:00 AM</td>\n",
       "      <td>1700</td>\n",
       "      <td>3</td>\n",
       "      <td>Southwest</td>\n",
       "      <td>356</td>\n",
       "      <td>1</td>\n",
       "      <td>480</td>\n",
       "      <td>BIKE - STOLEN</td>\n",
       "      <td>...</td>\n",
       "      <td>IC</td>\n",
       "      <td>Invest Cont</td>\n",
       "      <td>480.0</td>\n",
       "      <td>NaN</td>\n",
       "      <td>NaN</td>\n",
       "      <td>NaN</td>\n",
       "      <td>1400 W  37TH                         ST</td>\n",
       "      <td>NaN</td>\n",
       "      <td>34.0210</td>\n",
       "      <td>-118.3002</td>\n",
       "    </tr>\n",
       "    <tr>\n",
       "      <th>3</th>\n",
       "      <td>200907217</td>\n",
       "      <td>05/10/2023 12:00:00 AM</td>\n",
       "      <td>03/10/2020 12:00:00 AM</td>\n",
       "      <td>2037</td>\n",
       "      <td>9</td>\n",
       "      <td>Van Nuys</td>\n",
       "      <td>964</td>\n",
       "      <td>1</td>\n",
       "      <td>343</td>\n",
       "      <td>SHOPLIFTING-GRAND THEFT ($950.01 &amp; OVER)</td>\n",
       "      <td>...</td>\n",
       "      <td>IC</td>\n",
       "      <td>Invest Cont</td>\n",
       "      <td>343.0</td>\n",
       "      <td>NaN</td>\n",
       "      <td>NaN</td>\n",
       "      <td>NaN</td>\n",
       "      <td>14000    RIVERSIDE                    DR</td>\n",
       "      <td>NaN</td>\n",
       "      <td>34.1576</td>\n",
       "      <td>-118.4387</td>\n",
       "    </tr>\n",
       "    <tr>\n",
       "      <th>4</th>\n",
       "      <td>220614831</td>\n",
       "      <td>08/18/2022 12:00:00 AM</td>\n",
       "      <td>08/17/2020 12:00:00 AM</td>\n",
       "      <td>1200</td>\n",
       "      <td>6</td>\n",
       "      <td>Hollywood</td>\n",
       "      <td>666</td>\n",
       "      <td>2</td>\n",
       "      <td>354</td>\n",
       "      <td>THEFT OF IDENTITY</td>\n",
       "      <td>...</td>\n",
       "      <td>IC</td>\n",
       "      <td>Invest Cont</td>\n",
       "      <td>354.0</td>\n",
       "      <td>NaN</td>\n",
       "      <td>NaN</td>\n",
       "      <td>NaN</td>\n",
       "      <td>1900    TRANSIENT</td>\n",
       "      <td>NaN</td>\n",
       "      <td>34.0944</td>\n",
       "      <td>-118.3277</td>\n",
       "    </tr>\n",
       "    <tr>\n",
       "      <th>5</th>\n",
       "      <td>231808869</td>\n",
       "      <td>04/04/2023 12:00:00 AM</td>\n",
       "      <td>12/01/2020 12:00:00 AM</td>\n",
       "      <td>2300</td>\n",
       "      <td>18</td>\n",
       "      <td>Southeast</td>\n",
       "      <td>1826</td>\n",
       "      <td>2</td>\n",
       "      <td>354</td>\n",
       "      <td>THEFT OF IDENTITY</td>\n",
       "      <td>...</td>\n",
       "      <td>IC</td>\n",
       "      <td>Invest Cont</td>\n",
       "      <td>354.0</td>\n",
       "      <td>NaN</td>\n",
       "      <td>NaN</td>\n",
       "      <td>NaN</td>\n",
       "      <td>9900    COMPTON                      AV</td>\n",
       "      <td>NaN</td>\n",
       "      <td>33.9467</td>\n",
       "      <td>-118.2463</td>\n",
       "    </tr>\n",
       "    <tr>\n",
       "      <th>6</th>\n",
       "      <td>230110144</td>\n",
       "      <td>04/04/2023 12:00:00 AM</td>\n",
       "      <td>07/03/2020 12:00:00 AM</td>\n",
       "      <td>900</td>\n",
       "      <td>1</td>\n",
       "      <td>Central</td>\n",
       "      <td>182</td>\n",
       "      <td>2</td>\n",
       "      <td>354</td>\n",
       "      <td>THEFT OF IDENTITY</td>\n",
       "      <td>...</td>\n",
       "      <td>IC</td>\n",
       "      <td>Invest Cont</td>\n",
       "      <td>354.0</td>\n",
       "      <td>NaN</td>\n",
       "      <td>NaN</td>\n",
       "      <td>NaN</td>\n",
       "      <td>1100 S  GRAND                        AV</td>\n",
       "      <td>NaN</td>\n",
       "      <td>34.0415</td>\n",
       "      <td>-118.2620</td>\n",
       "    </tr>\n",
       "    <tr>\n",
       "      <th>7</th>\n",
       "      <td>220314085</td>\n",
       "      <td>07/22/2022 12:00:00 AM</td>\n",
       "      <td>05/12/2020 12:00:00 AM</td>\n",
       "      <td>1110</td>\n",
       "      <td>3</td>\n",
       "      <td>Southwest</td>\n",
       "      <td>303</td>\n",
       "      <td>2</td>\n",
       "      <td>354</td>\n",
       "      <td>THEFT OF IDENTITY</td>\n",
       "      <td>...</td>\n",
       "      <td>IC</td>\n",
       "      <td>Invest Cont</td>\n",
       "      <td>354.0</td>\n",
       "      <td>NaN</td>\n",
       "      <td>NaN</td>\n",
       "      <td>NaN</td>\n",
       "      <td>2500 S  SYCAMORE                     AV</td>\n",
       "      <td>NaN</td>\n",
       "      <td>34.0335</td>\n",
       "      <td>-118.3537</td>\n",
       "    </tr>\n",
       "    <tr>\n",
       "      <th>8</th>\n",
       "      <td>231309864</td>\n",
       "      <td>04/28/2023 12:00:00 AM</td>\n",
       "      <td>12/09/2020 12:00:00 AM</td>\n",
       "      <td>1400</td>\n",
       "      <td>13</td>\n",
       "      <td>Newton</td>\n",
       "      <td>1375</td>\n",
       "      <td>2</td>\n",
       "      <td>354</td>\n",
       "      <td>THEFT OF IDENTITY</td>\n",
       "      <td>...</td>\n",
       "      <td>IC</td>\n",
       "      <td>Invest Cont</td>\n",
       "      <td>354.0</td>\n",
       "      <td>NaN</td>\n",
       "      <td>NaN</td>\n",
       "      <td>NaN</td>\n",
       "      <td>1300 E  57TH                         ST</td>\n",
       "      <td>NaN</td>\n",
       "      <td>33.9911</td>\n",
       "      <td>-118.2521</td>\n",
       "    </tr>\n",
       "    <tr>\n",
       "      <th>9</th>\n",
       "      <td>211904005</td>\n",
       "      <td>12/31/2020 12:00:00 AM</td>\n",
       "      <td>12/31/2020 12:00:00 AM</td>\n",
       "      <td>1220</td>\n",
       "      <td>19</td>\n",
       "      <td>Mission</td>\n",
       "      <td>1974</td>\n",
       "      <td>2</td>\n",
       "      <td>624</td>\n",
       "      <td>BATTERY - SIMPLE ASSAULT</td>\n",
       "      <td>...</td>\n",
       "      <td>IC</td>\n",
       "      <td>Invest Cont</td>\n",
       "      <td>624.0</td>\n",
       "      <td>NaN</td>\n",
       "      <td>NaN</td>\n",
       "      <td>NaN</td>\n",
       "      <td>9000    CEDROS                       AV</td>\n",
       "      <td>NaN</td>\n",
       "      <td>34.2336</td>\n",
       "      <td>-118.4535</td>\n",
       "    </tr>\n",
       "  </tbody>\n",
       "</table>\n",
       "<p>10 rows × 28 columns</p>\n",
       "</div>"
      ],
      "text/plain": [
       "       DR_NO               Date Rptd                DATE OCC  TIME OCC  AREA  \\\n",
       "0  190326475  03/01/2020 12:00:00 AM  03/01/2020 12:00:00 AM      2130     7   \n",
       "1  200106753  02/09/2020 12:00:00 AM  02/08/2020 12:00:00 AM      1800     1   \n",
       "2  200320258  11/11/2020 12:00:00 AM  11/04/2020 12:00:00 AM      1700     3   \n",
       "3  200907217  05/10/2023 12:00:00 AM  03/10/2020 12:00:00 AM      2037     9   \n",
       "4  220614831  08/18/2022 12:00:00 AM  08/17/2020 12:00:00 AM      1200     6   \n",
       "5  231808869  04/04/2023 12:00:00 AM  12/01/2020 12:00:00 AM      2300    18   \n",
       "6  230110144  04/04/2023 12:00:00 AM  07/03/2020 12:00:00 AM       900     1   \n",
       "7  220314085  07/22/2022 12:00:00 AM  05/12/2020 12:00:00 AM      1110     3   \n",
       "8  231309864  04/28/2023 12:00:00 AM  12/09/2020 12:00:00 AM      1400    13   \n",
       "9  211904005  12/31/2020 12:00:00 AM  12/31/2020 12:00:00 AM      1220    19   \n",
       "\n",
       "   AREA NAME  Rpt Dist No  Part 1-2  Crm Cd  \\\n",
       "0   Wilshire          784         1     510   \n",
       "1    Central          182         1     330   \n",
       "2  Southwest          356         1     480   \n",
       "3   Van Nuys          964         1     343   \n",
       "4  Hollywood          666         2     354   \n",
       "5  Southeast         1826         2     354   \n",
       "6    Central          182         2     354   \n",
       "7  Southwest          303         2     354   \n",
       "8     Newton         1375         2     354   \n",
       "9    Mission         1974         2     624   \n",
       "\n",
       "                                Crm Cd Desc  ... Status   Status Desc  \\\n",
       "0                          VEHICLE - STOLEN  ...     AA  Adult Arrest   \n",
       "1                     BURGLARY FROM VEHICLE  ...     IC   Invest Cont   \n",
       "2                             BIKE - STOLEN  ...     IC   Invest Cont   \n",
       "3  SHOPLIFTING-GRAND THEFT ($950.01 & OVER)  ...     IC   Invest Cont   \n",
       "4                         THEFT OF IDENTITY  ...     IC   Invest Cont   \n",
       "5                         THEFT OF IDENTITY  ...     IC   Invest Cont   \n",
       "6                         THEFT OF IDENTITY  ...     IC   Invest Cont   \n",
       "7                         THEFT OF IDENTITY  ...     IC   Invest Cont   \n",
       "8                         THEFT OF IDENTITY  ...     IC   Invest Cont   \n",
       "9                  BATTERY - SIMPLE ASSAULT  ...     IC   Invest Cont   \n",
       "\n",
       "  Crm Cd 1 Crm Cd 2  Crm Cd 3 Crm Cd 4  \\\n",
       "0    510.0    998.0       NaN      NaN   \n",
       "1    330.0    998.0       NaN      NaN   \n",
       "2    480.0      NaN       NaN      NaN   \n",
       "3    343.0      NaN       NaN      NaN   \n",
       "4    354.0      NaN       NaN      NaN   \n",
       "5    354.0      NaN       NaN      NaN   \n",
       "6    354.0      NaN       NaN      NaN   \n",
       "7    354.0      NaN       NaN      NaN   \n",
       "8    354.0      NaN       NaN      NaN   \n",
       "9    624.0      NaN       NaN      NaN   \n",
       "\n",
       "                                   LOCATION Cross Street      LAT       LON  \n",
       "0   1900 S  LONGWOOD                     AV          NaN  34.0375 -118.3506  \n",
       "1   1000 S  FLOWER                       ST          NaN  34.0444 -118.2628  \n",
       "2   1400 W  37TH                         ST          NaN  34.0210 -118.3002  \n",
       "3  14000    RIVERSIDE                    DR          NaN  34.1576 -118.4387  \n",
       "4                         1900    TRANSIENT          NaN  34.0944 -118.3277  \n",
       "5   9900    COMPTON                      AV          NaN  33.9467 -118.2463  \n",
       "6   1100 S  GRAND                        AV          NaN  34.0415 -118.2620  \n",
       "7   2500 S  SYCAMORE                     AV          NaN  34.0335 -118.3537  \n",
       "8   1300 E  57TH                         ST          NaN  33.9911 -118.2521  \n",
       "9   9000    CEDROS                       AV          NaN  34.2336 -118.4535  \n",
       "\n",
       "[10 rows x 28 columns]"
      ]
     },
     "execution_count": 3,
     "metadata": {},
     "output_type": "execute_result"
    }
   ],
   "source": [
    "import pandas as pd\n",
    "df = pd.read_csv(\"Crime_Data_from_2020_to_Present.csv\")\n",
    "df.head(10)"
   ]
  },
  {
   "cell_type": "code",
   "execution_count": 7,
   "metadata": {
    "colab": {
     "base_uri": "https://localhost:8080/"
    },
    "id": "7pD2V7VVlqVr",
    "outputId": "a95640d8-0d0e-4600-9a3a-3ae15ef908c4"
   },
   "outputs": [
    {
     "name": "stdout",
     "output_type": "stream",
     "text": [
      "       DR_NO               Date Rptd                DATE OCC  TIME OCC  AREA  \\\n",
      "0  190326475  03/01/2020 12:00:00 AM  03/01/2020 12:00:00 AM      2130     7   \n",
      "1  200106753  02/09/2020 12:00:00 AM  02/08/2020 12:00:00 AM      1800     1   \n",
      "2  200320258  11/11/2020 12:00:00 AM  11/04/2020 12:00:00 AM      1700     3   \n",
      "3  200907217  05/10/2023 12:00:00 AM  03/10/2020 12:00:00 AM      2037     9   \n",
      "4  220614831  08/18/2022 12:00:00 AM  08/17/2020 12:00:00 AM      1200     6   \n",
      "5  231808869  04/04/2023 12:00:00 AM  12/01/2020 12:00:00 AM      2300    18   \n",
      "6  230110144  04/04/2023 12:00:00 AM  07/03/2020 12:00:00 AM       900     1   \n",
      "7  220314085  07/22/2022 12:00:00 AM  05/12/2020 12:00:00 AM      1110     3   \n",
      "8  231309864  04/28/2023 12:00:00 AM  12/09/2020 12:00:00 AM      1400    13   \n",
      "9  211904005  12/31/2020 12:00:00 AM  12/31/2020 12:00:00 AM      1220    19   \n",
      "\n",
      "   AREA NAME  Rpt Dist No  Part 1-2  Crm Cd  \\\n",
      "0   Wilshire          784         1     510   \n",
      "1    Central          182         1     330   \n",
      "2  Southwest          356         1     480   \n",
      "3   Van Nuys          964         1     343   \n",
      "4  Hollywood          666         2     354   \n",
      "5  Southeast         1826         2     354   \n",
      "6    Central          182         2     354   \n",
      "7  Southwest          303         2     354   \n",
      "8     Newton         1375         2     354   \n",
      "9    Mission         1974         2     624   \n",
      "\n",
      "                                Crm Cd Desc  ... Status   Status Desc  \\\n",
      "0                          VEHICLE - STOLEN  ...     AA  Adult Arrest   \n",
      "1                     BURGLARY FROM VEHICLE  ...     IC   Invest Cont   \n",
      "2                             BIKE - STOLEN  ...     IC   Invest Cont   \n",
      "3  SHOPLIFTING-GRAND THEFT ($950.01 & OVER)  ...     IC   Invest Cont   \n",
      "4                         THEFT OF IDENTITY  ...     IC   Invest Cont   \n",
      "5                         THEFT OF IDENTITY  ...     IC   Invest Cont   \n",
      "6                         THEFT OF IDENTITY  ...     IC   Invest Cont   \n",
      "7                         THEFT OF IDENTITY  ...     IC   Invest Cont   \n",
      "8                         THEFT OF IDENTITY  ...     IC   Invest Cont   \n",
      "9                  BATTERY - SIMPLE ASSAULT  ...     IC   Invest Cont   \n",
      "\n",
      "  Crm Cd 1 Crm Cd 2  Crm Cd 3 Crm Cd 4  \\\n",
      "0    510.0    998.0       NaN      NaN   \n",
      "1    330.0    998.0       NaN      NaN   \n",
      "2    480.0      NaN       NaN      NaN   \n",
      "3    343.0      NaN       NaN      NaN   \n",
      "4    354.0      NaN       NaN      NaN   \n",
      "5    354.0      NaN       NaN      NaN   \n",
      "6    354.0      NaN       NaN      NaN   \n",
      "7    354.0      NaN       NaN      NaN   \n",
      "8    354.0      NaN       NaN      NaN   \n",
      "9    624.0      NaN       NaN      NaN   \n",
      "\n",
      "                                   LOCATION Cross Street      LAT       LON  \n",
      "0   1900 S  LONGWOOD                     AV          NaN  34.0375 -118.3506  \n",
      "1   1000 S  FLOWER                       ST          NaN  34.0444 -118.2628  \n",
      "2   1400 W  37TH                         ST          NaN  34.0210 -118.3002  \n",
      "3  14000    RIVERSIDE                    DR          NaN  34.1576 -118.4387  \n",
      "4                         1900    TRANSIENT          NaN  34.0944 -118.3277  \n",
      "5   9900    COMPTON                      AV          NaN  33.9467 -118.2463  \n",
      "6   1100 S  GRAND                        AV          NaN  34.0415 -118.2620  \n",
      "7   2500 S  SYCAMORE                     AV          NaN  34.0335 -118.3537  \n",
      "8   1300 E  57TH                         ST          NaN  33.9911 -118.2521  \n",
      "9   9000    CEDROS                       AV          NaN  34.2336 -118.4535  \n",
      "\n",
      "[10 rows x 28 columns]\n"
     ]
    }
   ],
   "source": [
    "print(df.head(10))"
   ]
  },
  {
   "cell_type": "code",
   "execution_count": 8,
   "metadata": {
    "colab": {
     "base_uri": "https://localhost:8080/",
     "height": 206
    },
    "id": "C1BznEvbmAR5",
    "outputId": "72a6d9e7-e03a-4a9b-b6fe-3004613e1026"
   },
   "outputs": [
    {
     "data": {
      "text/html": [
       "<div>\n",
       "<style scoped>\n",
       "    .dataframe tbody tr th:only-of-type {\n",
       "        vertical-align: middle;\n",
       "    }\n",
       "\n",
       "    .dataframe tbody tr th {\n",
       "        vertical-align: top;\n",
       "    }\n",
       "\n",
       "    .dataframe thead th {\n",
       "        text-align: right;\n",
       "    }\n",
       "</style>\n",
       "<table border=\"1\" class=\"dataframe\">\n",
       "  <thead>\n",
       "    <tr style=\"text-align: right;\">\n",
       "      <th></th>\n",
       "      <th>DR_NO</th>\n",
       "      <th>Date Rptd</th>\n",
       "      <th>DATE OCC</th>\n",
       "      <th>TIME OCC</th>\n",
       "      <th>AREA</th>\n",
       "      <th>AREA NAME</th>\n",
       "      <th>Rpt Dist No</th>\n",
       "      <th>Part 1-2</th>\n",
       "      <th>Crm Cd</th>\n",
       "      <th>Crm Cd Desc</th>\n",
       "      <th>Mocodes</th>\n",
       "      <th>Vict Age</th>\n",
       "      <th>Vict Sex</th>\n",
       "      <th>Vict Descent</th>\n",
       "    </tr>\n",
       "  </thead>\n",
       "  <tbody>\n",
       "    <tr>\n",
       "      <th>0</th>\n",
       "      <td>190326475</td>\n",
       "      <td>03/01/2020 12:00:00 AM</td>\n",
       "      <td>03/01/2020 12:00:00 AM</td>\n",
       "      <td>2130</td>\n",
       "      <td>7</td>\n",
       "      <td>Wilshire</td>\n",
       "      <td>784</td>\n",
       "      <td>1</td>\n",
       "      <td>510</td>\n",
       "      <td>VEHICLE - STOLEN</td>\n",
       "      <td>NaN</td>\n",
       "      <td>0</td>\n",
       "      <td>M</td>\n",
       "      <td>O</td>\n",
       "    </tr>\n",
       "    <tr>\n",
       "      <th>1</th>\n",
       "      <td>200106753</td>\n",
       "      <td>02/09/2020 12:00:00 AM</td>\n",
       "      <td>02/08/2020 12:00:00 AM</td>\n",
       "      <td>1800</td>\n",
       "      <td>1</td>\n",
       "      <td>Central</td>\n",
       "      <td>182</td>\n",
       "      <td>1</td>\n",
       "      <td>330</td>\n",
       "      <td>BURGLARY FROM VEHICLE</td>\n",
       "      <td>1822 1402 0344</td>\n",
       "      <td>47</td>\n",
       "      <td>M</td>\n",
       "      <td>O</td>\n",
       "    </tr>\n",
       "    <tr>\n",
       "      <th>2</th>\n",
       "      <td>200320258</td>\n",
       "      <td>11/11/2020 12:00:00 AM</td>\n",
       "      <td>11/04/2020 12:00:00 AM</td>\n",
       "      <td>1700</td>\n",
       "      <td>3</td>\n",
       "      <td>Southwest</td>\n",
       "      <td>356</td>\n",
       "      <td>1</td>\n",
       "      <td>480</td>\n",
       "      <td>BIKE - STOLEN</td>\n",
       "      <td>0344 1251</td>\n",
       "      <td>19</td>\n",
       "      <td>X</td>\n",
       "      <td>X</td>\n",
       "    </tr>\n",
       "    <tr>\n",
       "      <th>3</th>\n",
       "      <td>200907217</td>\n",
       "      <td>05/10/2023 12:00:00 AM</td>\n",
       "      <td>03/10/2020 12:00:00 AM</td>\n",
       "      <td>2037</td>\n",
       "      <td>9</td>\n",
       "      <td>Van Nuys</td>\n",
       "      <td>964</td>\n",
       "      <td>1</td>\n",
       "      <td>343</td>\n",
       "      <td>SHOPLIFTING-GRAND THEFT ($950.01 &amp; OVER)</td>\n",
       "      <td>0325 1501</td>\n",
       "      <td>19</td>\n",
       "      <td>M</td>\n",
       "      <td>O</td>\n",
       "    </tr>\n",
       "    <tr>\n",
       "      <th>4</th>\n",
       "      <td>220614831</td>\n",
       "      <td>08/18/2022 12:00:00 AM</td>\n",
       "      <td>08/17/2020 12:00:00 AM</td>\n",
       "      <td>1200</td>\n",
       "      <td>6</td>\n",
       "      <td>Hollywood</td>\n",
       "      <td>666</td>\n",
       "      <td>2</td>\n",
       "      <td>354</td>\n",
       "      <td>THEFT OF IDENTITY</td>\n",
       "      <td>1822 1501 0930 2004</td>\n",
       "      <td>28</td>\n",
       "      <td>M</td>\n",
       "      <td>H</td>\n",
       "    </tr>\n",
       "  </tbody>\n",
       "</table>\n",
       "</div>"
      ],
      "text/plain": [
       "       DR_NO               Date Rptd                DATE OCC  TIME OCC  AREA  \\\n",
       "0  190326475  03/01/2020 12:00:00 AM  03/01/2020 12:00:00 AM      2130     7   \n",
       "1  200106753  02/09/2020 12:00:00 AM  02/08/2020 12:00:00 AM      1800     1   \n",
       "2  200320258  11/11/2020 12:00:00 AM  11/04/2020 12:00:00 AM      1700     3   \n",
       "3  200907217  05/10/2023 12:00:00 AM  03/10/2020 12:00:00 AM      2037     9   \n",
       "4  220614831  08/18/2022 12:00:00 AM  08/17/2020 12:00:00 AM      1200     6   \n",
       "\n",
       "   AREA NAME  Rpt Dist No  Part 1-2  Crm Cd  \\\n",
       "0   Wilshire          784         1     510   \n",
       "1    Central          182         1     330   \n",
       "2  Southwest          356         1     480   \n",
       "3   Van Nuys          964         1     343   \n",
       "4  Hollywood          666         2     354   \n",
       "\n",
       "                                Crm Cd Desc              Mocodes  Vict Age  \\\n",
       "0                          VEHICLE - STOLEN                  NaN         0   \n",
       "1                     BURGLARY FROM VEHICLE       1822 1402 0344        47   \n",
       "2                             BIKE - STOLEN            0344 1251        19   \n",
       "3  SHOPLIFTING-GRAND THEFT ($950.01 & OVER)            0325 1501        19   \n",
       "4                         THEFT OF IDENTITY  1822 1501 0930 2004        28   \n",
       "\n",
       "  Vict Sex Vict Descent  \n",
       "0        M            O  \n",
       "1        M            O  \n",
       "2        X            X  \n",
       "3        M            O  \n",
       "4        M            H  "
      ]
     },
     "execution_count": 8,
     "metadata": {},
     "output_type": "execute_result"
    }
   ],
   "source": [
    "df.iloc[:,:14].head()\n"
   ]
  },
  {
   "cell_type": "code",
   "execution_count": 9,
   "metadata": {
    "colab": {
     "base_uri": "https://localhost:8080/",
     "height": 206
    },
    "id": "IJ8zmuS4pC6E",
    "outputId": "547e8c43-d1cf-4a7a-a37f-7d9d282805fe"
   },
   "outputs": [
    {
     "data": {
      "text/html": [
       "<div>\n",
       "<style scoped>\n",
       "    .dataframe tbody tr th:only-of-type {\n",
       "        vertical-align: middle;\n",
       "    }\n",
       "\n",
       "    .dataframe tbody tr th {\n",
       "        vertical-align: top;\n",
       "    }\n",
       "\n",
       "    .dataframe thead th {\n",
       "        text-align: right;\n",
       "    }\n",
       "</style>\n",
       "<table border=\"1\" class=\"dataframe\">\n",
       "  <thead>\n",
       "    <tr style=\"text-align: right;\">\n",
       "      <th></th>\n",
       "      <th>Premis Cd</th>\n",
       "      <th>Premis Desc</th>\n",
       "      <th>Weapon Used Cd</th>\n",
       "      <th>Weapon Desc</th>\n",
       "      <th>Status</th>\n",
       "      <th>Status Desc</th>\n",
       "      <th>Crm Cd 1</th>\n",
       "      <th>Crm Cd 2</th>\n",
       "      <th>Crm Cd 3</th>\n",
       "      <th>Crm Cd 4</th>\n",
       "      <th>LOCATION</th>\n",
       "      <th>Cross Street</th>\n",
       "      <th>LAT</th>\n",
       "      <th>LON</th>\n",
       "    </tr>\n",
       "  </thead>\n",
       "  <tbody>\n",
       "    <tr>\n",
       "      <th>0</th>\n",
       "      <td>101.0</td>\n",
       "      <td>STREET</td>\n",
       "      <td>NaN</td>\n",
       "      <td>NaN</td>\n",
       "      <td>AA</td>\n",
       "      <td>Adult Arrest</td>\n",
       "      <td>510.0</td>\n",
       "      <td>998.0</td>\n",
       "      <td>NaN</td>\n",
       "      <td>NaN</td>\n",
       "      <td>1900 S  LONGWOOD                     AV</td>\n",
       "      <td>NaN</td>\n",
       "      <td>34.0375</td>\n",
       "      <td>-118.3506</td>\n",
       "    </tr>\n",
       "    <tr>\n",
       "      <th>1</th>\n",
       "      <td>128.0</td>\n",
       "      <td>BUS STOP/LAYOVER (ALSO QUERY 124)</td>\n",
       "      <td>NaN</td>\n",
       "      <td>NaN</td>\n",
       "      <td>IC</td>\n",
       "      <td>Invest Cont</td>\n",
       "      <td>330.0</td>\n",
       "      <td>998.0</td>\n",
       "      <td>NaN</td>\n",
       "      <td>NaN</td>\n",
       "      <td>1000 S  FLOWER                       ST</td>\n",
       "      <td>NaN</td>\n",
       "      <td>34.0444</td>\n",
       "      <td>-118.2628</td>\n",
       "    </tr>\n",
       "    <tr>\n",
       "      <th>2</th>\n",
       "      <td>502.0</td>\n",
       "      <td>MULTI-UNIT DWELLING (APARTMENT, DUPLEX, ETC)</td>\n",
       "      <td>NaN</td>\n",
       "      <td>NaN</td>\n",
       "      <td>IC</td>\n",
       "      <td>Invest Cont</td>\n",
       "      <td>480.0</td>\n",
       "      <td>NaN</td>\n",
       "      <td>NaN</td>\n",
       "      <td>NaN</td>\n",
       "      <td>1400 W  37TH                         ST</td>\n",
       "      <td>NaN</td>\n",
       "      <td>34.0210</td>\n",
       "      <td>-118.3002</td>\n",
       "    </tr>\n",
       "    <tr>\n",
       "      <th>3</th>\n",
       "      <td>405.0</td>\n",
       "      <td>CLOTHING STORE</td>\n",
       "      <td>NaN</td>\n",
       "      <td>NaN</td>\n",
       "      <td>IC</td>\n",
       "      <td>Invest Cont</td>\n",
       "      <td>343.0</td>\n",
       "      <td>NaN</td>\n",
       "      <td>NaN</td>\n",
       "      <td>NaN</td>\n",
       "      <td>14000    RIVERSIDE                    DR</td>\n",
       "      <td>NaN</td>\n",
       "      <td>34.1576</td>\n",
       "      <td>-118.4387</td>\n",
       "    </tr>\n",
       "    <tr>\n",
       "      <th>4</th>\n",
       "      <td>102.0</td>\n",
       "      <td>SIDEWALK</td>\n",
       "      <td>NaN</td>\n",
       "      <td>NaN</td>\n",
       "      <td>IC</td>\n",
       "      <td>Invest Cont</td>\n",
       "      <td>354.0</td>\n",
       "      <td>NaN</td>\n",
       "      <td>NaN</td>\n",
       "      <td>NaN</td>\n",
       "      <td>1900    TRANSIENT</td>\n",
       "      <td>NaN</td>\n",
       "      <td>34.0944</td>\n",
       "      <td>-118.3277</td>\n",
       "    </tr>\n",
       "  </tbody>\n",
       "</table>\n",
       "</div>"
      ],
      "text/plain": [
       "   Premis Cd                                   Premis Desc  Weapon Used Cd  \\\n",
       "0      101.0                                        STREET             NaN   \n",
       "1      128.0             BUS STOP/LAYOVER (ALSO QUERY 124)             NaN   \n",
       "2      502.0  MULTI-UNIT DWELLING (APARTMENT, DUPLEX, ETC)             NaN   \n",
       "3      405.0                                CLOTHING STORE             NaN   \n",
       "4      102.0                                      SIDEWALK             NaN   \n",
       "\n",
       "  Weapon Desc Status   Status Desc  Crm Cd 1  Crm Cd 2  Crm Cd 3  Crm Cd 4  \\\n",
       "0         NaN     AA  Adult Arrest     510.0     998.0       NaN       NaN   \n",
       "1         NaN     IC   Invest Cont     330.0     998.0       NaN       NaN   \n",
       "2         NaN     IC   Invest Cont     480.0       NaN       NaN       NaN   \n",
       "3         NaN     IC   Invest Cont     343.0       NaN       NaN       NaN   \n",
       "4         NaN     IC   Invest Cont     354.0       NaN       NaN       NaN   \n",
       "\n",
       "                                   LOCATION Cross Street      LAT       LON  \n",
       "0   1900 S  LONGWOOD                     AV          NaN  34.0375 -118.3506  \n",
       "1   1000 S  FLOWER                       ST          NaN  34.0444 -118.2628  \n",
       "2   1400 W  37TH                         ST          NaN  34.0210 -118.3002  \n",
       "3  14000    RIVERSIDE                    DR          NaN  34.1576 -118.4387  \n",
       "4                         1900    TRANSIENT          NaN  34.0944 -118.3277  "
      ]
     },
     "execution_count": 9,
     "metadata": {},
     "output_type": "execute_result"
    }
   ],
   "source": [
    "df.iloc[:,14:].head()"
   ]
  },
  {
   "cell_type": "code",
   "execution_count": 10,
   "metadata": {
    "colab": {
     "base_uri": "https://localhost:8080/",
     "height": 206
    },
    "id": "y_pZbWC1pvIK",
    "outputId": "b89b12af-5762-453b-ebed-59d784704949"
   },
   "outputs": [
    {
     "data": {
      "text/html": [
       "<div>\n",
       "<style scoped>\n",
       "    .dataframe tbody tr th:only-of-type {\n",
       "        vertical-align: middle;\n",
       "    }\n",
       "\n",
       "    .dataframe tbody tr th {\n",
       "        vertical-align: top;\n",
       "    }\n",
       "\n",
       "    .dataframe thead th {\n",
       "        text-align: right;\n",
       "    }\n",
       "</style>\n",
       "<table border=\"1\" class=\"dataframe\">\n",
       "  <thead>\n",
       "    <tr style=\"text-align: right;\">\n",
       "      <th></th>\n",
       "      <th>Premis Cd</th>\n",
       "      <th>Premis Desc</th>\n",
       "      <th>Weapon Used Cd</th>\n",
       "      <th>Weapon Desc</th>\n",
       "      <th>Status</th>\n",
       "      <th>Status Desc</th>\n",
       "      <th>Crm Cd 1</th>\n",
       "      <th>Crm Cd 2</th>\n",
       "      <th>Crm Cd 3</th>\n",
       "      <th>Crm Cd 4</th>\n",
       "      <th>LOCATION</th>\n",
       "      <th>Cross Street</th>\n",
       "      <th>LAT</th>\n",
       "      <th>LON</th>\n",
       "    </tr>\n",
       "  </thead>\n",
       "  <tbody>\n",
       "    <tr>\n",
       "      <th>986495</th>\n",
       "      <td>207.0</td>\n",
       "      <td>BAR/COCKTAIL/NIGHTCLUB</td>\n",
       "      <td>NaN</td>\n",
       "      <td>NaN</td>\n",
       "      <td>IC</td>\n",
       "      <td>Invest Cont</td>\n",
       "      <td>341.0</td>\n",
       "      <td>NaN</td>\n",
       "      <td>NaN</td>\n",
       "      <td>NaN</td>\n",
       "      <td>3700    WILSHIRE                     BL</td>\n",
       "      <td>NaN</td>\n",
       "      <td>34.0617</td>\n",
       "      <td>-118.3066</td>\n",
       "    </tr>\n",
       "    <tr>\n",
       "      <th>986496</th>\n",
       "      <td>101.0</td>\n",
       "      <td>STREET</td>\n",
       "      <td>NaN</td>\n",
       "      <td>NaN</td>\n",
       "      <td>IC</td>\n",
       "      <td>Invest Cont</td>\n",
       "      <td>510.0</td>\n",
       "      <td>NaN</td>\n",
       "      <td>NaN</td>\n",
       "      <td>NaN</td>\n",
       "      <td>4000 W  23RD                         ST</td>\n",
       "      <td>NaN</td>\n",
       "      <td>34.0362</td>\n",
       "      <td>-118.3284</td>\n",
       "    </tr>\n",
       "    <tr>\n",
       "      <th>986497</th>\n",
       "      <td>503.0</td>\n",
       "      <td>HOTEL</td>\n",
       "      <td>500.0</td>\n",
       "      <td>UNKNOWN WEAPON/OTHER WEAPON</td>\n",
       "      <td>IC</td>\n",
       "      <td>Invest Cont</td>\n",
       "      <td>745.0</td>\n",
       "      <td>NaN</td>\n",
       "      <td>NaN</td>\n",
       "      <td>NaN</td>\n",
       "      <td>1300 W  SUNSET                       BL</td>\n",
       "      <td>NaN</td>\n",
       "      <td>34.0685</td>\n",
       "      <td>-118.2460</td>\n",
       "    </tr>\n",
       "    <tr>\n",
       "      <th>986498</th>\n",
       "      <td>102.0</td>\n",
       "      <td>SIDEWALK</td>\n",
       "      <td>308.0</td>\n",
       "      <td>STICK</td>\n",
       "      <td>IC</td>\n",
       "      <td>Invest Cont</td>\n",
       "      <td>230.0</td>\n",
       "      <td>NaN</td>\n",
       "      <td>NaN</td>\n",
       "      <td>NaN</td>\n",
       "      <td>FLOWER                       ST</td>\n",
       "      <td>JEFFERSON                    BL</td>\n",
       "      <td>34.0215</td>\n",
       "      <td>-118.2868</td>\n",
       "    </tr>\n",
       "    <tr>\n",
       "      <th>986499</th>\n",
       "      <td>108.0</td>\n",
       "      <td>PARKING LOT</td>\n",
       "      <td>NaN</td>\n",
       "      <td>NaN</td>\n",
       "      <td>IC</td>\n",
       "      <td>Invest Cont</td>\n",
       "      <td>510.0</td>\n",
       "      <td>NaN</td>\n",
       "      <td>NaN</td>\n",
       "      <td>NaN</td>\n",
       "      <td>6900    VESPER                       AV</td>\n",
       "      <td>NaN</td>\n",
       "      <td>34.1961</td>\n",
       "      <td>-118.4510</td>\n",
       "    </tr>\n",
       "  </tbody>\n",
       "</table>\n",
       "</div>"
      ],
      "text/plain": [
       "        Premis Cd             Premis Desc  Weapon Used Cd  \\\n",
       "986495      207.0  BAR/COCKTAIL/NIGHTCLUB             NaN   \n",
       "986496      101.0                  STREET             NaN   \n",
       "986497      503.0                   HOTEL           500.0   \n",
       "986498      102.0                SIDEWALK           308.0   \n",
       "986499      108.0             PARKING LOT             NaN   \n",
       "\n",
       "                        Weapon Desc Status  Status Desc  Crm Cd 1  Crm Cd 2  \\\n",
       "986495                          NaN     IC  Invest Cont     341.0       NaN   \n",
       "986496                          NaN     IC  Invest Cont     510.0       NaN   \n",
       "986497  UNKNOWN WEAPON/OTHER WEAPON     IC  Invest Cont     745.0       NaN   \n",
       "986498                        STICK     IC  Invest Cont     230.0       NaN   \n",
       "986499                          NaN     IC  Invest Cont     510.0       NaN   \n",
       "\n",
       "        Crm Cd 3  Crm Cd 4                                 LOCATION  \\\n",
       "986495       NaN       NaN  3700    WILSHIRE                     BL   \n",
       "986496       NaN       NaN  4000 W  23RD                         ST   \n",
       "986497       NaN       NaN  1300 W  SUNSET                       BL   \n",
       "986498       NaN       NaN          FLOWER                       ST   \n",
       "986499       NaN       NaN  6900    VESPER                       AV   \n",
       "\n",
       "                           Cross Street      LAT       LON  \n",
       "986495                              NaN  34.0617 -118.3066  \n",
       "986496                              NaN  34.0362 -118.3284  \n",
       "986497                              NaN  34.0685 -118.2460  \n",
       "986498  JEFFERSON                    BL  34.0215 -118.2868  \n",
       "986499                              NaN  34.1961 -118.4510  "
      ]
     },
     "execution_count": 10,
     "metadata": {},
     "output_type": "execute_result"
    }
   ],
   "source": [
    "df.iloc[:,14:].tail()"
   ]
  },
  {
   "cell_type": "code",
   "execution_count": 11,
   "metadata": {
    "colab": {
     "base_uri": "https://localhost:8080/"
    },
    "id": "IcC9BGnDYApw",
    "outputId": "b704eeb3-aa08-4dfc-9852-f8c254295166"
   },
   "outputs": [
    {
     "name": "stdout",
     "output_type": "stream",
     "text": [
      "<class 'pandas.core.frame.DataFrame'>\n",
      "RangeIndex: 986500 entries, 0 to 986499\n",
      "Data columns (total 28 columns):\n",
      " #   Column          Non-Null Count   Dtype  \n",
      "---  ------          --------------   -----  \n",
      " 0   DR_NO           986500 non-null  int64  \n",
      " 1   Date Rptd       986500 non-null  object \n",
      " 2   DATE OCC        986500 non-null  object \n",
      " 3   TIME OCC        986500 non-null  int64  \n",
      " 4   AREA            986500 non-null  int64  \n",
      " 5   AREA NAME       986500 non-null  object \n",
      " 6   Rpt Dist No     986500 non-null  int64  \n",
      " 7   Part 1-2        986500 non-null  int64  \n",
      " 8   Crm Cd          986500 non-null  int64  \n",
      " 9   Crm Cd Desc     986500 non-null  object \n",
      " 10  Mocodes         840065 non-null  object \n",
      " 11  Vict Age        986500 non-null  int64  \n",
      " 12  Vict Sex        846925 non-null  object \n",
      " 13  Vict Descent    846914 non-null  object \n",
      " 14  Premis Cd       986486 non-null  float64\n",
      " 15  Premis Desc     985915 non-null  object \n",
      " 16  Weapon Used Cd  326368 non-null  float64\n",
      " 17  Weapon Desc     326368 non-null  object \n",
      " 18  Status          986499 non-null  object \n",
      " 19  Status Desc     986500 non-null  object \n",
      " 20  Crm Cd 1        986489 non-null  float64\n",
      " 21  Crm Cd 2        68912 non-null   float64\n",
      " 22  Crm Cd 3        2310 non-null    float64\n",
      " 23  Crm Cd 4        64 non-null      float64\n",
      " 24  LOCATION        986500 non-null  object \n",
      " 25  Cross Street    152270 non-null  object \n",
      " 26  LAT             986500 non-null  float64\n",
      " 27  LON             986500 non-null  float64\n",
      "dtypes: float64(8), int64(7), object(13)\n",
      "memory usage: 210.7+ MB\n"
     ]
    }
   ],
   "source": [
    "df.info()"
   ]
  },
  {
   "cell_type": "code",
   "execution_count": 12,
   "metadata": {
    "colab": {
     "base_uri": "https://localhost:8080/",
     "height": 300
    },
    "id": "G7AP9mrsYA5I",
    "outputId": "f7a543ae-0415-402a-b73c-67e3d4f1d644"
   },
   "outputs": [
    {
     "data": {
      "text/html": [
       "<div>\n",
       "<style scoped>\n",
       "    .dataframe tbody tr th:only-of-type {\n",
       "        vertical-align: middle;\n",
       "    }\n",
       "\n",
       "    .dataframe tbody tr th {\n",
       "        vertical-align: top;\n",
       "    }\n",
       "\n",
       "    .dataframe thead th {\n",
       "        text-align: right;\n",
       "    }\n",
       "</style>\n",
       "<table border=\"1\" class=\"dataframe\">\n",
       "  <thead>\n",
       "    <tr style=\"text-align: right;\">\n",
       "      <th></th>\n",
       "      <th>DR_NO</th>\n",
       "      <th>TIME OCC</th>\n",
       "      <th>AREA</th>\n",
       "      <th>Rpt Dist No</th>\n",
       "      <th>Part 1-2</th>\n",
       "      <th>Crm Cd</th>\n",
       "      <th>Vict Age</th>\n",
       "      <th>Premis Cd</th>\n",
       "      <th>Weapon Used Cd</th>\n",
       "      <th>Crm Cd 1</th>\n",
       "      <th>Crm Cd 2</th>\n",
       "      <th>Crm Cd 3</th>\n",
       "      <th>Crm Cd 4</th>\n",
       "      <th>LAT</th>\n",
       "      <th>LON</th>\n",
       "    </tr>\n",
       "  </thead>\n",
       "  <tbody>\n",
       "    <tr>\n",
       "      <th>count</th>\n",
       "      <td>9.865000e+05</td>\n",
       "      <td>986500.000000</td>\n",
       "      <td>986500.000000</td>\n",
       "      <td>986500.000000</td>\n",
       "      <td>986500.000000</td>\n",
       "      <td>986500.000000</td>\n",
       "      <td>986500.000000</td>\n",
       "      <td>986486.000000</td>\n",
       "      <td>326368.000000</td>\n",
       "      <td>986489.000000</td>\n",
       "      <td>68912.000000</td>\n",
       "      <td>2310.000000</td>\n",
       "      <td>64.00000</td>\n",
       "      <td>986500.000000</td>\n",
       "      <td>986500.000000</td>\n",
       "    </tr>\n",
       "    <tr>\n",
       "      <th>mean</th>\n",
       "      <td>2.198270e+08</td>\n",
       "      <td>1339.086392</td>\n",
       "      <td>10.698086</td>\n",
       "      <td>1116.245129</td>\n",
       "      <td>1.403666</td>\n",
       "      <td>500.782398</td>\n",
       "      <td>29.045177</td>\n",
       "      <td>306.054803</td>\n",
       "      <td>363.846008</td>\n",
       "      <td>500.538333</td>\n",
       "      <td>958.162091</td>\n",
       "      <td>984.198701</td>\n",
       "      <td>991.21875</td>\n",
       "      <td>33.996033</td>\n",
       "      <td>-118.083281</td>\n",
       "    </tr>\n",
       "    <tr>\n",
       "      <th>std</th>\n",
       "      <td>1.299240e+07</td>\n",
       "      <td>651.457178</td>\n",
       "      <td>6.108873</td>\n",
       "      <td>611.002343</td>\n",
       "      <td>0.490632</td>\n",
       "      <td>206.092913</td>\n",
       "      <td>21.976666</td>\n",
       "      <td>219.156166</td>\n",
       "      <td>123.699000</td>\n",
       "      <td>205.891829</td>\n",
       "      <td>110.250287</td>\n",
       "      <td>51.495991</td>\n",
       "      <td>27.06985</td>\n",
       "      <td>1.633543</td>\n",
       "      <td>5.661853</td>\n",
       "    </tr>\n",
       "    <tr>\n",
       "      <th>min</th>\n",
       "      <td>8.170000e+02</td>\n",
       "      <td>1.000000</td>\n",
       "      <td>1.000000</td>\n",
       "      <td>101.000000</td>\n",
       "      <td>1.000000</td>\n",
       "      <td>110.000000</td>\n",
       "      <td>-4.000000</td>\n",
       "      <td>101.000000</td>\n",
       "      <td>101.000000</td>\n",
       "      <td>110.000000</td>\n",
       "      <td>210.000000</td>\n",
       "      <td>310.000000</td>\n",
       "      <td>821.00000</td>\n",
       "      <td>0.000000</td>\n",
       "      <td>-118.667600</td>\n",
       "    </tr>\n",
       "    <tr>\n",
       "      <th>25%</th>\n",
       "      <td>2.106103e+08</td>\n",
       "      <td>900.000000</td>\n",
       "      <td>5.000000</td>\n",
       "      <td>587.000000</td>\n",
       "      <td>1.000000</td>\n",
       "      <td>331.000000</td>\n",
       "      <td>0.000000</td>\n",
       "      <td>101.000000</td>\n",
       "      <td>311.000000</td>\n",
       "      <td>331.000000</td>\n",
       "      <td>998.000000</td>\n",
       "      <td>998.000000</td>\n",
       "      <td>998.00000</td>\n",
       "      <td>34.014600</td>\n",
       "      <td>-118.430500</td>\n",
       "    </tr>\n",
       "    <tr>\n",
       "      <th>50%</th>\n",
       "      <td>2.208174e+08</td>\n",
       "      <td>1420.000000</td>\n",
       "      <td>11.000000</td>\n",
       "      <td>1141.000000</td>\n",
       "      <td>1.000000</td>\n",
       "      <td>442.000000</td>\n",
       "      <td>30.000000</td>\n",
       "      <td>203.000000</td>\n",
       "      <td>400.000000</td>\n",
       "      <td>442.000000</td>\n",
       "      <td>998.000000</td>\n",
       "      <td>998.000000</td>\n",
       "      <td>998.00000</td>\n",
       "      <td>34.058900</td>\n",
       "      <td>-118.322500</td>\n",
       "    </tr>\n",
       "    <tr>\n",
       "      <th>75%</th>\n",
       "      <td>2.310049e+08</td>\n",
       "      <td>1900.000000</td>\n",
       "      <td>16.000000</td>\n",
       "      <td>1617.000000</td>\n",
       "      <td>2.000000</td>\n",
       "      <td>626.000000</td>\n",
       "      <td>44.000000</td>\n",
       "      <td>501.000000</td>\n",
       "      <td>400.000000</td>\n",
       "      <td>626.000000</td>\n",
       "      <td>998.000000</td>\n",
       "      <td>998.000000</td>\n",
       "      <td>998.00000</td>\n",
       "      <td>34.164900</td>\n",
       "      <td>-118.273900</td>\n",
       "    </tr>\n",
       "    <tr>\n",
       "      <th>max</th>\n",
       "      <td>2.499289e+08</td>\n",
       "      <td>2359.000000</td>\n",
       "      <td>21.000000</td>\n",
       "      <td>2199.000000</td>\n",
       "      <td>2.000000</td>\n",
       "      <td>956.000000</td>\n",
       "      <td>120.000000</td>\n",
       "      <td>976.000000</td>\n",
       "      <td>516.000000</td>\n",
       "      <td>956.000000</td>\n",
       "      <td>999.000000</td>\n",
       "      <td>999.000000</td>\n",
       "      <td>999.00000</td>\n",
       "      <td>34.334300</td>\n",
       "      <td>0.000000</td>\n",
       "    </tr>\n",
       "  </tbody>\n",
       "</table>\n",
       "</div>"
      ],
      "text/plain": [
       "              DR_NO       TIME OCC           AREA    Rpt Dist No  \\\n",
       "count  9.865000e+05  986500.000000  986500.000000  986500.000000   \n",
       "mean   2.198270e+08    1339.086392      10.698086    1116.245129   \n",
       "std    1.299240e+07     651.457178       6.108873     611.002343   \n",
       "min    8.170000e+02       1.000000       1.000000     101.000000   \n",
       "25%    2.106103e+08     900.000000       5.000000     587.000000   \n",
       "50%    2.208174e+08    1420.000000      11.000000    1141.000000   \n",
       "75%    2.310049e+08    1900.000000      16.000000    1617.000000   \n",
       "max    2.499289e+08    2359.000000      21.000000    2199.000000   \n",
       "\n",
       "            Part 1-2         Crm Cd       Vict Age      Premis Cd  \\\n",
       "count  986500.000000  986500.000000  986500.000000  986486.000000   \n",
       "mean        1.403666     500.782398      29.045177     306.054803   \n",
       "std         0.490632     206.092913      21.976666     219.156166   \n",
       "min         1.000000     110.000000      -4.000000     101.000000   \n",
       "25%         1.000000     331.000000       0.000000     101.000000   \n",
       "50%         1.000000     442.000000      30.000000     203.000000   \n",
       "75%         2.000000     626.000000      44.000000     501.000000   \n",
       "max         2.000000     956.000000     120.000000     976.000000   \n",
       "\n",
       "       Weapon Used Cd       Crm Cd 1      Crm Cd 2     Crm Cd 3   Crm Cd 4  \\\n",
       "count   326368.000000  986489.000000  68912.000000  2310.000000   64.00000   \n",
       "mean       363.846008     500.538333    958.162091   984.198701  991.21875   \n",
       "std        123.699000     205.891829    110.250287    51.495991   27.06985   \n",
       "min        101.000000     110.000000    210.000000   310.000000  821.00000   \n",
       "25%        311.000000     331.000000    998.000000   998.000000  998.00000   \n",
       "50%        400.000000     442.000000    998.000000   998.000000  998.00000   \n",
       "75%        400.000000     626.000000    998.000000   998.000000  998.00000   \n",
       "max        516.000000     956.000000    999.000000   999.000000  999.00000   \n",
       "\n",
       "                 LAT            LON  \n",
       "count  986500.000000  986500.000000  \n",
       "mean       33.996033    -118.083281  \n",
       "std         1.633543       5.661853  \n",
       "min         0.000000    -118.667600  \n",
       "25%        34.014600    -118.430500  \n",
       "50%        34.058900    -118.322500  \n",
       "75%        34.164900    -118.273900  \n",
       "max        34.334300       0.000000  "
      ]
     },
     "execution_count": 12,
     "metadata": {},
     "output_type": "execute_result"
    }
   ],
   "source": [
    "df.describe()"
   ]
  },
  {
   "cell_type": "code",
   "execution_count": 13,
   "metadata": {
    "colab": {
     "base_uri": "https://localhost:8080/"
    },
    "id": "slgh6vjHYkMt",
    "outputId": "7d2da338-0c9d-42bc-d638-c8d41bb47e3e"
   },
   "outputs": [
    {
     "name": "stdout",
     "output_type": "stream",
     "text": [
      "--- Date Rptd ---\n",
      "['03/01/2020 12:00:00 AM' '02/09/2020 12:00:00 AM'\n",
      " '11/11/2020 12:00:00 AM' '05/10/2023 12:00:00 AM'\n",
      " '08/18/2022 12:00:00 AM' '04/04/2023 12:00:00 AM'\n",
      " '07/22/2022 12:00:00 AM' '04/28/2023 12:00:00 AM'\n",
      " '12/31/2020 12:00:00 AM' '01/21/2022 12:00:00 AM'\n",
      " '04/12/2022 12:00:00 AM' '01/05/2023 12:00:00 AM'\n",
      " '05/06/2022 12:00:00 AM' '06/01/2023 12:00:00 AM'\n",
      " '02/03/2023 12:00:00 AM' '12/24/2023 12:00:00 AM'\n",
      " '11/27/2020 12:00:00 AM' '09/20/2022 12:00:00 AM'\n",
      " '02/03/2022 12:00:00 AM' '04/25/2023 12:00:00 AM'\n",
      " '03/21/2023 12:00:00 AM' '06/04/2023 12:00:00 AM'\n",
      " '09/09/2020 12:00:00 AM' '08/03/2023 12:00:00 AM'\n",
      " '02/02/2022 12:00:00 AM' '02/23/2022 12:00:00 AM'\n",
      " '05/03/2020 12:00:00 AM' '03/20/2021 12:00:00 AM'\n",
      " '04/28/2022 12:00:00 AM' '02/27/2023 12:00:00 AM'\n",
      " '01/17/2023 12:00:00 AM' '05/09/2023 12:00:00 AM'\n",
      " '01/19/2022 12:00:00 AM' '09/06/2022 12:00:00 AM'\n",
      " '09/27/2021 12:00:00 AM' '10/22/2021 12:00:00 AM'\n",
      " '10/10/2022 12:00:00 AM' '03/28/2023 12:00:00 AM'\n",
      " '10/25/2023 12:00:00 AM' '11/15/2022 12:00:00 AM'\n",
      " '04/18/2023 12:00:00 AM' '03/30/2022 12:00:00 AM'\n",
      " '01/06/2022 12:00:00 AM' '06/03/2022 12:00:00 AM'\n",
      " '07/26/2022 12:00:00 AM' '03/03/2023 12:00:00 AM'\n",
      " '12/13/2022 12:00:00 AM' '07/07/2022 12:00:00 AM'\n",
      " '04/27/2022 12:00:00 AM' '07/14/2022 12:00:00 AM']\n",
      "\n",
      "\n",
      "--- DATE OCC ---\n",
      "['03/01/2020 12:00:00 AM' '02/08/2020 12:00:00 AM'\n",
      " '11/04/2020 12:00:00 AM' '03/10/2020 12:00:00 AM'\n",
      " '08/17/2020 12:00:00 AM' '12/01/2020 12:00:00 AM'\n",
      " '07/03/2020 12:00:00 AM' '05/12/2020 12:00:00 AM'\n",
      " '12/09/2020 12:00:00 AM' '12/31/2020 12:00:00 AM'\n",
      " '07/01/2020 12:00:00 AM' '10/01/2020 12:00:00 AM'\n",
      " '02/01/2020 12:00:00 AM' '11/01/2020 12:00:00 AM'\n",
      " '02/02/2020 12:00:00 AM' '01/09/2020 12:00:00 AM'\n",
      " '11/27/2020 12:00:00 AM' '01/01/2020 12:00:00 AM'\n",
      " '02/11/2020 12:00:00 AM' '03/15/2020 12:00:00 AM'\n",
      " '09/09/2020 12:00:00 AM' '02/09/2020 12:00:00 AM'\n",
      " '08/14/2020 12:00:00 AM' '05/02/2020 12:00:00 AM'\n",
      " '03/30/2020 12:00:00 AM' '01/27/2020 12:00:00 AM'\n",
      " '05/08/2020 12:00:00 AM' '01/18/2020 12:00:00 AM'\n",
      " '05/26/2020 12:00:00 AM' '11/26/2020 12:00:00 AM'\n",
      " '04/01/2020 12:00:00 AM' '06/28/2020 12:00:00 AM'\n",
      " '09/02/2020 12:00:00 AM' '10/23/2020 12:00:00 AM'\n",
      " '10/30/2020 12:00:00 AM' '12/10/2020 12:00:00 AM'\n",
      " '01/14/2020 12:00:00 AM' '05/17/2020 12:00:00 AM'\n",
      " '02/23/2020 12:00:00 AM' '07/07/2020 12:00:00 AM'\n",
      " '07/14/2020 12:00:00 AM' '08/01/2020 12:00:00 AM'\n",
      " '06/01/2020 12:00:00 AM' '11/13/2020 12:00:00 AM'\n",
      " '11/12/2020 12:00:00 AM' '03/29/2020 12:00:00 AM'\n",
      " '07/09/2020 12:00:00 AM' '12/20/2020 12:00:00 AM'\n",
      " '09/13/2020 12:00:00 AM' '12/02/2020 12:00:00 AM']\n",
      "\n",
      "\n",
      "--- AREA NAME ---\n",
      "['Wilshire' 'Central' 'Southwest' 'Van Nuys' 'Hollywood' 'Southeast'\n",
      " 'Newton' 'Mission' 'Rampart' 'West Valley' 'West LA' 'Olympic'\n",
      " 'Hollenbeck' 'Topanga' 'Northeast' '77th Street' 'Pacific' 'N Hollywood'\n",
      " 'Harbor' 'Foothill' 'Devonshire']\n",
      "\n",
      "\n",
      "--- Crm Cd Desc ---\n",
      "['VEHICLE - STOLEN' 'BURGLARY FROM VEHICLE' 'BIKE - STOLEN'\n",
      " 'SHOPLIFTING-GRAND THEFT ($950.01 & OVER)' 'THEFT OF IDENTITY'\n",
      " 'BATTERY - SIMPLE ASSAULT'\n",
      " 'SODOMY/SEXUAL CONTACT B/W PENIS OF ONE PERS TO ANUS OTH'\n",
      " 'CRM AGNST CHLD (13 OR UNDER) (14-15 & SUSP 10 YRS OLDER)'\n",
      " 'ASSAULT WITH DEADLY WEAPON, AGGRAVATED ASSAULT'\n",
      " 'LETTERS, LEWD  -  TELEPHONE CALLS, LEWD'\n",
      " 'THEFT-GRAND ($950.01 & OVER)EXCPT,GUNS,FOWL,LIVESTK,PROD'\n",
      " 'CRIMINAL THREATS - NO WEAPON DISPLAYED'\n",
      " 'EMBEZZLEMENT, GRAND THEFT ($950.01 & OVER)'\n",
      " 'THEFT FROM MOTOR VEHICLE - PETTY ($950 & UNDER)'\n",
      " 'CHILD ANNOYING (17YRS & UNDER)' 'THEFT PLAIN - PETTY ($950 & UNDER)'\n",
      " 'INTIMATE PARTNER - SIMPLE ASSAULT' 'LEWD CONDUCT'\n",
      " 'THEFT PLAIN - ATTEMPT' 'BURGLARY'\n",
      " 'THEFT FROM MOTOR VEHICLE - GRAND ($950.01 AND OVER)' 'ROBBERY'\n",
      " 'BUNCO, GRAND THEFT' 'BATTERY WITH SEXUAL CONTACT'\n",
      " 'INTIMATE PARTNER - AGGRAVATED ASSAULT' 'ORAL COPULATION'\n",
      " 'UNAUTHORIZED COMPUTER ACCESS'\n",
      " 'SEX,UNLAWFUL(INC MUTUAL CONSENT, PENETRATION W/ FRGN OBJ'\n",
      " 'VIOLATION OF RESTRAINING ORDER'\n",
      " 'SHOPLIFTING - PETTY THEFT ($950 & UNDER)'\n",
      " 'VANDALISM - FELONY ($400 & OVER, ALL CHURCH VANDALISMS)'\n",
      " 'OTHER MISCELLANEOUS CRIME' 'BRANDISH WEAPON'\n",
      " 'DOCUMENT FORGERY / STOLEN FELONY'\n",
      " 'SEX OFFENDER REGISTRANT OUT OF COMPLIANCE' 'RAPE, FORCIBLE'\n",
      " 'VANDALISM - MISDEAMEANOR ($399 OR UNDER)'\n",
      " 'CHILD ABUSE (PHYSICAL) - SIMPLE ASSAULT'\n",
      " 'CREDIT CARDS, FRAUD USE ($950.01 & OVER)'\n",
      " 'THREATENING PHONE CALLS/LETTERS' 'SEXUAL PENETRATION W/FOREIGN OBJECT'\n",
      " 'EXTORTION' 'OTHER ASSAULT' 'PICKPOCKET' 'ARSON' 'DISTURBING THE PEACE'\n",
      " 'BUNCO, ATTEMPT' 'HUMAN TRAFFICKING - INVOLUNTARY SERVITUDE' 'PIMPING'\n",
      " 'PEEPING TOM']\n",
      "\n",
      "\n",
      "--- Mocodes ---\n",
      "['1822 1402 0344' '0344 1251' '0325 1501' '1822 1501 0930 2004'\n",
      " '1822 0100 0930 0929' '0930 0929' '0100' '0416' '1822 0930'\n",
      " '0913 2024 1817 0360 1258 0507' '1251 1258 0913 0400 0500 0522 1817'\n",
      " '0100 0928 0929 0935 1822' '0928 1822' '1309 0400' '2041 1906 1822'\n",
      " '0352 1822 0344' '1259 0913 1817 1801 0503'\n",
      " '1251 1258 0400 0522 0913 0551 2021' '1822 0929 0930' '1912 0913' '0928'\n",
      " '2000 1813 0913 0416' '0100 0917 1822' '0100 0928' '0344 1302 1307'\n",
      " '0913 0400 0443 1814 2000' '0100 1822 0930 0922' '0377' '0917'\n",
      " '1822 0935 1202' '0930 0929 0928 1822' '1822 0359 1251 1259'\n",
      " '0522 0500 1258' '0922 0929 0923 0930' '0929 1822 0100 0930 0922'\n",
      " '0344 1202 1606' '0100 0928 1202' '1817' '0344' '0917 0929' '1501'\n",
      " '1822 1414 0947 0344' '1814 0913 0400' '0929 1822' '0923'\n",
      " '0913 0602 0360 0545 0536 0531 1258' '0352 0344 1202 2004 2021 0913 1817'\n",
      " '1822 0929' '0397 0344' '0100 0930 1822']\n",
      "\n",
      "\n",
      "--- Vict Sex ---\n",
      "['M' 'X' 'F' 'H' '-']\n",
      "\n",
      "\n",
      "--- Vict Descent ---\n",
      "['O' 'X' 'H' 'B' 'W' 'A' 'K' 'C' 'J' 'F' 'I' 'V' 'S' 'P' 'Z' 'G' 'U' 'D'\n",
      " 'L' '-']\n",
      "\n",
      "\n",
      "--- Premis Desc ---\n",
      "['STREET' 'BUS STOP/LAYOVER (ALSO QUERY 124)'\n",
      " 'MULTI-UNIT DWELLING (APARTMENT, DUPLEX, ETC)' 'CLOTHING STORE'\n",
      " 'SIDEWALK' 'SINGLE FAMILY DWELLING' 'CELL PHONE STORE' 'CYBERSPACE'\n",
      " 'WEBSITE' 'OTHER BUSINESS' 'PARKING LOT' 'OTHER RESIDENCE'\n",
      " 'AUTOMATED TELLER MACHINE (ATM)' 'DEPARTMENT STORE' 'PUBLIC STORAGE'\n",
      " 'GARAGE/CARPORT' 'OFFICE BUILDING/OFFICE' 'EQUIPMENT RENTAL'\n",
      " 'POLICE FACILITY' 'MTA BUS' 'SPECIALTY SCHOOL/OTHER' 'BANK'\n",
      " 'GOVERNMENT FACILITY (FEDERAL,STATE, COUNTY & CITY)' 'SKATING RINK*'\n",
      " 'BUS STOP' 'JUNIOR HIGH SCHOOL' 'OTHER/OUTSIDE' 'ALLEY'\n",
      " 'VEHICLE, PASSENGER/TRUCK' 'ABANDONED BUILDING ABANDONED HOUSE'\n",
      " 'TRANSPORTATION FACILITY (AIRPORT)' 'MOTEL' 'HOSPITAL'\n",
      " 'BUS, SCHOOL, CHURCH' 'OTHER PREMISE' 'STORAGE SHED' 'OTHER STORE'\n",
      " 'HIGH SCHOOL' 'MAIL BOX' 'HOTEL' 'NIGHT CLUB (OPEN EVENINGS ONLY)'\n",
      " 'FINANCE COMPANY' 'PARK/PLAYGROUND' 'COLISEUM' 'HEALTH SPA/GYM'\n",
      " 'CHURCH/CHAPEL (CHANGED 03-03 FROM CHURCH/TEMPLE)' 'DRIVEWAY'\n",
      " 'UNDERPASS/BRIDGE*' 'JEWELRY STORE' 'BANKING INSIDE MARKET-STORE *']\n",
      "\n",
      "\n",
      "--- Weapon Desc ---\n",
      "['STRONG-ARM (HANDS, FIST, FEET OR BODILY FORCE)' 'VEHICLE'\n",
      " 'UNKNOWN WEAPON/OTHER WEAPON' 'VERBAL THREAT'\n",
      " 'BELT FLAILING INSTRUMENT/CHAIN' 'HAND GUN' 'UNKNOWN FIREARM'\n",
      " 'KNIFE WITH BLADE 6INCHES OR LESS' 'FIXED OBJECT' 'KITCHEN KNIFE'\n",
      " 'MACHETE' 'UNKNOWN TYPE CUTTING INSTRUMENT' 'MACE/PEPPER SPRAY' 'STICK'\n",
      " 'OTHER KNIFE' 'PHYSICAL PRESENCE'\n",
      " 'KNIFE WITH BLADE OVER 6 INCHES IN LENGTH' 'HAMMER'\n",
      " 'AIR PISTOL/REVOLVER/RIFLE/BB GUN' 'SEMI-AUTOMATIC PISTOL'\n",
      " 'SIMULATED GUN' 'RAZOR' 'OTHER FIREARM' 'FOLDING KNIFE' 'PIPE/METAL PIPE'\n",
      " 'ROCK/THROWN OBJECT' 'RIFLE' 'OTHER CUTTING INSTRUMENT' 'FIRE' 'REVOLVER'\n",
      " 'BOTTLE' 'SCISSORS' 'SWITCH BLADE' 'BRASS KNUCKLES' 'CLUB/BAT'\n",
      " 'BLUNT INSTRUMENT' 'BOARD' 'STUN GUN' 'CLEAVER' 'RAZOR BLADE'\n",
      " 'SCREWDRIVER' 'SHOTGUN' 'CONCRETE BLOCK/BRICK' 'CAUSTIC CHEMICAL/POISON'\n",
      " 'SEMI-AUTOMATIC RIFLE' 'SCALDING LIQUID' 'TIRE IRON' 'BOWIE KNIFE'\n",
      " 'GLASS' 'AXE']\n",
      "\n",
      "\n",
      "--- Status ---\n",
      "['AA' 'IC' 'AO' 'JA' 'JO' 'CC']\n",
      "\n",
      "\n",
      "--- Status Desc ---\n",
      "['Adult Arrest' 'Invest Cont' 'Adult Other' 'Juv Arrest' 'Juv Other' 'UNK']\n",
      "\n",
      "\n",
      "--- LOCATION ---\n",
      "['1900 S  LONGWOOD                     AV'\n",
      " '1000 S  FLOWER                       ST'\n",
      " '1400 W  37TH                         ST'\n",
      " '14000    RIVERSIDE                    DR' '1900    TRANSIENT'\n",
      " '9900    COMPTON                      AV'\n",
      " '1100 S  GRAND                        AV'\n",
      " '2500 S  SYCAMORE                     AV'\n",
      " '1300 E  57TH                         ST'\n",
      " '9000    CEDROS                       AV'\n",
      " '100 W  COLDEN                       AV'\n",
      " '13400    RANGOON                      ST'\n",
      " '900 N  MARIPOSA                     AV'\n",
      " 'VALJEAN                      ST'\n",
      " '4200    SANTO TOMAS                  DR'\n",
      " '400 W  90TH                         ST'\n",
      " '4000    WALL                         ST'\n",
      " '4500    LOMITA                       ST'\n",
      " '5200    GENESTA                      AV'\n",
      " '800 S  TREMAINE                     AV'\n",
      " '16700    MONTE HERMOSO                DR'\n",
      " '8500    COLUMBUS                     AV'\n",
      " '1700 S  WESTMORELAND                 AV' '200 E  AVENUE 28'\n",
      " '21000    VANOWEN                      ST'\n",
      " '2800    WAVERLY                      DR'\n",
      " '7700    SAUSALITO                    AV'\n",
      " '2500 W  4TH                          ST'\n",
      " '1600 W  67TH                         ST'\n",
      " '1200 S  WESTGATE                     AV'\n",
      " '6200    4TH                          AV'\n",
      " '100 E  85TH                         ST'\n",
      " '2800 E  OBSERVATORY                  RD'\n",
      " 'WASHINGTON                   PL'\n",
      " '200 S  CORONADO                     ST'\n",
      " '7800 S  SAN PEDRO                    ST'\n",
      " '8700    ORCHARD                      AV'\n",
      " '5700    CARTWRIGHT                   AV'\n",
      " '3400    PERCY                        ST'\n",
      " '8700    TOBIAS                       AV'\n",
      " '17900    EMELITA                      ST'\n",
      " '700 E  73RD                         ST'\n",
      " '1100 W  6TH                          ST'\n",
      " '5700    COLFAX                       AV'\n",
      " '2700 S  CENTRAL                      AV'\n",
      " '15200    LA MAIDA                     ST'\n",
      " '14500    WILLOWGREEN                  LN'\n",
      " '1400 W  25TH                         ST'\n",
      " '500 W  75TH                         ST'\n",
      " '2300 S  MEYLER                       ST']\n",
      "\n",
      "\n",
      "--- Cross Street ---\n",
      "['VANOWEN                      AV' 'INGLEWOOD'\n",
      " 'GLADYS                       AV' 'WALL'\n",
      " '43RD                         ST' 'LEXINGTON' 'OSBORNE' 'ENCINO'\n",
      " 'ROSCOE                       BL' 'BLUFF CREEK                  DR'\n",
      " 'BASSETT' 'FOUNTAIN' 'SAN PEDRO                    ST'\n",
      " 'HIGHLAND                     AV' 'MAHAR'\n",
      " 'CRYSTAL SPRINGS              DR' 'VENTURA' 'SPENCE'\n",
      " 'WINNETKA                     AV' 'WOODMAN' 'EL CENTRO' 'WADSWORTH'\n",
      " 'GAGE' 'WESTERN' 'CANBY                        ST'\n",
      " 'W  SLAUSON                      AV' 'PARTHENIA                    ST'\n",
      " 'DE SOTO' 'DIVISION' 'CROCKER' 'RANCHITO'\n",
      " 'CLUBHOUSE                    AV' 'UNKNOWN' 'ATOLL'\n",
      " '29TH                         ST' 'N  SPRING                       ST'\n",
      " 'BROADWAY' 'CENTRAL                      AV' 'MAIN'\n",
      " '11TH                         ST' 'WESTERN                      AV'\n",
      " 'ELMER' '84TH                         ST'\n",
      " 'GRIFFITH                     AV' 'S  BROADWAY' '24TH'\n",
      " 'DONA LOLA                    DR' 'HOOVER'\n",
      " '33RD                         ST' 'CENTURY PARK']\n",
      "\n",
      "\n"
     ]
    }
   ],
   "source": [
    "# Exploración de primeros 50 valores únicos solo para variables categóricas\n",
    "for col in df.select_dtypes(include='object').columns:\n",
    "    print(f\"--- {col} ---\")\n",
    "    print(df[col].dropna().unique()[:50])  # Primeros 50 valores únicos\n",
    "    print(\"\\n\")\n",
    "\n"
   ]
  },
  {
   "cell_type": "code",
   "execution_count": 4,
   "metadata": {
    "colab": {
     "base_uri": "https://localhost:8080/",
     "height": 429
    },
    "id": "y8YHxNcauhEC",
    "outputId": "68bf858a-760c-48e4-9833-3a0bb06e68fa"
   },
   "outputs": [
    {
     "data": {
      "text/html": [
       "<div>\n",
       "<style scoped>\n",
       "    .dataframe tbody tr th:only-of-type {\n",
       "        vertical-align: middle;\n",
       "    }\n",
       "\n",
       "    .dataframe tbody tr th {\n",
       "        vertical-align: top;\n",
       "    }\n",
       "\n",
       "    .dataframe thead th {\n",
       "        text-align: right;\n",
       "    }\n",
       "</style>\n",
       "<table border=\"1\" class=\"dataframe\">\n",
       "  <thead>\n",
       "    <tr style=\"text-align: right;\">\n",
       "      <th></th>\n",
       "      <th>id_report</th>\n",
       "      <th>date_report</th>\n",
       "      <th>date_ocurrance</th>\n",
       "      <th>time_ocurrance</th>\n",
       "      <th>area_code</th>\n",
       "      <th>area_name</th>\n",
       "      <th>district</th>\n",
       "      <th>crime_severity</th>\n",
       "      <th>crime_code</th>\n",
       "      <th>crime_desc</th>\n",
       "      <th>...</th>\n",
       "      <th>case_status_code</th>\n",
       "      <th>case_status_desc</th>\n",
       "      <th>crime_code_1</th>\n",
       "      <th>crime_code_2</th>\n",
       "      <th>crime_code_3</th>\n",
       "      <th>crime_code_4</th>\n",
       "      <th>location</th>\n",
       "      <th>cross_street</th>\n",
       "      <th>latitude</th>\n",
       "      <th>longitude</th>\n",
       "    </tr>\n",
       "  </thead>\n",
       "  <tbody>\n",
       "    <tr>\n",
       "      <th>0</th>\n",
       "      <td>190326475</td>\n",
       "      <td>03/01/2020 12:00:00 AM</td>\n",
       "      <td>03/01/2020 12:00:00 AM</td>\n",
       "      <td>2130</td>\n",
       "      <td>7</td>\n",
       "      <td>Wilshire</td>\n",
       "      <td>784</td>\n",
       "      <td>1</td>\n",
       "      <td>510</td>\n",
       "      <td>VEHICLE - STOLEN</td>\n",
       "      <td>...</td>\n",
       "      <td>AA</td>\n",
       "      <td>Adult Arrest</td>\n",
       "      <td>510.0</td>\n",
       "      <td>998.0</td>\n",
       "      <td>NaN</td>\n",
       "      <td>NaN</td>\n",
       "      <td>1900 S  LONGWOOD                     AV</td>\n",
       "      <td>NaN</td>\n",
       "      <td>34.0375</td>\n",
       "      <td>-118.3506</td>\n",
       "    </tr>\n",
       "    <tr>\n",
       "      <th>1</th>\n",
       "      <td>200106753</td>\n",
       "      <td>02/09/2020 12:00:00 AM</td>\n",
       "      <td>02/08/2020 12:00:00 AM</td>\n",
       "      <td>1800</td>\n",
       "      <td>1</td>\n",
       "      <td>Central</td>\n",
       "      <td>182</td>\n",
       "      <td>1</td>\n",
       "      <td>330</td>\n",
       "      <td>BURGLARY FROM VEHICLE</td>\n",
       "      <td>...</td>\n",
       "      <td>IC</td>\n",
       "      <td>Invest Cont</td>\n",
       "      <td>330.0</td>\n",
       "      <td>998.0</td>\n",
       "      <td>NaN</td>\n",
       "      <td>NaN</td>\n",
       "      <td>1000 S  FLOWER                       ST</td>\n",
       "      <td>NaN</td>\n",
       "      <td>34.0444</td>\n",
       "      <td>-118.2628</td>\n",
       "    </tr>\n",
       "    <tr>\n",
       "      <th>2</th>\n",
       "      <td>200320258</td>\n",
       "      <td>11/11/2020 12:00:00 AM</td>\n",
       "      <td>11/04/2020 12:00:00 AM</td>\n",
       "      <td>1700</td>\n",
       "      <td>3</td>\n",
       "      <td>Southwest</td>\n",
       "      <td>356</td>\n",
       "      <td>1</td>\n",
       "      <td>480</td>\n",
       "      <td>BIKE - STOLEN</td>\n",
       "      <td>...</td>\n",
       "      <td>IC</td>\n",
       "      <td>Invest Cont</td>\n",
       "      <td>480.0</td>\n",
       "      <td>NaN</td>\n",
       "      <td>NaN</td>\n",
       "      <td>NaN</td>\n",
       "      <td>1400 W  37TH                         ST</td>\n",
       "      <td>NaN</td>\n",
       "      <td>34.0210</td>\n",
       "      <td>-118.3002</td>\n",
       "    </tr>\n",
       "    <tr>\n",
       "      <th>3</th>\n",
       "      <td>200907217</td>\n",
       "      <td>05/10/2023 12:00:00 AM</td>\n",
       "      <td>03/10/2020 12:00:00 AM</td>\n",
       "      <td>2037</td>\n",
       "      <td>9</td>\n",
       "      <td>Van Nuys</td>\n",
       "      <td>964</td>\n",
       "      <td>1</td>\n",
       "      <td>343</td>\n",
       "      <td>SHOPLIFTING-GRAND THEFT ($950.01 &amp; OVER)</td>\n",
       "      <td>...</td>\n",
       "      <td>IC</td>\n",
       "      <td>Invest Cont</td>\n",
       "      <td>343.0</td>\n",
       "      <td>NaN</td>\n",
       "      <td>NaN</td>\n",
       "      <td>NaN</td>\n",
       "      <td>14000    RIVERSIDE                    DR</td>\n",
       "      <td>NaN</td>\n",
       "      <td>34.1576</td>\n",
       "      <td>-118.4387</td>\n",
       "    </tr>\n",
       "    <tr>\n",
       "      <th>4</th>\n",
       "      <td>220614831</td>\n",
       "      <td>08/18/2022 12:00:00 AM</td>\n",
       "      <td>08/17/2020 12:00:00 AM</td>\n",
       "      <td>1200</td>\n",
       "      <td>6</td>\n",
       "      <td>Hollywood</td>\n",
       "      <td>666</td>\n",
       "      <td>2</td>\n",
       "      <td>354</td>\n",
       "      <td>THEFT OF IDENTITY</td>\n",
       "      <td>...</td>\n",
       "      <td>IC</td>\n",
       "      <td>Invest Cont</td>\n",
       "      <td>354.0</td>\n",
       "      <td>NaN</td>\n",
       "      <td>NaN</td>\n",
       "      <td>NaN</td>\n",
       "      <td>1900    TRANSIENT</td>\n",
       "      <td>NaN</td>\n",
       "      <td>34.0944</td>\n",
       "      <td>-118.3277</td>\n",
       "    </tr>\n",
       "  </tbody>\n",
       "</table>\n",
       "<p>5 rows × 28 columns</p>\n",
       "</div>"
      ],
      "text/plain": [
       "   id_report             date_report          date_ocurrance  time_ocurrance  \\\n",
       "0  190326475  03/01/2020 12:00:00 AM  03/01/2020 12:00:00 AM            2130   \n",
       "1  200106753  02/09/2020 12:00:00 AM  02/08/2020 12:00:00 AM            1800   \n",
       "2  200320258  11/11/2020 12:00:00 AM  11/04/2020 12:00:00 AM            1700   \n",
       "3  200907217  05/10/2023 12:00:00 AM  03/10/2020 12:00:00 AM            2037   \n",
       "4  220614831  08/18/2022 12:00:00 AM  08/17/2020 12:00:00 AM            1200   \n",
       "\n",
       "   area_code  area_name  district  crime_severity  crime_code  \\\n",
       "0          7   Wilshire       784               1         510   \n",
       "1          1    Central       182               1         330   \n",
       "2          3  Southwest       356               1         480   \n",
       "3          9   Van Nuys       964               1         343   \n",
       "4          6  Hollywood       666               2         354   \n",
       "\n",
       "                                 crime_desc  ... case_status_code  \\\n",
       "0                          VEHICLE - STOLEN  ...               AA   \n",
       "1                     BURGLARY FROM VEHICLE  ...               IC   \n",
       "2                             BIKE - STOLEN  ...               IC   \n",
       "3  SHOPLIFTING-GRAND THEFT ($950.01 & OVER)  ...               IC   \n",
       "4                         THEFT OF IDENTITY  ...               IC   \n",
       "\n",
       "   case_status_desc crime_code_1 crime_code_2  crime_code_3 crime_code_4  \\\n",
       "0      Adult Arrest        510.0        998.0           NaN          NaN   \n",
       "1       Invest Cont        330.0        998.0           NaN          NaN   \n",
       "2       Invest Cont        480.0          NaN           NaN          NaN   \n",
       "3       Invest Cont        343.0          NaN           NaN          NaN   \n",
       "4       Invest Cont        354.0          NaN           NaN          NaN   \n",
       "\n",
       "                                   location cross_street latitude longitude  \n",
       "0   1900 S  LONGWOOD                     AV          NaN  34.0375 -118.3506  \n",
       "1   1000 S  FLOWER                       ST          NaN  34.0444 -118.2628  \n",
       "2   1400 W  37TH                         ST          NaN  34.0210 -118.3002  \n",
       "3  14000    RIVERSIDE                    DR          NaN  34.1576 -118.4387  \n",
       "4                         1900    TRANSIENT          NaN  34.0944 -118.3277  \n",
       "\n",
       "[5 rows x 28 columns]"
      ]
     },
     "execution_count": 4,
     "metadata": {},
     "output_type": "execute_result"
    }
   ],
   "source": [
    "# Vamos a renombrar las columnas para hacerlas más comprensibles, se trata de un cambio en el Diccionario\n",
    "rename_columns = {\n",
    "    'DR_NO': 'id_report',\n",
    "    'Date Rptd': 'date_report',\n",
    "    'DATE OCC': 'date_ocurrance',\n",
    "    'TIME OCC': 'time_ocurrance',\n",
    "    'AREA': 'area_code',\n",
    "    'AREA NAME': 'area_name',\n",
    "    'Rpt Dist No': 'district',\n",
    "    'Part 1-2': 'crime_severity',\n",
    "    'Crm Cd': 'crime_code',\n",
    "    'Crm Cd Desc': 'crime_desc',\n",
    "    'Mocodes': 'crime_mo',\n",
    "    'Vict Age': 'age_victim',\n",
    "    'Vict Sex': 'sex_victim',\n",
    "    'Vict Descent': 'descent_victim',\n",
    "    'Premis Cd': 'loc_code',\n",
    "    'Premis Desc': 'loc_desc',\n",
    "    'Weapon Used Cd': 'weapon_code',\n",
    "    'Weapon Desc': 'weapon_desc',\n",
    "    'Status': 'case_status_code',\n",
    "    'Status Desc': 'case_status_desc',\n",
    "    'Crm Cd 1': 'crime_code_1',\n",
    "    'Crm Cd 2': 'crime_code_2',\n",
    "    'Crm Cd 3': 'crime_code_3',\n",
    "    'Crm Cd 4': 'crime_code_4',\n",
    "    'LOCATION': 'location',\n",
    "    'Cross Street': 'cross_street',\n",
    "    'LAT': 'latitude',\n",
    "    'LON': 'longitude'\n",
    "}\n",
    "\n",
    "# Renombrar las columnas\n",
    "df.rename(columns=rename_columns, inplace=True)\n",
    "\n",
    "# Confirmar el cambio\n",
    "df.head()\n"
   ]
  },
  {
   "cell_type": "code",
   "execution_count": 15,
   "metadata": {
    "colab": {
     "base_uri": "https://localhost:8080/"
    },
    "id": "qFEBFuaTw3gK",
    "outputId": "91886f5b-c7ab-4d1c-f868-c5fd657c0271"
   },
   "outputs": [
    {
     "name": "stdout",
     "output_type": "stream",
     "text": [
      "--- area_code ---\n",
      "[1, 2, 3, 4, 5, 6, 7, 8, 9, 10, 11, 12, 13, 14, 15, 16, 17, 18, 19, 20, 21]\n",
      "\n",
      "\n",
      "--- area_name ---\n",
      "['77th Street', 'Central', 'Devonshire', 'Foothill', 'Harbor', 'Hollenbeck', 'Hollywood', 'Mission', 'N Hollywood', 'Newton', 'Northeast', 'Olympic', 'Pacific', 'Rampart', 'Southeast', 'Southwest', 'Topanga', 'Van Nuys', 'West LA', 'West Valley', 'Wilshire']\n",
      "\n",
      "\n",
      "--- district ---\n",
      "[101, 105, 109, 111, 112, 118, 119, 121, 122, 123, 124, 127, 128, 129, 131, 132, 133, 134, 135, 138, 139, 141, 142, 143, 144, 145, 146, 147, 148, 151, 152, 153, 154, 155, 156, 157, 158, 159, 161, 162, 163, 164, 165, 166, 171, 174, 176, 181, 182, 185, 191, 192, 195, 201, 202, 203, 204, 205, 211, 212, 213, 215, 216, 217, 218, 219, 221, 224, 225, 226, 231, 233, 234, 235, 236, 237, 238, 239, 241, 242, 244, 245, 246, 247, 248, 249, 251, 252, 254, 256, 257, 261, 265, 266, 267, 269, 271, 275, 277, 279, 281, 285, 289, 291, 292, 295, 299, 301, 303, 305, 307, 308, 309, 311, 312, 313, 314, 315, 316, 317, 318, 319, 321, 325, 326, 327, 328, 329, 331, 332, 333, 334, 335, 336, 337, 338, 341, 343, 351, 353, 354, 355, 356, 357, 358, 359, 361, 362, 363, 373, 374, 375, 376, 377, 378, 379, 391, 392, 393, 394, 395, 396, 397, 398, 399, 401, 402, 403, 404, 405, 406, 407, 408, 409, 411, 412, 413, 414, 415, 416, 417, 418, 421, 422, 423, 424, 426, 427, 428, 429, 437, 438, 439, 441, 442, 443, 445, 448, 449, 451, 452, 453, 454, 455, 456, 457, 459, 461, 462, 463, 464, 465, 466, 467, 468, 469, 471, 473, 477, 478, 479, 483, 487, 488, 489, 491, 497, 499, 500, 501, 502, 503, 504, 505, 506, 507, 508, 509, 511, 512, 513, 514, 515, 516, 517, 518, 519, 521, 522, 523, 524, 525, 526, 527, 528, 529, 531, 532, 541, 551, 555, 557, 558, 559, 561, 562, 563, 564, 565, 566, 567, 569, 581, 583, 584, 585, 587, 589, 599, 600, 615, 621, 622, 625, 626, 627, 628, 629, 631, 632, 635, 636, 637, 638, 639, 642, 643, 644, 645, 646, 647, 648, 649, 656, 657, 659, 663, 665, 666, 667, 668, 669, 672, 676, 677, 678, 679, 696, 697, 699, 700, 701, 702, 704, 705, 706, 709, 711, 713, 714, 715, 716, 717, 719, 721, 722, 723, 724, 725, 726, 727, 728, 729, 732, 733, 734, 735, 736, 737, 738, 739, 742, 743, 745, 747, 749, 752, 753, 755, 756, 758, 759, 762, 763, 764, 765, 766, 767, 768, 769, 771, 772, 773, 774, 775, 776, 777, 778, 779, 782, 783, 784, 785, 787, 788, 789, 800, 801, 802, 803, 804, 805, 806, 807, 808, 809, 811, 812, 813, 814, 815, 816, 817, 818, 819, 821, 822, 823, 824, 825, 826, 827, 828, 829, 831, 832, 833, 834, 835, 836, 837, 838, 839, 841, 842, 843, 847, 848, 849, 851, 852, 853, 854, 855, 857, 858, 859, 861, 871, 872, 881, 882, 883, 884, 885, 886, 887, 889, 891, 892, 893, 895, 896, 897, 898, 899, 900, 901, 902, 904, 905, 906, 909, 911, 914, 915, 916, 917, 919, 921, 922, 923, 926, 927, 929, 931, 932, 933, 934, 935, 936, 937, 938, 939, 941, 942, 943, 944, 945, 946, 948, 952, 955, 957, 958, 961, 963, 964, 966, 969, 971, 974, 976, 979, 981, 983, 984, 985, 989, 991, 994, 995, 998, 1000, 1001, 1003, 1004, 1005, 1006, 1007, 1008, 1009, 1011, 1012, 1013, 1014, 1015, 1016, 1017, 1018, 1019, 1021, 1022, 1023, 1024, 1025, 1027, 1028, 1029, 1031, 1032, 1033, 1034, 1035, 1036, 1037, 1039, 1041, 1042, 1043, 1044, 1045, 1046, 1047, 1048, 1049, 1053, 1061, 1063, 1065, 1067, 1068, 1075, 1077, 1078, 1079, 1083, 1087, 1088, 1089, 1091, 1094, 1097, 1098, 1099, 1100, 1101, 1102, 1105, 1107, 1109, 1112, 1113, 1115, 1116, 1117, 1118, 1119, 1122, 1123, 1124, 1125, 1126, 1127, 1128, 1129, 1132, 1133, 1134, 1135, 1136, 1137, 1138, 1139, 1141, 1142, 1143, 1144, 1145, 1146, 1147, 1148, 1149, 1151, 1152, 1153, 1157, 1158, 1159, 1161, 1162, 1163, 1169, 1171, 1172, 1173, 1174, 1175, 1176, 1177, 1178, 1179, 1181, 1183, 1184, 1185, 1186, 1189, 1195, 1199, 1200, 1203, 1204, 1205, 1207, 1208, 1209, 1211, 1213, 1215, 1218, 1219, 1231, 1232, 1233, 1235, 1239, 1241, 1242, 1243, 1245, 1248, 1249, 1251, 1252, 1253, 1255, 1256, 1257, 1258, 1259, 1263, 1265, 1266, 1267, 1268, 1269, 1273, 1283, 1293, 1300, 1303, 1307, 1309, 1311, 1313, 1317, 1321, 1322, 1323, 1324, 1325, 1326, 1327, 1331, 1333, 1341, 1342, 1343, 1344, 1345, 1346, 1347, 1351, 1352, 1353, 1354, 1361, 1362, 1363, 1364, 1365, 1367, 1371, 1372, 1373, 1375, 1377, 1381, 1383, 1385, 1391, 1393, 1394, 1395, 1400, 1401, 1402, 1403, 1405, 1406, 1407, 1408, 1409, 1411, 1412, 1413, 1414, 1415, 1416, 1424, 1425, 1426, 1427, 1428, 1431, 1432, 1433, 1434, 1435, 1436, 1437, 1438, 1441, 1443, 1444, 1445, 1446, 1449, 1451, 1452, 1453, 1454, 1455, 1456, 1457, 1458, 1459, 1462, 1463, 1464, 1465, 1466, 1467, 1468, 1469, 1471, 1472, 1473, 1474, 1475, 1476, 1477, 1479, 1483, 1484, 1485, 1486, 1487, 1488, 1489, 1491, 1492, 1493, 1494, 1495, 1496, 1497, 1498, 1499, 1501, 1502, 1503, 1504, 1505, 1506, 1508, 1509, 1511, 1512, 1513, 1514, 1515, 1516, 1517, 1519, 1521, 1522, 1523, 1524, 1525, 1526, 1527, 1529, 1531, 1532, 1533, 1535, 1537, 1538, 1539, 1541, 1542, 1543, 1544, 1545, 1546, 1547, 1548, 1549, 1551, 1553, 1555, 1557, 1558, 1559, 1562, 1563, 1565, 1566, 1567, 1569, 1581, 1583, 1585, 1586, 1587, 1588, 1589, 1591, 1595, 1596, 1599, 1600, 1601, 1602, 1603, 1605, 1606, 1608, 1611, 1612, 1613, 1614, 1615, 1617, 1618, 1619, 1621, 1622, 1623, 1633, 1634, 1635, 1636, 1637, 1638, 1639, 1641, 1642, 1643, 1645, 1646, 1648, 1651, 1653, 1654, 1655, 1656, 1657, 1658, 1659, 1661, 1663, 1664, 1665, 1666, 1667, 1668, 1669, 1671, 1672, 1673, 1675, 1676, 1677, 1678, 1679, 1681, 1682, 1683, 1684, 1685, 1686, 1687, 1689, 1691, 1693, 1695, 1698, 1699, 1700, 1701, 1703, 1705, 1707, 1708, 1709, 1712, 1713, 1714, 1715, 1716, 1717, 1718, 1719, 1721, 1722, 1723, 1725, 1727, 1728, 1729, 1732, 1735, 1736, 1737, 1738, 1739, 1743, 1745, 1747, 1749, 1751, 1752, 1753, 1754, 1755, 1756, 1757, 1758, 1759, 1761, 1762, 1763, 1764, 1765, 1766, 1767, 1768, 1771, 1772, 1773, 1774, 1775, 1776, 1777, 1778, 1779, 1781, 1782, 1783, 1784, 1785, 1787, 1788, 1791, 1792, 1793, 1794, 1795, 1796, 1797, 1798, 1799, 1801, 1802, 1803, 1804, 1805, 1806, 1821, 1822, 1823, 1824, 1826, 1827, 1829, 1831, 1832, 1834, 1835, 1836, 1837, 1838, 1839, 1841, 1842, 1844, 1846, 1849, 1851, 1861, 1862, 1863, 1864, 1871, 1881, 1891, 1901, 1902, 1903, 1904, 1905, 1906, 1907, 1908, 1909, 1911, 1912, 1913, 1915, 1916, 1917, 1918, 1919, 1921, 1924, 1925, 1931, 1934, 1935, 1936, 1941, 1942, 1943, 1944, 1945, 1951, 1952, 1954, 1955, 1956, 1958, 1959, 1961, 1962, 1963, 1964, 1966, 1967, 1969, 1971, 1972, 1974, 1975, 1977, 1979, 1981, 1982, 1983, 1984, 1985, 1986, 1987, 1988, 1989, 1991, 1993, 1994, 1995, 1996, 1998, 1999, 2001, 2002, 2004, 2005, 2011, 2013, 2014, 2015, 2016, 2017, 2019, 2021, 2022, 2023, 2024, 2025, 2026, 2027, 2029, 2031, 2033, 2034, 2035, 2036, 2038, 2039, 2041, 2042, 2044, 2045, 2046, 2049, 2053, 2054, 2055, 2056, 2058, 2062, 2063, 2064, 2069, 2071, 2073, 2074, 2076, 2079, 2081, 2083, 2088, 2091, 2093, 2097, 2099, 2101, 2102, 2103, 2104, 2105, 2106, 2107, 2111, 2113, 2114, 2115, 2118, 2125, 2126, 2128, 2129, 2131, 2132, 2133, 2134, 2136, 2137, 2138, 2139, 2141, 2142, 2143, 2144, 2145, 2146, 2147, 2148, 2149, 2155, 2156, 2157, 2158, 2159, 2161, 2162, 2169, 2172, 2173, 2175, 2177, 2183, 2185, 2187, 2189, 2196, 2197, 2198, 2199]\n",
      "\n",
      "\n",
      "--- crime_severity ---\n",
      "[1, 2]\n",
      "\n",
      "\n",
      "--- crime_code ---\n",
      "[110, 113, 121, 122, 210, 220, 230, 231, 235, 236, 237, 250, 251, 310, 320, 330, 331, 341, 343, 345, 347, 349, 350, 351, 352, 353, 354, 410, 420, 421, 432, 433, 434, 435, 436, 437, 438, 439, 440, 441, 442, 443, 444, 445, 446, 450, 451, 452, 453, 470, 471, 473, 474, 475, 480, 485, 487, 510, 520, 522, 622, 623, 624, 625, 626, 627, 647, 648, 649, 651, 652, 653, 654, 660, 661, 662, 664, 666, 668, 670, 740, 745, 753, 755, 756, 760, 761, 762, 763, 805, 806, 810, 812, 813, 814, 815, 820, 821, 822, 830, 840, 845, 850, 860, 865, 870, 880, 882, 884, 886, 888, 890, 900, 901, 902, 903, 904, 906, 910, 920, 921, 922, 924, 926, 928, 930, 931, 932, 933, 940, 942, 943, 944, 946, 948, 949, 950, 951, 954, 956]\n",
      "\n",
      "\n",
      "--- crime_desc ---\n",
      "['ARSON', 'ASSAULT WITH DEADLY WEAPON ON POLICE OFFICER', 'ASSAULT WITH DEADLY WEAPON, AGGRAVATED ASSAULT', 'ATTEMPTED ROBBERY', 'BATTERY - SIMPLE ASSAULT', 'BATTERY ON A FIREFIGHTER', 'BATTERY POLICE (SIMPLE)', 'BATTERY WITH SEXUAL CONTACT', 'BEASTIALITY, CRIME AGAINST NATURE SEXUAL ASSLT WITH ANIM', 'BIGAMY', 'BIKE - ATTEMPTED STOLEN', 'BIKE - STOLEN', 'BLOCKING DOOR INDUCTION CENTER', 'BOAT - STOLEN', 'BOMB SCARE', 'BRANDISH WEAPON', 'BRIBERY', 'BUNCO, ATTEMPT', 'BUNCO, GRAND THEFT', 'BUNCO, PETTY THEFT', 'BURGLARY', 'BURGLARY FROM VEHICLE', 'BURGLARY FROM VEHICLE, ATTEMPTED', 'BURGLARY, ATTEMPTED', 'CHILD ABANDONMENT', 'CHILD ABUSE (PHYSICAL) - AGGRAVATED ASSAULT', 'CHILD ABUSE (PHYSICAL) - SIMPLE ASSAULT', 'CHILD ANNOYING (17YRS & UNDER)', 'CHILD NEGLECT (SEE 300 W.I.C.)', 'CHILD PORNOGRAPHY', 'CHILD STEALING', 'CONSPIRACY', 'CONTEMPT OF COURT', 'CONTRIBUTING', 'COUNTERFEIT', 'CREDIT CARDS, FRAUD USE ($950 & UNDER', 'CREDIT CARDS, FRAUD USE ($950.01 & OVER)', 'CRIMINAL HOMICIDE', 'CRIMINAL THREATS - NO WEAPON DISPLAYED', 'CRM AGNST CHLD (13 OR UNDER) (14-15 & SUSP 10 YRS OLDER)', 'CRUELTY TO ANIMALS', 'DEFRAUDING INNKEEPER/THEFT OF SERVICES, $950 & UNDER', 'DEFRAUDING INNKEEPER/THEFT OF SERVICES, OVER $950.01', 'DISCHARGE FIREARMS/SHOTS FIRED', 'DISHONEST EMPLOYEE - GRAND THEFT', 'DISHONEST EMPLOYEE - PETTY THEFT', 'DISHONEST EMPLOYEE ATTEMPTED THEFT', 'DISRUPT SCHOOL', 'DISTURBING THE PEACE', 'DOCUMENT FORGERY / STOLEN FELONY', 'DOCUMENT WORTHLESS ($200 & UNDER)', 'DOCUMENT WORTHLESS ($200.01 & OVER)', 'DRIVING WITHOUT OWNER CONSENT (DWOC)', 'DRUGS, TO A MINOR', 'DRUNK ROLL', 'DRUNK ROLL - ATTEMPT', 'EMBEZZLEMENT, GRAND THEFT ($950.01 & OVER)', 'EMBEZZLEMENT, PETTY THEFT ($950 & UNDER)', 'EXTORTION', 'FAILURE TO DISPERSE', 'FAILURE TO YIELD', 'FALSE IMPRISONMENT', 'FALSE POLICE REPORT', 'FIREARMS EMERGENCY PROTECTIVE ORDER (FIREARMS EPO)', 'FIREARMS RESTRAINING ORDER (FIREARMS RO)', 'GRAND THEFT / AUTO REPAIR', 'GRAND THEFT / INSURANCE FRAUD', 'HUMAN TRAFFICKING - COMMERCIAL SEX ACTS', 'HUMAN TRAFFICKING - INVOLUNTARY SERVITUDE', 'ILLEGAL DUMPING', 'INCEST (SEXUAL ACTS BETWEEN BLOOD RELATIVES)', 'INCITING A RIOT', 'INDECENT EXPOSURE', 'INTIMATE PARTNER - AGGRAVATED ASSAULT', 'INTIMATE PARTNER - SIMPLE ASSAULT', 'KIDNAPPING', 'KIDNAPPING - GRAND ATTEMPT', 'LETTERS, LEWD  -  TELEPHONE CALLS, LEWD', 'LEWD CONDUCT', 'LEWD/LASCIVIOUS ACTS WITH CHILD', 'LYNCHING', 'LYNCHING - ATTEMPTED', 'MANSLAUGHTER, NEGLIGENT', 'ORAL COPULATION', 'OTHER ASSAULT', 'OTHER MISCELLANEOUS CRIME', 'PANDERING', 'PEEPING TOM', 'PETTY THEFT - AUTO REPAIR', 'PICKPOCKET', 'PICKPOCKET, ATTEMPT', 'PIMPING', 'PROWLER', 'PURSE SNATCHING', 'PURSE SNATCHING - ATTEMPT', 'RAPE, ATTEMPTED', 'RAPE, FORCIBLE', 'RECKLESS DRIVING', 'REPLICA FIREARMS(SALE,DISPLAY,MANUFACTURE OR DISTRIBUTE)', 'RESISTING ARREST', 'ROBBERY', 'SEX OFFENDER REGISTRANT OUT OF COMPLIANCE', 'SEX,UNLAWFUL(INC MUTUAL CONSENT, PENETRATION W/ FRGN OBJ', 'SEXUAL PENETRATION W/FOREIGN OBJECT', 'SHOPLIFTING - ATTEMPT', 'SHOPLIFTING - PETTY THEFT ($950 & UNDER)', 'SHOPLIFTING-GRAND THEFT ($950.01 & OVER)', 'SHOTS FIRED AT INHABITED DWELLING', 'SHOTS FIRED AT MOVING VEHICLE, TRAIN OR AIRCRAFT', 'SODOMY/SEXUAL CONTACT B/W PENIS OF ONE PERS TO ANUS OTH', 'STALKING', 'TELEPHONE PROPERTY - DAMAGE', 'THEFT FROM MOTOR VEHICLE - ATTEMPT', 'THEFT FROM MOTOR VEHICLE - GRAND ($950.01 AND OVER)', 'THEFT FROM MOTOR VEHICLE - PETTY ($950 & UNDER)', 'THEFT FROM PERSON - ATTEMPT', 'THEFT OF IDENTITY', 'THEFT PLAIN - ATTEMPT', 'THEFT PLAIN - PETTY ($950 & UNDER)', 'THEFT, COIN MACHINE - ATTEMPT', 'THEFT, COIN MACHINE - GRAND ($950.01 & OVER)', 'THEFT, COIN MACHINE - PETTY ($950 & UNDER)', 'THEFT, PERSON', 'THEFT-GRAND ($950.01 & OVER)EXCPT,GUNS,FOWL,LIVESTK,PROD', 'THREATENING PHONE CALLS/LETTERS', 'THROWING OBJECT AT MOVING VEHICLE', 'TILL TAP - GRAND THEFT ($950.01 & OVER)', 'TILL TAP - PETTY ($950 & UNDER)', 'TRAIN WRECKING', 'TRESPASSING', 'UNAUTHORIZED COMPUTER ACCESS', 'VANDALISM - FELONY ($400 & OVER, ALL CHURCH VANDALISMS)', 'VANDALISM - MISDEAMEANOR ($399 OR UNDER)', 'VEHICLE - ATTEMPT STOLEN', 'VEHICLE - STOLEN', 'VEHICLE, STOLEN - OTHER (MOTORIZED SCOOTERS, BIKES, ETC)', 'VIOLATION OF COURT ORDER', 'VIOLATION OF RESTRAINING ORDER', 'VIOLATION OF TEMPORARY RESTRAINING ORDER', 'WEAPONS POSSESSION/BOMBING']\n",
      "\n",
      "\n",
      "--- sex_victim ---\n",
      "['-', 'F', 'H', 'M', 'X']\n",
      "\n",
      "\n",
      "--- descent_victim ---\n",
      "['-', 'A', 'B', 'C', 'D', 'F', 'G', 'H', 'I', 'J', 'K', 'L', 'O', 'P', 'S', 'U', 'V', 'W', 'X', 'Z']\n",
      "\n",
      "\n",
      "--- loc_code ---\n",
      "[101.0, 102.0, 103.0, 104.0, 105.0, 106.0, 107.0, 108.0, 109.0, 110.0, 111.0, 112.0, 113.0, 114.0, 115.0, 116.0, 117.0, 118.0, 119.0, 120.0, 121.0, 122.0, 123.0, 124.0, 125.0, 126.0, 127.0, 128.0, 129.0, 135.0, 136.0, 137.0, 138.0, 139.0, 140.0, 141.0, 142.0, 143.0, 144.0, 145.0, 146.0, 147.0, 148.0, 149.0, 150.0, 151.0, 152.0, 154.0, 155.0, 156.0, 157.0, 158.0, 201.0, 202.0, 203.0, 204.0, 205.0, 206.0, 207.0, 208.0, 209.0, 210.0, 211.0, 212.0, 213.0, 214.0, 215.0, 216.0, 217.0, 218.0, 219.0, 220.0, 221.0, 222.0, 223.0, 224.0, 225.0, 227.0, 228.0, 229.0, 230.0, 231.0, 232.0, 233.0, 234.0, 235.0, 236.0, 237.0, 238.0, 239.0, 240.0, 241.0, 242.0, 243.0, 244.0, 245.0, 246.0, 247.0, 248.0, 249.0, 250.0, 251.0, 252.0, 253.0, 254.0, 255.0, 256.0, 301.0, 302.0, 303.0, 304.0, 305.0, 401.0, 402.0, 403.0, 404.0, 405.0, 406.0, 407.0, 408.0, 409.0, 410.0, 411.0, 412.0, 413.0, 414.0, 415.0, 416.0, 417.0, 418.0, 501.0, 502.0, 503.0, 504.0, 505.0, 506.0, 507.0, 508.0, 509.0, 510.0, 511.0, 512.0, 513.0, 514.0, 515.0, 516.0, 517.0, 518.0, 519.0, 601.0, 602.0, 603.0, 604.0, 605.0, 606.0, 607.0, 608.0, 701.0, 702.0, 703.0, 704.0, 705.0, 706.0, 707.0, 708.0, 709.0, 710.0, 711.0, 712.0, 713.0, 714.0, 715.0, 716.0, 717.0, 718.0, 719.0, 720.0, 721.0, 722.0, 723.0, 724.0, 725.0, 726.0, 727.0, 728.0, 729.0, 730.0, 731.0, 732.0, 733.0, 734.0, 735.0, 736.0, 737.0, 738.0, 739.0, 740.0, 741.0, 742.0, 743.0, 744.0, 745.0, 746.0, 748.0, 750.0, 751.0, 752.0, 753.0, 754.0, 755.0, 756.0, 757.0, 758.0, 801.0, 802.0, 803.0, 804.0, 805.0, 809.0, 810.0, 811.0, 834.0, 835.0, 836.0, 868.0, 869.0, 870.0, 871.0, 872.0, 873.0, 874.0, 875.0, 876.0, 877.0, 878.0, 879.0, 880.0, 882.0, 883.0, 884.0, 885.0, 889.0, 890.0, 891.0, 892.0, 893.0, 894.0, 895.0, 896.0, 897.0, 898.0, 900.0, 901.0, 902.0, 903.0, 904.0, 905.0, 906.0, 907.0, 908.0, 909.0, 910.0, 911.0, 912.0, 913.0, 915.0, 916.0, 917.0, 918.0, 919.0, 920.0, 921.0, 922.0, 931.0, 932.0, 933.0, 934.0, 935.0, 936.0, 937.0, 940.0, 941.0, 942.0, 943.0, 944.0, 945.0, 946.0, 947.0, 948.0, 949.0, 950.0, 951.0, 952.0, 953.0, 954.0, 956.0, 957.0, 958.0, 961.0, 962.0, 963.0, 964.0, 965.0, 966.0, 967.0, 968.0, 969.0, 970.0, 971.0, 972.0, 973.0, 974.0, 975.0, 976.0]\n",
      "\n",
      "\n",
      "--- loc_desc ---\n",
      "['7TH AND METRO CENTER (NOT LINE SPECIFIC)', 'ABANDONED BUILDING ABANDONED HOUSE', 'ABATEMENT LOCATION', 'ABORTION CLINIC/ABORTION FACILITY*', 'AIRCRAFT', 'ALLEY', 'AMTRAK TRAIN', 'AMUSEMENT PARK*', 'APARTMENT/CONDO COMMON LAUNDRY ROOM', 'ARCADE,GAME ROOM/VIDEO GAMES (EXAMPLE CHUCKIE CHEESE)*', 'AUTO DEALERSHIP (CHEVY, FORD, BMW, MERCEDES, ETC.)', 'AUTO REPAIR SHOP', 'AUTO SALES LOT', 'AUTO SUPPLY STORE*', 'AUTOMATED TELLER MACHINE (ATM)', 'BALCONY*', 'BANK', 'BANK DROP BOX/MONEY DROP-OUTSIDE OF BANK*', 'BANKING INSIDE MARKET-STORE *', 'BAR/COCKTAIL/NIGHTCLUB', 'BAR/SPORTS BAR (OPEN DAY & NIGHT)', 'BASKETBALL COURTS', 'BEACH', 'BEAUTY SUPPLY STORE', 'BEAUTY/BARBER SHOP', 'BOOK STORE', 'BOWLING ALLEY*', 'BUS DEPOT/TERMINAL, OTHER THAN MTA', 'BUS STOP', 'BUS STOP/LAYOVER (ALSO QUERY 124)', 'BUS, SCHOOL, CHURCH', 'BUS-CHARTER/PRIVATE', 'CAR WASH', 'CATERING/ICE CREAM TRUCK', 'CELL PHONE STORE', 'CEMETARY*', 'CHECK CASHING*', 'CHEMICAL STORAGE/MANUFACTURING PLANT', 'CHURCH/CHAPEL (CHANGED 03-03 FROM CHURCH/TEMPLE)', 'CLEANER/LAUNDROMAT', 'CLOTHING STORE', \"COFFEE SHOP (STARBUCKS, COFFEE BEAN, PEET'S, ETC.)\", 'COLISEUM', 'COLLEGE/JUNIOR COLLEGE/UNIVERSITY', 'COMPUTER SERVICES/REPAIRS/SALES', 'CONDOMINIUM/TOWNHOUSE', 'CONSTRUCTION SITE', 'CONVENTION CENTER', 'CREDIT UNION', 'CULTURAL SIGNIFICANCE/MONUMENT', 'CYBERSPACE', 'DAM/RESERVOIR', 'DAY CARE/ADULTS*', 'DAY CARE/CHILDREN*', 'DELIVERY SERVICE (FED EX, UPS, COURIERS,COURIER SERVICE)*', 'DEPARTMENT STORE', 'DEPT OF DEFENSE FACILITY', 'DETENTION/JAIL FACILITY', 'DISCOUNT STORE (99 CENT,DOLLAR,ETC.', \"DIY CENTER (LOWE'S,HOME DEPOT,OSH,CONTRACTORS WAREHOUSE)\", 'DODGER STADIUM', 'DRIVE THRU BANKING (WINDOW)*', 'DRIVE THRU*', 'DRIVEWAY', 'DRUG STORE', 'ELECTRONICS STORE (IE:RADIO SHACK, ETC.)', 'ELEMENTARY SCHOOL', 'ELEVATOR', 'ENERGY PLANT/FACILITY', 'ENTERTAINMENT/COMEDY CLUB (OTHER)', 'EQUIPMENT RENTAL', 'ESCALATOR*', 'FACTORY', 'FINANCE COMPANY', 'FIRE STATION', 'FOSTER HOME BOYS OR GIRLS*', 'FRAT HOUSE/SORORITY/DORMITORY', 'FREEWAY', 'FURNITURE STORE', 'GARAGE/CARPORT', 'GARMENT MANUFACTURER', 'GAS STATION', 'GOLF COURSE*', 'GOVERNMENT FACILITY (FEDERAL,STATE, COUNTY & CITY)', 'GREYHOUND OR INTERSTATE BUS', 'GROUP HOME', 'GUN/SPORTING GOODS', 'HANDBALL COURTS', 'HARBOR FRWY STATION (NOT LINE SPECIFIC)', 'HARDWARE/BUILDING SUPPLY', 'HEALTH SPA/GYM', 'HIGH SCHOOL', 'HIGH-RISE BUILDING', 'HOCKEY RINK/ICE HOCKEY', 'HORSE RACING/SANTA ANITA PARK*', 'HOSPICE', 'HOSPITAL', 'HOTEL', 'JEWELRY STORE', 'JUNIOR HIGH SCHOOL', 'LA UNION STATION (NOT LINE SPECIFIC)', 'LAUNDROMAT', 'LIBRARY', 'LIQUOR STORE', 'MAIL BOX', 'MANUFACTURING COMPANY', 'MARKET', 'MASS GATHERING LOCATION', 'MASSAGE PARLOR', 'MEDICAL MARIJUANA FACILITIES/BUSINESSES', 'MEDICAL/DENTAL OFFICES', 'MEMBERSHIP STORE (COSTCO,SAMS CLUB)*', 'METHADONE CLINIC', 'METROLINK TRAIN', 'MINI-MART', 'MISSIONS/SHELTERS', \"MOBILE HOME/TRAILERS/CONSTRUCTION TRAILERS/RV'S/MOTORHOME\", 'MORTUARY', 'MOSQUE*', 'MOTEL', 'MTA - BLUE LINE - 103RD/WATTS TOWERS', 'MTA - BLUE LINE - 7TH AND METRO CENTER', 'MTA - BLUE LINE - GRAND/LATTC', 'MTA - BLUE LINE - PICO', 'MTA - BLUE LINE - SAN PEDRO', 'MTA - BLUE LINE - VERNON', 'MTA - BLUE LINE - WASHINGTON', 'MTA - EXPO LINE - 7TH AND METRO CENTER', 'MTA - EXPO LINE - EXPO PARK/USC', 'MTA - EXPO LINE - EXPO/BUNDY', 'MTA - EXPO LINE - EXPO/CRENSHAW', 'MTA - EXPO LINE - EXPO/LA BREA', 'MTA - EXPO LINE - EXPO/SEPULVEDA', 'MTA - EXPO LINE - EXPO/VERMONT', 'MTA - EXPO LINE - EXPO/WESTERN', 'MTA - EXPO LINE - FARMDALE', 'MTA - EXPO LINE - JEFFERSON/USC', 'MTA - EXPO LINE - LA CIENEGA/JEFFERSON', 'MTA - EXPO LINE - LATTC/ORTHO INSTITUTE', 'MTA - EXPO LINE - PALMS', 'MTA - EXPO LINE - PICO', 'MTA - EXPO LINE - WESTWOOD/RANCHO PARK', 'MTA - GOLD LINE - CHINATOWN', 'MTA - GOLD LINE - HERITAGE SQ', 'MTA - GOLD LINE - HIGHLAND PARK', 'MTA - GOLD LINE - INDIANA', 'MTA - GOLD LINE - LINCOLN/CYPRESS', 'MTA - GOLD LINE - LITTLE TOKYO/ARTS DISTRICT', 'MTA - GOLD LINE - MARIACHI PLAZA', 'MTA - GOLD LINE - PICO/ALISO', 'MTA - GOLD LINE - SOTO', 'MTA - GOLD LINE - SOUTHWEST MUSEUM', 'MTA - GOLD LINE - UNION STATION', 'MTA - GREEN LINE - AVALON', 'MTA - GREEN LINE - AVIATION/LAX', 'MTA - GREEN LINE - HARBOR FWY', 'MTA - ORANGE LINE - BALBOA', 'MTA - ORANGE LINE - CANOGA', 'MTA - ORANGE LINE - CHATSWORTH', 'MTA - ORANGE LINE - DE SOTO', 'MTA - ORANGE LINE - LAUREL CANYON', 'MTA - ORANGE LINE - NORDHOFF', 'MTA - ORANGE LINE - NORTH HOLLYWOOD', 'MTA - ORANGE LINE - PIERCE COLLEGE', 'MTA - ORANGE LINE - RESEDA', 'MTA - ORANGE LINE - ROSCOE', 'MTA - ORANGE LINE - SEPULVEDA', 'MTA - ORANGE LINE - SHERMAN WAY', 'MTA - ORANGE LINE - TAMPA', 'MTA - ORANGE LINE - VALLEY COLLEGE', 'MTA - ORANGE LINE - VAN NUYS', 'MTA - ORANGE LINE - WOODLEY', 'MTA - ORANGE LINE - WOODMAN', 'MTA - PURPLE LINE - 7TH AND METRO CENTER', 'MTA - PURPLE LINE - CIVIC CENTER/GRAND PARK', 'MTA - PURPLE LINE - PERSHING SQUARE', 'MTA - PURPLE LINE - UNION STATION', 'MTA - PURPLE LINE - WESTLAKE/MACARTHUR PARK', 'MTA - PURPLE LINE - WILSHIRE/NORMANDIE', 'MTA - PURPLE LINE - WILSHIRE/VERMONT', 'MTA - PURPLE LINE - WILSHIRE/WESTERN', 'MTA - RED LINE - 7TH AND METRO CENTER', 'MTA - RED LINE - CIVIC CENTER/GRAND PARK', 'MTA - RED LINE - HOLLYWOOD/HIGHLAND', 'MTA - RED LINE - HOLLYWOOD/VINE', 'MTA - RED LINE - HOLLYWOOD/WESTERN', 'MTA - RED LINE - NORTH HOLLYWOOD', 'MTA - RED LINE - PERSHING SQUARE', 'MTA - RED LINE - UNION STATION', 'MTA - RED LINE - UNIVERSAL CITY/STUDIO CITY', 'MTA - RED LINE - VERMONT/BEVERLY', 'MTA - RED LINE - VERMONT/SANTA MONICA', 'MTA - RED LINE - VERMONT/SUNSET', 'MTA - RED LINE - WESTLAKE/MACARTHUR PARK', 'MTA - RED LINE - WILSHIRE/VERMONT', 'MTA - SILVER LINE - 37TH ST/USC', 'MTA - SILVER LINE - DOWNTOWN STREET STOPS', 'MTA - SILVER LINE - HARBOR FWY', 'MTA - SILVER LINE - HARBOR GATEWAY TRANSIT CTR', 'MTA - SILVER LINE - LAC/USC MEDICAL CENTER', 'MTA - SILVER LINE - MANCHESTER', 'MTA - SILVER LINE - PACIFIC COAST HWY', 'MTA - SILVER LINE - ROSECRANS', 'MTA - SILVER LINE - SLAUSON', 'MTA - SILVER LINE - UNION STATION', 'MTA BUS', 'MTA PROPERTY OR PARKING LOT', 'MULTI-UNIT DWELLING (APARTMENT, DUPLEX, ETC)', 'MUNICIPAL BUS LINE INCLUDES LADOT/DASH', 'MUSCLE BEACH', 'MUSEUM', 'NAIL SALON', 'NIGHT CLUB (OPEN EVENINGS ONLY)', 'NURSERY/FLOWER SHOP', 'NURSING/CONVALESCENT/RETIREMENT HOME', 'OFFICE BUILDING/OFFICE', 'OIL REFINERY', 'OPTICAL OFFICE INSIDE STORE OR SUPERMARKET*', 'OTHER BUSINESS', 'OTHER INTERSTATE, CHARTER BUS', 'OTHER PLACE OF WORSHIP', 'OTHER PREMISE', 'OTHER RESIDENCE', 'OTHER RR TRAIN (UNION PAC, SANTE FE ETC', 'OTHER STORE', 'OTHER/OUTSIDE', 'PARK/PLAYGROUND', 'PARKING LOT', 'PARKING UNDERGROUND/BUILDING', 'PATIO*', 'PAWN SHOP', 'PAY PHONE', 'PEDESTRIAN OVERCROSSING', 'PET STORE', 'PHARMACY INSIDE STORE OR SUPERMARKET*', 'POLICE FACILITY', 'POOL-PUBLIC/OUTDOOR OR INDOOR*', 'PORCH, RESIDENTIAL', 'POST OFFICE', 'PRIVATE SCHOOL/PRESCHOOL', 'PROJECT/TENEMENT/PUBLIC HOUSING', 'PUBLIC RESTROOM(INDOORS-INSIDE)', 'PUBLIC RESTROOM/OUTSIDE*', 'PUBLIC STORAGE', 'RECORD-CD MUSIC/COMPUTER GAME STORE', 'RECYCLING CENTER', 'RESTAURANT/FAST FOOD', 'RETIRED (DUPLICATE) DO NOT USE THIS CODE', 'RIVER BED*', 'SAVINGS & LOAN', 'SEWAGE FACILITY/PIPE', \"SEX ORIENTED/BOOK STORE/STRIP CLUB/GENTLEMAN'S CLUB\", 'SHOPPING MALL (COMMON AREA)', 'SHORT-TERM VACATION RENTAL', 'SIDEWALK', 'SINGLE FAMILY DWELLING', \"SINGLE RESIDENCE OCCUPANCY (SRO'S) LOCATIONS\", 'SKATEBOARD FACILITY/SKATEBOARD PARK*', 'SKATING RINK*', 'SLIPS/DOCK/MARINA/BOAT', 'SPECIALTY SCHOOL/OTHER', 'SPORTS ARENA', 'SPORTS VENUE, OTHER', 'STAIRWELL*', 'STAPLES CENTER *', 'STORAGE SHED', 'STREET', 'STUDIO (FILM/PHOTOGRAPHIC/MUSIC)', 'SURPLUS SURVIVAL STORE', 'SWAP MEET', 'SYNAGOGUE/TEMPLE', 'TATTOO PARLOR*', 'TAXI', 'TELECOMMUNICATION FACILITY/LOCATION', 'TERMINAL, OTHER THAN MTA', 'THE BEVERLY CENTER', 'THE BEVERLY CONNECTION', 'THE GROVE', 'THEATRE/MOVIE', 'TOBACCO SHOP', 'TOOL SHED*', 'TOW YARD*', 'TRADE SCHOOL (MEDICAL-TECHNICAL-BUSINESS)*', 'TRAIN DEPOT/TERMINAL, OTHER THAN MTA', 'TRAIN TRACKS', 'TRAIN, OTHER THAN MTA (ALSO QUERY 809/810/811)', 'TRAM/STREETCAR(BOXLIKE WAG ON RAILS)*', 'TRANSIENT ENCAMPMENT', 'TRANSITIONAL HOUSING/HALFWAY HOUSE', 'TRANSPORTATION FACILITY (AIRPORT)', 'TRASH CAN/TRASH DUMPSTER', 'TRUCK, COMMERICAL', 'TUNNEL', 'TV/RADIO/APPLIANCE', 'UNDERPASS/BRIDGE*', 'VACANT LOT', 'VALET', \"VEHICLE STORAGE LOT (CARS, TRUCKS, RV'S, BOATS, TRAILERS, ETC.)\", 'VEHICLE, PASSENGER/TRUCK', 'VETERINARIAN/ANIMAL HOSPITAL', 'VIDEO RENTAL STORE', 'VISION CARE FACILITY*', 'WAREHOUSE', 'WATER FACILITY', 'WEBSITE', 'YARD (RESIDENTIAL/BUSINESS)']\n",
      "\n",
      "\n",
      "--- weapon_code ---\n",
      "[101.0, 102.0, 103.0, 104.0, 105.0, 106.0, 107.0, 108.0, 109.0, 110.0, 111.0, 112.0, 113.0, 114.0, 115.0, 116.0, 117.0, 118.0, 119.0, 120.0, 121.0, 122.0, 123.0, 124.0, 125.0, 200.0, 201.0, 202.0, 203.0, 204.0, 205.0, 206.0, 207.0, 208.0, 209.0, 210.0, 211.0, 212.0, 213.0, 214.0, 215.0, 216.0, 217.0, 218.0, 219.0, 220.0, 221.0, 223.0, 300.0, 301.0, 302.0, 303.0, 304.0, 305.0, 306.0, 307.0, 308.0, 309.0, 310.0, 311.0, 312.0, 400.0, 500.0, 501.0, 502.0, 503.0, 504.0, 505.0, 506.0, 507.0, 508.0, 509.0, 510.0, 511.0, 512.0, 513.0, 514.0, 515.0, 516.0]\n",
      "\n",
      "\n",
      "--- weapon_desc ---\n",
      "['AIR PISTOL/REVOLVER/RIFLE/BB GUN', 'ANTIQUE FIREARM', 'ASSAULT WEAPON/UZI/AK47/ETC', 'AUTOMATIC WEAPON/SUB-MACHINE GUN', 'AXE', 'BELT FLAILING INSTRUMENT/CHAIN', 'BLACKJACK', 'BLUNT INSTRUMENT', 'BOARD', 'BOMB THREAT', 'BOTTLE', 'BOW AND ARROW', 'BOWIE KNIFE', 'BRASS KNUCKLES', 'CAUSTIC CHEMICAL/POISON', 'CLEAVER', 'CLUB/BAT', 'CONCRETE BLOCK/BRICK', 'DEMAND NOTE', 'DIRK/DAGGER', 'DOG/ANIMAL (SIC ANIMAL ON)', 'EXPLOXIVE DEVICE', 'FIRE', 'FIXED OBJECT', 'FOLDING KNIFE', 'GLASS', 'HAMMER', 'HAND GUN', 'HECKLER & KOCH 91 SEMIAUTOMATIC ASSAULT RIFLE', 'HECKLER & KOCH 93 SEMIAUTOMATIC ASSAULT RIFLE', 'ICE PICK', 'KITCHEN KNIFE', 'KNIFE WITH BLADE 6INCHES OR LESS', 'KNIFE WITH BLADE OVER 6 INCHES IN LENGTH', 'LIQUOR/DRUGS', 'M-14 SEMIAUTOMATIC ASSAULT RIFLE', 'M1-1 SEMIAUTOMATIC ASSAULT RIFLE', 'MAC-10 SEMIAUTOMATIC ASSAULT WEAPON', 'MAC-11 SEMIAUTOMATIC ASSAULT WEAPON', 'MACE/PEPPER SPRAY', 'MACHETE', 'MARTIAL ARTS WEAPONS', 'OTHER CUTTING INSTRUMENT', 'OTHER FIREARM', 'OTHER KNIFE', 'PHYSICAL PRESENCE', 'PIPE/METAL PIPE', 'RAZOR', 'RAZOR BLADE', 'RELIC FIREARM', 'REVOLVER', 'RIFLE', 'ROCK/THROWN OBJECT', 'ROPE/LIGATURE', 'SAWED OFF RIFLE/SHOTGUN', 'SCALDING LIQUID', 'SCISSORS', 'SCREWDRIVER', 'SEMI-AUTOMATIC PISTOL', 'SEMI-AUTOMATIC RIFLE', 'SHOTGUN', 'SIMULATED GUN', 'STARTER PISTOL/REVOLVER', 'STICK', 'STRAIGHT RAZOR', 'STRONG-ARM (HANDS, FIST, FEET OR BODILY FORCE)', 'STUN GUN', 'SWITCH BLADE', 'SWORD', 'SYRINGE', 'TIRE IRON', 'TOY GUN', 'UNK TYPE SEMIAUTOMATIC ASSAULT RIFLE', 'UNKNOWN FIREARM', 'UNKNOWN TYPE CUTTING INSTRUMENT', 'UNKNOWN WEAPON/OTHER WEAPON', 'UZI SEMIAUTOMATIC ASSAULT RIFLE', 'VEHICLE', 'VERBAL THREAT']\n",
      "\n",
      "\n",
      "--- case_status_code ---\n",
      "['AA', 'AO', 'CC', 'IC', 'JA', 'JO']\n",
      "\n",
      "\n",
      "--- case_status_desc ---\n",
      "['Adult Arrest', 'Adult Other', 'Invest Cont', 'Juv Arrest', 'Juv Other', 'UNK']\n",
      "\n",
      "\n"
     ]
    }
   ],
   "source": [
    "# Variables a explorar\n",
    "columns_to_explore = [\n",
    "    'area_code',\n",
    "    'area_name',\n",
    "    'district',\n",
    "    'crime_severity',\n",
    "    'crime_code',\n",
    "    'crime_desc',\n",
    "    'sex_victim',\n",
    "    'descent_victim',\n",
    "    'loc_code',\n",
    "    'loc_desc',\n",
    "    'weapon_code',\n",
    "    'weapon_desc',\n",
    "    'case_status_code',\n",
    "    'case_status_desc'\n",
    "]\n",
    "\n",
    "# Mostrar TODOS los valores únicos para esas columnas\n",
    "for col in columns_to_explore:\n",
    "    if col in df.columns:\n",
    "        print(f\"--- {col} ---\")\n",
    "        print(sorted(df[col].dropna().unique()))\n",
    "        print(\"\\n\")\n",
    "    else:\n",
    "        print(f\"Column {col} not found in the dataframe.\\n\")\n"
   ]
  },
  {
   "cell_type": "markdown",
   "metadata": {
    "id": "8g6z4FUPx8gU"
   },
   "source": []
  },
  {
   "cell_type": "markdown",
   "metadata": {
    "id": "x5tSXjRB0I6Q"
   },
   "source": [
    "## **Vamos a trabajar en investigar la relación de códigos varios en el dataset. **"
   ]
  },
  {
   "cell_type": "markdown",
   "metadata": {
    "id": "2fAp4-Dl0DL8"
   },
   "source": [
    "# 📄 Unique Values Summary\n",
    "\n",
    "## area_code\n",
    "`1, 2, 3, ..., 21`\n",
    "\n",
    "## area_name\n",
    "`'77th Street', 'Central', 'Devonshire', 'Foothill', 'Harbor', 'Hollenbeck', 'Hollywood', 'Mission', 'N Hollywood', 'Newton', 'Northeast', 'Olympic', 'Pacific', 'Rampart', 'Southeast', 'Southwest', 'Topanga', 'Van Nuys', 'West LA', 'West Valley', 'Wilshire'`\n",
    "\n",
    "## district\n",
    "`101, 105, 109, 111, ..., 2199`  \n",
    "(Muchos valores únicos de distrito, códigos de zonas específicas)\n",
    "\n",
    "## crime_severity\n",
    "`1, 2`\n",
    "\n",
    "## crime_code\n",
    "`110, 113, 121, 122, 210, 220, 230, 231, ..., 956`\n",
    "\n",
    "## crime_desc\n",
    "`'ARSON', 'ASSAULT WITH DEADLY WEAPON ON POLICE OFFICER', 'BATTERY - SIMPLE ASSAULT', 'BIKE - STOLEN', 'BURGLARY', 'BURGLARY FROM VEHICLE', ..., 'WEAPONS POSSESSION/BOMBING'`\n",
    "(Más de 100 tipos de crímenes diferentes)\n",
    "\n",
    "## crime_mo\n",
    "`Códigos tipo '0344 1822 1402', '0930', '0913 2024' etc.`  \n",
    "(Modus Operandi combinados por código)\n",
    "\n",
    "## sex_victim\n",
    "`'-', 'F', 'H', 'M', 'X'`\n",
    "(Indica sexo: Femenino, Masculino, Indeterminado, No reportado)\n",
    "\n",
    "## descent_victim\n",
    "`'-', 'A', 'B', 'C', 'D', 'F', 'G', 'H', 'I', 'J', 'K', 'L', 'O', 'P', 'S', 'U', 'V', 'W', 'X', 'Z'`\n",
    "(Origen étnico de la víctima)\n",
    "\n",
    "## loc_code\n",
    "`101.0, 102.0, 103.0, ..., 976.0`\n",
    "(Muchos códigos de localización)\n",
    "\n",
    "## loc_desc\n",
    "`'STREET', 'BUS STOP', 'PARKING LOT', 'SINGLE FAMILY DWELLING', 'SCHOOL', 'HOSPITAL', 'HOTEL', 'MARKET', ..., 'YARD (RESIDENTIAL/BUSINESS)'`\n",
    "(Lugares donde ocurrieron los crímenes)\n",
    "\n",
    "## weapon_code\n",
    "`101.0, 102.0, ..., 516.0`\n",
    "\n",
    "## weapon_desc\n",
    "`'HAND GUN', 'KNIFE WITH BLADE 6INCHES OR LESS', 'STRONG-ARM (HANDS, FIST, FEET OR BODILY FORCE)', 'UNKNOWN FIREARM', 'VERBAL THREAT', ...`\n",
    "(Descripción de armas usadas)\n",
    "\n",
    "## case_status_code\n",
    "`'AA', 'AO', 'CC', 'IC', 'JA', 'JO'`\n",
    "(Códigos de estatus del caso)\n",
    "\n",
    "## case_status_desc\n",
    "`'Adult Arrest', 'Adult Other', 'Invest Cont', 'Juv Arrest', 'Juv Other', 'UNK'`\n",
    "(Descripción del estatus del caso)\n"
   ]
  },
  {
   "cell_type": "markdown",
   "metadata": {
    "id": "834aqDfnJtgy"
   },
   "source": [
    "##1. Investigación de las áreas."
   ]
  },
  {
   "cell_type": "code",
   "execution_count": 20,
   "metadata": {
    "colab": {
     "base_uri": "https://localhost:8080/"
    },
    "id": "9k-dFBJTJy3t",
    "outputId": "8e8afc8f-d468-40d8-f312-338db7f5fcdf"
   },
   "outputs": [
    {
     "name": "stdout",
     "output_type": "stream",
     "text": [
      "  district  area_code    area_name\n",
      "0      784          7    Hollywood\n",
      "1      182          1  77th Street\n",
      "2      356          3   Devonshire\n",
      "3      964          9  N Hollywood\n",
      "4      666          6   Hollenbeck\n",
      "area_name\n",
      "77th Street    531859\n",
      "Central        135803\n",
      "Devonshire      56259\n",
      "Hollenbeck      51510\n",
      "Hollywood       47272\n",
      "Mission         44848\n",
      "N Hollywood     42059\n",
      "Harbor          40603\n",
      "Foothill        36287\n",
      "Name: count, dtype: int64\n"
     ]
    }
   ],
   "source": [
    "# Primero aseguramos que district sea string para extraer area_code\n",
    "df['district'] = df['district'].astype(str)\n",
    "\n",
    "# Sacamos el primer dígito como área (puedes usar 1 o 2 dígitos según precisión)\n",
    "df['area_code'] = df['district'].str[0].astype(int)\n",
    "\n",
    "# Mapeo de area_code a area_name\n",
    "area_mapping = {\n",
    "    1: '77th Street',\n",
    "    2: 'Central',\n",
    "    3: 'Devonshire',\n",
    "    4: 'Foothill',\n",
    "    5: 'Harbor',\n",
    "    6: 'Hollenbeck',\n",
    "    7: 'Hollywood',\n",
    "    8: 'Mission',\n",
    "    9: 'N Hollywood',\n",
    "    10: 'Newton',\n",
    "    11: 'Northeast',\n",
    "    12: 'Olympic',\n",
    "    13: 'Pacific',\n",
    "    14: 'Rampart',\n",
    "    15: 'Southeast',\n",
    "    16: 'Southwest',\n",
    "    17: 'Topanga',\n",
    "    18: 'Van Nuys',\n",
    "    19: 'West LA',\n",
    "    20: 'West Valley',\n",
    "    21: 'Wilshire'\n",
    "}\n",
    "\n",
    "# Asignamos nombre al área\n",
    "df['area_name'] = df['area_code'].map(area_mapping)\n",
    "\n",
    "# Verificamos si el mapeo está correcto\n",
    "print(df[['district', 'area_code', 'area_name']].head())\n",
    "\n",
    "# Contar registros por area_name\n",
    "print(df['area_name'].value_counts())\n"
   ]
  },
  {
   "cell_type": "code",
   "execution_count": 21,
   "metadata": {
    "colab": {
     "base_uri": "https://localhost:8080/"
    },
    "id": "63z1OeF8LHlS",
    "outputId": "e46755aa-7f3d-453c-9e51-dfd51645c9a7"
   },
   "outputs": [
    {
     "name": "stdout",
     "output_type": "stream",
     "text": [
      "Áreas donde no hubo crímenes registrados:\n",
      "area_name\n",
      "Newton         0\n",
      "Northeast      0\n",
      "Olympic        0\n",
      "Pacific        0\n",
      "Rampart        0\n",
      "Southeast      0\n",
      "Southwest      0\n",
      "Topanga        0\n",
      "Van Nuys       0\n",
      "West LA        0\n",
      "West Valley    0\n",
      "Wilshire       0\n",
      "Name: count, dtype: int64\n"
     ]
    }
   ],
   "source": [
    "import pandas as pd\n",
    "\n",
    "# Definimos el listado completo de áreas (en el orden correcto)\n",
    "area_names = [\n",
    "    '77th Street', 'Central', 'Devonshire', 'Foothill', 'Harbor', 'Hollenbeck',\n",
    "    'Hollywood', 'Mission', 'N Hollywood', 'Newton', 'Northeast', 'Olympic',\n",
    "    'Pacific', 'Rampart', 'Southeast', 'Southwest', 'Topanga', 'Van Nuys',\n",
    "    'West LA', 'West Valley', 'Wilshire'\n",
    "]\n",
    "\n",
    "# Hacemos el conteo de registros por area_name\n",
    "area_counts = df['area_name'].value_counts()\n",
    "\n",
    "# Aseguramos que todos los nombres estén incluidos (incluso los que faltan)\n",
    "area_counts = area_counts.reindex(area_names, fill_value=0)\n",
    "\n",
    "# Ahora, buscamos las áreas con 0 crímenes\n",
    "areas_sin_crimen = area_counts[area_counts == 0]\n",
    "\n",
    "# Mostrar áreas sin crímenes\n",
    "print(\"Áreas donde no hubo crímenes registrados:\")\n",
    "print(areas_sin_crimen)"
   ]
  },
  {
   "cell_type": "code",
   "execution_count": 22,
   "metadata": {
    "colab": {
     "base_uri": "https://localhost:8080/"
    },
    "id": "3pxP5SYhL_1C",
    "outputId": "a0a17462-9dd4-4a2c-8bac-cb1a29930c8a"
   },
   "outputs": [
    {
     "name": "stdout",
     "output_type": "stream",
     "text": [
      "Áreas donde no hubo crímenes:\n",
      "['Newton', 'Northeast', 'Olympic', 'Pacific', 'Rampart', 'Southeast', 'Southwest', 'Topanga', 'Van Nuys', 'West LA', 'West Valley', 'Wilshire']\n",
      "Empty DataFrame\n",
      "Columns: [id_report, date_report, date_ocurrance, time_ocurrance, area_code, area_name, district, crime_severity, crime_code, crime_desc, crime_mo, age_victim, sex_victim, descent_victim, loc_code, loc_desc, weapon_code, weapon_desc, case_status_code, case_status_desc, crime_code_1, crime_code_2, crime_code_3, crime_code_4, location, cross_street, latitude, longitude]\n",
      "Index: []\n",
      "\n",
      "[0 rows x 28 columns]\n"
     ]
    }
   ],
   "source": [
    "# Definimos las 21 áreas oficiales\n",
    "area_names = [\n",
    "    '77th Street', 'Central', 'Devonshire', 'Foothill', 'Harbor', 'Hollenbeck',\n",
    "    'Hollywood', 'Mission', 'N Hollywood', 'Newton', 'Northeast', 'Olympic',\n",
    "    'Pacific', 'Rampart', 'Southeast', 'Southwest', 'Topanga', 'Van Nuys',\n",
    "    'West LA', 'West Valley', 'Wilshire'\n",
    "]\n",
    "\n",
    "# 1. Conteo de crímenes por área\n",
    "area_counts = df['area_name'].value_counts()\n",
    "\n",
    "# 2. Asegurarnos que todas las áreas estén (rellenar con 0 si no existen)\n",
    "area_counts = area_counts.reindex(area_names, fill_value=0)\n",
    "\n",
    "# 3. Detectar áreas sin crímenes\n",
    "areas_sin_crimen = area_counts[area_counts == 0].index.tolist()\n",
    "\n",
    "print(\"Áreas donde no hubo crímenes:\")\n",
    "print(areas_sin_crimen)\n",
    "\n",
    "# 4. Filtrar el df para filas con esas áreas (debería estar vacío, o muy pequeño si algo raro pasó)\n",
    "df_sin_crimenes = df[df['area_name'].isin(areas_sin_crimen)]\n",
    "\n",
    "# 5. Mostrar las filas\n",
    "print(df_sin_crimenes)\n"
   ]
  },
  {
   "cell_type": "markdown",
   "metadata": {
    "id": "Rmw3m-UYMa_o"
   },
   "source": [
    "Resumen:\n",
    "9 áreas sí tienen crímenes (las que viste antes: 77th Street, Central, Devonshire, etc.).\n",
    "\n",
    "12 áreas no tienen crímenes en tus datos actuales.\n",
    "\n",
    "No hay errores de mapeo en district, area_code ni area_name."
   ]
  },
  {
   "cell_type": "markdown",
   "metadata": {
    "id": "iTWDkPhi3Ipe"
   },
   "source": [
    "## 2. Investigación Distritos."
   ]
  },
  {
   "cell_type": "code",
   "execution_count": 25,
   "metadata": {
    "colab": {
     "base_uri": "https://localhost:8080/"
    },
    "id": "2P4Erzvz3YAB",
    "outputId": "a08bb33a-11e2-44c8-83d5-9bcaf43a034e"
   },
   "outputs": [
    {
     "name": "stdout",
     "output_type": "stream",
     "text": [
      "--- district ---\n",
      "['1000', '1001', '1003', '1004', '1005', '1006', '1007', '1008', '1009', '101', '1011', '1012', '1013', '1014', '1015', '1016', '1017', '1018', '1019', '1021', '1022', '1023', '1024', '1025', '1027', '1028', '1029', '1031', '1032', '1033', '1034', '1035', '1036', '1037', '1039', '1041', '1042', '1043', '1044', '1045', '1046', '1047', '1048', '1049', '105', '1053', '1061', '1063', '1065', '1067', '1068', '1075', '1077', '1078', '1079', '1083', '1087', '1088', '1089', '109', '1091', '1094', '1097', '1098', '1099', '1100', '1101', '1102', '1105', '1107', '1109', '111', '1112', '1113', '1115', '1116', '1117', '1118', '1119', '112', '1122', '1123', '1124', '1125', '1126', '1127', '1128', '1129', '1132', '1133', '1134', '1135', '1136', '1137', '1138', '1139', '1141', '1142', '1143', '1144', '1145', '1146', '1147', '1148', '1149', '1151', '1152', '1153', '1157', '1158', '1159', '1161', '1162', '1163', '1169', '1171', '1172', '1173', '1174', '1175', '1176', '1177', '1178', '1179', '118', '1181', '1183', '1184', '1185', '1186', '1189', '119', '1195', '1199', '1200', '1203', '1204', '1205', '1207', '1208', '1209', '121', '1211', '1213', '1215', '1218', '1219', '122', '123', '1231', '1232', '1233', '1235', '1239', '124', '1241', '1242', '1243', '1245', '1248', '1249', '1251', '1252', '1253', '1255', '1256', '1257', '1258', '1259', '1263', '1265', '1266', '1267', '1268', '1269', '127', '1273', '128', '1283', '129', '1293', '1300', '1303', '1307', '1309', '131', '1311', '1313', '1317', '132', '1321', '1322', '1323', '1324', '1325', '1326', '1327', '133', '1331', '1333', '134', '1341', '1342', '1343', '1344', '1345', '1346', '1347', '135', '1351', '1352', '1353', '1354', '1361', '1362', '1363', '1364', '1365', '1367', '1371', '1372', '1373', '1375', '1377', '138', '1381', '1383', '1385', '139', '1391', '1393', '1394', '1395', '1400', '1401', '1402', '1403', '1405', '1406', '1407', '1408', '1409', '141', '1411', '1412', '1413', '1414', '1415', '1416', '142', '1424', '1425', '1426', '1427', '1428', '143', '1431', '1432', '1433', '1434', '1435', '1436', '1437', '1438', '144', '1441', '1443', '1444', '1445', '1446', '1449', '145', '1451', '1452', '1453', '1454', '1455', '1456', '1457', '1458', '1459', '146', '1462', '1463', '1464', '1465', '1466', '1467', '1468', '1469', '147', '1471', '1472', '1473', '1474', '1475', '1476', '1477', '1479', '148', '1483', '1484', '1485', '1486', '1487', '1488', '1489', '1491', '1492', '1493', '1494', '1495', '1496', '1497', '1498', '1499', '1501', '1502', '1503', '1504', '1505', '1506', '1508', '1509', '151', '1511', '1512', '1513', '1514', '1515', '1516', '1517', '1519', '152', '1521', '1522', '1523', '1524', '1525', '1526', '1527', '1529', '153', '1531', '1532', '1533', '1535', '1537', '1538', '1539', '154', '1541', '1542', '1543', '1544', '1545', '1546', '1547', '1548', '1549', '155', '1551', '1553', '1555', '1557', '1558', '1559', '156', '1562', '1563', '1565', '1566', '1567', '1569', '157', '158', '1581', '1583', '1585', '1586', '1587', '1588', '1589', '159', '1591', '1595', '1596', '1599', '1600', '1601', '1602', '1603', '1605', '1606', '1608', '161', '1611', '1612', '1613', '1614', '1615', '1617', '1618', '1619', '162', '1621', '1622', '1623', '163', '1633', '1634', '1635', '1636', '1637', '1638', '1639', '164', '1641', '1642', '1643', '1645', '1646', '1648', '165', '1651', '1653', '1654', '1655', '1656', '1657', '1658', '1659', '166', '1661', '1663', '1664', '1665', '1666', '1667', '1668', '1669', '1671', '1672', '1673', '1675', '1676', '1677', '1678', '1679', '1681', '1682', '1683', '1684', '1685', '1686', '1687', '1689', '1691', '1693', '1695', '1698', '1699', '1700', '1701', '1703', '1705', '1707', '1708', '1709', '171', '1712', '1713', '1714', '1715', '1716', '1717', '1718', '1719', '1721', '1722', '1723', '1725', '1727', '1728', '1729', '1732', '1735', '1736', '1737', '1738', '1739', '174', '1743', '1745', '1747', '1749', '1751', '1752', '1753', '1754', '1755', '1756', '1757', '1758', '1759', '176', '1761', '1762', '1763', '1764', '1765', '1766', '1767', '1768', '1771', '1772', '1773', '1774', '1775', '1776', '1777', '1778', '1779', '1781', '1782', '1783', '1784', '1785', '1787', '1788', '1791', '1792', '1793', '1794', '1795', '1796', '1797', '1798', '1799', '1801', '1802', '1803', '1804', '1805', '1806', '181', '182', '1821', '1822', '1823', '1824', '1826', '1827', '1829', '1831', '1832', '1834', '1835', '1836', '1837', '1838', '1839', '1841', '1842', '1844', '1846', '1849', '185', '1851', '1861', '1862', '1863', '1864', '1871', '1881', '1891', '1901', '1902', '1903', '1904', '1905', '1906', '1907', '1908', '1909', '191', '1911', '1912', '1913', '1915', '1916', '1917', '1918', '1919', '192', '1921', '1924', '1925', '1931', '1934', '1935', '1936', '1941', '1942', '1943', '1944', '1945', '195', '1951', '1952', '1954', '1955', '1956', '1958', '1959', '1961', '1962', '1963', '1964', '1966', '1967', '1969', '1971', '1972', '1974', '1975', '1977', '1979', '1981', '1982', '1983', '1984', '1985', '1986', '1987', '1988', '1989', '1991', '1993', '1994', '1995', '1996', '1998', '1999', '2001', '2002', '2004', '2005', '201', '2011', '2013', '2014', '2015', '2016', '2017', '2019', '202', '2021', '2022', '2023', '2024', '2025', '2026', '2027', '2029', '203', '2031', '2033', '2034', '2035', '2036', '2038', '2039', '204', '2041', '2042', '2044', '2045', '2046', '2049', '205', '2053', '2054', '2055', '2056', '2058', '2062', '2063', '2064', '2069', '2071', '2073', '2074', '2076', '2079', '2081', '2083', '2088', '2091', '2093', '2097', '2099', '2101', '2102', '2103', '2104', '2105', '2106', '2107', '211', '2111', '2113', '2114', '2115', '2118', '212', '2125', '2126', '2128', '2129', '213', '2131', '2132', '2133', '2134', '2136', '2137', '2138', '2139', '2141', '2142', '2143', '2144', '2145', '2146', '2147', '2148', '2149', '215', '2155', '2156', '2157', '2158', '2159', '216', '2161', '2162', '2169', '217', '2172', '2173', '2175', '2177', '218', '2183', '2185', '2187', '2189', '219', '2196', '2197', '2198', '2199', '221', '224', '225', '226', '231', '233', '234', '235', '236', '237', '238', '239', '241', '242', '244', '245', '246', '247', '248', '249', '251', '252', '254', '256', '257', '261', '265', '266', '267', '269', '271', '275', '277', '279', '281', '285', '289', '291', '292', '295', '299', '301', '303', '305', '307', '308', '309', '311', '312', '313', '314', '315', '316', '317', '318', '319', '321', '325', '326', '327', '328', '329', '331', '332', '333', '334', '335', '336', '337', '338', '341', '343', '351', '353', '354', '355', '356', '357', '358', '359', '361', '362', '363', '373', '374', '375', '376', '377', '378', '379', '391', '392', '393', '394', '395', '396', '397', '398', '399', '401', '402', '403', '404', '405', '406', '407', '408', '409', '411', '412', '413', '414', '415', '416', '417', '418', '421', '422', '423', '424', '426', '427', '428', '429', '437', '438', '439', '441', '442', '443', '445', '448', '449', '451', '452', '453', '454', '455', '456', '457', '459', '461', '462', '463', '464', '465', '466', '467', '468', '469', '471', '473', '477', '478', '479', '483', '487', '488', '489', '491', '497', '499', '500', '501', '502', '503', '504', '505', '506', '507', '508', '509', '511', '512', '513', '514', '515', '516', '517', '518', '519', '521', '522', '523', '524', '525', '526', '527', '528', '529', '531', '532', '541', '551', '555', '557', '558', '559', '561', '562', '563', '564', '565', '566', '567', '569', '581', '583', '584', '585', '587', '589', '599', '600', '615', '621', '622', '625', '626', '627', '628', '629', '631', '632', '635', '636', '637', '638', '639', '642', '643', '644', '645', '646', '647', '648', '649', '656', '657', '659', '663', '665', '666', '667', '668', '669', '672', '676', '677', '678', '679', '696', '697', '699', '700', '701', '702', '704', '705', '706', '709', '711', '713', '714', '715', '716', '717', '719', '721', '722', '723', '724', '725', '726', '727', '728', '729', '732', '733', '734', '735', '736', '737', '738', '739', '742', '743', '745', '747', '749', '752', '753', '755', '756', '758', '759', '762', '763', '764', '765', '766', '767', '768', '769', '771', '772', '773', '774', '775', '776', '777', '778', '779', '782', '783', '784', '785', '787', '788', '789', '800', '801', '802', '803', '804', '805', '806', '807', '808', '809', '811', '812', '813', '814', '815', '816', '817', '818', '819', '821', '822', '823', '824', '825', '826', '827', '828', '829', '831', '832', '833', '834', '835', '836', '837', '838', '839', '841', '842', '843', '847', '848', '849', '851', '852', '853', '854', '855', '857', '858', '859', '861', '871', '872', '881', '882', '883', '884', '885', '886', '887', '889', '891', '892', '893', '895', '896', '897', '898', '899', '900', '901', '902', '904', '905', '906', '909', '911', '914', '915', '916', '917', '919', '921', '922', '923', '926', '927', '929', '931', '932', '933', '934', '935', '936', '937', '938', '939', '941', '942', '943', '944', '945', '946', '948', '952', '955', '957', '958', '961', '963', '964', '966', '969', '971', '974', '976', '979', '981', '983', '984', '985', '989', '991', '994', '995', '998']\n",
      "\n",
      "\n"
     ]
    }
   ],
   "source": [
    "# Mostrar los valores únicos de la columna 'district'\n",
    "if 'district' in df.columns:\n",
    "    print(\"--- district ---\")\n",
    "    print(sorted(df['district'].dropna().unique()))\n",
    "    print(\"\\n\")\n",
    "else:\n",
    "    print(\"Column 'district' not found in the dataframe.\\n\")"
   ]
  },
  {
   "cell_type": "code",
   "execution_count": 26,
   "metadata": {
    "colab": {
     "base_uri": "https://localhost:8080/"
    },
    "id": "HGl0BrjI4pSY",
    "outputId": "9440f87a-0bf4-46b4-bddb-96e592b7043f"
   },
   "outputs": [
    {
     "name": "stdout",
     "output_type": "stream",
     "text": [
      "area_valid\n",
      "True    986500\n",
      "Name: count, dtype: int64\n",
      "  district  area_code  area_valid\n",
      "0      784          7        True\n",
      "1      182          1        True\n",
      "2      356          3        True\n",
      "3      964          9        True\n",
      "4      666          6        True\n"
     ]
    }
   ],
   "source": [
    "# Asegurar que 'district' es string para extraer prefijos fácilmente\n",
    "df['district'] = df['district'].astype(str)\n",
    "\n",
    "# Extraer primer dígito (o primeros dos dígitos si quieres más precisión)\n",
    "df['area_code'] = df['district'].str[0].astype(int)\n",
    "\n",
    "# Opcionalmente, si quieres extraer dos primeros dígitos:\n",
    "# df['area_code'] = df['district'].str[:2].astype(int)\n",
    "\n",
    "# Definir los áreas válidas (1 al 21)\n",
    "valid_areas = list(range(1, 22))\n",
    "\n",
    "# Marcar si es un área válida\n",
    "df['area_valid'] = df['area_code'].isin(valid_areas)\n",
    "\n",
    "# Verificar resultados\n",
    "print(df['area_valid'].value_counts())\n",
    "\n",
    "# Ver ejemplos\n",
    "print(df[['district', 'area_code', 'area_valid']].head())\n"
   ]
  },
  {
   "cell_type": "code",
   "execution_count": 27,
   "metadata": {
    "colab": {
     "base_uri": "https://localhost:8080/"
    },
    "id": "6WF2NCieIwzm",
    "outputId": "a2963be1-1dc2-42d1-9a03-cb3374e44e7d"
   },
   "outputs": [
    {
     "name": "stdout",
     "output_type": "stream",
     "text": [
      "Cantidad de registros con area_valid == False: 0\n"
     ]
    }
   ],
   "source": [
    "# Contar cuántos registros NO son válidos\n",
    "invalid_count = (~df['area_valid']).sum()\n",
    "\n",
    "print(f\"Cantidad de registros con area_valid == False: {invalid_count}\")\n"
   ]
  },
  {
   "cell_type": "markdown",
   "metadata": {
    "id": "VZnzSy7u1ZUq"
   },
   "source": [
    "##3. Relación entre crime_code y crime_desc"
   ]
  },
  {
   "cell_type": "markdown",
   "metadata": {
    "id": "Sa23EPbn49M3"
   },
   "source": [
    "Los crime_code y crime_desc que tienes provienen directamente de los reportes oficiales del LAPD (Los Angeles Police Department).\n",
    "\n",
    "Cada \"crime_code\" es un tipo de crimen específico, basado en su severidad y en las leyes de California.\n",
    "\n",
    "No es una clasificación inventada, es estándar dentro del departamento, usado para categorizar las denuncias."
   ]
  },
  {
   "cell_type": "code",
   "execution_count": 30,
   "metadata": {
    "colab": {
     "base_uri": "https://localhost:8080/",
     "height": 53
    },
    "id": "DUh72ovp1e8L",
    "outputId": "2e49ca91-967d-4770-b425-a4fd17b1c145"
   },
   "outputs": [
    {
     "data": {
      "text/html": [
       "<div>\n",
       "<style scoped>\n",
       "    .dataframe tbody tr th:only-of-type {\n",
       "        vertical-align: middle;\n",
       "    }\n",
       "\n",
       "    .dataframe tbody tr th {\n",
       "        vertical-align: top;\n",
       "    }\n",
       "\n",
       "    .dataframe thead th {\n",
       "        text-align: right;\n",
       "    }\n",
       "</style>\n",
       "<table border=\"1\" class=\"dataframe\">\n",
       "  <thead>\n",
       "    <tr style=\"text-align: right;\">\n",
       "      <th></th>\n",
       "      <th>crime_code</th>\n",
       "      <th>crime_desc</th>\n",
       "    </tr>\n",
       "  </thead>\n",
       "  <tbody>\n",
       "  </tbody>\n",
       "</table>\n",
       "</div>"
      ],
      "text/plain": [
       "Empty DataFrame\n",
       "Columns: [crime_code, crime_desc]\n",
       "Index: []"
      ]
     },
     "execution_count": 30,
     "metadata": {},
     "output_type": "execute_result"
    }
   ],
   "source": [
    "# Comprobar si un mismo crime_code tiene varias descripciones\n",
    "crime_mapping = df[['crime_code', 'crime_desc']].drop_duplicates()\n",
    "\n",
    "# Verificar duplicados de crime_code\n",
    "duplicates = crime_mapping.duplicated(subset=['crime_code'], keep=False)\n",
    "crime_mapping[duplicates]"
   ]
  },
  {
   "cell_type": "markdown",
   "metadata": {
    "id": "8Sm2hDeT19D-"
   },
   "source": [
    "Si no salen filas, la relación es uno a uno ✅."
   ]
  },
  {
   "cell_type": "code",
   "execution_count": 32,
   "metadata": {
    "colab": {
     "base_uri": "https://localhost:8080/",
     "height": 424
    },
    "id": "Q60d9Y2X1-Qs",
    "outputId": "3c139d2f-0865-4af7-e60a-c3091a47999c"
   },
   "outputs": [
    {
     "data": {
      "text/html": [
       "<div>\n",
       "<style scoped>\n",
       "    .dataframe tbody tr th:only-of-type {\n",
       "        vertical-align: middle;\n",
       "    }\n",
       "\n",
       "    .dataframe tbody tr th {\n",
       "        vertical-align: top;\n",
       "    }\n",
       "\n",
       "    .dataframe thead th {\n",
       "        text-align: right;\n",
       "    }\n",
       "</style>\n",
       "<table border=\"1\" class=\"dataframe\">\n",
       "  <thead>\n",
       "    <tr style=\"text-align: right;\">\n",
       "      <th></th>\n",
       "      <th>crime_code</th>\n",
       "      <th>crime_desc</th>\n",
       "    </tr>\n",
       "  </thead>\n",
       "  <tbody>\n",
       "    <tr>\n",
       "      <th>0</th>\n",
       "      <td>110</td>\n",
       "      <td>CRIMINAL HOMICIDE</td>\n",
       "    </tr>\n",
       "    <tr>\n",
       "      <th>1</th>\n",
       "      <td>113</td>\n",
       "      <td>MANSLAUGHTER, NEGLIGENT</td>\n",
       "    </tr>\n",
       "    <tr>\n",
       "      <th>2</th>\n",
       "      <td>121</td>\n",
       "      <td>RAPE, FORCIBLE</td>\n",
       "    </tr>\n",
       "    <tr>\n",
       "      <th>3</th>\n",
       "      <td>122</td>\n",
       "      <td>RAPE, ATTEMPTED</td>\n",
       "    </tr>\n",
       "    <tr>\n",
       "      <th>4</th>\n",
       "      <td>210</td>\n",
       "      <td>ROBBERY</td>\n",
       "    </tr>\n",
       "    <tr>\n",
       "      <th>...</th>\n",
       "      <td>...</td>\n",
       "      <td>...</td>\n",
       "    </tr>\n",
       "    <tr>\n",
       "      <th>135</th>\n",
       "      <td>949</td>\n",
       "      <td>ILLEGAL DUMPING</td>\n",
       "    </tr>\n",
       "    <tr>\n",
       "      <th>136</th>\n",
       "      <td>950</td>\n",
       "      <td>DEFRAUDING INNKEEPER/THEFT OF SERVICES, OVER $...</td>\n",
       "    </tr>\n",
       "    <tr>\n",
       "      <th>137</th>\n",
       "      <td>951</td>\n",
       "      <td>DEFRAUDING INNKEEPER/THEFT OF SERVICES, $950 &amp;...</td>\n",
       "    </tr>\n",
       "    <tr>\n",
       "      <th>138</th>\n",
       "      <td>954</td>\n",
       "      <td>CONTRIBUTING</td>\n",
       "    </tr>\n",
       "    <tr>\n",
       "      <th>139</th>\n",
       "      <td>956</td>\n",
       "      <td>LETTERS, LEWD  -  TELEPHONE CALLS, LEWD</td>\n",
       "    </tr>\n",
       "  </tbody>\n",
       "</table>\n",
       "<p>140 rows × 2 columns</p>\n",
       "</div>"
      ],
      "text/plain": [
       "     crime_code                                         crime_desc\n",
       "0           110                                  CRIMINAL HOMICIDE\n",
       "1           113                            MANSLAUGHTER, NEGLIGENT\n",
       "2           121                                     RAPE, FORCIBLE\n",
       "3           122                                    RAPE, ATTEMPTED\n",
       "4           210                                            ROBBERY\n",
       "..          ...                                                ...\n",
       "135         949                                    ILLEGAL DUMPING\n",
       "136         950  DEFRAUDING INNKEEPER/THEFT OF SERVICES, OVER $...\n",
       "137         951  DEFRAUDING INNKEEPER/THEFT OF SERVICES, $950 &...\n",
       "138         954                                       CONTRIBUTING\n",
       "139         956            LETTERS, LEWD  -  TELEPHONE CALLS, LEWD\n",
       "\n",
       "[140 rows x 2 columns]"
      ]
     },
     "execution_count": 32,
     "metadata": {},
     "output_type": "execute_result"
    }
   ],
   "source": [
    "# Crear tabla resumen de códigos de crimen y su descripción\n",
    "crime_table = df[['crime_code', 'crime_desc']].drop_duplicates().sort_values('crime_code')\n",
    "\n",
    "# Mostrar la tabla\n",
    "crime_table.reset_index(drop=True, inplace=True)\n",
    "crime_table\n"
   ]
  },
  {
   "cell_type": "code",
   "execution_count": 33,
   "metadata": {
    "id": "J_L6DP2U2lPh"
   },
   "outputs": [],
   "source": [
    "crime_table.to_csv('crime_code_description.csv', index=False)"
   ]
  },
  {
   "cell_type": "markdown",
   "metadata": {
    "id": "nVN2HAiX7W1A"
   },
   "source": [
    "Vamos a generar una agrupación de todos estos delitos en base al standard UCR (Uniform Crime Reporting)"
   ]
  },
  {
   "cell_type": "code",
   "execution_count": 35,
   "metadata": {
    "colab": {
     "base_uri": "https://localhost:8080/"
    },
    "id": "tb3ChlAJ7bJd",
    "outputId": "b650be12-e490-4ad5-ac93-416fc51dbabf"
   },
   "outputs": [
    {
     "name": "stdout",
     "output_type": "stream",
     "text": [
      "   crime_code                                crime_desc            crime_ucr\n",
      "0         510                          VEHICLE - STOLEN  MOTOR VEHICLE THEFT\n",
      "1         330                     BURGLARY FROM VEHICLE   THEFT FROM VEHICLE\n",
      "2         480                             BIKE - STOLEN          OTHER THEFT\n",
      "3         343  SHOPLIFTING-GRAND THEFT ($950.01 & OVER)          OTHER THEFT\n",
      "4         354                         THEFT OF IDENTITY              UNKNOWN\n"
     ]
    }
   ],
   "source": [
    "import pandas as pd\n",
    "\n",
    "# Suponemos que tienes un DataFrame llamado 'df' con las columnas 'crime_code' y 'crime_desc'\n",
    "\n",
    "# Mapeo de crime_codes a categorías UCR\n",
    "ucr_mapping = {\n",
    "    # Part I - Violent Crimes\n",
    "    110: 'HOMICIDE',\n",
    "    113: 'MANSLAUGHTER',\n",
    "    121: 'RAPE',\n",
    "    122: 'ATTEMPTED RAPE',\n",
    "    815: 'SEXUAL PENETRATION',\n",
    "    820: 'ORAL COPULATION',\n",
    "    821: 'SODOMY',\n",
    "    210: 'ROBBERY',\n",
    "    220: 'ROBBERY ATTEMPTED',\n",
    "    230: 'AGGRAVATED ASSAULT',\n",
    "    231: 'AGGRAVATED ASSAULT',\n",
    "    235: 'AGGRAVATED ASSAULT',\n",
    "    236: 'AGGRAVATED ASSAULT',\n",
    "    250: 'AGGRAVATED ASSAULT',\n",
    "    251: 'AGGRAVATED ASSAULT',\n",
    "    761: 'AGGRAVATED ASSAULT',\n",
    "    926: 'AGGRAVATED ASSAULT',\n",
    "    435: 'SIMPLE ASSAULT',\n",
    "    436: 'SIMPLE ASSAULT',\n",
    "    437: 'SIMPLE ASSAULT',\n",
    "    622: 'SIMPLE ASSAULT',\n",
    "    623: 'SIMPLE ASSAULT',\n",
    "    624: 'SIMPLE ASSAULT',\n",
    "    625: 'SIMPLE ASSAULT',\n",
    "    626: 'SIMPLE ASSAULT',\n",
    "    627: 'SIMPLE ASSAULT',\n",
    "    647: 'SIMPLE ASSAULT',\n",
    "    763: 'SIMPLE ASSAULT',\n",
    "    928: 'SIMPLE ASSAULT',\n",
    "    930: 'SIMPLE ASSAULT',\n",
    "\n",
    "    # Part I - Property Crimes\n",
    "    310: 'BURGLARY',\n",
    "    320: 'BURGLARY',\n",
    "    510: 'MOTOR VEHICLE THEFT',\n",
    "    520: 'MOTOR VEHICLE THEFT',\n",
    "    433: 'MOTOR VEHICLE THEFT',\n",
    "    330: 'THEFT FROM VEHICLE',\n",
    "    331: 'THEFT FROM VEHICLE',\n",
    "    410: 'THEFT FROM VEHICLE',\n",
    "    420: 'THEFT FROM VEHICLE',\n",
    "    421: 'THEFT FROM VEHICLE',\n",
    "    350: 'PERSONAL THEFT',\n",
    "    351: 'PERSONAL THEFT',\n",
    "    352: 'PERSONAL THEFT',\n",
    "    353: 'PERSONAL THEFT',\n",
    "    450: 'PERSONAL THEFT',\n",
    "    451: 'PERSONAL THEFT',\n",
    "    452: 'PERSONAL THEFT',\n",
    "    453: 'PERSONAL THEFT',\n",
    "    341: 'OTHER THEFT',\n",
    "    343: 'OTHER THEFT',\n",
    "    345: 'OTHER THEFT',\n",
    "    440: 'OTHER THEFT',\n",
    "    441: 'OTHER THEFT',\n",
    "    442: 'OTHER THEFT',\n",
    "    443: 'OTHER THEFT',\n",
    "    444: 'OTHER THEFT',\n",
    "    445: 'OTHER THEFT',\n",
    "    470: 'OTHER THEFT',\n",
    "    471: 'OTHER THEFT',\n",
    "    472: 'OTHER THEFT',\n",
    "    473: 'OTHER THEFT',\n",
    "    474: 'OTHER THEFT',\n",
    "    475: 'OTHER THEFT',\n",
    "    480: 'OTHER THEFT',\n",
    "    485: 'OTHER THEFT',\n",
    "    487: 'OTHER THEFT',\n",
    "    491: 'OTHER THEFT',\n",
    "\n",
    "    # Part II - Other Crimes\n",
    "    500: 'DRUG OFFENSES',\n",
    "    501: 'DRUG OFFENSES',\n",
    "    502: 'DRUG OFFENSES',\n",
    "    503: 'DRUG OFFENSES',\n",
    "    504: 'DRUG OFFENSES',\n",
    "    505: 'DRUG OFFENSES',\n",
    "    506: 'DRUG OFFENSES',\n",
    "    600: 'SIMPLE ASSAULT',\n",
    "    601: 'SIMPLE ASSAULT',\n",
    "    602: 'SIMPLE ASSAULT',\n",
    "    603: 'SIMPLE ASSAULT',\n",
    "    700: 'VANDALISM',\n",
    "    701: 'VANDALISM',\n",
    "    702: 'WEAPONS OFFENSE',\n",
    "    703: 'WEAPONS OFFENSE',\n",
    "    704: 'WEAPONS OFFENSE',\n",
    "    705: 'WEAPONS OFFENSE',\n",
    "    800: 'SEX OFFENSES (NON-RAPE)',\n",
    "    801: 'SEX OFFENSES (NON-RAPE)',\n",
    "    802: 'SEX OFFENSES (NON-RAPE)',\n",
    "    803: 'SEX OFFENSES (NON-RAPE)',\n",
    "    900: 'OTHER OFFENSES',\n",
    "    901: 'OTHER OFFENSES',\n",
    "    902: 'OTHER OFFENSES',\n",
    "    903: 'OTHER OFFENSES',\n",
    "    904: 'OTHER OFFENSES',\n",
    "    905: 'OTHER OFFENSES',\n",
    "    906: 'OTHER OFFENSES',\n",
    "    907: 'OTHER OFFENSES'\n",
    "}\n",
    "\n",
    "# Crear nueva columna 'crime_ucr' basada en el mapping\n",
    "df['crime_ucr'] = df['crime_code'].map(ucr_mapping).fillna('UNKNOWN')\n",
    "\n",
    "# Si quieres ver los resultados\n",
    "print(df[['crime_code', 'crime_desc', 'crime_ucr']].head())\n"
   ]
  },
  {
   "cell_type": "code",
   "execution_count": 36,
   "metadata": {
    "colab": {
     "base_uri": "https://localhost:8080/"
    },
    "id": "HHsb1Mat7pzU",
    "outputId": "f3748c54-fba0-4de0-d144-f520d16f2e4a"
   },
   "outputs": [
    {
     "data": {
      "text/plain": [
       "Index(['id_report', 'date_report', 'date_ocurrance', 'time_ocurrance',\n",
       "       'area_code', 'area_name', 'district', 'crime_severity', 'crime_code',\n",
       "       'crime_desc', 'crime_mo', 'age_victim', 'sex_victim', 'descent_victim',\n",
       "       'loc_code', 'loc_desc', 'weapon_code', 'weapon_desc',\n",
       "       'case_status_code', 'case_status_desc', 'crime_code_1', 'crime_code_2',\n",
       "       'crime_code_3', 'crime_code_4', 'location', 'cross_street', 'latitude',\n",
       "       'longitude', 'area_valid', 'crime_ucr'],\n",
       "      dtype='object')"
      ]
     },
     "execution_count": 36,
     "metadata": {},
     "output_type": "execute_result"
    }
   ],
   "source": [
    "df.columns"
   ]
  },
  {
   "cell_type": "markdown",
   "metadata": {
    "id": "rXnGUWE0NhSQ"
   },
   "source": [
    "## 4. Investigación de Sexo."
   ]
  },
  {
   "cell_type": "code",
   "execution_count": 38,
   "metadata": {
    "colab": {
     "base_uri": "https://localhost:8080/"
    },
    "id": "fs9fDmXSNpbK",
    "outputId": "ee11321b-83f9-4520-f442-8a7bf96e2ebe"
   },
   "outputs": [
    {
     "name": "stdout",
     "output_type": "stream",
     "text": [
      "Valores únicos en sex_victim después de la corrección:\n",
      "['M' 'X' 'F' nan '-']\n",
      "\n",
      "Cantidad de registros con sex_victim inválido después de corregir: 139575\n"
     ]
    }
   ],
   "source": [
    "# 1. Primero, corregimos H -> M\n",
    "df['sex_victim'] = df['sex_victim'].replace('H', 'M')\n",
    "\n",
    "# 2. Definimos la lista válida final\n",
    "valores_validos_sexo = ['-', 'F', 'M', 'X']\n",
    "\n",
    "# 3. Comprobamos de nuevo si queda todo limpio\n",
    "print(\"Valores únicos en sex_victim después de la corrección:\")\n",
    "print(df['sex_victim'].unique())\n",
    "\n",
    "# 4. Opcional: identificar si queda algo inválido\n",
    "valores_invalidos = df[~df['sex_victim'].isin(valores_validos_sexo)]\n",
    "\n",
    "print(f\"\\nCantidad de registros con sex_victim inválido después de corregir: {len(valores_invalidos)}\")\n"
   ]
  },
  {
   "cell_type": "code",
   "execution_count": 39,
   "metadata": {
    "colab": {
     "base_uri": "https://localhost:8080/"
    },
    "id": "Rl0fKtE0OVLv",
    "outputId": "7c1a8c4b-265a-4926-a0cf-ec2cdfc66fda"
   },
   "outputs": [
    {
     "name": "stdout",
     "output_type": "stream",
     "text": [
      "Valores únicos en sex_victim después de rellenar NaN:\n",
      "['M' 'X' 'F' '-']\n"
     ]
    }
   ],
   "source": [
    "# Reemplazar nulos por '-'\n",
    "df['sex_victim'] = df['sex_victim'].fillna('-')\n",
    "\n",
    "# Volver a verificar\n",
    "print(\"Valores únicos en sex_victim después de rellenar NaN:\")\n",
    "print(df['sex_victim'].unique())"
   ]
  },
  {
   "cell_type": "code",
   "execution_count": 40,
   "metadata": {
    "colab": {
     "base_uri": "https://localhost:8080/"
    },
    "id": "Bvda2_VmPE29",
    "outputId": "8e6b6246-0304-400b-e325-ba7528b2a2a9"
   },
   "outputs": [
    {
     "name": "stdout",
     "output_type": "stream",
     "text": [
      "            Cantidad  Porcentaje (%)\n",
      "sex_victim                          \n",
      "M             398060           40.35\n",
      "F             353688           35.85\n",
      "-             139576           14.15\n",
      "X              95176            9.65\n"
     ]
    }
   ],
   "source": [
    "# 1. Conteo de sex_victim\n",
    "conteo_sexo = df['sex_victim'].value_counts()\n",
    "\n",
    "# 2. Porcentaje de sex_victim\n",
    "porcentaje_sexo = df['sex_victim'].value_counts(normalize=True) * 100\n",
    "\n",
    "# 3. Mostrar resultados\n",
    "resultado = pd.DataFrame({\n",
    "    'Cantidad': conteo_sexo,\n",
    "    'Porcentaje (%)': porcentaje_sexo.round(2)\n",
    "})\n",
    "\n",
    "print(resultado)"
   ]
  },
  {
   "cell_type": "markdown",
   "metadata": {},
   "source": [
    "## 5. Origen"
   ]
  },
  {
   "cell_type": "code",
   "execution_count": 42,
   "metadata": {},
   "outputs": [
    {
     "name": "stdout",
     "output_type": "stream",
     "text": [
      "Valores únicos en descent_victim:\n",
      "['O' 'X' 'H' 'B' 'W' nan 'A' 'K' 'C' 'J' 'F' 'I' 'V' 'S' 'P' 'Z' 'G' 'U'\n",
      " 'D' 'L' '-']\n",
      "\n",
      "Filas con valores inválidos en descent_victim:\n",
      "        id_report descent_victim\n",
      "13      221008844            NaN\n",
      "23      200412582            NaN\n",
      "26      222106031            NaN\n",
      "27      200209713            NaN\n",
      "33      221404806            NaN\n",
      "...           ...            ...\n",
      "986479  241107019            NaN\n",
      "986482  241406728            NaN\n",
      "986489  241513941            NaN\n",
      "986496  240710284            NaN\n",
      "986499  240910892            NaN\n",
      "\n",
      "[139586 rows x 2 columns]\n",
      "\n",
      "Cantidad de registros con descent_victim inválido: 139586\n"
     ]
    }
   ],
   "source": [
    "# 1. Definimos los valores válidos\n",
    "valores_validos_descent = ['-', 'A', 'B', 'C', 'D', 'F', 'G', 'H', 'I', 'J', \n",
    "                           'K', 'L', 'O', 'P', 'S', 'U', 'V', 'W', 'X', 'Z']\n",
    "\n",
    "# 2. Verificamos los valores únicos en el dataset\n",
    "print(\"Valores únicos en descent_victim:\")\n",
    "print(df['descent_victim'].unique())\n",
    "\n",
    "# 3. Detectamos valores inválidos\n",
    "valores_invalidos = df[~df['descent_victim'].isin(valores_validos_descent)]\n",
    "\n",
    "# 4. Mostramos las filas con descent_victim inválido\n",
    "print(\"\\nFilas con valores inválidos en descent_victim:\")\n",
    "print(valores_invalidos[['id_report', 'descent_victim']])\n",
    "\n",
    "# 5. Cantidad de registros inválidos\n",
    "print(f\"\\nCantidad de registros con descent_victim inválido: {len(valores_invalidos)}\")"
   ]
  },
  {
   "cell_type": "code",
   "execution_count": 66,
   "metadata": {},
   "outputs": [],
   "source": [
    "# Reemplazar NaN por '-'\n",
    "df['descent_victim'] = df['descent_victim'].fillna('-')"
   ]
  },
  {
   "cell_type": "code",
   "execution_count": 68,
   "metadata": {},
   "outputs": [
    {
     "name": "stdout",
     "output_type": "stream",
     "text": [
      "                Cantidad  Porcentaje (%)\n",
      "descent_victim                          \n",
      "H                 293088           29.71\n",
      "W                 197773           20.05\n",
      "-                 139588           14.15\n",
      "B                 134449           13.63\n",
      "X                 103966           10.54\n",
      "O                  76983            7.80\n",
      "A                  21081            2.14\n",
      "K                   5720            0.58\n",
      "F                   4592            0.47\n",
      "C                   4330            0.44\n",
      "J                   1506            0.15\n",
      "V                   1128            0.11\n",
      "I                    980            0.10\n",
      "Z                    537            0.05\n",
      "P                    279            0.03\n",
      "U                    212            0.02\n",
      "D                     88            0.01\n",
      "L                     73            0.01\n",
      "G                     72            0.01\n",
      "S                     55            0.01\n"
     ]
    }
   ],
   "source": [
    "# 1. Definir los valores válidos de razas\n",
    "valores_validos_descent = ['-', 'A', 'B', 'C', 'D', 'F', 'G', 'H', 'I', 'J', \n",
    "                           'K', 'L', 'O', 'P', 'S', 'U', 'V', 'W', 'X', 'Z']\n",
    "\n",
    "# 2. Rellenar nulos si es necesario\n",
    "df['descent_victim'] = df['descent_victim'].fillna('-')\n",
    "\n",
    "# 3. Conteo de víctimas por raza\n",
    "conteo_raza = df['descent_victim'].value_counts()\n",
    "\n",
    "# 4. Porcentaje por raza\n",
    "porcentaje_raza = df['descent_victim'].value_counts(normalize=True) * 100\n",
    "\n",
    "# 5. Crear el DataFrame resultado\n",
    "resultado_raza = pd.DataFrame({\n",
    "    'Cantidad': conteo_raza,\n",
    "    'Porcentaje (%)': porcentaje_raza.round(2)\n",
    "})\n",
    "\n",
    "# 6. Mostrar resultados\n",
    "print(resultado_raza)"
   ]
  },
  {
   "cell_type": "markdown",
   "metadata": {
    "id": "69C2gRmk9zlm"
   },
   "source": [
    "### id_report"
   ]
  },
  {
   "cell_type": "code",
   "execution_count": 5,
   "metadata": {
    "colab": {
     "base_uri": "https://localhost:8080/"
    },
    "id": "yD8uubrL-Ee4",
    "outputId": "c16be6d7-1a7d-4df8-a42c-0ce38cd22bf8"
   },
   "outputs": [
    {
     "name": "stdout",
     "output_type": "stream",
     "text": [
      "<class 'pandas.core.series.Series'>\n",
      "RangeIndex: 986500 entries, 0 to 986499\n",
      "Series name: id_report\n",
      "Non-Null Count   Dtype\n",
      "--------------   -----\n",
      "986500 non-null  int64\n",
      "dtypes: int64(1)\n",
      "memory usage: 7.5 MB\n"
     ]
    }
   ],
   "source": [
    "df['id_report'].info()"
   ]
  },
  {
   "cell_type": "code",
   "execution_count": 45,
   "metadata": {
    "colab": {
     "base_uri": "https://localhost:8080/",
     "height": 363
    },
    "id": "Y00dI-B3-YiA",
    "outputId": "94875b07-690f-4912-c625-420124b7923b"
   },
   "outputs": [
    {
     "data": {
      "text/html": [
       "<div>\n",
       "<style scoped>\n",
       "    .dataframe tbody tr th:only-of-type {\n",
       "        vertical-align: middle;\n",
       "    }\n",
       "\n",
       "    .dataframe tbody tr th {\n",
       "        vertical-align: top;\n",
       "    }\n",
       "\n",
       "    .dataframe thead th {\n",
       "        text-align: right;\n",
       "    }\n",
       "</style>\n",
       "<table border=\"1\" class=\"dataframe\">\n",
       "  <thead>\n",
       "    <tr style=\"text-align: right;\">\n",
       "      <th></th>\n",
       "      <th>id_report</th>\n",
       "      <th>date_report</th>\n",
       "      <th>date_ocurrance</th>\n",
       "      <th>time_ocurrance</th>\n",
       "      <th>area_code</th>\n",
       "    </tr>\n",
       "  </thead>\n",
       "  <tbody>\n",
       "    <tr>\n",
       "      <th>0</th>\n",
       "      <td>190326475</td>\n",
       "      <td>03/01/2020 12:00:00 AM</td>\n",
       "      <td>03/01/2020 12:00:00 AM</td>\n",
       "      <td>2130</td>\n",
       "      <td>7</td>\n",
       "    </tr>\n",
       "    <tr>\n",
       "      <th>1</th>\n",
       "      <td>200106753</td>\n",
       "      <td>02/09/2020 12:00:00 AM</td>\n",
       "      <td>02/08/2020 12:00:00 AM</td>\n",
       "      <td>1800</td>\n",
       "      <td>1</td>\n",
       "    </tr>\n",
       "    <tr>\n",
       "      <th>2</th>\n",
       "      <td>200320258</td>\n",
       "      <td>11/11/2020 12:00:00 AM</td>\n",
       "      <td>11/04/2020 12:00:00 AM</td>\n",
       "      <td>1700</td>\n",
       "      <td>3</td>\n",
       "    </tr>\n",
       "    <tr>\n",
       "      <th>3</th>\n",
       "      <td>200907217</td>\n",
       "      <td>05/10/2023 12:00:00 AM</td>\n",
       "      <td>03/10/2020 12:00:00 AM</td>\n",
       "      <td>2037</td>\n",
       "      <td>9</td>\n",
       "    </tr>\n",
       "    <tr>\n",
       "      <th>4</th>\n",
       "      <td>220614831</td>\n",
       "      <td>08/18/2022 12:00:00 AM</td>\n",
       "      <td>08/17/2020 12:00:00 AM</td>\n",
       "      <td>1200</td>\n",
       "      <td>6</td>\n",
       "    </tr>\n",
       "    <tr>\n",
       "      <th>5</th>\n",
       "      <td>231808869</td>\n",
       "      <td>04/04/2023 12:00:00 AM</td>\n",
       "      <td>12/01/2020 12:00:00 AM</td>\n",
       "      <td>2300</td>\n",
       "      <td>1</td>\n",
       "    </tr>\n",
       "    <tr>\n",
       "      <th>6</th>\n",
       "      <td>230110144</td>\n",
       "      <td>04/04/2023 12:00:00 AM</td>\n",
       "      <td>07/03/2020 12:00:00 AM</td>\n",
       "      <td>900</td>\n",
       "      <td>1</td>\n",
       "    </tr>\n",
       "    <tr>\n",
       "      <th>7</th>\n",
       "      <td>220314085</td>\n",
       "      <td>07/22/2022 12:00:00 AM</td>\n",
       "      <td>05/12/2020 12:00:00 AM</td>\n",
       "      <td>1110</td>\n",
       "      <td>3</td>\n",
       "    </tr>\n",
       "    <tr>\n",
       "      <th>8</th>\n",
       "      <td>231309864</td>\n",
       "      <td>04/28/2023 12:00:00 AM</td>\n",
       "      <td>12/09/2020 12:00:00 AM</td>\n",
       "      <td>1400</td>\n",
       "      <td>1</td>\n",
       "    </tr>\n",
       "    <tr>\n",
       "      <th>9</th>\n",
       "      <td>211904005</td>\n",
       "      <td>12/31/2020 12:00:00 AM</td>\n",
       "      <td>12/31/2020 12:00:00 AM</td>\n",
       "      <td>1220</td>\n",
       "      <td>1</td>\n",
       "    </tr>\n",
       "  </tbody>\n",
       "</table>\n",
       "</div>"
      ],
      "text/plain": [
       "   id_report             date_report          date_ocurrance  time_ocurrance  \\\n",
       "0  190326475  03/01/2020 12:00:00 AM  03/01/2020 12:00:00 AM            2130   \n",
       "1  200106753  02/09/2020 12:00:00 AM  02/08/2020 12:00:00 AM            1800   \n",
       "2  200320258  11/11/2020 12:00:00 AM  11/04/2020 12:00:00 AM            1700   \n",
       "3  200907217  05/10/2023 12:00:00 AM  03/10/2020 12:00:00 AM            2037   \n",
       "4  220614831  08/18/2022 12:00:00 AM  08/17/2020 12:00:00 AM            1200   \n",
       "5  231808869  04/04/2023 12:00:00 AM  12/01/2020 12:00:00 AM            2300   \n",
       "6  230110144  04/04/2023 12:00:00 AM  07/03/2020 12:00:00 AM             900   \n",
       "7  220314085  07/22/2022 12:00:00 AM  05/12/2020 12:00:00 AM            1110   \n",
       "8  231309864  04/28/2023 12:00:00 AM  12/09/2020 12:00:00 AM            1400   \n",
       "9  211904005  12/31/2020 12:00:00 AM  12/31/2020 12:00:00 AM            1220   \n",
       "\n",
       "   area_code  \n",
       "0          7  \n",
       "1          1  \n",
       "2          3  \n",
       "3          9  \n",
       "4          6  \n",
       "5          1  \n",
       "6          1  \n",
       "7          3  \n",
       "8          1  \n",
       "9          1  "
      ]
     },
     "execution_count": 45,
     "metadata": {},
     "output_type": "execute_result"
    }
   ],
   "source": [
    "df.iloc[:, :5].head(10)"
   ]
  },
  {
   "cell_type": "code",
   "execution_count": 46,
   "metadata": {
    "id": "EiCc-u2C68eq"
   },
   "outputs": [
    {
     "name": "stdout",
     "output_type": "stream",
     "text": [
      "<class 'pandas.core.frame.DataFrame'>\n",
      "RangeIndex: 986500 entries, 0 to 986499\n",
      "Data columns (total 30 columns):\n",
      " #   Column            Non-Null Count   Dtype  \n",
      "---  ------            --------------   -----  \n",
      " 0   id_report         986500 non-null  int64  \n",
      " 1   date_report       986500 non-null  object \n",
      " 2   date_ocurrance    986500 non-null  object \n",
      " 3   time_ocurrance    986500 non-null  int64  \n",
      " 4   area_code         986500 non-null  int64  \n",
      " 5   area_name         986500 non-null  object \n",
      " 6   district          986500 non-null  object \n",
      " 7   crime_severity    986500 non-null  int64  \n",
      " 8   crime_code        986500 non-null  int64  \n",
      " 9   crime_desc        986500 non-null  object \n",
      " 10  crime_mo          840065 non-null  object \n",
      " 11  age_victim        986500 non-null  int64  \n",
      " 12  sex_victim        986500 non-null  object \n",
      " 13  descent_victim    846914 non-null  object \n",
      " 14  loc_code          986486 non-null  float64\n",
      " 15  loc_desc          985915 non-null  object \n",
      " 16  weapon_code       326368 non-null  float64\n",
      " 17  weapon_desc       326368 non-null  object \n",
      " 18  case_status_code  986499 non-null  object \n",
      " 19  case_status_desc  986500 non-null  object \n",
      " 20  crime_code_1      986489 non-null  float64\n",
      " 21  crime_code_2      68912 non-null   float64\n",
      " 22  crime_code_3      2310 non-null    float64\n",
      " 23  crime_code_4      64 non-null      float64\n",
      " 24  location          986500 non-null  object \n",
      " 25  cross_street      152270 non-null  object \n",
      " 26  latitude          986500 non-null  float64\n",
      " 27  longitude         986500 non-null  float64\n",
      " 28  area_valid        986500 non-null  bool   \n",
      " 29  crime_ucr         986500 non-null  object \n",
      "dtypes: bool(1), float64(8), int64(6), object(15)\n",
      "memory usage: 219.2+ MB\n"
     ]
    }
   ],
   "source": [
    "df.info()"
   ]
  },
  {
   "cell_type": "markdown",
   "metadata": {
    "id": "zv3Y6cG4CaW6"
   },
   "source": [
    "### date_report"
   ]
  },
  {
   "cell_type": "code",
   "execution_count": 6,
   "metadata": {
    "id": "zq5dH2qTCcOh"
   },
   "outputs": [
    {
     "name": "stderr",
     "output_type": "stream",
     "text": [
      "C:\\Users\\aaron\\AppData\\Local\\Temp\\ipykernel_24876\\240740369.py:1: UserWarning: Could not infer format, so each element will be parsed individually, falling back to `dateutil`. To ensure parsing is consistent and as-expected, please specify a format.\n",
      "  df['date_report']=pd.to_datetime(df['date_report'])\n"
     ]
    }
   ],
   "source": [
    "df['date_report']=pd.to_datetime(df['date_report'])"
   ]
  },
  {
   "cell_type": "code",
   "execution_count": 7,
   "metadata": {
    "id": "jTv5vSxfCcRD"
   },
   "outputs": [],
   "source": [
    "df['date_report'] = df['date_report'].dt.strftime('%d/%m/%Y')"
   ]
  },
  {
   "cell_type": "code",
   "execution_count": 8,
   "metadata": {
    "id": "EYvBGnWACcVB"
   },
   "outputs": [],
   "source": [
    "df['date_report']=pd.to_datetime(df['date_report'], format = '%d/%m/%Y')"
   ]
  },
  {
   "cell_type": "code",
   "execution_count": 9,
   "metadata": {},
   "outputs": [
    {
     "data": {
      "text/plain": [
       "0   2020-03-01\n",
       "1   2020-02-09\n",
       "2   2020-11-11\n",
       "3   2023-05-10\n",
       "4   2022-08-18\n",
       "Name: date_report, dtype: datetime64[ns]"
      ]
     },
     "execution_count": 9,
     "metadata": {},
     "output_type": "execute_result"
    }
   ],
   "source": [
    "df['date_report'].head()"
   ]
  },
  {
   "cell_type": "code",
   "execution_count": 10,
   "metadata": {},
   "outputs": [
    {
     "name": "stdout",
     "output_type": "stream",
     "text": [
      "<class 'pandas.core.series.Series'>\n",
      "RangeIndex: 986500 entries, 0 to 986499\n",
      "Series name: date_report\n",
      "Non-Null Count   Dtype         \n",
      "--------------   -----         \n",
      "986500 non-null  datetime64[ns]\n",
      "dtypes: datetime64[ns](1)\n",
      "memory usage: 7.5 MB\n"
     ]
    }
   ],
   "source": [
    "df['date_report'].info()"
   ]
  },
  {
   "cell_type": "markdown",
   "metadata": {
    "id": "ZOPdgt0aCcqU"
   },
   "source": [
    "### date_ocurrance"
   ]
  },
  {
   "cell_type": "code",
   "execution_count": null,
   "metadata": {
    "id": "i-r_DVgTCvLp"
   },
   "outputs": [],
   "source": []
  },
  {
   "cell_type": "code",
   "execution_count": null,
   "metadata": {
    "id": "CJtnf5ZuCvOr"
   },
   "outputs": [],
   "source": []
  },
  {
   "cell_type": "code",
   "execution_count": null,
   "metadata": {
    "id": "-KOKK0xLCvR2"
   },
   "outputs": [],
   "source": []
  },
  {
   "cell_type": "markdown",
   "metadata": {
    "id": "NvKbJTeFCvkx"
   },
   "source": [
    "### time_ocurrance"
   ]
  },
  {
   "cell_type": "code",
   "execution_count": null,
   "metadata": {
    "id": "-9a8_I9jCycS"
   },
   "outputs": [],
   "source": []
  },
  {
   "cell_type": "code",
   "execution_count": null,
   "metadata": {
    "id": "nGVN0dldCyoH"
   },
   "outputs": [],
   "source": []
  },
  {
   "cell_type": "code",
   "execution_count": null,
   "metadata": {
    "id": "t2IJTxudCyr3"
   },
   "outputs": [],
   "source": []
  },
  {
   "cell_type": "markdown",
   "metadata": {
    "id": "3UKiJa2OCzA5"
   },
   "source": [
    "### area_code"
   ]
  },
  {
   "cell_type": "code",
   "execution_count": null,
   "metadata": {
    "id": "yupabiRgC2Rw"
   },
   "outputs": [],
   "source": []
  },
  {
   "cell_type": "code",
   "execution_count": null,
   "metadata": {
    "id": "Qzb5F64oC2ZQ"
   },
   "outputs": [],
   "source": []
  },
  {
   "cell_type": "code",
   "execution_count": null,
   "metadata": {
    "id": "cbiGVv9CC2cR"
   },
   "outputs": [],
   "source": []
  },
  {
   "cell_type": "markdown",
   "metadata": {
    "id": "7lpc2jOCC2uR"
   },
   "source": [
    "### area_name"
   ]
  },
  {
   "cell_type": "code",
   "execution_count": null,
   "metadata": {
    "id": "lZ2muKaoC5fI"
   },
   "outputs": [],
   "source": []
  },
  {
   "cell_type": "code",
   "execution_count": null,
   "metadata": {
    "id": "6GM_634_C5iK"
   },
   "outputs": [],
   "source": []
  },
  {
   "cell_type": "code",
   "execution_count": null,
   "metadata": {
    "id": "lgU5vb-4C5lJ"
   },
   "outputs": [],
   "source": []
  },
  {
   "cell_type": "markdown",
   "metadata": {
    "id": "lUWI7mwDC6bS"
   },
   "source": [
    "### age_victim"
   ]
  },
  {
   "cell_type": "code",
   "execution_count": null,
   "metadata": {
    "id": "Ux_O39YpC9Wi"
   },
   "outputs": [],
   "source": []
  },
  {
   "cell_type": "code",
   "execution_count": null,
   "metadata": {
    "id": "tDKCXLalC9Zq"
   },
   "outputs": [],
   "source": []
  },
  {
   "cell_type": "code",
   "execution_count": null,
   "metadata": {
    "id": "CdiMs6f5C9dS"
   },
   "outputs": [],
   "source": []
  },
  {
   "cell_type": "markdown",
   "metadata": {
    "id": "Pyk0cHnKC9ut"
   },
   "source": [
    "### location"
   ]
  },
  {
   "cell_type": "code",
   "execution_count": null,
   "metadata": {
    "id": "_49aWz0LDHna"
   },
   "outputs": [],
   "source": []
  },
  {
   "cell_type": "code",
   "execution_count": null,
   "metadata": {
    "id": "5OQC3OSaDHqk"
   },
   "outputs": [],
   "source": []
  },
  {
   "cell_type": "code",
   "execution_count": null,
   "metadata": {
    "id": "Ocpaa4tCDHuF"
   },
   "outputs": [],
   "source": []
  },
  {
   "cell_type": "markdown",
   "metadata": {
    "id": "60Hh7hieDJQt"
   },
   "source": [
    "### cross_street"
   ]
  },
  {
   "cell_type": "code",
   "execution_count": null,
   "metadata": {
    "id": "A6YhXOL6DKXQ"
   },
   "outputs": [],
   "source": []
  },
  {
   "cell_type": "code",
   "execution_count": null,
   "metadata": {
    "id": "I49jpfdADKaK"
   },
   "outputs": [],
   "source": []
  },
  {
   "cell_type": "code",
   "execution_count": null,
   "metadata": {
    "id": "nN4Jrr29DKc7"
   },
   "outputs": [],
   "source": []
  },
  {
   "cell_type": "markdown",
   "metadata": {
    "id": "m53krAU7DLx9"
   },
   "source": [
    "### latitude"
   ]
  },
  {
   "cell_type": "code",
   "execution_count": null,
   "metadata": {
    "id": "ALl0mYkMDNNq"
   },
   "outputs": [],
   "source": []
  },
  {
   "cell_type": "code",
   "execution_count": null,
   "metadata": {
    "id": "Ph5hgZ4FDNbx"
   },
   "outputs": [],
   "source": []
  },
  {
   "cell_type": "code",
   "execution_count": null,
   "metadata": {
    "id": "kvcveeTHDNfy"
   },
   "outputs": [],
   "source": []
  },
  {
   "cell_type": "markdown",
   "metadata": {
    "id": "HIKFUpCcDNwE"
   },
   "source": [
    "### longitude"
   ]
  },
  {
   "cell_type": "code",
   "execution_count": null,
   "metadata": {
    "id": "JbTUtgHwDP8M"
   },
   "outputs": [],
   "source": []
  },
  {
   "cell_type": "code",
   "execution_count": null,
   "metadata": {
    "id": "lW4mPXXKDP-6"
   },
   "outputs": [],
   "source": []
  },
  {
   "cell_type": "code",
   "execution_count": null,
   "metadata": {
    "id": "tWqYq1hADQB9"
   },
   "outputs": [],
   "source": []
  },
  {
   "cell_type": "markdown",
   "metadata": {
    "id": "RxI9A-UmDs2S"
   },
   "source": [
    "### Todo"
   ]
  },
  {
   "cell_type": "code",
   "execution_count": 58,
   "metadata": {
    "id": "K-6YPINxDui5"
   },
   "outputs": [],
   "source": [
    "features_explore_JA = ['id_report','date_report','date_ocurrance','time_ocurrance','area_code','area_name','age_victim','location','cross_street','latitude','longitude']"
   ]
  },
  {
   "cell_type": "code",
   "execution_count": 59,
   "metadata": {
    "colab": {
     "base_uri": "https://localhost:8080/"
    },
    "id": "ljT13KjLEpZt",
    "outputId": "41b35de8-a32d-457b-de2b-dd079e348f22"
   },
   "outputs": [
    {
     "name": "stdout",
     "output_type": "stream",
     "text": [
      "<class 'pandas.core.frame.DataFrame'>\n",
      "RangeIndex: 986500 entries, 0 to 986499\n",
      "Data columns (total 11 columns):\n",
      " #   Column          Non-Null Count   Dtype  \n",
      "---  ------          --------------   -----  \n",
      " 0   id_report       986500 non-null  int64  \n",
      " 1   date_report     986500 non-null  object \n",
      " 2   date_ocurrance  986500 non-null  object \n",
      " 3   time_ocurrance  986500 non-null  int64  \n",
      " 4   area_code       986500 non-null  int64  \n",
      " 5   area_name       986500 non-null  object \n",
      " 6   age_victim      986500 non-null  int64  \n",
      " 7   location        986500 non-null  object \n",
      " 8   cross_street    152270 non-null  object \n",
      " 9   latitude        986500 non-null  float64\n",
      " 10  longitude       986500 non-null  float64\n",
      "dtypes: float64(2), int64(4), object(5)\n",
      "memory usage: 82.8+ MB\n"
     ]
    }
   ],
   "source": [
    "df[features_explore_JA].info()"
   ]
  },
  {
   "cell_type": "code",
   "execution_count": 60,
   "metadata": {
    "colab": {
     "base_uri": "https://localhost:8080/",
     "height": 300
    },
    "id": "Kw78EF-oEw0-",
    "outputId": "5d49e392-2d09-49f2-91ac-222e90ecb978"
   },
   "outputs": [
    {
     "data": {
      "text/html": [
       "<div>\n",
       "<style scoped>\n",
       "    .dataframe tbody tr th:only-of-type {\n",
       "        vertical-align: middle;\n",
       "    }\n",
       "\n",
       "    .dataframe tbody tr th {\n",
       "        vertical-align: top;\n",
       "    }\n",
       "\n",
       "    .dataframe thead th {\n",
       "        text-align: right;\n",
       "    }\n",
       "</style>\n",
       "<table border=\"1\" class=\"dataframe\">\n",
       "  <thead>\n",
       "    <tr style=\"text-align: right;\">\n",
       "      <th></th>\n",
       "      <th>id_report</th>\n",
       "      <th>time_ocurrance</th>\n",
       "      <th>area_code</th>\n",
       "      <th>age_victim</th>\n",
       "      <th>latitude</th>\n",
       "      <th>longitude</th>\n",
       "    </tr>\n",
       "  </thead>\n",
       "  <tbody>\n",
       "    <tr>\n",
       "      <th>count</th>\n",
       "      <td>9.865000e+05</td>\n",
       "      <td>986500.000000</td>\n",
       "      <td>986500.000000</td>\n",
       "      <td>986500.000000</td>\n",
       "      <td>986500.000000</td>\n",
       "      <td>986500.000000</td>\n",
       "    </tr>\n",
       "    <tr>\n",
       "      <th>mean</th>\n",
       "      <td>2.198270e+08</td>\n",
       "      <td>1339.086392</td>\n",
       "      <td>2.734601</td>\n",
       "      <td>29.045177</td>\n",
       "      <td>33.996033</td>\n",
       "      <td>-118.083281</td>\n",
       "    </tr>\n",
       "    <tr>\n",
       "      <th>std</th>\n",
       "      <td>1.299240e+07</td>\n",
       "      <td>651.457178</td>\n",
       "      <td>2.516590</td>\n",
       "      <td>21.976666</td>\n",
       "      <td>1.633543</td>\n",
       "      <td>5.661853</td>\n",
       "    </tr>\n",
       "    <tr>\n",
       "      <th>min</th>\n",
       "      <td>8.170000e+02</td>\n",
       "      <td>1.000000</td>\n",
       "      <td>1.000000</td>\n",
       "      <td>-4.000000</td>\n",
       "      <td>0.000000</td>\n",
       "      <td>-118.667600</td>\n",
       "    </tr>\n",
       "    <tr>\n",
       "      <th>25%</th>\n",
       "      <td>2.106103e+08</td>\n",
       "      <td>900.000000</td>\n",
       "      <td>1.000000</td>\n",
       "      <td>0.000000</td>\n",
       "      <td>34.014600</td>\n",
       "      <td>-118.430500</td>\n",
       "    </tr>\n",
       "    <tr>\n",
       "      <th>50%</th>\n",
       "      <td>2.208174e+08</td>\n",
       "      <td>1420.000000</td>\n",
       "      <td>1.000000</td>\n",
       "      <td>30.000000</td>\n",
       "      <td>34.058900</td>\n",
       "      <td>-118.322500</td>\n",
       "    </tr>\n",
       "    <tr>\n",
       "      <th>75%</th>\n",
       "      <td>2.310049e+08</td>\n",
       "      <td>1900.000000</td>\n",
       "      <td>4.000000</td>\n",
       "      <td>44.000000</td>\n",
       "      <td>34.164900</td>\n",
       "      <td>-118.273900</td>\n",
       "    </tr>\n",
       "    <tr>\n",
       "      <th>max</th>\n",
       "      <td>2.499289e+08</td>\n",
       "      <td>2359.000000</td>\n",
       "      <td>9.000000</td>\n",
       "      <td>120.000000</td>\n",
       "      <td>34.334300</td>\n",
       "      <td>0.000000</td>\n",
       "    </tr>\n",
       "  </tbody>\n",
       "</table>\n",
       "</div>"
      ],
      "text/plain": [
       "          id_report  time_ocurrance      area_code     age_victim  \\\n",
       "count  9.865000e+05   986500.000000  986500.000000  986500.000000   \n",
       "mean   2.198270e+08     1339.086392       2.734601      29.045177   \n",
       "std    1.299240e+07      651.457178       2.516590      21.976666   \n",
       "min    8.170000e+02        1.000000       1.000000      -4.000000   \n",
       "25%    2.106103e+08      900.000000       1.000000       0.000000   \n",
       "50%    2.208174e+08     1420.000000       1.000000      30.000000   \n",
       "75%    2.310049e+08     1900.000000       4.000000      44.000000   \n",
       "max    2.499289e+08     2359.000000       9.000000     120.000000   \n",
       "\n",
       "            latitude      longitude  \n",
       "count  986500.000000  986500.000000  \n",
       "mean       33.996033    -118.083281  \n",
       "std         1.633543       5.661853  \n",
       "min         0.000000    -118.667600  \n",
       "25%        34.014600    -118.430500  \n",
       "50%        34.058900    -118.322500  \n",
       "75%        34.164900    -118.273900  \n",
       "max        34.334300       0.000000  "
      ]
     },
     "execution_count": 60,
     "metadata": {},
     "output_type": "execute_result"
    }
   ],
   "source": [
    "df[features_explore_JA].describe()"
   ]
  },
  {
   "cell_type": "code",
   "execution_count": 61,
   "metadata": {
    "colab": {
     "base_uri": "https://localhost:8080/",
     "height": 175
    },
    "id": "_pQMgK4uGCtE",
    "outputId": "92eefe4d-230a-48d4-eaaf-20d046525bd5"
   },
   "outputs": [
    {
     "data": {
      "text/html": [
       "<div>\n",
       "<style scoped>\n",
       "    .dataframe tbody tr th:only-of-type {\n",
       "        vertical-align: middle;\n",
       "    }\n",
       "\n",
       "    .dataframe tbody tr th {\n",
       "        vertical-align: top;\n",
       "    }\n",
       "\n",
       "    .dataframe thead th {\n",
       "        text-align: right;\n",
       "    }\n",
       "</style>\n",
       "<table border=\"1\" class=\"dataframe\">\n",
       "  <thead>\n",
       "    <tr style=\"text-align: right;\">\n",
       "      <th></th>\n",
       "      <th>date_report</th>\n",
       "      <th>date_ocurrance</th>\n",
       "      <th>area_name</th>\n",
       "      <th>location</th>\n",
       "      <th>cross_street</th>\n",
       "    </tr>\n",
       "  </thead>\n",
       "  <tbody>\n",
       "    <tr>\n",
       "      <th>count</th>\n",
       "      <td>986500</td>\n",
       "      <td>986500</td>\n",
       "      <td>986500</td>\n",
       "      <td>986500</td>\n",
       "      <td>152270</td>\n",
       "    </tr>\n",
       "    <tr>\n",
       "      <th>unique</th>\n",
       "      <td>1749</td>\n",
       "      <td>1749</td>\n",
       "      <td>9</td>\n",
       "      <td>66322</td>\n",
       "      <td>10337</td>\n",
       "    </tr>\n",
       "    <tr>\n",
       "      <th>top</th>\n",
       "      <td>02/02/2023 12:00:00 AM</td>\n",
       "      <td>01/01/2020 12:00:00 AM</td>\n",
       "      <td>77th Street</td>\n",
       "      <td>800 N  ALAMEDA                      ST</td>\n",
       "      <td>BROADWAY</td>\n",
       "    </tr>\n",
       "    <tr>\n",
       "      <th>freq</th>\n",
       "      <td>929</td>\n",
       "      <td>1157</td>\n",
       "      <td>531859</td>\n",
       "      <td>2556</td>\n",
       "      <td>2467</td>\n",
       "    </tr>\n",
       "  </tbody>\n",
       "</table>\n",
       "</div>"
      ],
      "text/plain": [
       "                   date_report          date_ocurrance    area_name  \\\n",
       "count                   986500                  986500       986500   \n",
       "unique                    1749                    1749            9   \n",
       "top     02/02/2023 12:00:00 AM  01/01/2020 12:00:00 AM  77th Street   \n",
       "freq                       929                    1157       531859   \n",
       "\n",
       "                                      location cross_street  \n",
       "count                                   986500       152270  \n",
       "unique                                   66322        10337  \n",
       "top     800 N  ALAMEDA                      ST     BROADWAY  \n",
       "freq                                      2556         2467  "
      ]
     },
     "execution_count": 61,
     "metadata": {},
     "output_type": "execute_result"
    }
   ],
   "source": [
    "df_categorical = df[features_explore_JA].select_dtypes(include='object')\n",
    "df_categorical.describe()"
   ]
  },
  {
   "cell_type": "code",
   "execution_count": 62,
   "metadata": {
    "colab": {
     "base_uri": "https://localhost:8080/",
     "height": 498
    },
    "id": "zCEHfpdtE-PR",
    "outputId": "2c4c4439-ecb8-4923-b99d-b35504231c67"
   },
   "outputs": [
    {
     "data": {
      "text/html": [
       "<div>\n",
       "<style scoped>\n",
       "    .dataframe tbody tr th:only-of-type {\n",
       "        vertical-align: middle;\n",
       "    }\n",
       "\n",
       "    .dataframe tbody tr th {\n",
       "        vertical-align: top;\n",
       "    }\n",
       "\n",
       "    .dataframe thead th {\n",
       "        text-align: right;\n",
       "    }\n",
       "</style>\n",
       "<table border=\"1\" class=\"dataframe\">\n",
       "  <thead>\n",
       "    <tr style=\"text-align: right;\">\n",
       "      <th></th>\n",
       "      <th>id_report</th>\n",
       "      <th>date_report</th>\n",
       "      <th>date_ocurrance</th>\n",
       "      <th>time_ocurrance</th>\n",
       "      <th>area_code</th>\n",
       "      <th>area_name</th>\n",
       "      <th>district</th>\n",
       "      <th>crime_severity</th>\n",
       "      <th>crime_code</th>\n",
       "      <th>crime_desc</th>\n",
       "      <th>...</th>\n",
       "      <th>crime_code_1</th>\n",
       "      <th>crime_code_2</th>\n",
       "      <th>crime_code_3</th>\n",
       "      <th>crime_code_4</th>\n",
       "      <th>location</th>\n",
       "      <th>cross_street</th>\n",
       "      <th>latitude</th>\n",
       "      <th>longitude</th>\n",
       "      <th>area_valid</th>\n",
       "      <th>crime_ucr</th>\n",
       "    </tr>\n",
       "  </thead>\n",
       "  <tbody>\n",
       "    <tr>\n",
       "      <th>39890</th>\n",
       "      <td>817</td>\n",
       "      <td>09/20/2020 12:00:00 AM</td>\n",
       "      <td>09/19/2020 12:00:00 AM</td>\n",
       "      <td>1700</td>\n",
       "      <td>1</td>\n",
       "      <td>77th Street</td>\n",
       "      <td>1777</td>\n",
       "      <td>1</td>\n",
       "      <td>510</td>\n",
       "      <td>VEHICLE - STOLEN</td>\n",
       "      <td>...</td>\n",
       "      <td>510.0</td>\n",
       "      <td>NaN</td>\n",
       "      <td>NaN</td>\n",
       "      <td>NaN</td>\n",
       "      <td>9100    RUBIO                        AV</td>\n",
       "      <td>NaN</td>\n",
       "      <td>34.2367</td>\n",
       "      <td>-118.4955</td>\n",
       "      <td>True</td>\n",
       "      <td>MOTOR VEHICLE THEFT</td>\n",
       "    </tr>\n",
       "    <tr>\n",
       "      <th>268033</th>\n",
       "      <td>2113</td>\n",
       "      <td>06/21/2021 12:00:00 AM</td>\n",
       "      <td>04/05/2021 12:00:00 AM</td>\n",
       "      <td>1835</td>\n",
       "      <td>1</td>\n",
       "      <td>77th Street</td>\n",
       "      <td>1385</td>\n",
       "      <td>1</td>\n",
       "      <td>510</td>\n",
       "      <td>VEHICLE - STOLEN</td>\n",
       "      <td>...</td>\n",
       "      <td>510.0</td>\n",
       "      <td>NaN</td>\n",
       "      <td>NaN</td>\n",
       "      <td>NaN</td>\n",
       "      <td>800 E  GAGE                         AV</td>\n",
       "      <td>NaN</td>\n",
       "      <td>33.9820</td>\n",
       "      <td>-118.2622</td>\n",
       "      <td>True</td>\n",
       "      <td>MOTOR VEHICLE THEFT</td>\n",
       "    </tr>\n",
       "    <tr>\n",
       "      <th>581052</th>\n",
       "      <td>2203</td>\n",
       "      <td>12/31/2022 12:00:00 AM</td>\n",
       "      <td>12/19/2022 12:00:00 AM</td>\n",
       "      <td>1930</td>\n",
       "      <td>3</td>\n",
       "      <td>Devonshire</td>\n",
       "      <td>356</td>\n",
       "      <td>1</td>\n",
       "      <td>522</td>\n",
       "      <td>VEHICLE, STOLEN - OTHER (MOTORIZED SCOOTERS, B...</td>\n",
       "      <td>...</td>\n",
       "      <td>522.0</td>\n",
       "      <td>NaN</td>\n",
       "      <td>NaN</td>\n",
       "      <td>NaN</td>\n",
       "      <td>1400 W  37TH                         ST</td>\n",
       "      <td>NaN</td>\n",
       "      <td>34.0210</td>\n",
       "      <td>-118.3002</td>\n",
       "      <td>True</td>\n",
       "      <td>UNKNOWN</td>\n",
       "    </tr>\n",
       "    <tr>\n",
       "      <th>734486</th>\n",
       "      <td>2315</td>\n",
       "      <td>07/23/2023 12:00:00 AM</td>\n",
       "      <td>07/22/2023 12:00:00 AM</td>\n",
       "      <td>1800</td>\n",
       "      <td>1</td>\n",
       "      <td>77th Street</td>\n",
       "      <td>1566</td>\n",
       "      <td>1</td>\n",
       "      <td>420</td>\n",
       "      <td>THEFT FROM MOTOR VEHICLE - PETTY ($950 &amp; UNDER)</td>\n",
       "      <td>...</td>\n",
       "      <td>420.0</td>\n",
       "      <td>NaN</td>\n",
       "      <td>NaN</td>\n",
       "      <td>NaN</td>\n",
       "      <td>4400    ENSIGN                       AV</td>\n",
       "      <td>NaN</td>\n",
       "      <td>34.1504</td>\n",
       "      <td>-118.3712</td>\n",
       "      <td>True</td>\n",
       "      <td>THEFT FROM VEHICLE</td>\n",
       "    </tr>\n",
       "    <tr>\n",
       "      <th>876571</th>\n",
       "      <td>2401</td>\n",
       "      <td>01/10/2024 12:00:00 AM</td>\n",
       "      <td>12/21/2023 12:00:00 AM</td>\n",
       "      <td>1930</td>\n",
       "      <td>1</td>\n",
       "      <td>77th Street</td>\n",
       "      <td>1416</td>\n",
       "      <td>1</td>\n",
       "      <td>510</td>\n",
       "      <td>VEHICLE - STOLEN</td>\n",
       "      <td>...</td>\n",
       "      <td>510.0</td>\n",
       "      <td>NaN</td>\n",
       "      <td>NaN</td>\n",
       "      <td>NaN</td>\n",
       "      <td>3400    CABRILLO                     BL</td>\n",
       "      <td>NaN</td>\n",
       "      <td>34.0099</td>\n",
       "      <td>-118.4453</td>\n",
       "      <td>True</td>\n",
       "      <td>MOTOR VEHICLE THEFT</td>\n",
       "    </tr>\n",
       "  </tbody>\n",
       "</table>\n",
       "<p>5 rows × 30 columns</p>\n",
       "</div>"
      ],
      "text/plain": [
       "        id_report             date_report          date_ocurrance  \\\n",
       "39890         817  09/20/2020 12:00:00 AM  09/19/2020 12:00:00 AM   \n",
       "268033       2113  06/21/2021 12:00:00 AM  04/05/2021 12:00:00 AM   \n",
       "581052       2203  12/31/2022 12:00:00 AM  12/19/2022 12:00:00 AM   \n",
       "734486       2315  07/23/2023 12:00:00 AM  07/22/2023 12:00:00 AM   \n",
       "876571       2401  01/10/2024 12:00:00 AM  12/21/2023 12:00:00 AM   \n",
       "\n",
       "        time_ocurrance  area_code    area_name district  crime_severity  \\\n",
       "39890             1700          1  77th Street     1777               1   \n",
       "268033            1835          1  77th Street     1385               1   \n",
       "581052            1930          3   Devonshire      356               1   \n",
       "734486            1800          1  77th Street     1566               1   \n",
       "876571            1930          1  77th Street     1416               1   \n",
       "\n",
       "        crime_code                                         crime_desc  ...  \\\n",
       "39890          510                                   VEHICLE - STOLEN  ...   \n",
       "268033         510                                   VEHICLE - STOLEN  ...   \n",
       "581052         522  VEHICLE, STOLEN - OTHER (MOTORIZED SCOOTERS, B...  ...   \n",
       "734486         420    THEFT FROM MOTOR VEHICLE - PETTY ($950 & UNDER)  ...   \n",
       "876571         510                                   VEHICLE - STOLEN  ...   \n",
       "\n",
       "       crime_code_1  crime_code_2 crime_code_3 crime_code_4  \\\n",
       "39890         510.0           NaN          NaN          NaN   \n",
       "268033        510.0           NaN          NaN          NaN   \n",
       "581052        522.0           NaN          NaN          NaN   \n",
       "734486        420.0           NaN          NaN          NaN   \n",
       "876571        510.0           NaN          NaN          NaN   \n",
       "\n",
       "                                       location cross_street  latitude  \\\n",
       "39890   9100    RUBIO                        AV          NaN   34.2367   \n",
       "268033   800 E  GAGE                         AV          NaN   33.9820   \n",
       "581052  1400 W  37TH                         ST          NaN   34.0210   \n",
       "734486  4400    ENSIGN                       AV          NaN   34.1504   \n",
       "876571  3400    CABRILLO                     BL          NaN   34.0099   \n",
       "\n",
       "       longitude area_valid            crime_ucr  \n",
       "39890  -118.4955       True  MOTOR VEHICLE THEFT  \n",
       "268033 -118.2622       True  MOTOR VEHICLE THEFT  \n",
       "581052 -118.3002       True              UNKNOWN  \n",
       "734486 -118.3712       True   THEFT FROM VEHICLE  \n",
       "876571 -118.4453       True  MOTOR VEHICLE THEFT  \n",
       "\n",
       "[5 rows x 30 columns]"
      ]
     },
     "execution_count": 62,
     "metadata": {},
     "output_type": "execute_result"
    }
   ],
   "source": [
    "df.loc[df['id_report']<9999999]"
   ]
  },
  {
   "cell_type": "code",
   "execution_count": 63,
   "metadata": {
    "colab": {
     "base_uri": "https://localhost:8080/",
     "height": 458
    },
    "id": "ciyiriZrGUfp",
    "outputId": "0ccbbf17-ccd4-4a3f-e361-581ea794ef64"
   },
   "outputs": [
    {
     "data": {
      "text/plain": [
       "143      -2\n",
       "375      -2\n",
       "581      -1\n",
       "595      -1\n",
       "618      -1\n",
       "         ..\n",
       "636182   -1\n",
       "654233   -1\n",
       "681376   -1\n",
       "728608   -1\n",
       "828481   -1\n",
       "Name: age_victim, Length: 132, dtype: int64"
      ]
     },
     "execution_count": 63,
     "metadata": {},
     "output_type": "execute_result"
    }
   ],
   "source": [
    "df['age_victim'].loc[df['age_victim']<0]"
   ]
  },
  {
   "cell_type": "code",
   "execution_count": 64,
   "metadata": {
    "id": "7-pXpwJmGxBM"
   },
   "outputs": [
    {
     "ename": "SyntaxError",
     "evalue": "invalid syntax (1714947741.py, line 1)",
     "output_type": "error",
     "traceback": [
      "\u001b[0;36m  Cell \u001b[0;32mIn[64], line 1\u001b[0;36m\u001b[0m\n\u001b[0;31m    df[features_explore_JA].\u001b[0m\n\u001b[0m                            ^\u001b[0m\n\u001b[0;31mSyntaxError\u001b[0m\u001b[0;31m:\u001b[0m invalid syntax\n"
     ]
    }
   ],
   "source": [
    "df[features_explore_JA]."
   ]
  },
  {
   "cell_type": "markdown",
   "metadata": {
    "id": "_mDWe59kOL6r"
   },
   "source": []
  }
 ],
 "metadata": {
  "colab": {
   "provenance": []
  },
  "kernelspec": {
   "display_name": "Python 3",
   "language": "python",
   "name": "python3"
  },
  "language_info": {
   "codemirror_mode": {
    "name": "ipython",
    "version": 3
   },
   "file_extension": ".py",
   "mimetype": "text/x-python",
   "name": "python",
   "nbconvert_exporter": "python",
   "pygments_lexer": "ipython3",
   "version": "3.13.2"
  }
 },
 "nbformat": 4,
 "nbformat_minor": 4
}
